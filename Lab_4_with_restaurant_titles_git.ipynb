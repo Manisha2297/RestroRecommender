{
  "nbformat": 4,
  "nbformat_minor": 0,
  "metadata": {
    "colab": {
      "name": "Lab 4 with restaurant titles_git.ipynb",
      "provenance": [],
      "collapsed_sections": [
        "Yi9W2RQ-fHWN",
        "I7FJPIg5fdVJ",
        "ZjN3ZXFhfzhB",
        "e759U3BLgJkq",
        "IZIXmyKMgfpp",
        "xS9VXKXag1vu",
        "xhdpu45whL0a",
        "q87e1HLGhh3t",
        "U4CTJbtLh37P",
        "4zq7MqW8iN-6",
        "UFR-RYNfikA0",
        "bkXL_xi6i6Ed",
        "xLwIqYrHjQH5",
        "O6vaSrjxjmKo",
        "6IOHGOmpj8O4",
        "E9PuYs3YkSRh",
        "eOMaCb1PkoTs",
        "SUnfY5ZUk-YE",
        "iypGOm6dlUcu",
        "FxoOE-Silqxp",
        "EFFgyNhImA1e",
        "1PZnSqfwmW5t",
        "6J8i4rnNms9j",
        "rpcTx77lnDCA",
        "ItO8beE4nZNm",
        "qNcf-O2bnvRv",
        "3vNvM4TuoFU_",
        "VqGph1qmobY8",
        "ogNpvCRxoxtq",
        "aKjV9vBKpHy7",
        "XBQ1Mn7ypd3T",
        "CIfYp7zopz8p",
        "4ZC2FJdQqKAK",
        "g-blzn_PqgEY",
        "MX2H4zf4q2I2",
        "vxYD3RN2rMLz",
        "gu9RzkhSriPA",
        "EZmDIyu2r4y9",
        "XBHN3wuYsO1r",
        "vCWd48E8sk4s",
        "Gpk7QLngs676",
        "qh64XgSJtRAq",
        "v1Hf0664tnGD",
        "WzRFWw7rt9Jn",
        "qPlsd73quTNE",
        "dWkdLQN3upQS",
        "1HNL7zoLu_jc",
        "g7mxSWpavVpX",
        "dPMNmgRVvrso",
        "ufWubPaswBxH",
        "Aw-6-VX2wX1e",
        "CVr4SlqMwt7B",
        "BDVST2JpxD_C",
        "71dtBdo9xaD6",
        "Plq0QaFbxwIB",
        "-2dgXlKFyGLf",
        "wxAiA4KBycPa",
        "UN3sj0RRyyTH",
        "vxDxzt8QzIYD",
        "3n80NJ5Bzeb9",
        "jjIJtPlBz0gl",
        "QC868TZI0Kjb",
        "FSx7syDX0glP",
        "GBOajBXj02l_",
        "gCW9Ks5C1Mp2",
        "uctHSTR51itw",
        "9CsKI6f314vW",
        "W7_vj3Ah2OyP",
        "derL8wpT2kz_",
        "G4flPmIM263L",
        "uYoB5A-H3Q6I",
        "r3yDJGpi3nCX",
        "n0ygbluE39HZ",
        "8Vr47hhv4TMS",
        "6saIkTw1eFSQ"
      ],
      "authorship_tag": "ABX9TyOTDxfPYRBmQoysy80sd1Od",
      "include_colab_link": true
    },
    "kernelspec": {
      "name": "python3",
      "display_name": "Python 3"
    },
    "accelerator": "GPU"
  },
  "cells": [
    {
      "cell_type": "markdown",
      "metadata": {
        "id": "view-in-github",
        "colab_type": "text"
      },
      "source": [
        "<a href=\"https://colab.research.google.com/github/Manisha2297/RestroRecommender/blob/main/Lab_4_with_restaurant_titles_git.ipynb\" target=\"_parent\"><img src=\"https://colab.research.google.com/assets/colab-badge.svg\" alt=\"Open In Colab\"/></a>"
      ]
    },
    {
      "cell_type": "code",
      "metadata": {
        "id": "YIBj3H208i5m"
      },
      "source": [
        "\n",
        "import numpy as np\n",
        "import pandas as pd\n",
        "import matplotlib.pyplot as plt\n",
        "import seaborn as sns\n",
        "%matplotlib inline"
      ],
      "execution_count": 2,
      "outputs": []
    },
    {
      "cell_type": "code",
      "metadata": {
        "colab": {
          "base_uri": "https://localhost:8080/"
        },
        "id": "TFdIai0J8lOB",
        "outputId": "24a03224-1706-46cd-dd50-01aaf54c5c5f"
      },
      "source": [
        "#mount your own drive to avoid downloading the data multiple time \n",
        "\n",
        "from google.colab import drive\n",
        "drive.mount('/content/gdrive')"
      ],
      "execution_count": 1,
      "outputs": [
        {
          "output_type": "stream",
          "text": [
            "Mounted at /content/gdrive\n"
          ],
          "name": "stdout"
        }
      ]
    },
    {
      "cell_type": "code",
      "metadata": {
        "id": "pqcqPHKM8nCE"
      },
      "source": [
        "df_restaurant = pd.read_pickle('/content/gdrive/MyDrive/YelpDataset/PickleFiles/restaurants_with_title_attribute_category') # Restaurant df with attribute, title, categories"
      ],
      "execution_count": 3,
      "outputs": []
    },
    {
      "cell_type": "code",
      "metadata": {
        "id": "BNjB4r1E8tvr"
      },
      "source": [
        "df_review = pd.read_pickle('/content/gdrive/MyDrive/YelpDataset/PickleFiles/reviews_of_NC_state') # reviews of only the NC state"
      ],
      "execution_count": 4,
      "outputs": []
    },
    {
      "cell_type": "code",
      "metadata": {
        "colab": {
          "base_uri": "https://localhost:8080/",
          "height": 143
        },
        "id": "3fVXoKGwuiOw",
        "outputId": "63df2228-e035-4f7c-ab00-845189a0d22f"
      },
      "source": [
        "df_review.head(3)"
      ],
      "execution_count": 5,
      "outputs": [
        {
          "output_type": "execute_result",
          "data": {
            "text/html": [
              "<div>\n",
              "<style scoped>\n",
              "    .dataframe tbody tr th:only-of-type {\n",
              "        vertical-align: middle;\n",
              "    }\n",
              "\n",
              "    .dataframe tbody tr th {\n",
              "        vertical-align: top;\n",
              "    }\n",
              "\n",
              "    .dataframe thead th {\n",
              "        text-align: right;\n",
              "    }\n",
              "</style>\n",
              "<table border=\"1\" class=\"dataframe\">\n",
              "  <thead>\n",
              "    <tr style=\"text-align: right;\">\n",
              "      <th></th>\n",
              "      <th>business_id</th>\n",
              "      <th>date</th>\n",
              "      <th>stars</th>\n",
              "      <th>user_id</th>\n",
              "    </tr>\n",
              "  </thead>\n",
              "  <tbody>\n",
              "    <tr>\n",
              "      <th>0</th>\n",
              "      <td>oyjkEn5fAqcGNsBbqc8LTw</td>\n",
              "      <td>2016-04-11 16:42:13</td>\n",
              "      <td>1.0</td>\n",
              "      <td>XivuRnPq3D-K5cPiBTztIA</td>\n",
              "    </tr>\n",
              "    <tr>\n",
              "      <th>1</th>\n",
              "      <td>gfhWUixZ4MmEAC1DtTsodA</td>\n",
              "      <td>2017-06-06 21:04:58</td>\n",
              "      <td>5.0</td>\n",
              "      <td>iAQFEArbXp1WUrseOFTLMA</td>\n",
              "    </tr>\n",
              "    <tr>\n",
              "      <th>2</th>\n",
              "      <td>l_kefVF1frmC0xRW2YkvUA</td>\n",
              "      <td>2018-01-21 04:58:46</td>\n",
              "      <td>2.0</td>\n",
              "      <td>oAFF_A02Ws0mwH-lkbzyMQ</td>\n",
              "    </tr>\n",
              "  </tbody>\n",
              "</table>\n",
              "</div>"
            ],
            "text/plain": [
              "              business_id                 date  stars                 user_id\n",
              "0  oyjkEn5fAqcGNsBbqc8LTw  2016-04-11 16:42:13    1.0  XivuRnPq3D-K5cPiBTztIA\n",
              "1  gfhWUixZ4MmEAC1DtTsodA  2017-06-06 21:04:58    5.0  iAQFEArbXp1WUrseOFTLMA\n",
              "2  l_kefVF1frmC0xRW2YkvUA  2018-01-21 04:58:46    2.0  oAFF_A02Ws0mwH-lkbzyMQ"
            ]
          },
          "metadata": {
            "tags": []
          },
          "execution_count": 5
        }
      ]
    },
    {
      "cell_type": "code",
      "metadata": {
        "colab": {
          "base_uri": "https://localhost:8080/",
          "height": 206
        },
        "id": "ei0J3bFrvXbs",
        "outputId": "61e1b5f4-ae68-4689-af37-b00438fb2388"
      },
      "source": [
        "df_restaurant.head()"
      ],
      "execution_count": 6,
      "outputs": [
        {
          "output_type": "execute_result",
          "data": {
            "text/html": [
              "<div>\n",
              "<style scoped>\n",
              "    .dataframe tbody tr th:only-of-type {\n",
              "        vertical-align: middle;\n",
              "    }\n",
              "\n",
              "    .dataframe tbody tr th {\n",
              "        vertical-align: top;\n",
              "    }\n",
              "\n",
              "    .dataframe thead th {\n",
              "        text-align: right;\n",
              "    }\n",
              "</style>\n",
              "<table border=\"1\" class=\"dataframe\">\n",
              "  <thead>\n",
              "    <tr style=\"text-align: right;\">\n",
              "      <th></th>\n",
              "      <th>business_id</th>\n",
              "      <th>Attributes_List</th>\n",
              "      <th>categories_edited</th>\n",
              "      <th>title</th>\n",
              "    </tr>\n",
              "  </thead>\n",
              "  <tbody>\n",
              "    <tr>\n",
              "      <th>0</th>\n",
              "      <td>pQeaRpvuhoEqudo3uymHIQ</td>\n",
              "      <td>[RestaurantsAttire_u'casual', RestaurantsTakeO...</td>\n",
              "      <td>[Ethnic Food,  Food Trucks,  Specialty Food,  ...</td>\n",
              "      <td>The Empanadas House</td>\n",
              "    </tr>\n",
              "    <tr>\n",
              "      <th>1</th>\n",
              "      <td>M_guz7Dj7hX0evS672wIwA</td>\n",
              "      <td>[BikeParking_True, Caters_True, WheelchairAcce...</td>\n",
              "      <td>[Desserts,  Food,  Ice Cream &amp; Frozen Yogurt]</td>\n",
              "      <td>Chocolate Shoppe Ice Cream</td>\n",
              "    </tr>\n",
              "    <tr>\n",
              "      <th>2</th>\n",
              "      <td>mKTq1T_IAplDpHUcMzOXkw</td>\n",
              "      <td>[BusinessAcceptsCreditCards_True]</td>\n",
              "      <td>[Hotels &amp; Travel,  Transportation,  Taxis,  Be...</td>\n",
              "      <td>Tipsy Ryde</td>\n",
              "    </tr>\n",
              "    <tr>\n",
              "      <th>3</th>\n",
              "      <td>eBEfgOPG7pvFhb2wcG9I7w</td>\n",
              "      <td>[RestaurantsTableService_False, RestaurantsDel...</td>\n",
              "      <td>[Restaurants,  Cheesesteaks,  Poutineries]</td>\n",
              "      <td>Philthy Phillys</td>\n",
              "    </tr>\n",
              "    <tr>\n",
              "      <th>4</th>\n",
              "      <td>lu7vtrp_bE9PnxWfA8g4Pg</td>\n",
              "      <td>[GoodForKids_True, RestaurantsTakeOut_True, Al...</td>\n",
              "      <td>[Japanese,  Fast Food,  Food Court,  Restaurants]</td>\n",
              "      <td>Banzai Sushi</td>\n",
              "    </tr>\n",
              "  </tbody>\n",
              "</table>\n",
              "</div>"
            ],
            "text/plain": [
              "              business_id  ...                       title\n",
              "0  pQeaRpvuhoEqudo3uymHIQ  ...         The Empanadas House\n",
              "1  M_guz7Dj7hX0evS672wIwA  ...  Chocolate Shoppe Ice Cream\n",
              "2  mKTq1T_IAplDpHUcMzOXkw  ...                  Tipsy Ryde\n",
              "3  eBEfgOPG7pvFhb2wcG9I7w  ...             Philthy Phillys\n",
              "4  lu7vtrp_bE9PnxWfA8g4Pg  ...                Banzai Sushi\n",
              "\n",
              "[5 rows x 4 columns]"
            ]
          },
          "metadata": {
            "tags": []
          },
          "execution_count": 6
        }
      ]
    },
    {
      "cell_type": "markdown",
      "metadata": {
        "id": "eknu-giSbGD2"
      },
      "source": [
        "\n",
        "To use embeddings, we must set up the index to be consecutive."
      ]
    },
    {
      "cell_type": "code",
      "metadata": {
        "id": "l4QHKRwo889N"
      },
      "source": [
        "users = df_review.user_id.unique()\n",
        "restaurants = df_review.business_id.unique()"
      ],
      "execution_count": 7,
      "outputs": []
    },
    {
      "cell_type": "code",
      "metadata": {
        "id": "0Dzb1lUG9HTa"
      },
      "source": [
        "restuarant_idx = {o:i for i,o in enumerate(restaurants)} #  all the users 0 indexed\n",
        "user_idx = {o:i for i,o in enumerate(users)}\n"
      ],
      "execution_count": 8,
      "outputs": []
    },
    {
      "cell_type": "code",
      "metadata": {
        "id": "KVcUCxb59V9U"
      },
      "source": [
        "df_review['business_id'] = df_review.business_id.apply(lambda x: restuarant_idx[x]) \n",
        "df_review['user_id'] = df_review.user_id.apply(lambda x: user_idx[x]) "
      ],
      "execution_count": 9,
      "outputs": []
    },
    {
      "cell_type": "code",
      "metadata": {
        "id": "6n3dZSRi9jWs"
      },
      "source": [
        "df_restaurant = df_restaurant[df_restaurant.business_id.isin(restaurants)]  # getting all the restaurant info for the restuarants in the NV state"
      ],
      "execution_count": 11,
      "outputs": []
    },
    {
      "cell_type": "code",
      "metadata": {
        "id": "be-qRZ959vMR"
      },
      "source": [
        "df_restaurant['id'] = df_restaurant.business_id.apply(lambda x: restuarant_idx[x]) #making a new column called ID which has the new final restaurant ID "
      ],
      "execution_count": 12,
      "outputs": []
    },
    {
      "cell_type": "code",
      "metadata": {
        "colab": {
          "base_uri": "https://localhost:8080/",
          "height": 143
        },
        "id": "JLwwQ4z99926",
        "outputId": "835e79b2-c702-48af-e8fa-588125800494"
      },
      "source": [
        "df_restaurant.head(3)"
      ],
      "execution_count": null,
      "outputs": [
        {
          "output_type": "execute_result",
          "data": {
            "text/html": [
              "<div>\n",
              "<style scoped>\n",
              "    .dataframe tbody tr th:only-of-type {\n",
              "        vertical-align: middle;\n",
              "    }\n",
              "\n",
              "    .dataframe tbody tr th {\n",
              "        vertical-align: top;\n",
              "    }\n",
              "\n",
              "    .dataframe thead th {\n",
              "        text-align: right;\n",
              "    }\n",
              "</style>\n",
              "<table border=\"1\" class=\"dataframe\">\n",
              "  <thead>\n",
              "    <tr style=\"text-align: right;\">\n",
              "      <th></th>\n",
              "      <th>business_id</th>\n",
              "      <th>Attributes_List</th>\n",
              "      <th>categories_edited</th>\n",
              "      <th>title</th>\n",
              "      <th>id</th>\n",
              "    </tr>\n",
              "  </thead>\n",
              "  <tbody>\n",
              "    <tr>\n",
              "      <th>2</th>\n",
              "      <td>mKTq1T_IAplDpHUcMzOXkw</td>\n",
              "      <td>[BusinessAcceptsCreditCards_True]</td>\n",
              "      <td>[Hotels &amp; Travel,  Transportation,  Taxis,  Be...</td>\n",
              "      <td>Tipsy Ryde</td>\n",
              "      <td>354</td>\n",
              "    </tr>\n",
              "    <tr>\n",
              "      <th>34</th>\n",
              "      <td>3C0bnFhjkgYP9mWORKg6cA</td>\n",
              "      <td>[RestaurantsTakeOut_True, RestaurantsDelivery_...</td>\n",
              "      <td>[Hot Dogs,  Food,  Street Vendors,  Restaurants]</td>\n",
              "      <td>Chili Man</td>\n",
              "      <td>106</td>\n",
              "    </tr>\n",
              "    <tr>\n",
              "      <th>40</th>\n",
              "      <td>e1tqT4QNOUqDiOvmaIcxfQ</td>\n",
              "      <td>[BusinessAcceptsCreditCards_True, DogsAllowed_...</td>\n",
              "      <td>[Active Life,  Summer Camps,  Personal Chefs, ...</td>\n",
              "      <td>Chef Alyssa's Kitchen</td>\n",
              "      <td>123</td>\n",
              "    </tr>\n",
              "  </tbody>\n",
              "</table>\n",
              "</div>"
            ],
            "text/plain": [
              "               business_id  ...   id\n",
              "2   mKTq1T_IAplDpHUcMzOXkw  ...  354\n",
              "34  3C0bnFhjkgYP9mWORKg6cA  ...  106\n",
              "40  e1tqT4QNOUqDiOvmaIcxfQ  ...  123\n",
              "\n",
              "[3 rows x 5 columns]"
            ]
          },
          "metadata": {
            "tags": []
          },
          "execution_count": 18
        }
      ]
    },
    {
      "cell_type": "code",
      "metadata": {
        "colab": {
          "base_uri": "https://localhost:8080/",
          "height": 238
        },
        "id": "fxmaxEdC-PrC",
        "outputId": "e7f22f14-5c4a-497c-8d0c-a1865cfbc3ff"
      },
      "source": [
        "df_restaurant = df_restaurant.drop('business_id',axis=1).set_index('id')\n",
        "df_restaurant.head() # Completed the transformation"
      ],
      "execution_count": 13,
      "outputs": [
        {
          "output_type": "execute_result",
          "data": {
            "text/html": [
              "<div>\n",
              "<style scoped>\n",
              "    .dataframe tbody tr th:only-of-type {\n",
              "        vertical-align: middle;\n",
              "    }\n",
              "\n",
              "    .dataframe tbody tr th {\n",
              "        vertical-align: top;\n",
              "    }\n",
              "\n",
              "    .dataframe thead th {\n",
              "        text-align: right;\n",
              "    }\n",
              "</style>\n",
              "<table border=\"1\" class=\"dataframe\">\n",
              "  <thead>\n",
              "    <tr style=\"text-align: right;\">\n",
              "      <th></th>\n",
              "      <th>Attributes_List</th>\n",
              "      <th>categories_edited</th>\n",
              "      <th>title</th>\n",
              "    </tr>\n",
              "    <tr>\n",
              "      <th>id</th>\n",
              "      <th></th>\n",
              "      <th></th>\n",
              "      <th></th>\n",
              "    </tr>\n",
              "  </thead>\n",
              "  <tbody>\n",
              "    <tr>\n",
              "      <th>354</th>\n",
              "      <td>[BusinessAcceptsCreditCards_True]</td>\n",
              "      <td>[Hotels &amp; Travel,  Transportation,  Taxis,  Be...</td>\n",
              "      <td>Tipsy Ryde</td>\n",
              "    </tr>\n",
              "    <tr>\n",
              "      <th>106</th>\n",
              "      <td>[RestaurantsTakeOut_True, RestaurantsDelivery_...</td>\n",
              "      <td>[Hot Dogs,  Food,  Street Vendors,  Restaurants]</td>\n",
              "      <td>Chili Man</td>\n",
              "    </tr>\n",
              "    <tr>\n",
              "      <th>123</th>\n",
              "      <td>[BusinessAcceptsCreditCards_True, DogsAllowed_...</td>\n",
              "      <td>[Active Life,  Summer Camps,  Personal Chefs, ...</td>\n",
              "      <td>Chef Alyssa's Kitchen</td>\n",
              "    </tr>\n",
              "    <tr>\n",
              "      <th>373</th>\n",
              "      <td>[GoodForKids_True, WheelchairAccessible_True, ...</td>\n",
              "      <td>[Barbeque,  Southern,  Restaurants,  American ...</td>\n",
              "      <td>RayNathan's</td>\n",
              "    </tr>\n",
              "    <tr>\n",
              "      <th>296</th>\n",
              "      <td>[RestaurantsTakeOut_True, GoodForKids_True, Re...</td>\n",
              "      <td>[Restaurants,  Hot Dogs,  Burgers,  Fast Food]</td>\n",
              "      <td>Wendy's</td>\n",
              "    </tr>\n",
              "  </tbody>\n",
              "</table>\n",
              "</div>"
            ],
            "text/plain": [
              "                                       Attributes_List  ...                  title\n",
              "id                                                      ...                       \n",
              "354                  [BusinessAcceptsCreditCards_True]  ...             Tipsy Ryde\n",
              "106  [RestaurantsTakeOut_True, RestaurantsDelivery_...  ...              Chili Man\n",
              "123  [BusinessAcceptsCreditCards_True, DogsAllowed_...  ...  Chef Alyssa's Kitchen\n",
              "373  [GoodForKids_True, WheelchairAccessible_True, ...  ...            RayNathan's\n",
              "296  [RestaurantsTakeOut_True, GoodForKids_True, Re...  ...                Wendy's\n",
              "\n",
              "[5 rows x 3 columns]"
            ]
          },
          "metadata": {
            "tags": []
          },
          "execution_count": 13
        }
      ]
    },
    {
      "cell_type": "code",
      "metadata": {
        "colab": {
          "base_uri": "https://localhost:8080/",
          "height": 206
        },
        "id": "pxZAQnDP-q_v",
        "outputId": "5740e92f-b22b-499b-f00c-d52fdb06f48f"
      },
      "source": [
        "df_review.head()"
      ],
      "execution_count": null,
      "outputs": [
        {
          "output_type": "execute_result",
          "data": {
            "text/html": [
              "<div>\n",
              "<style scoped>\n",
              "    .dataframe tbody tr th:only-of-type {\n",
              "        vertical-align: middle;\n",
              "    }\n",
              "\n",
              "    .dataframe tbody tr th {\n",
              "        vertical-align: top;\n",
              "    }\n",
              "\n",
              "    .dataframe thead th {\n",
              "        text-align: right;\n",
              "    }\n",
              "</style>\n",
              "<table border=\"1\" class=\"dataframe\">\n",
              "  <thead>\n",
              "    <tr style=\"text-align: right;\">\n",
              "      <th></th>\n",
              "      <th>business_id</th>\n",
              "      <th>date</th>\n",
              "      <th>stars</th>\n",
              "      <th>user_id</th>\n",
              "    </tr>\n",
              "  </thead>\n",
              "  <tbody>\n",
              "    <tr>\n",
              "      <th>0</th>\n",
              "      <td>0</td>\n",
              "      <td>2016-04-11 16:42:13</td>\n",
              "      <td>1.0</td>\n",
              "      <td>0</td>\n",
              "    </tr>\n",
              "    <tr>\n",
              "      <th>1</th>\n",
              "      <td>1</td>\n",
              "      <td>2017-06-06 21:04:58</td>\n",
              "      <td>5.0</td>\n",
              "      <td>1</td>\n",
              "    </tr>\n",
              "    <tr>\n",
              "      <th>2</th>\n",
              "      <td>2</td>\n",
              "      <td>2018-01-21 04:58:46</td>\n",
              "      <td>2.0</td>\n",
              "      <td>2</td>\n",
              "    </tr>\n",
              "    <tr>\n",
              "      <th>3</th>\n",
              "      <td>3</td>\n",
              "      <td>2018-05-19 00:32:03</td>\n",
              "      <td>5.0</td>\n",
              "      <td>3</td>\n",
              "    </tr>\n",
              "    <tr>\n",
              "      <th>4</th>\n",
              "      <td>4</td>\n",
              "      <td>2015-11-05 23:56:14</td>\n",
              "      <td>2.0</td>\n",
              "      <td>4</td>\n",
              "    </tr>\n",
              "  </tbody>\n",
              "</table>\n",
              "</div>"
            ],
            "text/plain": [
              "   business_id                 date  stars  user_id\n",
              "0            0  2016-04-11 16:42:13    1.0        0\n",
              "1            1  2017-06-06 21:04:58    5.0        1\n",
              "2            2  2018-01-21 04:58:46    2.0        2\n",
              "3            3  2018-05-19 00:32:03    5.0        3\n",
              "4            4  2015-11-05 23:56:14    2.0        4"
            ]
          },
          "metadata": {
            "tags": []
          },
          "execution_count": 20
        }
      ]
    },
    {
      "cell_type": "code",
      "metadata": {
        "id": "G684GE0v_IGx"
      },
      "source": [
        "restaurant_names = df_restaurant.title.to_dict() #trasnformed key: restaurant_name"
      ],
      "execution_count": 14,
      "outputs": []
    },
    {
      "cell_type": "code",
      "metadata": {
        "id": "j6o_XKzyANBL",
        "colab": {
          "base_uri": "https://localhost:8080/"
        },
        "outputId": "a3031338-4091-4332-c402-b75ef3b9998e"
      },
      "source": [
        "restaurant_names"
      ],
      "execution_count": null,
      "outputs": [
        {
          "output_type": "execute_result",
          "data": {
            "text/plain": [
              "{354: 'Tipsy Ryde',\n",
              " 106: 'Chili Man',\n",
              " 123: \"Chef Alyssa's Kitchen\",\n",
              " 373: \"RayNathan's\",\n",
              " 296: \"Wendy's\",\n",
              " 273: 'Hibachi Express',\n",
              " 270: 'Exxon Mobile On the Run Cafe',\n",
              " 260: 'Gandhi International Market',\n",
              " 14: 'Soul Gastrolounge',\n",
              " 62: '88 China Bistro',\n",
              " 48: 'Cafe South',\n",
              " 17: \"Milano's Pizza & Pasta\",\n",
              " 72: \"Hef's Bar & Grill\",\n",
              " 9: '18 Asian and Sushi Bar',\n",
              " 153: 'Chipotle Mexican Grill',\n",
              " 5: 'The Melting Pot',\n",
              " 328: \"Switchin' Kitchens\",\n",
              " 192: 'Golden Coast II',\n",
              " 337: 'Cafe At 6100',\n",
              " 54: \"Let's Meat Kbbq\",\n",
              " 18: 'Smashburger',\n",
              " 111: 'Global Restaurant',\n",
              " 347: 'Sweet Tooth Festival',\n",
              " 290: 'Irie Vibes Caribbean Restaurant & Catering',\n",
              " 338: 'Food Lion',\n",
              " 232: \"Mama's Pizza & Pasta\",\n",
              " 80: 'Wing Eaters',\n",
              " 134: 'Seaboard Brewing, Tap Room & Wine Bar',\n",
              " 166: 'Firehouse Subs',\n",
              " 185: 'Lake Norman Cottage',\n",
              " 255: 'Yafa Halal Market',\n",
              " 63: 'Ilios Noche',\n",
              " 65: 'Malaya Kitchen',\n",
              " 3: \"Jersey Mike's Subs\",\n",
              " 199: 'Starbucks',\n",
              " 250: 'Taco Bell',\n",
              " 244: 'Maki Taco',\n",
              " 176: 'New China',\n",
              " 147: \"Be's Noodles & Banh Mi\",\n",
              " 278: 'Harris Teeter',\n",
              " 234: 'Black Chicken Wine Cellar',\n",
              " 79: \"Letty's\",\n",
              " 73: \"Bebo's Mac Shack\",\n",
              " 46: \"RuRu's Tacos + Tequila\",\n",
              " 313: 'Yadkin Valley WIne Bar',\n",
              " 342: \"Pelican's Snoballs\",\n",
              " 388: 'Harris Teeter',\n",
              " 101: 'Little Country Kitchen',\n",
              " 418: \"Arby's\",\n",
              " 215: 'Rite Aid',\n",
              " 129: 'Ooowee Bbq',\n",
              " 53: \"Salsarita's Fresh Mexican Grill\",\n",
              " 317: \"McDonald's\",\n",
              " 371: 'Scratch kitchen CLT',\n",
              " 157: 'Organic Marketplace',\n",
              " 120: \"Ben & Jerry's\",\n",
              " 414: 'Venecia Italian & Greek New York Style Pizzeria',\n",
              " 334: 'The Loose Moose Cottage',\n",
              " 98: 'Red Clay Ciderworks',\n",
              " 1: 'Harbor Inn Seafood Restaurant',\n",
              " 327: 'American Deli',\n",
              " 4: \"Ru San's\",\n",
              " 359: 'KFC',\n",
              " 397: \"Rockin' Rolls Sushi Express\",\n",
              " 179: 'Popcorn Heaven',\n",
              " 335: 'Habitat Charlotte ReStore - Pineville',\n",
              " 148: 'Pressley Park Restaurant',\n",
              " 311: \"Zaxby's Chicken Fingers & Buffalo Wings\",\n",
              " 212: \"Moe's Southwest Grill\",\n",
              " 288: \"Arby's\",\n",
              " 286: \"JJ's Red Hots - Uptown\",\n",
              " 205: 'China Cafe',\n",
              " 44: 'Pizza Hut',\n",
              " 241: 'Enat Ethiopian Restaurant',\n",
              " 223: \"Ben & Jerry's\",\n",
              " 172: 'Dough New York Style Bakery',\n",
              " 280: 'Unity Farms Produce',\n",
              " 112: \"Al's Bar & Grille\",\n",
              " 274: 'Cloister Honey',\n",
              " 156: \"The Pizza Loft at Gianni's\",\n",
              " 374: 'Poppyseeds Bagels',\n",
              " 299: \"Papa John's Pizza\",\n",
              " 340: \"Jersey Mike's Subs\",\n",
              " 193: 'Carmellas Pizza Grill',\n",
              " 41: 'PZA',\n",
              " 312: 'Pour Olive',\n",
              " 92: \"Lancaster's BBQ\",\n",
              " 104: 'Burger King',\n",
              " 137: \"Wendy's\",\n",
              " 27: 'Port City Club',\n",
              " 353: \"Wendy's\",\n",
              " 218: \"Dunkin'\",\n",
              " 363: 'Red Radish Catering',\n",
              " 351: 'Cook Out',\n",
              " 155: 'Dot Dot Dot',\n",
              " 375: 'YAFO Kitchen',\n",
              " 15: 'Akahana Asian Bistro',\n",
              " 180: 'Golden Palace',\n",
              " 230: \"Dunkin'\",\n",
              " 209: \"Chili's\",\n",
              " 82: 'El Veracruz Mexican Restaurant',\n",
              " 187: 'Jack in the Box',\n",
              " 331: \"Morgan's Dairy Bar & Calf-A\",\n",
              " 45: 'Nirvana II',\n",
              " 384: 'Comic Girl Coffee & Books',\n",
              " 121: 'Maharani Indian Cuisine',\n",
              " 246: 'Island Thyme - A Calypso Grill & Pub',\n",
              " 118: 'M J  Donuts',\n",
              " 396: \"Rack'em Pub & Billiards\",\n",
              " 71: \"McDonald's\",\n",
              " 413: 'Mundos Fusion Restaurant',\n",
              " 78: 'Holler & Dash Biscuit House',\n",
              " 379: 'Open Rice Asian Kitchen',\n",
              " 419: 'Rios brazillian steakhouse',\n",
              " 77: \"Dave & Buster's\",\n",
              " 407: 'Casa Vieja',\n",
              " 315: 'Wingstop',\n",
              " 284: 'KFC',\n",
              " 401: 'Dae Bak Korean Restaurant',\n",
              " 200: \"McDonald's\",\n",
              " 195: 'Char-Grill',\n",
              " 31: 'Heist Brewery',\n",
              " 298: 'Publix',\n",
              " 86: \"Tony's Ice Cream Company\",\n",
              " 6: 'Bang Bang Burgers',\n",
              " 301: \"McDonald's\",\n",
              " 402: 'The Crab Cracker',\n",
              " 60: 'Yama Sushi & Grill',\n",
              " 320: 'Walgreens',\n",
              " 266: 'Edgewater Bar & Grille',\n",
              " 102: 'El Cafetal',\n",
              " 161: 'Old Pineville Premium Pub',\n",
              " 368: 'K & W Cafeteria',\n",
              " 132: 'Rusty Bucket Restaurant & Tavern',\n",
              " 173: \"Domino's\",\n",
              " 154: \"McDonald's\",\n",
              " 150: \"Dunkin'\",\n",
              " 181: 'Starbucks',\n",
              " 95: 'Flying Biscuit Cafe- Charlotte',\n",
              " 370: '4th Corner Bakehouse and Coffee Co',\n",
              " 143: 'Nutrishop',\n",
              " 214: 'Chinatown',\n",
              " 149: \"Daphne's Bakery\",\n",
              " 283: \"Bojangles' Chicken And Biscuits\",\n",
              " 247: 'Ice Cream & Pizza Works',\n",
              " 292: 'Ingles Cafe',\n",
              " 390: 'Armored Cow Brewing',\n",
              " 262: 'Lee Sundries & Dry Cleaners',\n",
              " 341: 'Harris Teeter',\n",
              " 372: 'Urban Bricks Pizza Bar',\n",
              " 90: \"John's Family Restaurant\",\n",
              " 404: 'Press & Porter',\n",
              " 350: 'Little Ceasars',\n",
              " 236: 'Walgreens',\n",
              " 356: \"Jimmy John's\",\n",
              " 50: 'Knife & Fork',\n",
              " 345: 'The Produce Box',\n",
              " 178: \"Jimmy John's\",\n",
              " 227: 'Smoothie King',\n",
              " 406: \"Jimmy John's\",\n",
              " 190: \"Zaxby's Chicken Fingers & Buffalo Wings\",\n",
              " 257: 'The Cupcake Queen',\n",
              " 21: '1900 Mexican Grill',\n",
              " 213: 'Omaha Steaks',\n",
              " 224: \"McDonald's\",\n",
              " 26: \"Amélie's French Bakery & Café\",\n",
              " 182: 'Parkway House Family Restaurant',\n",
              " 40: 'Deejai  Noodle Bar',\n",
              " 28: 'Chima Steakhouse',\n",
              " 332: 'Salon Cafe',\n",
              " 300: 'The Grill at 11 Union',\n",
              " 287: \"Papa John's Pizza\",\n",
              " 43: 'Dim Sum Chinese Restaurant',\n",
              " 408: 'Charanda Authentic Mexican Eatery',\n",
              " 211: 'Melt-In Your Mouth',\n",
              " 125: \"Bojangles' Famous Chicken 'n Biscuits\",\n",
              " 322: 'Walmart Neighborhood Market',\n",
              " 210: 'Hickory Tavern',\n",
              " 233: \"Jack's Corner Tap\",\n",
              " 310: 'Tres Pesos',\n",
              " 377: '4 Seasons Dominican Hair Salon',\n",
              " 96: 'Wooden Vine Wine Bar & Bistro',\n",
              " 139: \"Carmella's Pizza Grill\",\n",
              " 378: 'French Market Cafe & Gourmet Shop',\n",
              " 400: 'Lan Bakery',\n",
              " 85: \"Fox's Pizza Den\",\n",
              " 253: 'QuikTrip',\n",
              " 325: 'Tanners Restaurant',\n",
              " 59: 'The Suffolk Punch',\n",
              " 251: 'JP Food To Go',\n",
              " 183: 'Sake Express',\n",
              " 321: 'Mecklenburg County ABC Store',\n",
              " 357: \"Papa John's Pizza\",\n",
              " 107: 'Clean Juice',\n",
              " 124: 'Barista Craft',\n",
              " 58: 'Vapiano',\n",
              " 198: 'Cook Out',\n",
              " 25: 'Cook Out',\n",
              " 126: 'Fonda Mexicana El Paraiso',\n",
              " 12: 'Copper Modern Indian Cuisine',\n",
              " 91: \"Fran's Filling Station\",\n",
              " 89: 'Sandwich Max',\n",
              " 344: 'Walmart Supercenter',\n",
              " 109: 'Brazwells Pub',\n",
              " 70: 'Why Not Pizza',\n",
              " 352: 'QuikTrip',\n",
              " 360: 'Value-Mart',\n",
              " 10: 'Sabor Latin Street Grill - Pineville',\n",
              " 336: 'Wolfgang Puck Kiosk',\n",
              " 217: 'Sweet It Is!',\n",
              " 242: 'Rocky River Vineyards',\n",
              " 367: 'Harris Teeter',\n",
              " 47: 'El Valle Mexican Restaurant',\n",
              " 415: \"Rico's Acai\",\n",
              " 411: 'Matcha Cafe Maiko',\n",
              " 115: \"McDonald's\",\n",
              " 208: 'Chipotle Mexican Grill',\n",
              " 329: \"Domino's\",\n",
              " 203: 'Five Guys',\n",
              " 228: \"Papa John's Pizza\",\n",
              " 67: 'Pizza Hut',\n",
              " 39: \"The Lodge: A Sportsman's Grill\",\n",
              " 108: 'Quidleys Delight',\n",
              " 42: 'Carolina Smoothies',\n",
              " 302: \"Dunkin'\",\n",
              " 285: 'Starbucks',\n",
              " 160: \"O'Charley's Restaurant & Bar\",\n",
              " 387: 'Subway Restaurants',\n",
              " 343: 'Subway Restaurants',\n",
              " 261: 'Bosna Market',\n",
              " 81: \"McDonald's\",\n",
              " 245: 'The Peace Pipe',\n",
              " 49: 'Outback Steakhouse',\n",
              " 146: \"Ed's Tavern\",\n",
              " 272: 'Walmart Neighborhood Market',\n",
              " 216: \"McDonald's\",\n",
              " 141: 'Harris Teeter',\n",
              " 2: \"Dale Jr.'s Whisky River\",\n",
              " 362: 'Food Lion',\n",
              " 269: \"Papa John's Pizza\",\n",
              " 366: 'Sugar Shack Sweets',\n",
              " 207: 'Showmars - Park Cedar',\n",
              " 295: \"Enzo's Italian Market\",\n",
              " 158: 'Taco Bell',\n",
              " 177: 'Villa-Roma Restaurant',\n",
              " 289: 'Food Lion',\n",
              " 33: \"Moe's Southwest Grill\",\n",
              " 297: 'The Art Of Baking',\n",
              " 197: 'Flamin Kitchen',\n",
              " 194: 'Caswell Station',\n",
              " 171: \"Maria's Grill\",\n",
              " 36: 'Pho Real Vietnamese Restaurant and Bar',\n",
              " 405: \"Rosati's Pizza\",\n",
              " 386: 'AC Lounge',\n",
              " 258: 'Charlotte Comedy Theater',\n",
              " 52: 'Pho Ginseng',\n",
              " 361: 'Subway Restaurants',\n",
              " 136: 'SouthEast Crab Feast',\n",
              " 144: 'Sandwich Sam',\n",
              " 127: \"Wendy's\",\n",
              " 275: 'Starbucks',\n",
              " 239: 'Vintage Wine Lounge',\n",
              " 116: \"Taziki's Mediterranean Cafe\",\n",
              " 395: \"Xcite's Sweet Connections\",\n",
              " 365: 'Kickin Kitchen',\n",
              " 87: 'Baskin-Robbins',\n",
              " 355: \"Dunkin'\",\n",
              " 64: \"The King's Kitchen\",\n",
              " 34: 'Cabo Fish Taco',\n",
              " 219: \"Salsarita's Fresh Mexican Grill\",\n",
              " 330: 'Piccolo Antique Mall',\n",
              " 389: 'Unionville Service & Grocery',\n",
              " 61: \"Romanello's Pasta-Pizza-Subs\",\n",
              " 7: \"Captain Steve's\",\n",
              " 225: 'Lucky Oriental Grocery',\n",
              " 152: 'Resident Culture Brewing Company',\n",
              " 220: 'Firehouse Subs',\n",
              " 84: 'Chipotle Mexican Grill',\n",
              " 324: \"Jersey Mike's Subs\",\n",
              " 226: 'Harris Teeter',\n",
              " 256: \"Bojangles' Famous Chicken 'n Biscuits\",\n",
              " 412: 'Trade and Lore',\n",
              " 259: 'QuikTrip',\n",
              " 276: \"Dunkin'\",\n",
              " 74: 'Shake Shack',\n",
              " 119: 'Hall Family Farm',\n",
              " 11: 'Cantina 1511',\n",
              " 138: 'Wild Wing Cafe',\n",
              " 105: 'Nothing Bundt Cakes',\n",
              " 417: 'Crab Fever',\n",
              " 326: 'Anderson Catering',\n",
              " 32: 'Red Lobster',\n",
              " 394: 'Triveni Supermarket',\n",
              " 339: 'Honey Baked Ham Company',\n",
              " 403: 'Fresh Egg Restaurant',\n",
              " 159: 'ABC Spirits',\n",
              " 235: 'Juliana Pizza Family Restaurant',\n",
              " 55: '500 Degrees Pizzeria',\n",
              " 113: 'Fonda Las Cazuelas',\n",
              " 75: 'Miro Spanish Grille',\n",
              " 358: 'Burger King',\n",
              " 206: 'Viva Chicken',\n",
              " 416: 'Samoha African Cuisine',\n",
              " 393: 'Groundwork Common',\n",
              " 24: 'Diamond Restaurant',\n",
              " 231: 'Taco Bell',\n",
              " 383: 'Harris Teeter',\n",
              " 114: 'Taxco Mexican Grill',\n",
              " 83: 'Sbarro',\n",
              " 110: \"McDonald's\",\n",
              " 376: 'Starbucks',\n",
              " 88: \"Mango's Caribbean Restaurant\",\n",
              " 130: \"Jersey Mike's Subs\",\n",
              " 307: 'Taco Bell',\n",
              " 100: \"Church's Chicken\",\n",
              " 168: 'Cafe Moka',\n",
              " 254: 'Smoothie King',\n",
              " 309: 'Sub Station II',\n",
              " 304: 'Harmony Hall - Carowinds Dining',\n",
              " 191: 'The Percantile and Creamery',\n",
              " 238: 'Golden Gate Express',\n",
              " 248: 'Food Lion',\n",
              " 306: 'Patel Brothers',\n",
              " 140: 'Taqueria Mexico',\n",
              " 221: \"Bojangles' Famous Chicken 'n Biscuits\",\n",
              " 303: 'Strudelteig Food Truck Bakery',\n",
              " 97: '37 SOL Southwest Kitchen and Tequila Bar',\n",
              " 174: 'Ichi Japanese Express',\n",
              " 93: 'Carolina Ale House',\n",
              " 333: 'Food Lion',\n",
              " 0: 'Buffalo Wild Wings',\n",
              " 380: 'Pho at Noda',\n",
              " 263: \"Arby's\",\n",
              " 68: \"Domino's\",\n",
              " 19: 'Red Sea Restaurant & Bar',\n",
              " 291: 'Cotswold Farmers Market',\n",
              " 22: \"Harry's Grille & Tavern\",\n",
              " 151: \"Art's Barbecue & Deli\",\n",
              " 281: 'Brevard Court Sundries',\n",
              " 398: 'Mayfair Seafood',\n",
              " 381: 'Just Fresh',\n",
              " 56: 'Banh Mi Brothers',\n",
              " 57: 'Happy’s Grill',\n",
              " 163: 'Publix',\n",
              " 201: \"Tank's Tap\",\n",
              " 318: \"Domino's\",\n",
              " 267: 'Circle K',\n",
              " 323: 'The Rumor Mill Market',\n",
              " 164: 'Hibachi Express & Grill',\n",
              " 99: 'All American Pub',\n",
              " 348: 'Tropical Smoothie Cafe',\n",
              " 240: 'Red Line Club',\n",
              " 165: 'Billy Graham Library',\n",
              " 277: \"Bojangles' Famous Chicken 'n Biscuits\",\n",
              " 189: \"Miki's Restaurant\",\n",
              " 35: 'Publix',\n",
              " 265: 'Taco Bell',\n",
              " 222: 'Foodie Call',\n",
              " 369: 'Subway Restaurants',\n",
              " 133: 'Alpha Omega Grill & Pizzeria',\n",
              " 131: \"Charlie's Philly steaks\",\n",
              " 316: \"Zaxby's Chicken Fingers & Buffalo Wings\",\n",
              " 23: 'King Fish Poke',\n",
              " 20: \"Sullivan's Steakhouse\",\n",
              " 399: 'Chatpatay',\n",
              " 382: 'Chick-fil-A',\n",
              " 29: 'China Express Chinese Restaurant',\n",
              " 202: 'Dynasty Buffett',\n",
              " 305: \"Jimmy John's\",\n",
              " 188: 'Assorted Table Wine Shoppe',\n",
              " 293: 'Harris Teeter',\n",
              " 145: 'Yama',\n",
              " 294: \"Bojangles' Famous Chicken 'n Biscuits\",\n",
              " 142: 'QDOBA Mexican Eats',\n",
              " 186: \"Jet's Pizza\",\n",
              " 204: 'Microsoft Cafeteria',\n",
              " 175: \"Wendy's\",\n",
              " 117: 'Sprouts Cafe',\n",
              " 196: 'Taco Bell',\n",
              " 162: 'Zoes Kitchen',\n",
              " 51: \"Foster's Grille\",\n",
              " 271: 'Taco Bell',\n",
              " 122: 'Starbucks',\n",
              " 264: 'Charlotte Douglas Airport Food Court',\n",
              " 249: 'Park Central Cafe',\n",
              " 229: 'Sonic Drive-In',\n",
              " 319: 'Chon Ching Chinese Restaurant',\n",
              " 282: \"Li's noodles\",\n",
              " 409: \"Raj's Kitchen\",\n",
              " 69: \"Dressler's - Charlotte\",\n",
              " 94: 'Chopt Creative Salad Co.',\n",
              " 167: 'Tamaleria Laurita',\n",
              " 392: 'Pelican’s Snoballs Of Uptown Clt',\n",
              " 237: 'Chef Kwo',\n",
              " 268: \"McAlister's Deli\",\n",
              " 314: 'Cheesecake Etc',\n",
              " 243: 'Asian Market',\n",
              " 385: 'No Forks Given',\n",
              " 37: 'Kami Chinese and Sushi',\n",
              " 8: 'The Mad Greek of Charlotte',\n",
              " 279: \"McDonald's\",\n",
              " 169: 'Walmart Supercenter',\n",
              " 410: 'Taco Mama - Dilworth',\n",
              " 308: \"Matthews Community Farmers' Market\",\n",
              " 170: 'China II Denver',\n",
              " 13: 'Pisces Sushi Bar & Lounge',\n",
              " 346: 'Starbucks',\n",
              " 135: 'Jack in the Box',\n",
              " 38: 'Mickey & Mooch',\n",
              " 349: 'Crane Coffee Company',\n",
              " 76: \"Amici's Pizza Sports Bar and Grill\",\n",
              " 103: 'Eggs Up Grill',\n",
              " 66: \"Tommy's Drive-In\",\n",
              " 16: \"Popeye's Chicken\",\n",
              " 128: 'Johnny Burrito',\n",
              " 184: \"Joe Mama's Pizza and Grill\",\n",
              " 252: 'Penzeys Spices',\n",
              " 30: \"Alexander Michael's\",\n",
              " 391: \"Marco's Pizza\",\n",
              " 364: 'Legion Brewing SouthPark',\n",
              " 546: 'Clean Juice - Uptown',\n",
              " 775: 'Five Guys',\n",
              " 827: 'Cook Out',\n",
              " 843: 'Pizza Hut',\n",
              " 815: \"Groucho's Deli\",\n",
              " 692: 'Duck Donuts',\n",
              " 452: 'La Unica Mexican Restaurant',\n",
              " 590: 'Chick-fil-A',\n",
              " 470: 'Jack in the Box',\n",
              " 537: 'Chipotle Mexican Grill',\n",
              " 482: 'Firebirds Wood Fired Grill',\n",
              " 556: 'NoDa Brewing',\n",
              " 459: 'Another Broken Egg Cafe',\n",
              " 529: 'Firebirds Wood Fired Grill',\n",
              " 801: 'Honey Butter Bakery',\n",
              " 782: 'Best Impressions Caterers',\n",
              " 748: 'Fish Wing',\n",
              " 461: 'Zinicola',\n",
              " 433: 'Crisp',\n",
              " 643: \"Papa John's Pizza\",\n",
              " 672: 'Honey Baked Ham Company',\n",
              " 717: 'The Cooking Pot',\n",
              " 854: 'Shake Shake Seafood',\n",
              " 844: 'Barley Market',\n",
              " 744: 'Aldi',\n",
              " 457: 'Crunch Bistro',\n",
              " 427: 'Publix',\n",
              " 557: \"Wendy's\",\n",
              " 704: \"Wendy's\",\n",
              " 475: 'TGI Fridays',\n",
              " 808: \"Andy's Frozen Custard\",\n",
              " 629: 'Burger King',\n",
              " 576: 'Toppers Pizza',\n",
              " 425: 'Fiamma',\n",
              " 593: \"Sophia's Lounge\",\n",
              " 535: 'CAVA',\n",
              " 638: 'Charlotte Christmas Village',\n",
              " 726: \"Arby's\",\n",
              " 635: 'Waffle House',\n",
              " 710: 'Viva Chicken - Gastonia',\n",
              " 738: 'ABC Store of Mecklenburg County',\n",
              " 456: 'MingFu Chinese & Sushi',\n",
              " 423: \"Luciano's Ristorante Italiano\",\n",
              " 554: 'Arepas Grill',\n",
              " 646: 'Hunan Park',\n",
              " 659: \"Dunkin'\",\n",
              " 560: \"Bojangles' Famous Chicken 'n Biscuits\",\n",
              " 678: 'OooWee BBQ',\n",
              " 603: 'The Loyalist Market',\n",
              " 651: 'Chipotle Mexican Grill',\n",
              " 853: 'Nick & Mike Bar and Grill',\n",
              " 547: 'Food Lion Inc-Store #2569',\n",
              " 479: 'Einstein Bros Bagels',\n",
              " 764: 'Smoothie King',\n",
              " 533: 'Walmart Supercenter',\n",
              " 681: \"Eddie V's Prime Seafood\",\n",
              " 791: 'Kaizoku',\n",
              " 829: 'Reginella Italian Pizza',\n",
              " 750: \"Dunkin'\",\n",
              " 673: 'Muddy River Distillery',\n",
              " 624: 'Rite Aid',\n",
              " 842: 'Amigo Taqueria',\n",
              " 796: 'Harris Teeter',\n",
              " 766: 'Walgreens',\n",
              " 686: 'Cinnabon',\n",
              " 625: 'Sake Express',\n",
              " 577: 'IHOP',\n",
              " 740: 'Jack in the Box',\n",
              " 466: 'Sea Level NC',\n",
              " 421: 'Azteca Mexican Restaurant',\n",
              " 702: 'Sweet Frog Premium Frozen Yogurt',\n",
              " 711: \"Sonny's BBQ\",\n",
              " 512: 'CORK & ALE',\n",
              " 487: 'STATS Restaurant & Bar',\n",
              " 548: 'Sunflour Baking Company',\n",
              " 561: 'Sugar Donuts',\n",
              " 584: 'Queen City Wings',\n",
              " 596: \"Chili's\",\n",
              " 574: \"Fitzgerald's\",\n",
              " 565: \"Zack's Hamburgers\",\n",
              " 559: 'Aroojis Wine Room',\n",
              " 836: \"Salsarita's Fresh Mexican Grill\",\n",
              " 810: \"Bojangles' Famous Chicken 'n Biscuits\",\n",
              " 551: \"Salsarita's Fresh Mexican Grill\",\n",
              " 733: 'Kung Fu Tea',\n",
              " 640: \"Mr C's\",\n",
              " 478: 'Halcyon',\n",
              " 701: 'Cashion Quik Stop, Inc',\n",
              " 627: 'Cook Out',\n",
              " 606: 'Wing Zone',\n",
              " 496: \"Phat Daddy's Cafe\",\n",
              " 491: 'Hunan Express Chinese Restaurant',\n",
              " 755: 'QuikTrip',\n",
              " 481: 'Basil Thai Cuisine',\n",
              " 613: 'Umami Sushi & Grill',\n",
              " 542: 'Char Bar No 7',\n",
              " 820: 'Swirl',\n",
              " 679: 'Pho Huong Que',\n",
              " 773: \"Wendy's\",\n",
              " 676: 'Starbucks',\n",
              " 840: 'Great American Cookies',\n",
              " 741: 'Great American Cookies',\n",
              " 851: 'Crafty Crab',\n",
              " 783: 'Wok Bo Chinese Restaurant',\n",
              " 649: 'American Burger Co.',\n",
              " 706: 'Summit Coffee Outpost',\n",
              " 813: 'Smallcakes',\n",
              " 517: 'Cafe Ganache',\n",
              " 582: \"Floyd & Blackie's\",\n",
              " 435: 'The Cowfish Sushi Burger Bar',\n",
              " 693: 'La Michoacana Paleteria',\n",
              " 648: 'Starbucks',\n",
              " 788: 'Wraps Around The World',\n",
              " 797: 'Showmars South Park Mall',\n",
              " 834: 'Subway Restaurants',\n",
              " 675: 'Halal International',\n",
              " 602: \"The Workman's Friend\",\n",
              " 608: 'Waffle House',\n",
              " 660: \"McBonie's Bar & Grill\",\n",
              " 830: 'Optimist Hall',\n",
              " 628: 'El Vaquero',\n",
              " 781: 'Burger King',\n",
              " 811: \"Fuzzy's Taco Shop\",\n",
              " 807: 'Sweet Flour Pots',\n",
              " 700: 'QC Tea Bar',\n",
              " 753: 'Barbee Farms',\n",
              " 534: 'Burger King',\n",
              " 762: \"Bojangles' Famous Chicken 'n Biscuits\",\n",
              " 499: 'Brookwood Farms Carolina Pit BBQ',\n",
              " 817: 'Andy’s Custard',\n",
              " 723: 'Hot Wok',\n",
              " 420: 'Cafe Monte',\n",
              " 494: 'OMG Donuts & Bakery',\n",
              " 553: 'Rhino Market & Deli',\n",
              " 549: 'Appalachia Cookie Co.',\n",
              " 765: 'Queen City Sliders',\n",
              " 687: 'China Cafe',\n",
              " 674: 'Chipotle Mexican Grill',\n",
              " 856: 'Undercurrent Coffee',\n",
              " 462: 'New Zealand Cafe',\n",
              " 694: 'Burger King',\n",
              " 841: 'Subway Restaurants',\n",
              " 455: 'Great Grapes Wine & Food Festival',\n",
              " 464: 'Ben Thanh Restaurant',\n",
              " 833: 'Subway Restaurants',\n",
              " 440: 'Carolina Meat & Fish',\n",
              " 424: 'Bonefish Grill',\n",
              " 526: 'Something Classic Cafe',\n",
              " 502: 'The Garden Grille & Bar',\n",
              " 749: 'Around The World Market',\n",
              " 845: 'QuikTrip',\n",
              " 441: 'Petit Philippe',\n",
              " 776: \"Friendly's of Stanley\",\n",
              " 531: \"Portofino's Italian Restaurant & Pizzeria\",\n",
              " 859: 'Iron Dish Korean BBQ',\n",
              " 734: 'Olive This!',\n",
              " 430: \"Stack's Kitchen\",\n",
              " 812: 'Que Onda Tacos University',\n",
              " 513: 'TLC Wings & Grill',\n",
              " 774: 'Harris Teeter',\n",
              " 489: 'Rí Rá',\n",
              " 712: 'Food Lion',\n",
              " 677: \"Wendy's\",\n",
              " 763: 'Kre8 Xperiences',\n",
              " 579: 'Whole Foods Market',\n",
              " 837: 'Barvecue',\n",
              " 438: 'Krazy Fish',\n",
              " 599: 'Feast Food Tours & Culinary Events',\n",
              " 524: 'Grits N Greens',\n",
              " 804: 'Exxon',\n",
              " 641: 'Juan Taco',\n",
              " 728: 'Compare Foods Supermarket',\n",
              " 450: 'Hickory Tavern',\n",
              " 585: 'Wingstop',\n",
              " 587: 'Crossroads Coffee House',\n",
              " 657: \"Wendy's\",\n",
              " 684: 'Taco Bell',\n",
              " 654: 'TapHaus49',\n",
              " 751: 'Häagen-Dazs',\n",
              " 736: 'Panera Bread',\n",
              " 682: \"McDonald's\",\n",
              " 789: 'Bojangles',\n",
              " 777: 'Subway Restaurants',\n",
              " 591: 'Caribou Coffee',\n",
              " 437: 'Food Truck Friday Charlotte',\n",
              " 506: \"Harper's Restaurant\",\n",
              " 458: 'Kindred Restaurant',\n",
              " 752: 'Popeyes Louisiana Kitchen',\n",
              " 443: \"Boardwalk Billy's Raw Bar And Ribs\",\n",
              " 609: \"Garofola's Italiano\",\n",
              " 787: \"McDonald's\",\n",
              " 610: 'Zia Pia imports + Italian kitchen',\n",
              " 432: 'Char Bar No 7',\n",
              " 497: '7th Street Public Market',\n",
              " 572: 'Sabor Latin Street Grill - Davidson',\n",
              " 523: \"Dunkin'\",\n",
              " 757: 'North Carolina Brewers Celebration',\n",
              " 472: 'Bonefish Grill',\n",
              " 564: 'Carolina Cones',\n",
              " 725: 'Chin Chin',\n",
              " 538: 'eeZ Fusion & Sushi',\n",
              " 633: \"Lam's Kitchen\",\n",
              " 504: 'Starbucks',\n",
              " 540: 'Los Arcos',\n",
              " 578: 'Curry n Cake',\n",
              " 446: 'Not Just Coffee - South End',\n",
              " 617: \"McDonald's\",\n",
              " 476: 'Rum Bar & Grill',\n",
              " 431: 'Leroy Fox - South End',\n",
              " 828: \"Jeni's Splendid Ice Creams\",\n",
              " 510: 'Original Chicken & Ribs',\n",
              " 771: \"Wendy's\",\n",
              " 589: 'Golden Taipei',\n",
              " 485: 'Vietnam Grille',\n",
              " 716: 'Brickhouse Grill',\n",
              " 428: 'Chick-fil-A',\n",
              " 688: 'IHOP',\n",
              " 507: 'Starbucks',\n",
              " 792: '7-Eleven',\n",
              " 493: 'Azteca Mexican Restaurant',\n",
              " 536: 'Hunan To Go',\n",
              " 465: 'Papi Queso',\n",
              " 595: 'Ruby Tuesday',\n",
              " 705: \"Bojangles' Famous Chicken 'n Biscuits\",\n",
              " 541: \"River's Edge Bar and Grill\",\n",
              " 658: 'Pino Gelato',\n",
              " 779: 'Frankly Gourmet',\n",
              " 822: 'The Peppers',\n",
              " 786: 'Times Turn Around',\n",
              " 655: 'Sweet Boutique Bakery',\n",
              " 727: 'Graham Street Grill',\n",
              " 449: 'Seoul Food Meat Company',\n",
              " 805: 'Kraving Catering',\n",
              " 600: 'Sospeso Coffee Roasters',\n",
              " 780: 'Circle K',\n",
              " 436: 'Vida Mexican Kitchen y Cantina',\n",
              " 664: 'Golden Corral Buffet & Grill',\n",
              " 486: 'The Peculiar Rabbit',\n",
              " 850: \"Jyoti's World Cuisine\",\n",
              " 680: 'Holy Joes Meats & More',\n",
              " 818: 'Noble Smoke',\n",
              " 477: \"Choplin's Restaurant\",\n",
              " 707: 'Subway Restaurants',\n",
              " 809: 'The Waterman Fish Bar',\n",
              " 618: 'Tamales La Pasadita',\n",
              " 568: 'Parrillada Che Gaucho',\n",
              " 575: \"McDonald's\",\n",
              " 739: 'Chick-fil-A',\n",
              " 469: 'Mellow Mushroom',\n",
              " 852: \"Dunkin'\",\n",
              " 647: 'Haymaker',\n",
              " 573: 'Lowesville Cafe',\n",
              " 708: 'Mocco Bistro',\n",
              " 498: \"Cuzzo's Cuisine\",\n",
              " 754: 'Avenue Market',\n",
              " 514: 'Kabab Je Rotisserie and Grille',\n",
              " 444: 'Free Range Brewing',\n",
              " 447: 'Pure Pizza',\n",
              " 518: 'Golden Corral Buffet & Grill',\n",
              " 816: 'Tonys Pizza And Wings',\n",
              " 714: 'Jack in the Box',\n",
              " 823: \"Jersey Mike's Subs\",\n",
              " 802: \"Lindy's Homemade Italian Ice\",\n",
              " 583: 'Not Just Franks',\n",
              " 442: 'Japan Restaurant',\n",
              " 530: 'Monterrey',\n",
              " 631: 'Subway Restaurants',\n",
              " 784: \"Tung's Chinese Restaurant\",\n",
              " 483: 'Sugar Creek Brewing Company',\n",
              " 586: 'El Valle Mexican Restaurant',\n",
              " 825: 'Harris Teeter',\n",
              " 759: '7-Eleven',\n",
              " 756: 'Chick-fil-A',\n",
              " 661: 'IHOP',\n",
              " 527: \"Punchy's Diner\",\n",
              " 857: 'Subway Restaurants',\n",
              " 653: 'Food Lion',\n",
              " 770: 'Cotton Candy Factory',\n",
              " 731: 'Tiger Yakitori',\n",
              " 760: 'The Best NY Bagel Deli',\n",
              " 799: 'Waffle House',\n",
              " 581: 'Korean Restaurant',\n",
              " 709: 'My Brothers Bagel',\n",
              " 570: 'QDOBA Mexican Eats',\n",
              " 453: 'The Corner Pub',\n",
              " 666: \"Hardee's\",\n",
              " 860: 'Starbucks',\n",
              " 474: 'Wine Vault',\n",
              " 691: 'Jin Jin',\n",
              " 644: 'A Worthy Dog',\n",
              " 598: 'Hokkaido Japanese Express',\n",
              " 824: 'Grace O’Malley’s',\n",
              " 473: \"Chili's\",\n",
              " 543: 'Which Wich',\n",
              " 847: 'Chicken Salad Chick - Matthews',\n",
              " 637: 'Showmars - Northlake Mall',\n",
              " 849: 'La Preferida Mexican Restaurant',\n",
              " 429: 'Malabar',\n",
              " 495: 'Toyama Express',\n",
              " 566: 'Tacos El Regio',\n",
              " 501: 'Monterrey Mexican Restaurant',\n",
              " 718: 'Taco Bell',\n",
              " 503: 'CO',\n",
              " 742: 'QuikTrip',\n",
              " 467: \"Jersey Mike's Subs\",\n",
              " 662: 'Tokyo One Express',\n",
              " 663: 'The Great Wagon Road Distilling Co',\n",
              " 463: 'Fujo',\n",
              " 516: \"Don Julio's\",\n",
              " 696: 'The Nappy Chef',\n",
              " 563: 'The Palm Charlotte',\n",
              " 639: 'Skyland Family Restaurant',\n",
              " 468: 'Saigon Palace',\n",
              " 555: 'Twenty-Six Acres Brewing',\n",
              " 488: 'Sangam Indian Cuisine',\n",
              " 511: \"Joe's Sports Bar\",\n",
              " 761: 'Pizza Hut',\n",
              " 634: 'Burger King',\n",
              " 720: 'The Sundae Shop',\n",
              " 522: 'Alino Pizzeria',\n",
              " 471: \"Rooster's at Southpark\",\n",
              " 798: 'Food Lion',\n",
              " 835: \"Milagro's Latin Cuisine\",\n",
              " 448: 'Mai Japanese Express',\n",
              " 571: 'Breakfastime',\n",
              " 758: 'China II Buffet',\n",
              " 769: 'Doc Popcorn - Concord Mills',\n",
              " 819: 'La Escondida Mexican Grill & Bar',\n",
              " 737: 'Firehouse Subs',\n",
              " 626: 'New Century Grocery and Food',\n",
              " 607: 'Salud Beer Shop',\n",
              " 719: 'Pizza Hut',\n",
              " 721: 'Walmart Neighborhood Market',\n",
              " 690: 'Bobs Carry Out Pileem Up',\n",
              " 508: \"Jake's Good Eats\",\n",
              " 669: 'Dilworth Coffee - Plantation Market',\n",
              " 484: \"Wet Willie's\",\n",
              " 505: 'Rocky River Grille',\n",
              " 605: 'Restaurant and Bakery Salvadorena',\n",
              " 795: \"McDonald's\",\n",
              " 793: \"Papa John's Pizza\",\n",
              " 558: 'Bond Street Wines',\n",
              " 785: 'Zen Taco',\n",
              " 492: 'Stock Car Cafe',\n",
              " 460: 'Fern',\n",
              " 645: 'Flavors of India',\n",
              " 743: 'Bojangles',\n",
              " 713: \"Jersey Mike's Subs\",\n",
              " 839: 'HOP & VINE',\n",
              " 698: 'Wing Heaven',\n",
              " 778: \"McDonald's\",\n",
              " 772: 'Harris Teeter',\n",
              " 806: 'Subway Restaurants',\n",
              " 685: \"Bojangles' Famous Chicken 'n Biscuits\",\n",
              " 439: 'Living Kitchen',\n",
              " 567: \"Rusty's Deli & Grille\",\n",
              " 451: 'North Harbor Club',\n",
              " 580: 'Winestore',\n",
              " 620: 'La Michoacana',\n",
              " 826: 'Heist Brewery and Barrel Arts',\n",
              " 670: 'Chipotle Mexican Grill',\n",
              " 746: 'Showmars - Hearst Tower',\n",
              " 525: 'Good Bottle',\n",
              " 622: 'Taco Bell',\n",
              " 426: 'The Melting Pot',\n",
              " 730: 'MOD Pizza',\n",
              " 722: 'Starbucks',\n",
              " 550: 'Cornelius Drafthouse',\n",
              " 768: \"Arby's\",\n",
              " 623: 'Flowers Baking',\n",
              " 445: \"Trader Joe's\",\n",
              " 668: 'Cake Me Away Bakery',\n",
              " 683: 'Nordstrom Ebar Artisan Coffee',\n",
              " 616: \"McDonald's\",\n",
              " 544: 'Zoes Kitchen',\n",
              " 509: 'Studio Movie Grill',\n",
              " 846: 'Just Fresh',\n",
              " 630: 'The Roasting Company',\n",
              " 519: 'Kabab King',\n",
              " 569: 'Firethorne Country Club',\n",
              " 562: 'Firehouse Subs',\n",
              " 615: \"La-Tea-Da's Catering\",\n",
              " 454: 'On The Border Mexican Grill & Cantina',\n",
              " 689: 'Social Bar & Kitchen',\n",
              " 790: 'Starbucks',\n",
              " 636: 'Guilties Bistro',\n",
              " 621: 'Chicken King',\n",
              " 422: \"Charley's Philly Steaks\",\n",
              " 597: \"Jet's Pizza\",\n",
              " 800: 'Atherton Mill',\n",
              " 614: 'Pizza Hut',\n",
              " 601: 'Bagel Bin & Deli II',\n",
              " 604: \"Bojangles' Famous Chicken 'n Biscuits\",\n",
              " 735: \"Zaxby's Chicken Fingers & Buffalo Wings\",\n",
              " 767: 'Body Balance Day Spa',\n",
              " 594: \"Denny's\",\n",
              " 814: 'CAVA',\n",
              " 803: 'Subway Restaurants',\n",
              " 520: 'El Taco Veloz',\n",
              " 667: \"Applebee's Grill + Bar\",\n",
              " 729: 'Waffle House',\n",
              " 528: 'A Taste Of Carolina',\n",
              " 480: 'E Noodles',\n",
              " 521: 'Oak Steakhouse Charlotte',\n",
              " 703: 'The Vitamin Shoppe',\n",
              " 832: 'La Victoria',\n",
              " 715: \"McDonald's\",\n",
              " 656: 'Aldi',\n",
              " 695: 'Sunflour Baking Company',\n",
              " 697: 'Kim Anh Oriental Groceries & Gifts',\n",
              " 592: 'Circle K',\n",
              " 665: 'The Daily Tavern',\n",
              " 831: 'Dairy Queen',\n",
              " 858: 'Chex Grill & Wings',\n",
              " 821: 'Binki Cafe',\n",
              " 619: 'Bw Sweets Bakery',\n",
              " 632: 'Chick-fil-A',\n",
              " 545: 'Tacos El Nevado',\n",
              " 552: \"Barrington's\",\n",
              " 732: 'Rice Inc - Chinese Cuisine',\n",
              " 611: 'Sunflower Family Restaurant',\n",
              " 724: 'Red Lobster',\n",
              " 434: \"Reid's Fine Food\",\n",
              " 855: \"Dunkin'\",\n",
              " 532: 'The Fresh Market',\n",
              " 838: 'K&W Cafeteria',\n",
              " 671: 'J-Birds Burger Jointe',\n",
              " 500: 'The Roasting Company',\n",
              " 490: 'House Of Leng - Mallard Creek',\n",
              " 794: 'Subway Restaurants',\n",
              " 699: 'China Town',\n",
              " 848: 'IHOP',\n",
              " 539: 'Ruby Tuesday',\n",
              " 650: 'Hanaya Garden',\n",
              " 652: 'Red Bowl Asian Bistro',\n",
              " 515: \"Applebee's Grill + Bar\",\n",
              " 747: 'Little Caesars',\n",
              " 642: 'Big Apple Deli',\n",
              " 588: 'Competition Dining: Fire in the City',\n",
              " 745: 'Derita Dairy Bar',\n",
              " 612: 'Comalapa Family Restaurant',\n",
              " 1251: 'Clean Juice Rea Farms',\n",
              " 1298: 'Seven Jars',\n",
              " 1213: 'Food Lion',\n",
              " 1255: 'Cougar Run Winery',\n",
              " 1227: 'YogoNovus',\n",
              " 921: 'Clean Catch Fish Market',\n",
              " 983: \"Wendy's\",\n",
              " 888: 'Flying Biscuit Café',\n",
              " 1034: 'Midtown Sundries',\n",
              " 1166: 'Mosaic Village',\n",
              " 1304: '225 street food',\n",
              " 998: 'Fox Sports Bar and Grill',\n",
              " 876: 'Afton Tavern',\n",
              " 861: \"Vasileio's Italian Kitchen\",\n",
              " 960: 'Lenny Boy Brewing',\n",
              " 963: 'Ink N Ivy',\n",
              " 1020: \"Toucan Louie's\",\n",
              " 917: 'Ho Ho Cherry House',\n",
              " 923: 'El Vallarta',\n",
              " 1045: 'Mily & Lalo Peruvian Restaurant',\n",
              " 1217: 'The Fresh Market',\n",
              " 971: 'Mecklenburg County ABC Store',\n",
              " 1269: 'Chick-fil-A',\n",
              " 992: 'Akahana Asian Bistro - Belmont',\n",
              " 1083: \"Clover Joe's\",\n",
              " 1040: \"Papa Murphy's\",\n",
              " 926: \"McAlister's Deli\",\n",
              " 976: 'Mickey & Mooch',\n",
              " 935: 'Sake Express',\n",
              " 1053: 'Cinnaholic',\n",
              " 1291: 'Louisiana Famous Fried Chicken',\n",
              " 919: 'Genghis Grill',\n",
              " 1014: 'Firehouse Subs',\n",
              " 978: 'New Asian Cuisine',\n",
              " 1164: 'Starbucks',\n",
              " 1325: 'Bonjour Y’all Bakery',\n",
              " 1071: 'Jin Jin Chinese Restaurant',\n",
              " 1199: 'Showmars',\n",
              " 896: 'Sakura Sushi Hibachi & Grill',\n",
              " 1188: 'Rocky Mountain Chocolate Factory',\n",
              " 1150: 'Jack in the Box',\n",
              " 995: 'Tijuana Flats',\n",
              " 1219: 'Mecklenburg County ABC Store',\n",
              " 1259: 'Compare Foods',\n",
              " 1077: \"Brenda's Cake Gallery\",\n",
              " 1033: 'Viva Tequis',\n",
              " 961: 'IHOP',\n",
              " 1155: \"Jersey Mike's Subs\",\n",
              " 1230: 'New York Pizzeria',\n",
              " 1249: 'Rite Aid',\n",
              " 1028: 'QuikTrip',\n",
              " 1003: \"Jeni's Splendid Ice Creams\",\n",
              " 1130: 'Pure Intentions Coffee',\n",
              " 929: 'Buffalo Wild Wings',\n",
              " 1314: \"Dunkin'\",\n",
              " 943: \"Jersey Mike's Subs\",\n",
              " 979: 'The Gateway To Athens',\n",
              " 1324: 'Chicken Salad Chick',\n",
              " 944: 'Zablong Peculiar Pizza',\n",
              " 882: 'Growlers Pourhouse',\n",
              " 1182: 'Subway Restaurants',\n",
              " 924: 'KFC',\n",
              " 1231: 'Pelicans Snoballs',\n",
              " 1010: 'The Local',\n",
              " 962: 'Cicis',\n",
              " 930: 'Flying Saucer Draught Emporium',\n",
              " 1273: 'EastSide Local',\n",
              " 1198: \"DJ's Diner\",\n",
              " 1282: 'Poke Bros',\n",
              " 1295: 'Clean Juice Concord Mills',\n",
              " 886: 'Nakato',\n",
              " 905: 'SweetCakes Bakery',\n",
              " 955: 'Bella Fresco',\n",
              " 1080: 'Bulldog Dilworth',\n",
              " 1288: 'Santa Fe Mexican Restaurant',\n",
              " 1267: '44 Mills Kitchen + Tap',\n",
              " 936: \"Culver's\",\n",
              " 1043: 'JUICE BOX',\n",
              " 1120: 'Mecklenburg County ABC Store',\n",
              " 1191: 'Walgreens',\n",
              " 1218: 'Aldi',\n",
              " 1078: 'Cold Stone Creamery',\n",
              " 1283: 'Pepperbox Doughnuts',\n",
              " 1270: \"Domino's\",\n",
              " 967: '2 Gals Kitchen',\n",
              " 1215: \"BJ's\",\n",
              " 1178: 'Chick-fil-A',\n",
              " 970: 'Chicken King',\n",
              " 928: 'Hwy 55 Burgers Shakes & Fries',\n",
              " 922: 'Sycamore Brewing',\n",
              " 1211: 'Smoothie King',\n",
              " 1149: 'Al-Salam Market & Deli',\n",
              " 1189: \"Caffeina's Marketplace Cafe\",\n",
              " 1319: 'La Unica',\n",
              " 1139: 'Walmart Supercenter',\n",
              " 1176: 'Villa Italian Kitchen',\n",
              " 1193: \"Dunkin'\",\n",
              " 1303: 'Pho Me Vietnamese Kitchen',\n",
              " 1134: 'Total Wine & More',\n",
              " 920: 'Big View Diner',\n",
              " 1220: 'Orient Express',\n",
              " 862: \"P.F. Chang's\",\n",
              " 1222: \"Auntie Anne's\",\n",
              " 915: 'Restaurant Depot',\n",
              " 1318: 'Town Burgers',\n",
              " 1263: 'Antojitos Catrachos',\n",
              " 1157: 'Eleven Lakes Brewing Company',\n",
              " 1104: 'Beauregards',\n",
              " 1322: 'Tortilleria Elizabeth',\n",
              " 1323: 'Velvet Taco',\n",
              " 1203: 'Kung Pao Wok',\n",
              " 1207: 'Five Guys',\n",
              " 1103: \"McDonald's\",\n",
              " 974: 'Caribbean Hut',\n",
              " 956: 'Starbucks',\n",
              " 1106: \"Dunkin'\",\n",
              " 948: \"Crafty Burg'r\",\n",
              " 1089: 'Bradshaw Social House',\n",
              " 1038: 'The Southern Gourmet',\n",
              " 1280: 'Gogo Empanadas',\n",
              " 910: 'Bagel Bin',\n",
              " 1029: \"Salsarita's Fresh Mexican Grill \",\n",
              " 879: \"Cheddar's Scratch Kitchen\",\n",
              " 1075: 'TCBY Rosedale Commons',\n",
              " 1047: 'Carolina Beer Temple',\n",
              " 871: 'Flip-a-Lo’s',\n",
              " 1209: 'KFC',\n",
              " 867: 'The Trail House',\n",
              " 1277: 'West End Fresh Seafood Market',\n",
              " 958: \"Anntony's Caribbean Cafe\",\n",
              " 1079: \"Bruegger's Bagels\",\n",
              " 1265: 'Fourth Ward Market',\n",
              " 1272: 'Pokeatery',\n",
              " 1102: 'Carolina Prime Restaurant & Steakhouse',\n",
              " 941: \"Prosciutto's Pizzeria & Pub\",\n",
              " 947: \"Bernardin's Restaurant At Ratcliffe\",\n",
              " 1082: 'Wasabi Cafe',\n",
              " 999: 'Tea Fusion Cafe',\n",
              " 975: \"J'Adore Nail Boutique\",\n",
              " ...}"
            ]
          },
          "metadata": {
            "tags": []
          },
          "execution_count": 22
        }
      ]
    },
    {
      "cell_type": "code",
      "metadata": {
        "colab": {
          "base_uri": "https://localhost:8080/"
        },
        "id": "B-Ab6B4vD_dI",
        "outputId": "480049c8-0b68-43b9-f1bf-f2f18a1ebd9a"
      },
      "source": [
        "nusers = df_review.user_id.nunique()\n",
        "nrestaurants = df_review.business_id.nunique()\n",
        "nusers, nrestaurants"
      ],
      "execution_count": 24,
      "outputs": [
        {
          "output_type": "execute_result",
          "data": {
            "text/plain": [
              "(100965, 4386)"
            ]
          },
          "metadata": {
            "tags": []
          },
          "execution_count": 24
        }
      ]
    },
    {
      "cell_type": "code",
      "metadata": {
        "id": "EpH0uPRbA7av"
      },
      "source": [
        "# df_review.to_csv(\"/content/gdrive/MyDrive/YelpDataset/CsvFiles/review_filtered_transformed_with_title.csv\", index=False)\n",
        "# df_restaurant.to_csv(\"/content/gdrive/MyDrive/YelpDataset/CsvFiles/restaurant_features_transformed_with_title.csv\", index=False)"
      ],
      "execution_count": null,
      "outputs": []
    },
    {
      "cell_type": "markdown",
      "metadata": {
        "id": "R36ncuknbqDa"
      },
      "source": [
        "# Setting up the Model"
      ]
    },
    {
      "cell_type": "markdown",
      "metadata": {
        "id": "1KP3Z8oUbp27"
      },
      "source": [
        "**Train-test split**"
      ]
    },
    {
      "cell_type": "code",
      "metadata": {
        "colab": {
          "base_uri": "https://localhost:8080/"
        },
        "id": "s0b0K3m_B5e7",
        "outputId": "dcc3acd7-2e65-4391-d267-52e1fb44733d"
      },
      "source": [
        "np.random.seed=2017\n",
        "from sklearn.model_selection import train_test_split\n",
        "train_indices, val_indices = train_test_split(range(df_review.shape[0]), train_size=0.8)\n",
        "trdf = df_review.iloc[train_indices]\n",
        "valdf = df_review.iloc[val_indices]\n",
        "trdf.shape, valdf.shape"
      ],
      "execution_count": 17,
      "outputs": [
        {
          "output_type": "execute_result",
          "data": {
            "text/plain": [
              "((253507, 4), (63377, 4))"
            ]
          },
          "metadata": {
            "tags": []
          },
          "execution_count": 17
        }
      ]
    },
    {
      "cell_type": "code",
      "metadata": {
        "colab": {
          "base_uri": "https://localhost:8080/"
        },
        "id": "19JQvjpBCt6w",
        "outputId": "173b5eb1-3234-4867-8177-5799ef714c1c"
      },
      "source": [
        "import tensorflow.keras as keras\n",
        "import tensorflow as tf\n",
        "print(tf.__version__)"
      ],
      "execution_count": 18,
      "outputs": [
        {
          "output_type": "stream",
          "text": [
            "2.4.1\n"
          ],
          "name": "stdout"
        }
      ]
    },
    {
      "cell_type": "code",
      "metadata": {
        "id": "n-bTVi2MCxYn"
      },
      "source": [
        "from tensorflow.keras.layers import Input, Embedding, Add, Dot, Flatten\n",
        "from tensorflow.keras import Model\n",
        "from tensorflow.keras.regularizers import l2\n",
        "from tensorflow.keras.optimizers import Adam"
      ],
      "execution_count": 19,
      "outputs": []
    },
    {
      "cell_type": "markdown",
      "metadata": {
        "id": "84a0HolBcgMj"
      },
      "source": [
        "We first set our hypeparameters, the size of the latent factors or the embeddings, up, and the amount of regularization. You will usually want to fit these hyper-parameters on the validation set."
      ]
    },
    {
      "cell_type": "code",
      "metadata": {
        "id": "tNbEYttQC0rf"
      },
      "source": [
        "L = 100\n",
        "REG=5e-4"
      ],
      "execution_count": 20,
      "outputs": []
    },
    {
      "cell_type": "markdown",
      "metadata": {
        "id": "aOER6w4TcVwQ"
      },
      "source": [
        "We first write a function to return us a bias layer:"
      ]
    },
    {
      "cell_type": "code",
      "metadata": {
        "id": "IQKZf9QyC_Us"
      },
      "source": [
        "\n",
        "def create_bias(name, inp, n_in, reg):\n",
        "    #x = Embedding(n_in, 1, input_length=1, embeddings_regularizer=l2(reg))(inp)\n",
        "    x = Embedding(n_in, 1, input_length=1, name=name)(inp)\n",
        "    return Flatten(name=name+'_flat')(x)"
      ],
      "execution_count": 21,
      "outputs": []
    },
    {
      "cell_type": "markdown",
      "metadata": {
        "id": "a42HjE1ccpvR"
      },
      "source": [
        "Embedding layer..."
      ]
    },
    {
      "cell_type": "code",
      "metadata": {
        "id": "8jvK9cFrDBuW"
      },
      "source": [
        "def embedding_input(name, n_in, n_out, reg):\n",
        "    inp = Input(shape=(1,), dtype='int64', name=name)\n",
        "    return inp, Embedding(n_in, n_out, input_length=1, name=name.split('_')[0]+'_factor', embeddings_regularizer=l2(reg))(inp)"
      ],
      "execution_count": 22,
      "outputs": []
    },
    {
      "cell_type": "markdown",
      "metadata": {
        "id": "HOAUnf-XdWFV"
      },
      "source": [
        "Now we define our embeddings and biases..."
      ]
    },
    {
      "cell_type": "code",
      "metadata": {
        "id": "cOUyC9XlDDpW"
      },
      "source": [
        "user_input, uLmat = embedding_input('user_input', nusers, L, REG)\n",
        "restuarant_input, mLmat = embedding_input('restaurant_input', nrestaurants, L, REG)"
      ],
      "execution_count": 25,
      "outputs": []
    },
    {
      "cell_type": "code",
      "metadata": {
        "id": "qAJTILE0FSIm"
      },
      "source": [
        "user_bias = create_bias('user_bias', user_input, nusers, REG)\n",
        "restaurant_bias = create_bias('restaurant_bias', restuarant_input, nrestaurants, REG)"
      ],
      "execution_count": 26,
      "outputs": []
    },
    {
      "cell_type": "markdown",
      "metadata": {
        "id": "UTkT4hgkdj9D"
      },
      "source": [
        "\n",
        "The embeddings are matrix multiplied together (dot producted together) to get the residual matrix, which is then flattened."
      ]
    },
    {
      "cell_type": "code",
      "metadata": {
        "id": "rZCOxwUFEfMF"
      },
      "source": [
        "residual = Dot(axes=2, name=\"residual\")([uLmat, mLmat])"
      ],
      "execution_count": 28,
      "outputs": []
    },
    {
      "cell_type": "code",
      "metadata": {
        "id": "IBe0hW2zEq7A"
      },
      "source": [
        "residflat = Flatten(name=\"residual_flat\")(residual)"
      ],
      "execution_count": 29,
      "outputs": []
    },
    {
      "cell_type": "markdown",
      "metadata": {
        "id": "BXc0Ce50dw1h"
      },
      "source": [
        "We add the flattened residual and the biases into the linear regression.."
      ]
    },
    {
      "cell_type": "code",
      "metadata": {
        "id": "I3WOwNRLEwAN"
      },
      "source": [
        "regression = Add(name=\"regression\")([user_bias, restaurant_bias, residflat]) "
      ],
      "execution_count": 30,
      "outputs": []
    },
    {
      "cell_type": "code",
      "metadata": {
        "id": "MM3xscxCGJr0"
      },
      "source": [
        "from tensorflow.keras.layers import Activation\n",
        "from tensorflow.keras import backend as K"
      ],
      "execution_count": 31,
      "outputs": []
    },
    {
      "cell_type": "code",
      "metadata": {
        "id": "37HdMQzwF19s"
      },
      "source": [
        "def sigmoid_maker(low, high):\n",
        "    def custom_sigmoid(x):\n",
        "        return K.sigmoid(x)*(high - low) + low #within range\n",
        "    return custom_sigmoid"
      ],
      "execution_count": 32,
      "outputs": []
    },
    {
      "cell_type": "code",
      "metadata": {
        "id": "RvdA4LQVF6LB"
      },
      "source": [
        "cs = sigmoid_maker(0, 5.5)"
      ],
      "execution_count": 33,
      "outputs": []
    },
    {
      "cell_type": "code",
      "metadata": {
        "id": "P-_KVkhGF8lM"
      },
      "source": [
        "output = Activation(cs, name=\"Sigmoid_Range\")(regression)"
      ],
      "execution_count": 34,
      "outputs": []
    },
    {
      "cell_type": "markdown",
      "metadata": {
        "id": "gc41fhpyeg1H"
      },
      "source": [
        "Now we set up the model with the user_ids and restaurant_ids as input, and the output of the sigmoid as output..and ask Keras for a summary..compiling it with Adam and a learning rate of 0.001."
      ]
    },
    {
      "cell_type": "code",
      "metadata": {
        "id": "bPZRald7F_y-"
      },
      "source": [
        "model = Model([user_input, restuarant_input], output)\n",
        "model.compile(Adam(0.001), loss='mse')"
      ],
      "execution_count": 35,
      "outputs": []
    },
    {
      "cell_type": "code",
      "metadata": {
        "colab": {
          "base_uri": "https://localhost:8080/"
        },
        "id": "xF24TV2bGNEz",
        "outputId": "06fa0c98-027c-4426-eb49-899bb668acc2"
      },
      "source": [
        "model.summary()"
      ],
      "execution_count": null,
      "outputs": [
        {
          "output_type": "stream",
          "text": [
            "Model: \"model\"\n",
            "__________________________________________________________________________________________________\n",
            "Layer (type)                    Output Shape         Param #     Connected to                     \n",
            "==================================================================================================\n",
            "user_input (InputLayer)         [(None, 1)]          0                                            \n",
            "__________________________________________________________________________________________________\n",
            "restaurant_input (InputLayer)   [(None, 1)]          0                                            \n",
            "__________________________________________________________________________________________________\n",
            "user_factor (Embedding)         (None, 1, 100)       10096500    user_input[0][0]                 \n",
            "__________________________________________________________________________________________________\n",
            "restaurant_factor (Embedding)   (None, 1, 100)       438600      restaurant_input[0][0]           \n",
            "__________________________________________________________________________________________________\n",
            "user_bias (Embedding)           (None, 1, 1)         100965      user_input[0][0]                 \n",
            "__________________________________________________________________________________________________\n",
            "restaurant_bias (Embedding)     (None, 1, 1)         4386        restaurant_input[0][0]           \n",
            "__________________________________________________________________________________________________\n",
            "residual (Dot)                  (None, 1, 1)         0           user_factor[0][0]                \n",
            "                                                                 restaurant_factor[0][0]          \n",
            "__________________________________________________________________________________________________\n",
            "user_bias_flat (Flatten)        (None, 1)            0           user_bias[0][0]                  \n",
            "__________________________________________________________________________________________________\n",
            "restaurant_bias_flat (Flatten)  (None, 1)            0           restaurant_bias[0][0]            \n",
            "__________________________________________________________________________________________________\n",
            "residual_flat (Flatten)         (None, 1)            0           residual[0][0]                   \n",
            "__________________________________________________________________________________________________\n",
            "regression (Add)                (None, 1)            0           user_bias_flat[0][0]             \n",
            "                                                                 restaurant_bias_flat[0][0]       \n",
            "                                                                 residual_flat[0][0]              \n",
            "__________________________________________________________________________________________________\n",
            "Sigmoid_Range (Activation)      (None, 1)            0           regression[0][0]                 \n",
            "==================================================================================================\n",
            "Total params: 10,640,451\n",
            "Trainable params: 10,640,451\n",
            "Non-trainable params: 0\n",
            "__________________________________________________________________________________________________\n"
          ],
          "name": "stdout"
        }
      ]
    },
    {
      "cell_type": "code",
      "metadata": {
        "colab": {
          "base_uri": "https://localhost:8080/",
          "height": 668
        },
        "id": "Ub154uHqGbDf",
        "outputId": "610691a0-7eda-481f-8a08-ec66096036b2"
      },
      "source": [
        "import pydot\n",
        "from tensorflow.keras.utils import model_to_dot\n",
        "\n",
        "from IPython.display import SVG\n",
        "SVG(model_to_dot(model,  show_shapes=True, show_layer_names=True, dpi=72, rankdir='TB').create_svg())"
      ],
      "execution_count": null,
      "outputs": [
        {
          "output_type": "execute_result",
          "data": {
            "text/plain": [
              "<IPython.core.display.SVG object>"
            ],
            "image/svg+xml": "<svg height=\"470pt\" viewBox=\"0.00 0.00 1022.50 470.00\" width=\"1023pt\" xmlns=\"http://www.w3.org/2000/svg\" xmlns:xlink=\"http://www.w3.org/1999/xlink\">\n<g class=\"graph\" id=\"graph0\" transform=\"scale(1 1) rotate(0) translate(4 466)\">\n<title>G</title>\n<polygon fill=\"#ffffff\" points=\"-4,4 -4,-466 1018.5,-466 1018.5,4 -4,4\" stroke=\"transparent\"/>\n<!-- 139620601355728 -->\n<g class=\"node\" id=\"node1\">\n<title>139620601355728</title>\n<polygon fill=\"none\" points=\"73,-415.5 73,-461.5 361,-461.5 361,-415.5 73,-415.5\" stroke=\"#000000\"/>\n<text fill=\"#000000\" font-family=\"Times,serif\" font-size=\"14.00\" text-anchor=\"middle\" x=\"147.5\" y=\"-434.8\">user_input: InputLayer</text>\n<polyline fill=\"none\" points=\"222,-415.5 222,-461.5 \" stroke=\"#000000\"/>\n<text fill=\"#000000\" font-family=\"Times,serif\" font-size=\"14.00\" text-anchor=\"middle\" x=\"251\" y=\"-446.3\">input:</text>\n<polyline fill=\"none\" points=\"222,-438.5 280,-438.5 \" stroke=\"#000000\"/>\n<text fill=\"#000000\" font-family=\"Times,serif\" font-size=\"14.00\" text-anchor=\"middle\" x=\"251\" y=\"-423.3\">output:</text>\n<polyline fill=\"none\" points=\"280,-415.5 280,-461.5 \" stroke=\"#000000\"/>\n<text fill=\"#000000\" font-family=\"Times,serif\" font-size=\"14.00\" text-anchor=\"middle\" x=\"320.5\" y=\"-446.3\">[(None, 1)]</text>\n<polyline fill=\"none\" points=\"280,-438.5 361,-438.5 \" stroke=\"#000000\"/>\n<text fill=\"#000000\" font-family=\"Times,serif\" font-size=\"14.00\" text-anchor=\"middle\" x=\"320.5\" y=\"-423.3\">[(None, 1)]</text>\n</g>\n<!-- 139620632572944 -->\n<g class=\"node\" id=\"node3\">\n<title>139620632572944</title>\n<polygon fill=\"none\" points=\"152.5,-332.5 152.5,-378.5 467.5,-378.5 467.5,-332.5 152.5,-332.5\" stroke=\"#000000\"/>\n<text fill=\"#000000\" font-family=\"Times,serif\" font-size=\"14.00\" text-anchor=\"middle\" x=\"230\" y=\"-351.8\">user_factor: Embedding</text>\n<polyline fill=\"none\" points=\"307.5,-332.5 307.5,-378.5 \" stroke=\"#000000\"/>\n<text fill=\"#000000\" font-family=\"Times,serif\" font-size=\"14.00\" text-anchor=\"middle\" x=\"336.5\" y=\"-363.3\">input:</text>\n<polyline fill=\"none\" points=\"307.5,-355.5 365.5,-355.5 \" stroke=\"#000000\"/>\n<text fill=\"#000000\" font-family=\"Times,serif\" font-size=\"14.00\" text-anchor=\"middle\" x=\"336.5\" y=\"-340.3\">output:</text>\n<polyline fill=\"none\" points=\"365.5,-332.5 365.5,-378.5 \" stroke=\"#000000\"/>\n<text fill=\"#000000\" font-family=\"Times,serif\" font-size=\"14.00\" text-anchor=\"middle\" x=\"416.5\" y=\"-363.3\">(None, 1)</text>\n<polyline fill=\"none\" points=\"365.5,-355.5 467.5,-355.5 \" stroke=\"#000000\"/>\n<text fill=\"#000000\" font-family=\"Times,serif\" font-size=\"14.00\" text-anchor=\"middle\" x=\"416.5\" y=\"-340.3\">(None, 1, 100)</text>\n</g>\n<!-- 139620601355728&#45;&gt;139620632572944 -->\n<g class=\"edge\" id=\"edge1\">\n<title>139620601355728-&gt;139620632572944</title>\n<path d=\"M242.9057,-415.3799C253.1989,-406.1935 265.1792,-395.5013 276.1444,-385.7152\" fill=\"none\" stroke=\"#000000\"/>\n<polygon fill=\"#000000\" points=\"278.7804,-388.0539 283.9107,-378.784 274.1194,-382.8313 278.7804,-388.0539\" stroke=\"#000000\"/>\n</g>\n<!-- 139619456414992 -->\n<g class=\"node\" id=\"node5\">\n<title>139619456414992</title>\n<polygon fill=\"none\" points=\"0,-249.5 0,-295.5 290,-295.5 290,-249.5 0,-249.5\" stroke=\"#000000\"/>\n<text fill=\"#000000\" font-family=\"Times,serif\" font-size=\"14.00\" text-anchor=\"middle\" x=\"72.5\" y=\"-268.8\">user_bias: Embedding</text>\n<polyline fill=\"none\" points=\"145,-249.5 145,-295.5 \" stroke=\"#000000\"/>\n<text fill=\"#000000\" font-family=\"Times,serif\" font-size=\"14.00\" text-anchor=\"middle\" x=\"174\" y=\"-280.3\">input:</text>\n<polyline fill=\"none\" points=\"145,-272.5 203,-272.5 \" stroke=\"#000000\"/>\n<text fill=\"#000000\" font-family=\"Times,serif\" font-size=\"14.00\" text-anchor=\"middle\" x=\"174\" y=\"-257.3\">output:</text>\n<polyline fill=\"none\" points=\"203,-249.5 203,-295.5 \" stroke=\"#000000\"/>\n<text fill=\"#000000\" font-family=\"Times,serif\" font-size=\"14.00\" text-anchor=\"middle\" x=\"246.5\" y=\"-280.3\">(None, 1)</text>\n<polyline fill=\"none\" points=\"203,-272.5 290,-272.5 \" stroke=\"#000000\"/>\n<text fill=\"#000000\" font-family=\"Times,serif\" font-size=\"14.00\" text-anchor=\"middle\" x=\"246.5\" y=\"-257.3\">(None, 1, 1)</text>\n</g>\n<!-- 139620601355728&#45;&gt;139619456414992 -->\n<g class=\"edge\" id=\"edge3\">\n<title>139620601355728-&gt;139619456414992</title>\n<path d=\"M175.5975,-415.4198C162.716,-405.9511 150.0516,-393.7182 143,-379 132.1013,-356.2521 133.3842,-327.5112 136.9617,-305.6212\" fill=\"none\" stroke=\"#000000\"/>\n<polygon fill=\"#000000\" points=\"140.4029,-306.2595 138.7948,-295.7875 133.5215,-304.9767 140.4029,-306.2595\" stroke=\"#000000\"/>\n</g>\n<!-- 139620584123408 -->\n<g class=\"node\" id=\"node2\">\n<title>139620584123408</title>\n<polygon fill=\"none\" points=\"599.5,-415.5 599.5,-461.5 918.5,-461.5 918.5,-415.5 599.5,-415.5\" stroke=\"#000000\"/>\n<text fill=\"#000000\" font-family=\"Times,serif\" font-size=\"14.00\" text-anchor=\"middle\" x=\"689.5\" y=\"-434.8\">restaurant_input: InputLayer</text>\n<polyline fill=\"none\" points=\"779.5,-415.5 779.5,-461.5 \" stroke=\"#000000\"/>\n<text fill=\"#000000\" font-family=\"Times,serif\" font-size=\"14.00\" text-anchor=\"middle\" x=\"808.5\" y=\"-446.3\">input:</text>\n<polyline fill=\"none\" points=\"779.5,-438.5 837.5,-438.5 \" stroke=\"#000000\"/>\n<text fill=\"#000000\" font-family=\"Times,serif\" font-size=\"14.00\" text-anchor=\"middle\" x=\"808.5\" y=\"-423.3\">output:</text>\n<polyline fill=\"none\" points=\"837.5,-415.5 837.5,-461.5 \" stroke=\"#000000\"/>\n<text fill=\"#000000\" font-family=\"Times,serif\" font-size=\"14.00\" text-anchor=\"middle\" x=\"878\" y=\"-446.3\">[(None, 1)]</text>\n<polyline fill=\"none\" points=\"837.5,-438.5 918.5,-438.5 \" stroke=\"#000000\"/>\n<text fill=\"#000000\" font-family=\"Times,serif\" font-size=\"14.00\" text-anchor=\"middle\" x=\"878\" y=\"-423.3\">[(None, 1)]</text>\n</g>\n<!-- 139619754664976 -->\n<g class=\"node\" id=\"node4\">\n<title>139619754664976</title>\n<polygon fill=\"none\" points=\"486,-332.5 486,-378.5 832,-378.5 832,-332.5 486,-332.5\" stroke=\"#000000\"/>\n<text fill=\"#000000\" font-family=\"Times,serif\" font-size=\"14.00\" text-anchor=\"middle\" x=\"579\" y=\"-351.8\">restaurant_factor: Embedding</text>\n<polyline fill=\"none\" points=\"672,-332.5 672,-378.5 \" stroke=\"#000000\"/>\n<text fill=\"#000000\" font-family=\"Times,serif\" font-size=\"14.00\" text-anchor=\"middle\" x=\"701\" y=\"-363.3\">input:</text>\n<polyline fill=\"none\" points=\"672,-355.5 730,-355.5 \" stroke=\"#000000\"/>\n<text fill=\"#000000\" font-family=\"Times,serif\" font-size=\"14.00\" text-anchor=\"middle\" x=\"701\" y=\"-340.3\">output:</text>\n<polyline fill=\"none\" points=\"730,-332.5 730,-378.5 \" stroke=\"#000000\"/>\n<text fill=\"#000000\" font-family=\"Times,serif\" font-size=\"14.00\" text-anchor=\"middle\" x=\"781\" y=\"-363.3\">(None, 1)</text>\n<polyline fill=\"none\" points=\"730,-355.5 832,-355.5 \" stroke=\"#000000\"/>\n<text fill=\"#000000\" font-family=\"Times,serif\" font-size=\"14.00\" text-anchor=\"middle\" x=\"781\" y=\"-340.3\">(None, 1, 100)</text>\n</g>\n<!-- 139620584123408&#45;&gt;139619754664976 -->\n<g class=\"edge\" id=\"edge2\">\n<title>139620584123408-&gt;139619754664976</title>\n<path d=\"M731.1444,-415.3799C719.969,-406.1043 706.944,-395.2936 695.0608,-385.4304\" fill=\"none\" stroke=\"#000000\"/>\n<polygon fill=\"#000000\" points=\"696.9832,-382.4775 687.053,-378.784 692.5125,-387.8639 696.9832,-382.4775\" stroke=\"#000000\"/>\n</g>\n<!-- 139620630358096 -->\n<g class=\"node\" id=\"node6\">\n<title>139620630358096</title>\n<polygon fill=\"none\" points=\"693.5,-249.5 693.5,-295.5 1014.5,-295.5 1014.5,-249.5 693.5,-249.5\" stroke=\"#000000\"/>\n<text fill=\"#000000\" font-family=\"Times,serif\" font-size=\"14.00\" text-anchor=\"middle\" x=\"781.5\" y=\"-268.8\">restaurant_bias: Embedding</text>\n<polyline fill=\"none\" points=\"869.5,-249.5 869.5,-295.5 \" stroke=\"#000000\"/>\n<text fill=\"#000000\" font-family=\"Times,serif\" font-size=\"14.00\" text-anchor=\"middle\" x=\"898.5\" y=\"-280.3\">input:</text>\n<polyline fill=\"none\" points=\"869.5,-272.5 927.5,-272.5 \" stroke=\"#000000\"/>\n<text fill=\"#000000\" font-family=\"Times,serif\" font-size=\"14.00\" text-anchor=\"middle\" x=\"898.5\" y=\"-257.3\">output:</text>\n<polyline fill=\"none\" points=\"927.5,-249.5 927.5,-295.5 \" stroke=\"#000000\"/>\n<text fill=\"#000000\" font-family=\"Times,serif\" font-size=\"14.00\" text-anchor=\"middle\" x=\"971\" y=\"-280.3\">(None, 1)</text>\n<polyline fill=\"none\" points=\"927.5,-272.5 1014.5,-272.5 \" stroke=\"#000000\"/>\n<text fill=\"#000000\" font-family=\"Times,serif\" font-size=\"14.00\" text-anchor=\"middle\" x=\"971\" y=\"-257.3\">(None, 1, 1)</text>\n</g>\n<!-- 139620584123408&#45;&gt;139620630358096 -->\n<g class=\"edge\" id=\"edge4\">\n<title>139620584123408-&gt;139620630358096</title>\n<path d=\"M804.1535,-415.4554C818.1852,-406.053 832.2522,-393.8525 841,-379 853.9167,-357.0694 856.7484,-328.2088 856.5809,-306.0639\" fill=\"none\" stroke=\"#000000\"/>\n<polygon fill=\"#000000\" points=\"860.0718,-305.6885 856.2889,-295.7921 853.0746,-305.8875 860.0718,-305.6885\" stroke=\"#000000\"/>\n</g>\n<!-- 139619456416336 -->\n<g class=\"node\" id=\"node7\">\n<title>139619456416336</title>\n<polygon fill=\"none\" points=\"318,-249.5 318,-295.5 670,-295.5 670,-249.5 318,-249.5\" stroke=\"#000000\"/>\n<text fill=\"#000000\" font-family=\"Times,serif\" font-size=\"14.00\" text-anchor=\"middle\" x=\"363\" y=\"-268.8\">residual: Dot</text>\n<polyline fill=\"none\" points=\"408,-249.5 408,-295.5 \" stroke=\"#000000\"/>\n<text fill=\"#000000\" font-family=\"Times,serif\" font-size=\"14.00\" text-anchor=\"middle\" x=\"437\" y=\"-280.3\">input:</text>\n<polyline fill=\"none\" points=\"408,-272.5 466,-272.5 \" stroke=\"#000000\"/>\n<text fill=\"#000000\" font-family=\"Times,serif\" font-size=\"14.00\" text-anchor=\"middle\" x=\"437\" y=\"-257.3\">output:</text>\n<polyline fill=\"none\" points=\"466,-249.5 466,-295.5 \" stroke=\"#000000\"/>\n<text fill=\"#000000\" font-family=\"Times,serif\" font-size=\"14.00\" text-anchor=\"middle\" x=\"568\" y=\"-280.3\">[(None, 1, 100), (None, 1, 100)]</text>\n<polyline fill=\"none\" points=\"466,-272.5 670,-272.5 \" stroke=\"#000000\"/>\n<text fill=\"#000000\" font-family=\"Times,serif\" font-size=\"14.00\" text-anchor=\"middle\" x=\"568\" y=\"-257.3\">(None, 1, 1)</text>\n</g>\n<!-- 139620632572944&#45;&gt;139619456416336 -->\n<g class=\"edge\" id=\"edge5\">\n<title>139620632572944-&gt;139619456416336</title>\n<path d=\"M361.2543,-332.3799C383.6904,-322.2592 410.178,-310.311 433.5678,-299.7602\" fill=\"none\" stroke=\"#000000\"/>\n<polygon fill=\"#000000\" points=\"435.0255,-302.9423 442.7018,-295.6399 432.1471,-296.5615 435.0255,-302.9423\" stroke=\"#000000\"/>\n</g>\n<!-- 139619754664976&#45;&gt;139619456416336 -->\n<g class=\"edge\" id=\"edge6\">\n<title>139619754664976-&gt;139619456416336</title>\n<path d=\"M613.0383,-332.3799C593.186,-322.3936 569.7964,-310.6279 549.0287,-300.1811\" fill=\"none\" stroke=\"#000000\"/>\n<polygon fill=\"#000000\" points=\"550.5074,-297.0071 540.0011,-295.6399 547.3617,-303.2605 550.5074,-297.0071\" stroke=\"#000000\"/>\n</g>\n<!-- 139619754666320 -->\n<g class=\"node\" id=\"node8\">\n<title>139619754666320</title>\n<polygon fill=\"none\" points=\"25.5,-166.5 25.5,-212.5 312.5,-212.5 312.5,-166.5 25.5,-166.5\" stroke=\"#000000\"/>\n<text fill=\"#000000\" font-family=\"Times,serif\" font-size=\"14.00\" text-anchor=\"middle\" x=\"96.5\" y=\"-185.8\">user_bias_flat: Flatten</text>\n<polyline fill=\"none\" points=\"167.5,-166.5 167.5,-212.5 \" stroke=\"#000000\"/>\n<text fill=\"#000000\" font-family=\"Times,serif\" font-size=\"14.00\" text-anchor=\"middle\" x=\"196.5\" y=\"-197.3\">input:</text>\n<polyline fill=\"none\" points=\"167.5,-189.5 225.5,-189.5 \" stroke=\"#000000\"/>\n<text fill=\"#000000\" font-family=\"Times,serif\" font-size=\"14.00\" text-anchor=\"middle\" x=\"196.5\" y=\"-174.3\">output:</text>\n<polyline fill=\"none\" points=\"225.5,-166.5 225.5,-212.5 \" stroke=\"#000000\"/>\n<text fill=\"#000000\" font-family=\"Times,serif\" font-size=\"14.00\" text-anchor=\"middle\" x=\"269\" y=\"-197.3\">(None, 1, 1)</text>\n<polyline fill=\"none\" points=\"225.5,-189.5 312.5,-189.5 \" stroke=\"#000000\"/>\n<text fill=\"#000000\" font-family=\"Times,serif\" font-size=\"14.00\" text-anchor=\"middle\" x=\"269\" y=\"-174.3\">(None, 1)</text>\n</g>\n<!-- 139619456414992&#45;&gt;139619754666320 -->\n<g class=\"edge\" id=\"edge7\">\n<title>139619456414992-&gt;139619754666320</title>\n<path d=\"M151.6853,-249.3799C154.0838,-241.0854 156.8371,-231.5633 159.4321,-222.5889\" fill=\"none\" stroke=\"#000000\"/>\n<polygon fill=\"#000000\" points=\"162.8517,-223.3627 162.2673,-212.784 156.1272,-221.4182 162.8517,-223.3627\" stroke=\"#000000\"/>\n</g>\n<!-- 139619456429392 -->\n<g class=\"node\" id=\"node9\">\n<title>139619456429392</title>\n<polygon fill=\"none\" points=\"673,-166.5 673,-212.5 991,-212.5 991,-166.5 673,-166.5\" stroke=\"#000000\"/>\n<text fill=\"#000000\" font-family=\"Times,serif\" font-size=\"14.00\" text-anchor=\"middle\" x=\"759.5\" y=\"-185.8\">restaurant_bias_flat: Flatten</text>\n<polyline fill=\"none\" points=\"846,-166.5 846,-212.5 \" stroke=\"#000000\"/>\n<text fill=\"#000000\" font-family=\"Times,serif\" font-size=\"14.00\" text-anchor=\"middle\" x=\"875\" y=\"-197.3\">input:</text>\n<polyline fill=\"none\" points=\"846,-189.5 904,-189.5 \" stroke=\"#000000\"/>\n<text fill=\"#000000\" font-family=\"Times,serif\" font-size=\"14.00\" text-anchor=\"middle\" x=\"875\" y=\"-174.3\">output:</text>\n<polyline fill=\"none\" points=\"904,-166.5 904,-212.5 \" stroke=\"#000000\"/>\n<text fill=\"#000000\" font-family=\"Times,serif\" font-size=\"14.00\" text-anchor=\"middle\" x=\"947.5\" y=\"-197.3\">(None, 1, 1)</text>\n<polyline fill=\"none\" points=\"904,-189.5 991,-189.5 \" stroke=\"#000000\"/>\n<text fill=\"#000000\" font-family=\"Times,serif\" font-size=\"14.00\" text-anchor=\"middle\" x=\"947.5\" y=\"-174.3\">(None, 1)</text>\n</g>\n<!-- 139620630358096&#45;&gt;139619456429392 -->\n<g class=\"edge\" id=\"edge8\">\n<title>139620630358096-&gt;139619456429392</title>\n<path d=\"M847.8718,-249.3799C845.6732,-241.0854 843.1493,-231.5633 840.7706,-222.5889\" fill=\"none\" stroke=\"#000000\"/>\n<polygon fill=\"#000000\" points=\"844.117,-221.5534 838.1717,-212.784 837.3507,-223.347 844.117,-221.5534\" stroke=\"#000000\"/>\n</g>\n<!-- 139619456114320 -->\n<g class=\"node\" id=\"node10\">\n<title>139619456114320</title>\n<polygon fill=\"none\" points=\"355,-166.5 355,-212.5 633,-212.5 633,-166.5 355,-166.5\" stroke=\"#000000\"/>\n<text fill=\"#000000\" font-family=\"Times,serif\" font-size=\"14.00\" text-anchor=\"middle\" x=\"421.5\" y=\"-185.8\">residual_flat: Flatten</text>\n<polyline fill=\"none\" points=\"488,-166.5 488,-212.5 \" stroke=\"#000000\"/>\n<text fill=\"#000000\" font-family=\"Times,serif\" font-size=\"14.00\" text-anchor=\"middle\" x=\"517\" y=\"-197.3\">input:</text>\n<polyline fill=\"none\" points=\"488,-189.5 546,-189.5 \" stroke=\"#000000\"/>\n<text fill=\"#000000\" font-family=\"Times,serif\" font-size=\"14.00\" text-anchor=\"middle\" x=\"517\" y=\"-174.3\">output:</text>\n<polyline fill=\"none\" points=\"546,-166.5 546,-212.5 \" stroke=\"#000000\"/>\n<text fill=\"#000000\" font-family=\"Times,serif\" font-size=\"14.00\" text-anchor=\"middle\" x=\"589.5\" y=\"-197.3\">(None, 1, 1)</text>\n<polyline fill=\"none\" points=\"546,-189.5 633,-189.5 \" stroke=\"#000000\"/>\n<text fill=\"#000000\" font-family=\"Times,serif\" font-size=\"14.00\" text-anchor=\"middle\" x=\"589.5\" y=\"-174.3\">(None, 1)</text>\n</g>\n<!-- 139619456416336&#45;&gt;139619456114320 -->\n<g class=\"edge\" id=\"edge9\">\n<title>139619456416336-&gt;139619456114320</title>\n<path d=\"M494,-249.3799C494,-241.1745 494,-231.7679 494,-222.8786\" fill=\"none\" stroke=\"#000000\"/>\n<polygon fill=\"#000000\" points=\"497.5001,-222.784 494,-212.784 490.5001,-222.784 497.5001,-222.784\" stroke=\"#000000\"/>\n</g>\n<!-- 139619456558608 -->\n<g class=\"node\" id=\"node11\">\n<title>139619456558608</title>\n<polygon fill=\"none\" points=\"308,-83.5 308,-129.5 680,-129.5 680,-83.5 308,-83.5\" stroke=\"#000000\"/>\n<text fill=\"#000000\" font-family=\"Times,serif\" font-size=\"14.00\" text-anchor=\"middle\" x=\"361.5\" y=\"-102.8\">regression: Add</text>\n<polyline fill=\"none\" points=\"415,-83.5 415,-129.5 \" stroke=\"#000000\"/>\n<text fill=\"#000000\" font-family=\"Times,serif\" font-size=\"14.00\" text-anchor=\"middle\" x=\"444\" y=\"-114.3\">input:</text>\n<polyline fill=\"none\" points=\"415,-106.5 473,-106.5 \" stroke=\"#000000\"/>\n<text fill=\"#000000\" font-family=\"Times,serif\" font-size=\"14.00\" text-anchor=\"middle\" x=\"444\" y=\"-91.3\">output:</text>\n<polyline fill=\"none\" points=\"473,-83.5 473,-129.5 \" stroke=\"#000000\"/>\n<text fill=\"#000000\" font-family=\"Times,serif\" font-size=\"14.00\" text-anchor=\"middle\" x=\"576.5\" y=\"-114.3\">[(None, 1), (None, 1), (None, 1)]</text>\n<polyline fill=\"none\" points=\"473,-106.5 680,-106.5 \" stroke=\"#000000\"/>\n<text fill=\"#000000\" font-family=\"Times,serif\" font-size=\"14.00\" text-anchor=\"middle\" x=\"576.5\" y=\"-91.3\">(None, 1)</text>\n</g>\n<!-- 139619754666320&#45;&gt;139619456558608 -->\n<g class=\"edge\" id=\"edge10\">\n<title>139619754666320-&gt;139619456558608</title>\n<path d=\"M259.099,-166.4901C300.9262,-155.8081 350.7979,-143.0716 393.8071,-132.0877\" fill=\"none\" stroke=\"#000000\"/>\n<polygon fill=\"#000000\" points=\"394.9028,-135.4203 403.7257,-129.5547 393.1706,-128.638 394.9028,-135.4203\" stroke=\"#000000\"/>\n</g>\n<!-- 139619456429392&#45;&gt;139619456558608 -->\n<g class=\"edge\" id=\"edge11\">\n<title>139619456429392-&gt;139619456558608</title>\n<path d=\"M738.297,-166.4901C694.6135,-155.7631 642.4933,-142.9643 597.636,-131.9491\" fill=\"none\" stroke=\"#000000\"/>\n<polygon fill=\"#000000\" points=\"598.4314,-128.5405 587.8853,-129.5547 596.7621,-135.3385 598.4314,-128.5405\" stroke=\"#000000\"/>\n</g>\n<!-- 139619456114320&#45;&gt;139619456558608 -->\n<g class=\"edge\" id=\"edge12\">\n<title>139619456114320-&gt;139619456558608</title>\n<path d=\"M494,-166.3799C494,-158.1745 494,-148.7679 494,-139.8786\" fill=\"none\" stroke=\"#000000\"/>\n<polygon fill=\"#000000\" points=\"497.5001,-139.784 494,-129.784 490.5001,-139.784 497.5001,-139.784\" stroke=\"#000000\"/>\n</g>\n<!-- 139619456167760 -->\n<g class=\"node\" id=\"node12\">\n<title>139619456167760</title>\n<polygon fill=\"none\" points=\"340.5,-.5 340.5,-46.5 647.5,-46.5 647.5,-.5 340.5,-.5\" stroke=\"#000000\"/>\n<text fill=\"#000000\" font-family=\"Times,serif\" font-size=\"14.00\" text-anchor=\"middle\" x=\"429\" y=\"-19.8\">Sigmoid_Range: Activation</text>\n<polyline fill=\"none\" points=\"517.5,-.5 517.5,-46.5 \" stroke=\"#000000\"/>\n<text fill=\"#000000\" font-family=\"Times,serif\" font-size=\"14.00\" text-anchor=\"middle\" x=\"546.5\" y=\"-31.3\">input:</text>\n<polyline fill=\"none\" points=\"517.5,-23.5 575.5,-23.5 \" stroke=\"#000000\"/>\n<text fill=\"#000000\" font-family=\"Times,serif\" font-size=\"14.00\" text-anchor=\"middle\" x=\"546.5\" y=\"-8.3\">output:</text>\n<polyline fill=\"none\" points=\"575.5,-.5 575.5,-46.5 \" stroke=\"#000000\"/>\n<text fill=\"#000000\" font-family=\"Times,serif\" font-size=\"14.00\" text-anchor=\"middle\" x=\"611.5\" y=\"-31.3\">(None, 1)</text>\n<polyline fill=\"none\" points=\"575.5,-23.5 647.5,-23.5 \" stroke=\"#000000\"/>\n<text fill=\"#000000\" font-family=\"Times,serif\" font-size=\"14.00\" text-anchor=\"middle\" x=\"611.5\" y=\"-8.3\">(None, 1)</text>\n</g>\n<!-- 139619456558608&#45;&gt;139619456167760 -->\n<g class=\"edge\" id=\"edge13\">\n<title>139619456558608-&gt;139619456167760</title>\n<path d=\"M494,-83.3799C494,-75.1745 494,-65.7679 494,-56.8786\" fill=\"none\" stroke=\"#000000\"/>\n<polygon fill=\"#000000\" points=\"497.5001,-56.784 494,-46.784 490.5001,-56.784 497.5001,-56.784\" stroke=\"#000000\"/>\n</g>\n</g>\n</svg>"
          },
          "metadata": {
            "tags": []
          },
          "execution_count": 42
        }
      ]
    },
    {
      "cell_type": "markdown",
      "metadata": {
        "id": "MabUOegneuZh"
      },
      "source": [
        "\n",
        "# Training the model"
      ]
    },
    {
      "cell_type": "code",
      "metadata": {
        "id": "wFcMWJTeGsc0"
      },
      "source": [
        "model.optimizer.lr = 0.001 "
      ],
      "execution_count": 36,
      "outputs": []
    },
    {
      "cell_type": "code",
      "metadata": {
        "colab": {
          "base_uri": "https://localhost:8080/"
        },
        "id": "UWFyL7MNGuH8",
        "outputId": "652ab76b-c800-4db1-c748-cd0ba870fd7f"
      },
      "source": [
        "X = trdf.drop(['stars','date'], axis=1)\n",
        "y = trdf['stars']\n",
        "X_val = valdf.drop(['stars','date'], axis=1)\n",
        "y_val = valdf['stars']\n",
        "history_1 = model.fit([trdf['user_id'], trdf['business_id']],y, validation_data=([valdf['user_id'], valdf['business_id']], y_val), epochs=10)"
      ],
      "execution_count": null,
      "outputs": [
        {
          "output_type": "stream",
          "text": [
            "Epoch 1/10\n",
            "7923/7923 [==============================] - 525s 66ms/step - loss: 2.4985 - val_loss: 1.7451\n",
            "Epoch 2/10\n",
            "7923/7923 [==============================] - 523s 66ms/step - loss: 1.6168 - val_loss: 1.5798\n",
            "Epoch 3/10\n",
            "7923/7923 [==============================] - 523s 66ms/step - loss: 1.4338 - val_loss: 1.5320\n",
            "Epoch 4/10\n",
            "7923/7923 [==============================] - 523s 66ms/step - loss: 1.3493 - val_loss: 1.5124\n",
            "Epoch 5/10\n",
            "7923/7923 [==============================] - 524s 66ms/step - loss: 1.2885 - val_loss: 1.5042\n",
            "Epoch 6/10\n",
            "7923/7923 [==============================] - 523s 66ms/step - loss: 1.2325 - val_loss: 1.5013\n",
            "Epoch 7/10\n",
            "7923/7923 [==============================] - 525s 66ms/step - loss: 1.1941 - val_loss: 1.5013\n",
            "Epoch 8/10\n",
            "7923/7923 [==============================] - 522s 66ms/step - loss: 1.1610 - val_loss: 1.5025\n",
            "Epoch 9/10\n",
            "7923/7923 [==============================] - 523s 66ms/step - loss: 1.1223 - val_loss: 1.5062\n",
            "Epoch 10/10\n",
            "7923/7923 [==============================] - 522s 66ms/step - loss: 1.1021 - val_loss: 1.5108\n"
          ],
          "name": "stdout"
        }
      ]
    },
    {
      "cell_type": "code",
      "metadata": {
        "id": "86Y5bJ93IF4H"
      },
      "source": [
        "def plot_loss(history):  \n",
        "  #your code here \n",
        "  plt.rcParams[\"figure.figsize\"] = (10,8)\n",
        "  plt.title(\"Batch normalized model\")\n",
        "  plt.semilogy(history.history['loss'], label='Train Loss', color='#FF9A98', linewidth=1)\n",
        "  plt.semilogy(history.history['val_loss'],  label='Validation Loss', color='#75B594', linewidth=2)\n",
        "  plt.legend()\n",
        "\n",
        "  # Set the axes labels\n",
        "  plt.xlabel('Epochs')\n",
        "  plt.ylabel('MSE Loss')\n",
        "  plt.tight_layout()\n",
        "  plt.legend()\n",
        "  plt.show()"
      ],
      "execution_count": null,
      "outputs": []
    },
    {
      "cell_type": "markdown",
      "metadata": {
        "id": "s3gS1JHDfBnl"
      },
      "source": [
        "## Plot the trajectory of the validation loss"
      ]
    },
    {
      "cell_type": "code",
      "metadata": {
        "colab": {
          "base_uri": "https://localhost:8080/",
          "height": 585
        },
        "id": "ScYfEt5xx_PB",
        "outputId": "11b84bda-2242-425e-871f-8733b7546d13"
      },
      "source": [
        "plot_loss(history_1)"
      ],
      "execution_count": null,
      "outputs": [
        {
          "output_type": "display_data",
          "data": {
            "image/png": "[encoded data removed]",
            "text/plain": [
              "<Figure size 720x576 with 1 Axes>"
            ]
          },
          "metadata": {
            "tags": [],
            "needs_background": "light"
          }
        }
      ]
    },
    {
      "cell_type": "code",
      "metadata": {
        "colab": {
          "base_uri": "https://localhost:8080/",
          "height": 585
        },
        "id": "GKBjxrSAIt95",
        "outputId": "074765a7-fd50-4f30-f483-a148888a7a8e"
      },
      "source": [
        "plot_loss(history_3)"
      ],
      "execution_count": null,
      "outputs": [
        {
          "output_type": "display_data",
          "data": {
            "image/png": "[encoded data removed]",
            "text/plain": [
              "<Figure size 720x576 with 1 Axes>"
            ]
          },
          "metadata": {
            "tags": [],
            "needs_background": "light"
          }
        }
      ]
    },
    {
      "cell_type": "code",
      "metadata": {
        "id": "lnLe7-jpIwRG"
      },
      "source": [
        ""
      ],
      "execution_count": null,
      "outputs": []
    },
    {
      "cell_type": "code",
      "metadata": {
        "colab": {
          "base_uri": "https://localhost:8080/"
        },
        "id": "nqBR_zykmh8B",
        "outputId": "24e50a5e-0eee-4544-e83d-3006d88ff558"
      },
      "source": [
        "callback = tf.keras.callbacks.EarlyStopping(monitor='loss', patience=4, verbose=1)\n",
        "\n",
        "\n",
        "model.optimizer.lr=0.001\n",
        "history_4 = model.fit([trdf['user_id'], trdf['business_id']],y, validation_data=([valdf['user_id'], valdf['business_id']], y_val), epochs=10, callbacks=[callback] )"
      ],
      "execution_count": null,
      "outputs": [
        {
          "output_type": "stream",
          "text": [
            "Epoch 1/10\n",
            "7923/7923 [==============================] - 538s 68ms/step - loss: 1.2431 - val_loss: 1.4948\n",
            "Epoch 2/10\n",
            "7923/7923 [==============================] - 540s 68ms/step - loss: 1.2033 - val_loss: 1.4940\n",
            "Epoch 3/10\n",
            "7923/7923 [==============================] - 541s 68ms/step - loss: 1.1684 - val_loss: 1.4951\n",
            "Epoch 4/10\n",
            "7923/7923 [==============================] - 540s 68ms/step - loss: 1.1374 - val_loss: 1.4979\n",
            "Epoch 5/10\n",
            "7923/7923 [==============================] - 539s 68ms/step - loss: 1.1093 - val_loss: 1.5012\n",
            "Epoch 6/10\n",
            "7923/7923 [==============================] - 544s 69ms/step - loss: 1.0839 - val_loss: 1.5054\n",
            "Epoch 7/10\n",
            "7923/7923 [==============================] - 546s 69ms/step - loss: 1.0603 - val_loss: 1.5097\n",
            "Epoch 8/10\n",
            "7923/7923 [==============================] - 548s 69ms/step - loss: 1.0387 - val_loss: 1.5150\n",
            "Epoch 9/10\n",
            "7923/7923 [==============================] - 546s 69ms/step - loss: 1.0188 - val_loss: 1.5198\n",
            "Epoch 10/10\n",
            "7923/7923 [==============================] - 542s 68ms/step - loss: 1.0005 - val_loss: 1.5260\n"
          ],
          "name": "stdout"
        }
      ]
    },
    {
      "cell_type": "code",
      "metadata": {
        "colab": {
          "base_uri": "https://localhost:8080/",
          "height": 585
        },
        "id": "C1GBY-DDmyKu",
        "outputId": "5c751c05-f0e4-41d6-e27e-e8dea1b49fa3"
      },
      "source": [
        "plot_loss(history_4)"
      ],
      "execution_count": null,
      "outputs": [
        {
          "output_type": "display_data",
          "data": {
            "image/png": "[encoded data removed]",
            "text/plain": [
              "<Figure size 720x576 with 1 Axes>"
            ]
          },
          "metadata": {
            "tags": [],
            "needs_background": "light"
          }
        }
      ]
    },
    {
      "cell_type": "code",
      "metadata": {
        "id": "5IKjnM5MnXQh"
      },
      "source": [
        "history_5 = model.fit([trdf['user_id'], trdf['business_id']],y, validation_data=([valdf['user_id'], valdf['business_id']], y_val), epochs=5)"
      ],
      "execution_count": null,
      "outputs": []
    },
    {
      "cell_type": "code",
      "metadata": {
        "colab": {
          "base_uri": "https://localhost:8080/",
          "height": 167
        },
        "id": "S1UYIj-mm5PD",
        "outputId": "7cac459a-79d8-4461-f6ae-e2bc1123acdf"
      },
      "source": [
        "plot_loss(history_5)"
      ],
      "execution_count": null,
      "outputs": [
        {
          "output_type": "error",
          "ename": "NameError",
          "evalue": "ignored",
          "traceback": [
            "\u001b[0;31m---------------------------------------------------------------------------\u001b[0m",
            "\u001b[0;31mNameError\u001b[0m                                 Traceback (most recent call last)",
            "\u001b[0;32m<ipython-input-61-02a07a541951>\u001b[0m in \u001b[0;36m<module>\u001b[0;34m()\u001b[0m\n\u001b[0;32m----> 1\u001b[0;31m \u001b[0mplot_loss\u001b[0m\u001b[0;34m(\u001b[0m\u001b[0mhistory_5\u001b[0m\u001b[0;34m)\u001b[0m\u001b[0;34m\u001b[0m\u001b[0;34m\u001b[0m\u001b[0m\n\u001b[0m",
            "\u001b[0;31mNameError\u001b[0m: name 'history_5' is not defined"
          ]
        }
      ]
    },
    {
      "cell_type": "code",
      "metadata": {
        "colab": {
          "base_uri": "https://localhost:8080/",
          "height": 202
        },
        "id": "JBG3B0jnoLjS",
        "outputId": "cc219ee1-8fc9-43e6-dacc-795d0184b182"
      },
      "source": [
        "\n",
        "#Saving the model\n",
        "\n",
        "model.save_weights(\"/content/gdrive/MyDrive/cf.h5\")"
      ],
      "execution_count": null,
      "outputs": [
        {
          "output_type": "error",
          "ename": "NameError",
          "evalue": "ignored",
          "traceback": [
            "\u001b[0;31m---------------------------------------------------------------------------\u001b[0m",
            "\u001b[0;31mNameError\u001b[0m                                 Traceback (most recent call last)",
            "\u001b[0;32m<ipython-input-1-8c2f236b1bae>\u001b[0m in \u001b[0;36m<module>\u001b[0;34m()\u001b[0m\n\u001b[1;32m      2\u001b[0m \u001b[0;31m#Saving the model\u001b[0m\u001b[0;34m\u001b[0m\u001b[0;34m\u001b[0m\u001b[0;34m\u001b[0m\u001b[0m\n\u001b[1;32m      3\u001b[0m \u001b[0;34m\u001b[0m\u001b[0m\n\u001b[0;32m----> 4\u001b[0;31m \u001b[0mmodel\u001b[0m\u001b[0;34m.\u001b[0m\u001b[0msave_weights\u001b[0m\u001b[0;34m(\u001b[0m\u001b[0;34m\"/content/gdrive/MyDrive/cf.h5\"\u001b[0m\u001b[0;34m)\u001b[0m\u001b[0;34m\u001b[0m\u001b[0;34m\u001b[0m\u001b[0m\n\u001b[0m",
            "\u001b[0;31mNameError\u001b[0m: name 'model' is not defined"
          ]
        }
      ]
    },
    {
      "cell_type": "code",
      "metadata": {
        "id": "7efwXZpiohhe"
      },
      "source": [
        ""
      ],
      "execution_count": null,
      "outputs": []
    },
    {
      "cell_type": "markdown",
      "metadata": {
        "id": "Yi9W2RQ-fHWN"
      },
      "source": [
        "# New Section"
      ]
    },
    {
      "cell_type": "markdown",
      "metadata": {
        "id": "I7FJPIg5fdVJ"
      },
      "source": [
        "# New Section"
      ]
    },
    {
      "cell_type": "markdown",
      "metadata": {
        "id": "ZjN3ZXFhfzhB"
      },
      "source": [
        "# New Section"
      ]
    },
    {
      "cell_type": "markdown",
      "metadata": {
        "id": "e759U3BLgJkq"
      },
      "source": [
        "# New Section"
      ]
    },
    {
      "cell_type": "markdown",
      "metadata": {
        "id": "IZIXmyKMgfpp"
      },
      "source": [
        "# New Section"
      ]
    },
    {
      "cell_type": "markdown",
      "metadata": {
        "id": "xS9VXKXag1vu"
      },
      "source": [
        "# New Section"
      ]
    },
    {
      "cell_type": "markdown",
      "metadata": {
        "id": "xhdpu45whL0a"
      },
      "source": [
        "# New Section"
      ]
    },
    {
      "cell_type": "markdown",
      "metadata": {
        "id": "q87e1HLGhh3t"
      },
      "source": [
        "# New Section"
      ]
    },
    {
      "cell_type": "markdown",
      "metadata": {
        "id": "U4CTJbtLh37P"
      },
      "source": [
        "# New Section"
      ]
    },
    {
      "cell_type": "markdown",
      "metadata": {
        "id": "4zq7MqW8iN-6"
      },
      "source": [
        "# New Section"
      ]
    },
    {
      "cell_type": "markdown",
      "metadata": {
        "id": "UFR-RYNfikA0"
      },
      "source": [
        "# New Section"
      ]
    },
    {
      "cell_type": "markdown",
      "metadata": {
        "id": "bkXL_xi6i6Ed"
      },
      "source": [
        "# New Section"
      ]
    },
    {
      "cell_type": "markdown",
      "metadata": {
        "id": "xLwIqYrHjQH5"
      },
      "source": [
        "# New Section"
      ]
    },
    {
      "cell_type": "markdown",
      "metadata": {
        "id": "O6vaSrjxjmKo"
      },
      "source": [
        "# New Section"
      ]
    },
    {
      "cell_type": "markdown",
      "metadata": {
        "id": "6IOHGOmpj8O4"
      },
      "source": [
        "# New Section"
      ]
    },
    {
      "cell_type": "markdown",
      "metadata": {
        "id": "E9PuYs3YkSRh"
      },
      "source": [
        "# New Section"
      ]
    },
    {
      "cell_type": "markdown",
      "metadata": {
        "id": "eOMaCb1PkoTs"
      },
      "source": [
        "# New Section"
      ]
    },
    {
      "cell_type": "markdown",
      "metadata": {
        "id": "SUnfY5ZUk-YE"
      },
      "source": [
        "# New Section"
      ]
    },
    {
      "cell_type": "markdown",
      "metadata": {
        "id": "iypGOm6dlUcu"
      },
      "source": [
        "# New Section"
      ]
    },
    {
      "cell_type": "markdown",
      "metadata": {
        "id": "FxoOE-Silqxp"
      },
      "source": [
        "# New Section"
      ]
    },
    {
      "cell_type": "markdown",
      "metadata": {
        "id": "EFFgyNhImA1e"
      },
      "source": [
        "# New Section"
      ]
    },
    {
      "cell_type": "markdown",
      "metadata": {
        "id": "1PZnSqfwmW5t"
      },
      "source": [
        "# New Section"
      ]
    },
    {
      "cell_type": "markdown",
      "metadata": {
        "id": "6J8i4rnNms9j"
      },
      "source": [
        "# New Section"
      ]
    },
    {
      "cell_type": "markdown",
      "metadata": {
        "id": "rpcTx77lnDCA"
      },
      "source": [
        "# New Section"
      ]
    },
    {
      "cell_type": "markdown",
      "metadata": {
        "id": "ItO8beE4nZNm"
      },
      "source": [
        "# New Section"
      ]
    },
    {
      "cell_type": "markdown",
      "metadata": {
        "id": "qNcf-O2bnvRv"
      },
      "source": [
        "# New Section"
      ]
    },
    {
      "cell_type": "markdown",
      "metadata": {
        "id": "3vNvM4TuoFU_"
      },
      "source": [
        "# New Section"
      ]
    },
    {
      "cell_type": "markdown",
      "metadata": {
        "id": "VqGph1qmobY8"
      },
      "source": [
        "# New Section"
      ]
    },
    {
      "cell_type": "markdown",
      "metadata": {
        "id": "ogNpvCRxoxtq"
      },
      "source": [
        "# New Section"
      ]
    },
    {
      "cell_type": "markdown",
      "metadata": {
        "id": "aKjV9vBKpHy7"
      },
      "source": [
        "# New Section"
      ]
    },
    {
      "cell_type": "markdown",
      "metadata": {
        "id": "XBQ1Mn7ypd3T"
      },
      "source": [
        "# New Section"
      ]
    },
    {
      "cell_type": "markdown",
      "metadata": {
        "id": "CIfYp7zopz8p"
      },
      "source": [
        "# New Section"
      ]
    },
    {
      "cell_type": "markdown",
      "metadata": {
        "id": "4ZC2FJdQqKAK"
      },
      "source": [
        "# New Section"
      ]
    },
    {
      "cell_type": "markdown",
      "metadata": {
        "id": "g-blzn_PqgEY"
      },
      "source": [
        "# New Section"
      ]
    },
    {
      "cell_type": "markdown",
      "metadata": {
        "id": "MX2H4zf4q2I2"
      },
      "source": [
        "# New Section"
      ]
    },
    {
      "cell_type": "markdown",
      "metadata": {
        "id": "vxYD3RN2rMLz"
      },
      "source": [
        "# New Section"
      ]
    },
    {
      "cell_type": "markdown",
      "metadata": {
        "id": "gu9RzkhSriPA"
      },
      "source": [
        "# New Section"
      ]
    },
    {
      "cell_type": "markdown",
      "metadata": {
        "id": "EZmDIyu2r4y9"
      },
      "source": [
        "# New Section"
      ]
    },
    {
      "cell_type": "markdown",
      "metadata": {
        "id": "XBHN3wuYsO1r"
      },
      "source": [
        "# New Section"
      ]
    },
    {
      "cell_type": "markdown",
      "metadata": {
        "id": "vCWd48E8sk4s"
      },
      "source": [
        "# New Section"
      ]
    },
    {
      "cell_type": "markdown",
      "metadata": {
        "id": "Gpk7QLngs676"
      },
      "source": [
        "# New Section"
      ]
    },
    {
      "cell_type": "markdown",
      "metadata": {
        "id": "qh64XgSJtRAq"
      },
      "source": [
        "# New Section"
      ]
    },
    {
      "cell_type": "markdown",
      "metadata": {
        "id": "v1Hf0664tnGD"
      },
      "source": [
        "# New Section"
      ]
    },
    {
      "cell_type": "markdown",
      "metadata": {
        "id": "WzRFWw7rt9Jn"
      },
      "source": [
        "# New Section"
      ]
    },
    {
      "cell_type": "markdown",
      "metadata": {
        "id": "qPlsd73quTNE"
      },
      "source": [
        "# New Section"
      ]
    },
    {
      "cell_type": "markdown",
      "metadata": {
        "id": "dWkdLQN3upQS"
      },
      "source": [
        "# New Section"
      ]
    },
    {
      "cell_type": "markdown",
      "metadata": {
        "id": "1HNL7zoLu_jc"
      },
      "source": [
        "# New Section"
      ]
    },
    {
      "cell_type": "markdown",
      "metadata": {
        "id": "g7mxSWpavVpX"
      },
      "source": [
        "# New Section"
      ]
    },
    {
      "cell_type": "markdown",
      "metadata": {
        "id": "dPMNmgRVvrso"
      },
      "source": [
        "# New Section"
      ]
    },
    {
      "cell_type": "markdown",
      "metadata": {
        "id": "ufWubPaswBxH"
      },
      "source": [
        "# New Section"
      ]
    },
    {
      "cell_type": "markdown",
      "metadata": {
        "id": "Aw-6-VX2wX1e"
      },
      "source": [
        "# New Section"
      ]
    },
    {
      "cell_type": "markdown",
      "metadata": {
        "id": "CVr4SlqMwt7B"
      },
      "source": [
        "# New Section"
      ]
    },
    {
      "cell_type": "markdown",
      "metadata": {
        "id": "BDVST2JpxD_C"
      },
      "source": [
        "# New Section"
      ]
    },
    {
      "cell_type": "markdown",
      "metadata": {
        "id": "71dtBdo9xaD6"
      },
      "source": [
        "# New Section"
      ]
    },
    {
      "cell_type": "markdown",
      "metadata": {
        "id": "Plq0QaFbxwIB"
      },
      "source": [
        "# New Section"
      ]
    },
    {
      "cell_type": "markdown",
      "metadata": {
        "id": "-2dgXlKFyGLf"
      },
      "source": [
        "# New Section"
      ]
    },
    {
      "cell_type": "markdown",
      "metadata": {
        "id": "wxAiA4KBycPa"
      },
      "source": [
        "# New Section"
      ]
    },
    {
      "cell_type": "markdown",
      "metadata": {
        "id": "UN3sj0RRyyTH"
      },
      "source": [
        "# New Section"
      ]
    },
    {
      "cell_type": "markdown",
      "metadata": {
        "id": "vxDxzt8QzIYD"
      },
      "source": [
        "# New Section"
      ]
    },
    {
      "cell_type": "markdown",
      "metadata": {
        "id": "3n80NJ5Bzeb9"
      },
      "source": [
        "# New Section"
      ]
    },
    {
      "cell_type": "markdown",
      "metadata": {
        "id": "jjIJtPlBz0gl"
      },
      "source": [
        "# New Section"
      ]
    },
    {
      "cell_type": "markdown",
      "metadata": {
        "id": "QC868TZI0Kjb"
      },
      "source": [
        "# New Section"
      ]
    },
    {
      "cell_type": "markdown",
      "metadata": {
        "id": "FSx7syDX0glP"
      },
      "source": [
        "# New Section"
      ]
    },
    {
      "cell_type": "markdown",
      "metadata": {
        "id": "GBOajBXj02l_"
      },
      "source": [
        "# New Section"
      ]
    },
    {
      "cell_type": "markdown",
      "metadata": {
        "id": "gCW9Ks5C1Mp2"
      },
      "source": [
        "# New Section"
      ]
    },
    {
      "cell_type": "markdown",
      "metadata": {
        "id": "uctHSTR51itw"
      },
      "source": [
        "# New Section"
      ]
    },
    {
      "cell_type": "markdown",
      "metadata": {
        "id": "9CsKI6f314vW"
      },
      "source": [
        "# New Section"
      ]
    },
    {
      "cell_type": "markdown",
      "metadata": {
        "id": "W7_vj3Ah2OyP"
      },
      "source": [
        "# New Section"
      ]
    },
    {
      "cell_type": "markdown",
      "metadata": {
        "id": "derL8wpT2kz_"
      },
      "source": [
        "# New Section"
      ]
    },
    {
      "cell_type": "markdown",
      "metadata": {
        "id": "G4flPmIM263L"
      },
      "source": [
        "# New Section"
      ]
    },
    {
      "cell_type": "markdown",
      "metadata": {
        "id": "uYoB5A-H3Q6I"
      },
      "source": [
        "# New Section"
      ]
    },
    {
      "cell_type": "markdown",
      "metadata": {
        "id": "r3yDJGpi3nCX"
      },
      "source": [
        "# New Section"
      ]
    },
    {
      "cell_type": "markdown",
      "metadata": {
        "id": "n0ygbluE39HZ"
      },
      "source": [
        "# New Section"
      ]
    },
    {
      "cell_type": "markdown",
      "metadata": {
        "id": "8Vr47hhv4TMS"
      },
      "source": [
        "# New Section"
      ]
    },
    {
      "cell_type": "code",
      "metadata": {
        "id": "aJkyCfAko3fy"
      },
      "source": [
        ""
      ],
      "execution_count": null,
      "outputs": []
    },
    {
      "cell_type": "code",
      "metadata": {
        "id": "Js0kxE8DpNeK"
      },
      "source": [
        ""
      ],
      "execution_count": null,
      "outputs": []
    },
    {
      "cell_type": "code",
      "metadata": {
        "id": "PolOKIfrpjcd"
      },
      "source": [
        ""
      ],
      "execution_count": null,
      "outputs": []
    },
    {
      "cell_type": "code",
      "metadata": {
        "id": "-ejXHSjhp5aw"
      },
      "source": [
        ""
      ],
      "execution_count": null,
      "outputs": []
    },
    {
      "cell_type": "code",
      "metadata": {
        "id": "KBUt8WL5qPZB"
      },
      "source": [
        ""
      ],
      "execution_count": null,
      "outputs": []
    },
    {
      "cell_type": "code",
      "metadata": {
        "id": "yXgFH5RkqlXR"
      },
      "source": [
        ""
      ],
      "execution_count": null,
      "outputs": []
    },
    {
      "cell_type": "code",
      "metadata": {
        "id": "6l01Z22Bq7Vi"
      },
      "source": [
        ""
      ],
      "execution_count": null,
      "outputs": []
    },
    {
      "cell_type": "code",
      "metadata": {
        "id": "--ABqtRNrRTx"
      },
      "source": [
        ""
      ],
      "execution_count": null,
      "outputs": []
    },
    {
      "cell_type": "code",
      "metadata": {
        "id": "DbamWN0HrnSE"
      },
      "source": [
        ""
      ],
      "execution_count": null,
      "outputs": []
    },
    {
      "cell_type": "code",
      "metadata": {
        "id": "qCg_oYa3r9QR"
      },
      "source": [
        ""
      ],
      "execution_count": null,
      "outputs": []
    },
    {
      "cell_type": "code",
      "metadata": {
        "id": "XoFJY5epsTOk"
      },
      "source": [
        ""
      ],
      "execution_count": null,
      "outputs": []
    },
    {
      "cell_type": "code",
      "metadata": {
        "id": "ZhRXpusRspMz"
      },
      "source": [
        ""
      ],
      "execution_count": null,
      "outputs": []
    },
    {
      "cell_type": "code",
      "metadata": {
        "id": "18qK7QZrs_LE"
      },
      "source": [
        ""
      ],
      "execution_count": null,
      "outputs": []
    },
    {
      "cell_type": "code",
      "metadata": {
        "id": "cYERNYBKtVJR"
      },
      "source": [
        ""
      ],
      "execution_count": null,
      "outputs": []
    },
    {
      "cell_type": "code",
      "metadata": {
        "id": "r1KAUzIWtrHh"
      },
      "source": [
        ""
      ],
      "execution_count": null,
      "outputs": []
    },
    {
      "cell_type": "code",
      "metadata": {
        "id": "AEe4HNBWuBFx"
      },
      "source": [
        ""
      ],
      "execution_count": null,
      "outputs": []
    },
    {
      "cell_type": "code",
      "metadata": {
        "id": "1-NwquYHuXED"
      },
      "source": [
        ""
      ],
      "execution_count": null,
      "outputs": []
    },
    {
      "cell_type": "code",
      "metadata": {
        "id": "BPviuPw4utCS"
      },
      "source": [
        ""
      ],
      "execution_count": null,
      "outputs": []
    },
    {
      "cell_type": "code",
      "metadata": {
        "id": "0b69Pr7QvDAi"
      },
      "source": [
        ""
      ],
      "execution_count": null,
      "outputs": []
    },
    {
      "cell_type": "code",
      "metadata": {
        "id": "p5QDRRSFvY-2"
      },
      "source": [
        ""
      ],
      "execution_count": null,
      "outputs": []
    },
    {
      "cell_type": "code",
      "metadata": {
        "id": "ee31ytdcvu9D"
      },
      "source": [
        ""
      ],
      "execution_count": null,
      "outputs": []
    },
    {
      "cell_type": "code",
      "metadata": {
        "id": "4N3qHd8ewE7Y"
      },
      "source": [
        ""
      ],
      "execution_count": null,
      "outputs": []
    },
    {
      "cell_type": "code",
      "metadata": {
        "id": "d8dh3RMrwa5m"
      },
      "source": [
        ""
      ],
      "execution_count": null,
      "outputs": []
    },
    {
      "cell_type": "code",
      "metadata": {
        "id": "nzb98ykiww3y"
      },
      "source": [
        ""
      ],
      "execution_count": null,
      "outputs": []
    },
    {
      "cell_type": "code",
      "metadata": {
        "id": "z_fFREZMxG2E"
      },
      "source": [
        ""
      ],
      "execution_count": null,
      "outputs": []
    },
    {
      "cell_type": "code",
      "metadata": {
        "id": "9MDIQuEhxc0b"
      },
      "source": [
        ""
      ],
      "execution_count": null,
      "outputs": []
    },
    {
      "cell_type": "code",
      "metadata": {
        "id": "7mU7Xkm4xyyr"
      },
      "source": [
        ""
      ],
      "execution_count": null,
      "outputs": []
    },
    {
      "cell_type": "code",
      "metadata": {
        "id": "qpdvKBD_yIw7"
      },
      "source": [
        ""
      ],
      "execution_count": null,
      "outputs": []
    },
    {
      "cell_type": "code",
      "metadata": {
        "id": "EaCryD7KyevL"
      },
      "source": [
        ""
      ],
      "execution_count": null,
      "outputs": []
    },
    {
      "cell_type": "code",
      "metadata": {
        "id": "KOYg_WDQy0tb"
      },
      "source": [
        ""
      ],
      "execution_count": null,
      "outputs": []
    },
    {
      "cell_type": "code",
      "metadata": {
        "id": "MNNm-6SDzKrs"
      },
      "source": [
        ""
      ],
      "execution_count": null,
      "outputs": []
    },
    {
      "cell_type": "code",
      "metadata": {
        "id": "7qqmOi9MzgqA"
      },
      "source": [
        ""
      ],
      "execution_count": null,
      "outputs": []
    },
    {
      "cell_type": "code",
      "metadata": {
        "id": "T3zvaQP1z2oO"
      },
      "source": [
        ""
      ],
      "execution_count": null,
      "outputs": []
    },
    {
      "cell_type": "code",
      "metadata": {
        "id": "ibaBQZFK0Mme"
      },
      "source": [
        ""
      ],
      "execution_count": null,
      "outputs": []
    },
    {
      "cell_type": "code",
      "metadata": {
        "id": "1eZAotx00ik1"
      },
      "source": [
        ""
      ],
      "execution_count": null,
      "outputs": []
    },
    {
      "cell_type": "code",
      "metadata": {
        "id": "XTKFiLFj04jF"
      },
      "source": [
        ""
      ],
      "execution_count": null,
      "outputs": []
    },
    {
      "cell_type": "code",
      "metadata": {
        "id": "Ci3RmzcI1OhW"
      },
      "source": [
        ""
      ],
      "execution_count": null,
      "outputs": []
    },
    {
      "cell_type": "code",
      "metadata": {
        "id": "Ye2oDgpB1kfl"
      },
      "source": [
        ""
      ],
      "execution_count": null,
      "outputs": []
    },
    {
      "cell_type": "code",
      "metadata": {
        "id": "5Ukt5uP216d1"
      },
      "source": [
        ""
      ],
      "execution_count": null,
      "outputs": []
    },
    {
      "cell_type": "code",
      "metadata": {
        "id": "UZCpdiVz2QcK"
      },
      "source": [
        ""
      ],
      "execution_count": null,
      "outputs": []
    },
    {
      "cell_type": "code",
      "metadata": {
        "id": "VELdG9wt2maa"
      },
      "source": [
        ""
      ],
      "execution_count": null,
      "outputs": []
    },
    {
      "cell_type": "code",
      "metadata": {
        "id": "8kusAY-U28Yq"
      },
      "source": [
        ""
      ],
      "execution_count": null,
      "outputs": []
    },
    {
      "cell_type": "code",
      "metadata": {
        "id": "qyp8MwbK3SW5"
      },
      "source": [
        ""
      ],
      "execution_count": null,
      "outputs": []
    },
    {
      "cell_type": "code",
      "metadata": {
        "id": "HaKKip2i3oVK"
      },
      "source": [
        ""
      ],
      "execution_count": null,
      "outputs": []
    },
    {
      "cell_type": "code",
      "metadata": {
        "id": "lhJsb0ne3-Td"
      },
      "source": [
        ""
      ],
      "execution_count": null,
      "outputs": []
    },
    {
      "cell_type": "code",
      "metadata": {
        "id": "Dtj-akNa4URs"
      },
      "source": [
        ""
      ],
      "execution_count": null,
      "outputs": []
    },
    {
      "cell_type": "code",
      "metadata": {
        "id": "nbCZV3dY4qP_"
      },
      "source": [
        ""
      ],
      "execution_count": null,
      "outputs": []
    },
    {
      "cell_type": "code",
      "metadata": {
        "id": "4JnCQu345AOM"
      },
      "source": [
        ""
      ],
      "execution_count": null,
      "outputs": []
    },
    {
      "cell_type": "code",
      "metadata": {
        "id": "ZWKBiYxC5WMj"
      },
      "source": [
        ""
      ],
      "execution_count": null,
      "outputs": []
    },
    {
      "cell_type": "code",
      "metadata": {
        "id": "VMbanO6c5sKu"
      },
      "source": [
        ""
      ],
      "execution_count": null,
      "outputs": []
    },
    {
      "cell_type": "code",
      "metadata": {
        "id": "gYdtcOW16CI8"
      },
      "source": [
        ""
      ],
      "execution_count": null,
      "outputs": []
    },
    {
      "cell_type": "code",
      "metadata": {
        "id": "OUAD4IsI6YHU"
      },
      "source": [
        ""
      ],
      "execution_count": null,
      "outputs": []
    },
    {
      "cell_type": "code",
      "metadata": {
        "id": "CKXHv4hS6uFj"
      },
      "source": [
        ""
      ],
      "execution_count": null,
      "outputs": []
    },
    {
      "cell_type": "code",
      "metadata": {
        "id": "Zi_ZeA0S7ED2"
      },
      "source": [
        ""
      ],
      "execution_count": null,
      "outputs": []
    },
    {
      "cell_type": "code",
      "metadata": {
        "id": "hMrK18wk7aCF"
      },
      "source": [
        ""
      ],
      "execution_count": null,
      "outputs": []
    },
    {
      "cell_type": "code",
      "metadata": {
        "id": "2K52m2o27wAT"
      },
      "source": [
        ""
      ],
      "execution_count": null,
      "outputs": []
    },
    {
      "cell_type": "code",
      "metadata": {
        "id": "WVmTu9Bc8F-h"
      },
      "source": [
        ""
      ],
      "execution_count": null,
      "outputs": []
    },
    {
      "cell_type": "code",
      "metadata": {
        "id": "VslawKHC8b81"
      },
      "source": [
        ""
      ],
      "execution_count": null,
      "outputs": []
    },
    {
      "cell_type": "code",
      "metadata": {
        "id": "esV0H7dJ8x7E"
      },
      "source": [
        ""
      ],
      "execution_count": null,
      "outputs": []
    },
    {
      "cell_type": "code",
      "metadata": {
        "id": "l1yNHmUO9H5V"
      },
      "source": [
        ""
      ],
      "execution_count": null,
      "outputs": []
    },
    {
      "cell_type": "code",
      "metadata": {
        "id": "QeN2dUlK9d3l"
      },
      "source": [
        ""
      ],
      "execution_count": null,
      "outputs": []
    },
    {
      "cell_type": "code",
      "metadata": {
        "id": "Nsu_BJ7O9z1y"
      },
      "source": [
        ""
      ],
      "execution_count": null,
      "outputs": []
    },
    {
      "cell_type": "code",
      "metadata": {
        "id": "h6z2BUWe-J0F"
      },
      "source": [
        ""
      ],
      "execution_count": null,
      "outputs": []
    },
    {
      "cell_type": "code",
      "metadata": {
        "id": "7UFgCgJg-fyY"
      },
      "source": [
        ""
      ],
      "execution_count": null,
      "outputs": []
    },
    {
      "cell_type": "code",
      "metadata": {
        "id": "3kitFdos-1wk"
      },
      "source": [
        ""
      ],
      "execution_count": null,
      "outputs": []
    },
    {
      "cell_type": "code",
      "metadata": {
        "id": "LVVh1G4i_Lu1"
      },
      "source": [
        ""
      ],
      "execution_count": null,
      "outputs": []
    },
    {
      "cell_type": "code",
      "metadata": {
        "id": "QjEH_ul8_htE"
      },
      "source": [
        ""
      ],
      "execution_count": null,
      "outputs": []
    },
    {
      "cell_type": "code",
      "metadata": {
        "id": "93hArWzG_3rT"
      },
      "source": [
        ""
      ],
      "execution_count": null,
      "outputs": []
    },
    {
      "cell_type": "code",
      "metadata": {
        "id": "x3VzxgeiANpl"
      },
      "source": [
        ""
      ],
      "execution_count": null,
      "outputs": []
    },
    {
      "cell_type": "code",
      "metadata": {
        "id": "3AR_Arh9Ajn1"
      },
      "source": [
        ""
      ],
      "execution_count": null,
      "outputs": []
    },
    {
      "cell_type": "code",
      "metadata": {
        "id": "SNyWQ0ToA5mE"
      },
      "source": [
        ""
      ],
      "execution_count": null,
      "outputs": []
    },
    {
      "cell_type": "code",
      "metadata": {
        "id": "VpaUdnD5BPkV"
      },
      "source": [
        ""
      ],
      "execution_count": null,
      "outputs": []
    },
    {
      "cell_type": "code",
      "metadata": {
        "id": "_NZeSEkCBlik"
      },
      "source": [
        ""
      ],
      "execution_count": null,
      "outputs": []
    },
    {
      "cell_type": "code",
      "metadata": {
        "id": "hTZ8miTsB7g2"
      },
      "source": [
        ""
      ],
      "execution_count": null,
      "outputs": []
    },
    {
      "cell_type": "code",
      "metadata": {
        "id": "XC-t19KKCRfH"
      },
      "source": [
        ""
      ],
      "execution_count": null,
      "outputs": []
    },
    {
      "cell_type": "code",
      "metadata": {
        "id": "dWaPWm8rCnda"
      },
      "source": [
        ""
      ],
      "execution_count": null,
      "outputs": []
    },
    {
      "cell_type": "code",
      "metadata": {
        "id": "kqBUcw0cC9bo"
      },
      "source": [
        ""
      ],
      "execution_count": null,
      "outputs": []
    },
    {
      "cell_type": "code",
      "metadata": {
        "id": "hILT-JBODTZ6"
      },
      "source": [
        ""
      ],
      "execution_count": null,
      "outputs": []
    },
    {
      "cell_type": "code",
      "metadata": {
        "id": "v24ZS5VrDpYH"
      },
      "source": [
        ""
      ],
      "execution_count": null,
      "outputs": []
    },
    {
      "cell_type": "code",
      "metadata": {
        "id": "OlPFGQSaD_WZ"
      },
      "source": [
        ""
      ],
      "execution_count": null,
      "outputs": []
    },
    {
      "cell_type": "code",
      "metadata": {
        "id": "SdMcxQizEVUo"
      },
      "source": [
        ""
      ],
      "execution_count": null,
      "outputs": []
    },
    {
      "cell_type": "code",
      "metadata": {
        "id": "vszUruRrErS3"
      },
      "source": [
        ""
      ],
      "execution_count": null,
      "outputs": []
    },
    {
      "cell_type": "code",
      "metadata": {
        "id": "p7VBHtiSFBRH"
      },
      "source": [
        ""
      ],
      "execution_count": null,
      "outputs": []
    },
    {
      "cell_type": "code",
      "metadata": {
        "id": "LPnZvBcfFXPd"
      },
      "source": [
        ""
      ],
      "execution_count": null,
      "outputs": []
    },
    {
      "cell_type": "code",
      "metadata": {
        "id": "01_8WOU5FtNr"
      },
      "source": [
        ""
      ],
      "execution_count": null,
      "outputs": []
    },
    {
      "cell_type": "code",
      "metadata": {
        "id": "sup94620GDL6"
      },
      "source": [
        ""
      ],
      "execution_count": null,
      "outputs": []
    },
    {
      "cell_type": "code",
      "metadata": {
        "id": "k0QLj9DtGZKJ"
      },
      "source": [
        ""
      ],
      "execution_count": null,
      "outputs": []
    },
    {
      "cell_type": "code",
      "metadata": {
        "id": "1nJIlp0LGvIc"
      },
      "source": [
        ""
      ],
      "execution_count": null,
      "outputs": []
    },
    {
      "cell_type": "code",
      "metadata": {
        "id": "42Au48pjHFGr"
      },
      "source": [
        ""
      ],
      "execution_count": null,
      "outputs": []
    },
    {
      "cell_type": "code",
      "metadata": {
        "id": "E0JIzv8pHbE5"
      },
      "source": [
        ""
      ],
      "execution_count": null,
      "outputs": []
    },
    {
      "cell_type": "code",
      "metadata": {
        "id": "_ZHGlwb2HxDN"
      },
      "source": [
        ""
      ],
      "execution_count": null,
      "outputs": []
    },
    {
      "cell_type": "code",
      "metadata": {
        "id": "kSwLoBbrIHBh"
      },
      "source": [
        ""
      ],
      "execution_count": null,
      "outputs": []
    },
    {
      "cell_type": "code",
      "metadata": {
        "id": "fRtOgZ2CIc_r"
      },
      "source": [
        ""
      ],
      "execution_count": null,
      "outputs": []
    },
    {
      "cell_type": "code",
      "metadata": {
        "id": "b_gqddz5Iy-A"
      },
      "source": [
        ""
      ],
      "execution_count": null,
      "outputs": []
    },
    {
      "cell_type": "code",
      "metadata": {
        "id": "W-x2RBDAJI8S"
      },
      "source": [
        ""
      ],
      "execution_count": null,
      "outputs": []
    },
    {
      "cell_type": "code",
      "metadata": {
        "id": "aursizqjJe6f"
      },
      "source": [
        ""
      ],
      "execution_count": null,
      "outputs": []
    },
    {
      "cell_type": "code",
      "metadata": {
        "id": "EEuQRx-dJ04z"
      },
      "source": [
        ""
      ],
      "execution_count": null,
      "outputs": []
    },
    {
      "cell_type": "code",
      "metadata": {
        "id": "KnTODO36KK2_"
      },
      "source": [
        ""
      ],
      "execution_count": null,
      "outputs": []
    },
    {
      "cell_type": "code",
      "metadata": {
        "id": "48uSuJ8qKg1O"
      },
      "source": [
        ""
      ],
      "execution_count": null,
      "outputs": []
    },
    {
      "cell_type": "code",
      "metadata": {
        "id": "dEKfbyzFK2zf"
      },
      "source": [
        ""
      ],
      "execution_count": null,
      "outputs": []
    },
    {
      "cell_type": "code",
      "metadata": {
        "id": "GYX-Z6PnLMxv"
      },
      "source": [
        ""
      ],
      "execution_count": null,
      "outputs": []
    },
    {
      "cell_type": "code",
      "metadata": {
        "id": "KTbjgqR8Liv-"
      },
      "source": [
        ""
      ],
      "execution_count": null,
      "outputs": []
    },
    {
      "cell_type": "code",
      "metadata": {
        "id": "GU2MoTEaL4uO"
      },
      "source": [
        ""
      ],
      "execution_count": null,
      "outputs": []
    },
    {
      "cell_type": "code",
      "metadata": {
        "id": "L2i03HkmMOsi"
      },
      "source": [
        ""
      ],
      "execution_count": null,
      "outputs": []
    },
    {
      "cell_type": "code",
      "metadata": {
        "id": "8_V5NHF2Mkqy"
      },
      "source": [
        ""
      ],
      "execution_count": null,
      "outputs": []
    },
    {
      "cell_type": "code",
      "metadata": {
        "id": "9tdUpPU2M6pE"
      },
      "source": [
        ""
      ],
      "execution_count": null,
      "outputs": []
    },
    {
      "cell_type": "code",
      "metadata": {
        "id": "5oIhLqgPNQna"
      },
      "source": [
        ""
      ],
      "execution_count": null,
      "outputs": []
    },
    {
      "cell_type": "code",
      "metadata": {
        "id": "P2gWn82HNmln"
      },
      "source": [
        ""
      ],
      "execution_count": null,
      "outputs": []
    },
    {
      "cell_type": "code",
      "metadata": {
        "id": "zj9qUfWRN8j3"
      },
      "source": [
        ""
      ],
      "execution_count": null,
      "outputs": []
    },
    {
      "cell_type": "code",
      "metadata": {
        "id": "qtlJ17iOOSiH"
      },
      "source": [
        ""
      ],
      "execution_count": null,
      "outputs": []
    },
    {
      "cell_type": "code",
      "metadata": {
        "id": "tVxLaSaoOogW"
      },
      "source": [
        ""
      ],
      "execution_count": null,
      "outputs": []
    },
    {
      "cell_type": "code",
      "metadata": {
        "id": "y8bhxTMfO-ep"
      },
      "source": [
        ""
      ],
      "execution_count": null,
      "outputs": []
    },
    {
      "cell_type": "code",
      "metadata": {
        "id": "lHtCJBs8PUc7"
      },
      "source": [
        ""
      ],
      "execution_count": null,
      "outputs": []
    },
    {
      "cell_type": "code",
      "metadata": {
        "id": "f78rrmCSPqbI"
      },
      "source": [
        ""
      ],
      "execution_count": null,
      "outputs": []
    },
    {
      "cell_type": "code",
      "metadata": {
        "id": "FSdYWit1QAZV"
      },
      "source": [
        ""
      ],
      "execution_count": null,
      "outputs": []
    },
    {
      "cell_type": "code",
      "metadata": {
        "id": "g9SAGbEYQWXm"
      },
      "source": [
        ""
      ],
      "execution_count": null,
      "outputs": []
    },
    {
      "cell_type": "code",
      "metadata": {
        "id": "I3JKot0VQsV5"
      },
      "source": [
        ""
      ],
      "execution_count": null,
      "outputs": []
    },
    {
      "cell_type": "code",
      "metadata": {
        "id": "yT0VrnrlRCUG"
      },
      "source": [
        ""
      ],
      "execution_count": null,
      "outputs": []
    },
    {
      "cell_type": "code",
      "metadata": {
        "id": "e1MsS30aRYSX"
      },
      "source": [
        ""
      ],
      "execution_count": null,
      "outputs": []
    },
    {
      "cell_type": "code",
      "metadata": {
        "id": "SyK91jP5RuQm"
      },
      "source": [
        ""
      ],
      "execution_count": null,
      "outputs": []
    },
    {
      "cell_type": "code",
      "metadata": {
        "id": "PXHLJ2s9SEO2"
      },
      "source": [
        ""
      ],
      "execution_count": null,
      "outputs": []
    },
    {
      "cell_type": "code",
      "metadata": {
        "id": "pHEFJYzCSaNJ"
      },
      "source": [
        ""
      ],
      "execution_count": null,
      "outputs": []
    },
    {
      "cell_type": "code",
      "metadata": {
        "id": "6VgpaGBhSwLe"
      },
      "source": [
        ""
      ],
      "execution_count": null,
      "outputs": []
    },
    {
      "cell_type": "code",
      "metadata": {
        "id": "4ad-BXYfTGJv"
      },
      "source": [
        ""
      ],
      "execution_count": null,
      "outputs": []
    },
    {
      "cell_type": "code",
      "metadata": {
        "id": "rAgvIrikTcH-"
      },
      "source": [
        ""
      ],
      "execution_count": null,
      "outputs": []
    },
    {
      "cell_type": "code",
      "metadata": {
        "id": "acH1h5hfTyGK"
      },
      "source": [
        ""
      ],
      "execution_count": null,
      "outputs": []
    },
    {
      "cell_type": "code",
      "metadata": {
        "id": "KxcUnfcFUIEb"
      },
      "source": [
        ""
      ],
      "execution_count": null,
      "outputs": []
    },
    {
      "cell_type": "code",
      "metadata": {
        "id": "pvBUjufLUeCr"
      },
      "source": [
        ""
      ],
      "execution_count": null,
      "outputs": []
    },
    {
      "cell_type": "code",
      "metadata": {
        "id": "YPFo-HWVU0A9"
      },
      "source": [
        ""
      ],
      "execution_count": null,
      "outputs": []
    },
    {
      "cell_type": "code",
      "metadata": {
        "id": "NSx9U8ESVJ_Q"
      },
      "source": [
        ""
      ],
      "execution_count": null,
      "outputs": []
    },
    {
      "cell_type": "code",
      "metadata": {
        "id": "ZqriOFwlVf9c"
      },
      "source": [
        ""
      ],
      "execution_count": null,
      "outputs": []
    },
    {
      "cell_type": "code",
      "metadata": {
        "id": "c2GZfaTBV17r"
      },
      "source": [
        ""
      ],
      "execution_count": null,
      "outputs": []
    },
    {
      "cell_type": "code",
      "metadata": {
        "id": "MACaaIIVWL59"
      },
      "source": [
        ""
      ],
      "execution_count": null,
      "outputs": []
    },
    {
      "cell_type": "code",
      "metadata": {
        "id": "LYtThxx8Wh4Q"
      },
      "source": [
        ""
      ],
      "execution_count": null,
      "outputs": []
    },
    {
      "cell_type": "code",
      "metadata": {
        "id": "TcftDEUpW32c"
      },
      "source": [
        ""
      ],
      "execution_count": null,
      "outputs": []
    },
    {
      "cell_type": "code",
      "metadata": {
        "id": "Bd4B3wMHXN0s"
      },
      "source": [
        ""
      ],
      "execution_count": null,
      "outputs": []
    },
    {
      "cell_type": "code",
      "metadata": {
        "id": "1YzQwsstXjy9"
      },
      "source": [
        ""
      ],
      "execution_count": null,
      "outputs": []
    },
    {
      "cell_type": "code",
      "metadata": {
        "id": "jxsEE_OaX5xN"
      },
      "source": [
        ""
      ],
      "execution_count": null,
      "outputs": []
    },
    {
      "cell_type": "code",
      "metadata": {
        "id": "JXCu6FXPYPve"
      },
      "source": [
        ""
      ],
      "execution_count": null,
      "outputs": []
    },
    {
      "cell_type": "code",
      "metadata": {
        "id": "tFoTxYoWYltz"
      },
      "source": [
        ""
      ],
      "execution_count": null,
      "outputs": []
    },
    {
      "cell_type": "code",
      "metadata": {
        "id": "lHeZxKMHY7sE"
      },
      "source": [
        ""
      ],
      "execution_count": null,
      "outputs": []
    },
    {
      "cell_type": "code",
      "metadata": {
        "id": "QrnjapmhZRqU"
      },
      "source": [
        ""
      ],
      "execution_count": null,
      "outputs": []
    },
    {
      "cell_type": "code",
      "metadata": {
        "id": "s-xcCszvZno1"
      },
      "source": [
        ""
      ],
      "execution_count": null,
      "outputs": []
    },
    {
      "cell_type": "code",
      "metadata": {
        "id": "cgcA-SQXZ9nF"
      },
      "source": [
        ""
      ],
      "execution_count": null,
      "outputs": []
    },
    {
      "cell_type": "code",
      "metadata": {
        "id": "bKZdlSPxaTlX"
      },
      "source": [
        ""
      ],
      "execution_count": null,
      "outputs": []
    },
    {
      "cell_type": "code",
      "metadata": {
        "id": "KVgcR4Mtapjo"
      },
      "source": [
        ""
      ],
      "execution_count": null,
      "outputs": []
    },
    {
      "cell_type": "code",
      "metadata": {
        "id": "-5UFvG6Ha_h5"
      },
      "source": [
        ""
      ],
      "execution_count": null,
      "outputs": []
    },
    {
      "cell_type": "code",
      "metadata": {
        "id": "VpN0jVSSbVgH"
      },
      "source": [
        ""
      ],
      "execution_count": null,
      "outputs": []
    },
    {
      "cell_type": "code",
      "metadata": {
        "id": "Da8vdyJ7breX"
      },
      "source": [
        ""
      ],
      "execution_count": null,
      "outputs": []
    },
    {
      "cell_type": "code",
      "metadata": {
        "id": "0jfuGHHYcBcw"
      },
      "source": [
        ""
      ],
      "execution_count": null,
      "outputs": []
    },
    {
      "cell_type": "code",
      "metadata": {
        "id": "6rLNgxKecXa9"
      },
      "source": [
        ""
      ],
      "execution_count": null,
      "outputs": []
    },
    {
      "cell_type": "code",
      "metadata": {
        "id": "q_V0bH_RctZO"
      },
      "source": [
        ""
      ],
      "execution_count": null,
      "outputs": []
    },
    {
      "cell_type": "code",
      "metadata": {
        "id": "fV2YXewFdDXc"
      },
      "source": [
        ""
      ],
      "execution_count": null,
      "outputs": []
    },
    {
      "cell_type": "code",
      "metadata": {
        "id": "IivC2IsIdZVq"
      },
      "source": [
        ""
      ],
      "execution_count": null,
      "outputs": []
    },
    {
      "cell_type": "code",
      "metadata": {
        "id": "QMeVslxidvT8"
      },
      "source": [
        ""
      ],
      "execution_count": null,
      "outputs": []
    },
    {
      "cell_type": "markdown",
      "metadata": {
        "id": "6saIkTw1eFSQ"
      },
      "source": [
        "# New Section"
      ]
    },
    {
      "cell_type": "code",
      "metadata": {
        "id": "DKyuRJFSnAVB"
      },
      "source": [
        "\n",
        "#Saving the model\n",
        "\n",
        "model.save_weights(\"/content/gdrive/MyDrive/YelpDataset/models\")"
      ],
      "execution_count": null,
      "outputs": []
    },
    {
      "cell_type": "code",
      "metadata": {
        "id": "DQF9cGcbnQUk"
      },
      "source": [
        ""
      ],
      "execution_count": null,
      "outputs": []
    }
  ]
}
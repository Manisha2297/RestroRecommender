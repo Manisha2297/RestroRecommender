{
  "nbformat": 4,
  "nbformat_minor": 0,
  "metadata": {
    "colab": {
      "name": "analysis.ipynb",
      "provenance": [],
      "authorship_tag": "ABX9TyM7YirJUzp0+KdbqCUUlNig",
      "include_colab_link": true
    },
    "kernelspec": {
      "name": "python3",
      "display_name": "Python 3"
    }
  },
  "cells": [
    {
      "cell_type": "markdown",
      "metadata": {
        "id": "view-in-github",
        "colab_type": "text"
      },
      "source": [
        "<a href=\"https://colab.research.google.com/github/Manisha2297/RestroRecommender/blob/main/analysis.ipynb\" target=\"_parent\"><img src=\"https://colab.research.google.com/assets/colab-badge.svg\" alt=\"Open In Colab\"/></a>"
      ]
    },
    {
      "cell_type": "code",
      "metadata": {
        "id": "9CvZb2lZmOFt"
      },
      "source": [
        "import pandas as pd\n",
        "\n",
        "data = pd.read_json(\"/Users/pbhagwat/DEV/UnivAi/Assignment3/RestroRecommender/Data/yelp_dataset/yelp_academic_dataset_review.json\")\n",
        "\n",
        "print(data.head())"
      ],
      "execution_count": null,
      "outputs": []
    }
  ]
}
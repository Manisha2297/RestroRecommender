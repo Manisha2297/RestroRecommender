{
  "nbformat": 4,
  "nbformat_minor": 0,
  "metadata": {
    "colab": {
      "name": "baseline_model.ipynb",
      "provenance": [],
      "authorship_tag": "ABX9TyPZsz4y4ZDjkIsZxvLs6OKe",
      "include_colab_link": true
    },
    "kernelspec": {
      "name": "python3",
      "display_name": "Python 3"
    }
  },
  "cells": [
    {
      "cell_type": "markdown",
      "metadata": {
        "id": "view-in-github",
        "colab_type": "text"
      },
      "source": [
        "<a href=\"https://colab.research.google.com/github/Manisha2297/RestroRecommender/blob/main/baseline_model.ipynb\" target=\"_parent\"><img src=\"https://colab.research.google.com/assets/colab-badge.svg\" alt=\"Open In Colab\"/></a>"
      ]
    },
    {
      "cell_type": "code",
      "metadata": {
        "colab": {
          "base_uri": "https://localhost:8080/"
        },
        "id": "VJIhDO6ne9Ke",
        "outputId": "192ed4cd-2fa6-4319-a41b-8d20a54d1ef0"
      },
      "source": [
        "!pip install surprise"
      ],
      "execution_count": 16,
      "outputs": [
        {
          "output_type": "stream",
          "text": [
            "Requirement already satisfied: surprise in /usr/local/lib/python3.7/dist-packages (0.1)\n",
            "Requirement already satisfied: scikit-surprise in /usr/local/lib/python3.7/dist-packages (from surprise) (1.1.1)\n",
            "Requirement already satisfied: six>=1.10.0 in /usr/local/lib/python3.7/dist-packages (from scikit-surprise->surprise) (1.15.0)\n",
            "Requirement already satisfied: scipy>=1.0.0 in /usr/local/lib/python3.7/dist-packages (from scikit-surprise->surprise) (1.4.1)\n",
            "Requirement already satisfied: numpy>=1.11.2 in /usr/local/lib/python3.7/dist-packages (from scikit-surprise->surprise) (1.19.5)\n",
            "Requirement already satisfied: joblib>=0.11 in /usr/local/lib/python3.7/dist-packages (from scikit-surprise->surprise) (1.0.1)\n"
          ],
          "name": "stdout"
        }
      ]
    },
    {
      "cell_type": "code",
      "metadata": {
        "id": "g9WBqreLfO_V"
      },
      "source": [
        "import pandas as pd\n",
        "import numpy as np\n",
        "from surprise import Dataset, Reader\n",
        "from surprise import SVD\n",
        "from surprise import accuracy\n",
        "from surprise.model_selection import cross_validate, train_test_split\n",
        "from surprise.prediction_algorithms import Prediction\n",
        "import random\n",
        "from surprise.model_selection import GridSearchCV\n",
        "from surprise.prediction_algorithms import algo_base\n",
        "from surprise import KNNBasic\n",
        "from surprise import SVDpp\n",
        "from surprise import NMF\n",
        "from surprise import NormalPredictor\n",
        "from surprise import BaselineOnly"
      ],
      "execution_count": 17,
      "outputs": []
    },
    {
      "cell_type": "code",
      "metadata": {
        "colab": {
          "base_uri": "https://localhost:8080/"
        },
        "id": "eEBAaYzogkSt",
        "outputId": "17c97cb5-ca4d-488c-fdab-8f5b6fac15b0"
      },
      "source": [
        "#mount your own drive to avoid downloading the data multiple time \n",
        "\n",
        "from google.colab import drive\n",
        "drive.mount('/content/gdrive')"
      ],
      "execution_count": 18,
      "outputs": [
        {
          "output_type": "stream",
          "text": [
            "Drive already mounted at /content/gdrive; to attempt to forcibly remount, call drive.mount(\"/content/gdrive\", force_remount=True).\n"
          ],
          "name": "stdout"
        }
      ]
    },
    {
      "cell_type": "code",
      "metadata": {
        "id": "GEKxuz_7fVFc"
      },
      "source": [
        "df_state= pd.read_pickle('/content/gdrive/MyDrive/YelpDataset/PickleFiles/yelp_data_df_ON')"
      ],
      "execution_count": 19,
      "outputs": []
    },
    {
      "cell_type": "code",
      "metadata": {
        "colab": {
          "base_uri": "https://localhost:8080/",
          "height": 206
        },
        "id": "cc8AmSYWhNYy",
        "outputId": "44ad2100-783e-4f24-e090-8cfc95eb5cf1"
      },
      "source": [
        "df_state.head()"
      ],
      "execution_count": 20,
      "outputs": [
        {
          "output_type": "execute_result",
          "data": {
            "text/html": [
              "<div>\n",
              "<style scoped>\n",
              "    .dataframe tbody tr th:only-of-type {\n",
              "        vertical-align: middle;\n",
              "    }\n",
              "\n",
              "    .dataframe tbody tr th {\n",
              "        vertical-align: top;\n",
              "    }\n",
              "\n",
              "    .dataframe thead th {\n",
              "        text-align: right;\n",
              "    }\n",
              "</style>\n",
              "<table border=\"1\" class=\"dataframe\">\n",
              "  <thead>\n",
              "    <tr style=\"text-align: right;\">\n",
              "      <th></th>\n",
              "      <th>business_id</th>\n",
              "      <th>user_id</th>\n",
              "      <th>stars</th>\n",
              "      <th>text</th>\n",
              "    </tr>\n",
              "  </thead>\n",
              "  <tbody>\n",
              "    <tr>\n",
              "      <th>5</th>\n",
              "      <td>l-nL4BmhzpZjcavooO48PQ</td>\n",
              "      <td>HJECayULRM-6xh2GCCvLiA</td>\n",
              "      <td>4.0</td>\n",
              "      <td>ORDER Delivery Review discovered place front d...</td>\n",
              "    </tr>\n",
              "    <tr>\n",
              "      <th>12</th>\n",
              "      <td>qUWqjjjfpB2-4P3He5rsKw</td>\n",
              "      <td>TZQSUDDcA4ek5gBd6BzcjA</td>\n",
              "      <td>4.0</td>\n",
              "      <td>heart Chinatown discovered enroute Kensington ...</td>\n",
              "    </tr>\n",
              "    <tr>\n",
              "      <th>25</th>\n",
              "      <td>YJ2Y_asLIlbo-uijVugLow</td>\n",
              "      <td>Arf9ddxVvO3PsmdZlPBDyA</td>\n",
              "      <td>5.0</td>\n",
              "      <td>spicy food fan see restaurant called Hot Spicy...</td>\n",
              "    </tr>\n",
              "    <tr>\n",
              "      <th>26</th>\n",
              "      <td>9Eghhu_LzEJgDKNgisf3rg</td>\n",
              "      <td>iFEM16O5BeKvf_AHs6NzUQ</td>\n",
              "      <td>3.0</td>\n",
              "      <td>super excited bring boyfriend Scaddabush locat...</td>\n",
              "    </tr>\n",
              "    <tr>\n",
              "      <th>32</th>\n",
              "      <td>nIIuxIn5RU0j-XkDWh3hlA</td>\n",
              "      <td>AdMCAKmNDIaubYPxnjTq1g</td>\n",
              "      <td>1.0</td>\n",
              "      <td>Passed went raijin ramen thought everything lo...</td>\n",
              "    </tr>\n",
              "  </tbody>\n",
              "</table>\n",
              "</div>"
            ],
            "text/plain": [
              "               business_id  ...                                               text\n",
              "5   l-nL4BmhzpZjcavooO48PQ  ...  ORDER Delivery Review discovered place front d...\n",
              "12  qUWqjjjfpB2-4P3He5rsKw  ...  heart Chinatown discovered enroute Kensington ...\n",
              "25  YJ2Y_asLIlbo-uijVugLow  ...  spicy food fan see restaurant called Hot Spicy...\n",
              "26  9Eghhu_LzEJgDKNgisf3rg  ...  super excited bring boyfriend Scaddabush locat...\n",
              "32  nIIuxIn5RU0j-XkDWh3hlA  ...  Passed went raijin ramen thought everything lo...\n",
              "\n",
              "[5 rows x 4 columns]"
            ]
          },
          "metadata": {
            "tags": []
          },
          "execution_count": 20
        }
      ]
    },
    {
      "cell_type": "code",
      "metadata": {
        "id": "ysZJQfiYhSGO"
      },
      "source": [
        "reader = Reader(rating_scale=(1, 5))"
      ],
      "execution_count": 21,
      "outputs": []
    },
    {
      "cell_type": "code",
      "metadata": {
        "id": "CQ_LUUDkhgQw"
      },
      "source": [
        "data = Dataset.load_from_df(df_state[['user_id', 'business_id', 'stars']], reader) # We cannot pass in text, bcz load_from_df takes only 3 and it is made specifically for reviews"
      ],
      "execution_count": 22,
      "outputs": []
    },
    {
      "cell_type": "code",
      "metadata": {
        "id": "tWM_vmJFiHsj"
      },
      "source": [
        "\n",
        "train, test= train_test_split(data, train_size=0.8)"
      ],
      "execution_count": 23,
      "outputs": []
    },
    {
      "cell_type": "code",
      "metadata": {
        "id": "T3nakdtjhseN"
      },
      "source": [
        "np = NormalPredictor() # Predicting random rating based on distribution of training set"
      ],
      "execution_count": 24,
      "outputs": []
    },
    {
      "cell_type": "code",
      "metadata": {
        "id": "eZs_IyoKi9H8"
      },
      "source": [
        "bo= BaselineOnly() #Algorithm predicting the baseline estimate for given user and item."
      ],
      "execution_count": 25,
      "outputs": []
    },
    {
      "cell_type": "code",
      "metadata": {
        "colab": {
          "base_uri": "https://localhost:8080/"
        },
        "id": "WjGtn14hjQiC",
        "outputId": "dd397de3-cd38-4664-acd0-23e9ce86b889"
      },
      "source": [
        "np.fit(train)"
      ],
      "execution_count": 26,
      "outputs": [
        {
          "output_type": "execute_result",
          "data": {
            "text/plain": [
              "<surprise.prediction_algorithms.random_pred.NormalPredictor at 0x7f31b82ab410>"
            ]
          },
          "metadata": {
            "tags": []
          },
          "execution_count": 26
        }
      ]
    },
    {
      "cell_type": "code",
      "metadata": {
        "colab": {
          "base_uri": "https://localhost:8080/"
        },
        "id": "9Y2apwPcjysk",
        "outputId": "308719ee-661c-4194-c09e-55d57ecbeb90"
      },
      "source": [
        "bo.fit(train)"
      ],
      "execution_count": 27,
      "outputs": [
        {
          "output_type": "stream",
          "text": [
            "Estimating biases using als...\n"
          ],
          "name": "stdout"
        },
        {
          "output_type": "execute_result",
          "data": {
            "text/plain": [
              "<surprise.prediction_algorithms.baseline_only.BaselineOnly at 0x7f31b82abb10>"
            ]
          },
          "metadata": {
            "tags": []
          },
          "execution_count": 27
        }
      ]
    },
    {
      "cell_type": "code",
      "metadata": {
        "id": "PnRr0e97j191"
      },
      "source": [
        "np_preds= np.test(test)"
      ],
      "execution_count": 28,
      "outputs": []
    },
    {
      "cell_type": "code",
      "metadata": {
        "id": "KKXmGXdDj_N3"
      },
      "source": [
        "bo_preds= bo.test(test)"
      ],
      "execution_count": 29,
      "outputs": []
    },
    {
      "cell_type": "code",
      "metadata": {
        "colab": {
          "base_uri": "https://localhost:8080/"
        },
        "id": "JpypDa8wkB9L",
        "outputId": "7df02fb2-5bba-4a18-902c-f2ac40dff301"
      },
      "source": [
        "accuracy.mse(np_preds)\n",
        "accuracy.mse(bo_preds)"
      ],
      "execution_count": 30,
      "outputs": [
        {
          "output_type": "stream",
          "text": [
            "MSE: 2.9237\n",
            "MSE: 1.3763\n"
          ],
          "name": "stdout"
        },
        {
          "output_type": "execute_result",
          "data": {
            "text/plain": [
              "1.376281298953766"
            ]
          },
          "metadata": {
            "tags": []
          },
          "execution_count": 30
        }
      ]
    },
    {
      "cell_type": "code",
      "metadata": {
        "id": "ZjyBdd6lkEgq"
      },
      "source": [
        ""
      ],
      "execution_count": 30,
      "outputs": []
    }
  ]
}
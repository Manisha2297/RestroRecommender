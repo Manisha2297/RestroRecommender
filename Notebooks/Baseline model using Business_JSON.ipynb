{
  "nbformat": 4,
  "nbformat_minor": 0,
  "metadata": {
    "colab": {
      "name": "Untitled20.ipynb",
      "provenance": [],
      "mount_file_id": "1MHPXORYChHApZyk3xRXBau__XnlVZUDj",
      "authorship_tag": "ABX9TyO7PId+XvC4R9+i9QHLjFOd",
      "include_colab_link": true
    },
    "kernelspec": {
      "name": "python3",
      "display_name": "Python 3"
    },
    "accelerator": "GPU"
  },
  "cells": [
    {
      "cell_type": "markdown",
      "metadata": {
        "id": "view-in-github",
        "colab_type": "text"
      },
      "source": [
        "<a href=\"https://colab.research.google.com/github/Manisha2297/RestroRecommender/blob/main/Baseline%20model%20using%20Business_JSON.ipynb\" target=\"_parent\"><img src=\"https://colab.research.google.com/assets/colab-badge.svg\" alt=\"Open In Colab\"/></a>"
      ]
    },
    {
      "cell_type": "code",
      "metadata": {
        "id": "2hksS9EGvhz2"
      },
      "source": [
        "\r\n",
        "%matplotlib inline \r\n",
        "#this line above prepares IPython notebook for working with matplotlib\r\n",
        "\r\n",
        "\r\n",
        "import numpy as np # imports a fast numerical programming library\r\n",
        "import scipy as sp #imports stats functions, amongst other things\r\n",
        "import matplotlib as mpl # this actually imports matplotlib\r\n",
        "import matplotlib.cm as cm #allows us easy access to colormaps\r\n",
        "import matplotlib.pyplot as plt #sets up plotting under plt\r\n",
        "import pandas as pd #lets us handle data as dataframes\r\n",
        "import seaborn as sns\r\n",
        "from scipy import stats \r\n",
        "from datetime import datetime\r\n",
        "\r\n",
        "from sklearn.model_selection import train_test_split\r\n",
        "from sklearn.metrics.pairwise import cosine_similarity\r\n",
        "from scipy.sparse import hstack\r\n",
        "from sklearn.feature_extraction.text import CountVectorizer\r\n",
        "from ast import literal_eval\r\n"
      ],
      "execution_count": 1,
      "outputs": []
    },
    {
      "cell_type": "code",
      "metadata": {
        "colab": {
          "base_uri": "https://localhost:8080/"
        },
        "id": "Y7yo-E9mv-3l",
        "outputId": "e4cafa5d-fddb-4614-febd-f7d191d24eb0"
      },
      "source": [
        "business_df = pd.read_pickle('/content/drive/MyDrive/YelpDataset/PickleFiles/restuarant_df')\r\n",
        "business_df.shape"
      ],
      "execution_count": 2,
      "outputs": [
        {
          "output_type": "execute_result",
          "data": {
            "text/plain": [
              "(56901, 14)"
            ]
          },
          "metadata": {
            "tags": []
          },
          "execution_count": 2
        }
      ]
    },
    {
      "cell_type": "code",
      "metadata": {
        "id": "dwdZqG9WwtLi"
      },
      "source": [
        "business_df = business_df.astype({'latitude':'float','longitude':'float','review_count':'int64','stars':'float'})"
      ],
      "execution_count": 3,
      "outputs": []
    },
    {
      "cell_type": "code",
      "metadata": {
        "colab": {
          "base_uri": "https://localhost:8080/"
        },
        "id": "c4SZL5GJIvVW",
        "outputId": "7d83a7b8-0c3d-4624-b5bb-73198e5e7bd3"
      },
      "source": [
        "business_df.dtypes"
      ],
      "execution_count": 4,
      "outputs": [
        {
          "output_type": "execute_result",
          "data": {
            "text/plain": [
              "address          object\n",
              "attributes       object\n",
              "business_id      object\n",
              "categories       object\n",
              "city             object\n",
              "hours            object\n",
              "is_open          object\n",
              "latitude        float64\n",
              "longitude       float64\n",
              "name             object\n",
              "postal_code      object\n",
              "review_count      int64\n",
              "stars           float64\n",
              "state            object\n",
              "dtype: object"
            ]
          },
          "metadata": {
            "tags": []
          },
          "execution_count": 4
        }
      ]
    },
    {
      "cell_type": "code",
      "metadata": {
        "id": "QC1tcQjaN27y"
      },
      "source": [
        "business_df['attributes'] = business_df['attributes'].fillna(\"{'None':'None'}\") #Removing None values\r\n",
        "business_df['attributes_edited'] = business_df['attributes'].apply(lambda x: literal_eval(x)) #Transforming the stringified dictionary to dictionary\r\n",
        "\r\n",
        "business_df['categories_edited'] = business_df['categories'].apply(lambda x: x.split(',')) #Transforming the stringified list to list"
      ],
      "execution_count": 5,
      "outputs": []
    },
    {
      "cell_type": "code",
      "metadata": {
        "colab": {
          "base_uri": "https://localhost:8080/"
        },
        "id": "VWUIoX2sJ-ov",
        "outputId": "b47871ed-d8d8-48e6-fa75-4915c9152c2f"
      },
      "source": [
        "print(business_df['state'].value_counts().index) #NVM this cell. Not used anywhere\r\n",
        "aa = []\r\n",
        "for i in business_df['state'].value_counts().index:\r\n",
        "  aa.append(business_df[business_df['state']==i]['city'].nunique())\r\n",
        "print(aa)  "
      ],
      "execution_count": 6,
      "outputs": [
        {
          "output_type": "stream",
          "text": [
            "Index(['ON', 'AZ', 'NV', 'QC', 'OH', 'NC', 'PA', 'AB', 'WI', 'IL', 'SC'], dtype='object')\n",
            "[86, 53, 25, 204, 164, 41, 169, 15, 29, 21, 13]\n"
          ],
          "name": "stdout"
        }
      ]
    },
    {
      "cell_type": "code",
      "metadata": {
        "colab": {
          "base_uri": "https://localhost:8080/"
        },
        "id": "SrjNH85ifkEv",
        "outputId": "0afbb123-77c6-4b73-e6a3-a33af7c8243f"
      },
      "source": [
        "#Will explain cell 8-13 on call\r\n",
        "attribute_keys = []\r\n",
        "# business_df['attributes_edited'].apply(lambda x: keys.append(x.keys()))\r\n",
        "for i in business_df['attributes_edited']:\r\n",
        "  attribute_keys.append(list(i.keys()))\r\n",
        "\r\n",
        "attribute_keys = [item for sublist in attribute_keys for item in sublist]\r\n",
        "print(len(attribute_keys))\r\n",
        "\r\n",
        "unique_keys = list(set(attribute_keys))\r\n",
        "print('Number of unique attributes in dataset:',len(unique_keys))"
      ],
      "execution_count": 7,
      "outputs": [
        {
          "output_type": "stream",
          "text": [
            "747696\n",
            "Number of unique attributes in dataset: 40\n"
          ],
          "name": "stdout"
        }
      ]
    },
    {
      "cell_type": "code",
      "metadata": {
        "id": "JjF7Xy_BSh0d"
      },
      "source": [
        "# for i in business_df['attributes_edited'][0]:\r\n",
        "#   print(i+'_'+business_df['attributes_edited'][0][i])"
      ],
      "execution_count": 8,
      "outputs": []
    },
    {
      "cell_type": "code",
      "metadata": {
        "id": "vYHtJjbUXcKj"
      },
      "source": [
        "attribute_combo = []\r\n",
        "for i in business_df['attributes_edited']:\r\n",
        "  # print(list(i.keys()))\r\n",
        "  for j in list(i.keys()):\r\n",
        "    attribute_combo.append(j+'_'+i[j])"
      ],
      "execution_count": 9,
      "outputs": []
    },
    {
      "cell_type": "code",
      "metadata": {
        "colab": {
          "base_uri": "https://localhost:8080/"
        },
        "id": "Nj5cf6sXWvUk",
        "outputId": "4b734168-4f57-4e17-c1a6-cc44abbd28de"
      },
      "source": [
        "Attributes_Without_Dicts = []\r\n",
        "for i in list(set(attribute_combo)):\r\n",
        "  if i.split('_')[1][0] == '{':\r\n",
        "    continue\r\n",
        "  else:\r\n",
        "    Attributes_Without_Dicts.append(i)\r\n",
        "Attributes_Without_Dicts[:10]"
      ],
      "execution_count": 10,
      "outputs": [
        {
          "output_type": "execute_result",
          "data": {
            "text/plain": [
              "['RestaurantsPriceRange2_2',\n",
              " 'RestaurantsDelivery_None',\n",
              " 'GoodForKids_True',\n",
              " \"Smoking_u'yes'\",\n",
              " \"NoiseLevel_u'quiet'\",\n",
              " \"Smoking_u'no'\",\n",
              " \"RestaurantsAttire_u'casual'\",\n",
              " 'NoiseLevel_None',\n",
              " 'AgesAllowed_None',\n",
              " 'OutdoorSeating_False']"
            ]
          },
          "metadata": {
            "tags": []
          },
          "execution_count": 10
        }
      ]
    },
    {
      "cell_type": "code",
      "metadata": {
        "id": "dUcDUqDyclqM"
      },
      "source": [
        "def Attributes_Func(row):\r\n",
        "  xx = []\r\n",
        "  for i in row.keys():\r\n",
        "      xx.append(i+'_'+row[i])\r\n",
        "  \r\n",
        "  final_list = []\r\n",
        "  for i in xx:\r\n",
        "    if i.split('_')[1][0] == '{':\r\n",
        "      continue\r\n",
        "    else:\r\n",
        "      final_list.append(i) \r\n",
        "  return(final_list)"
      ],
      "execution_count": 11,
      "outputs": []
    },
    {
      "cell_type": "code",
      "metadata": {
        "id": "4XWffc3pfh-g"
      },
      "source": [
        "business_df['Attributes_List'] = business_df['attributes_edited'].apply(lambda x: Attributes_Func(x))"
      ],
      "execution_count": 12,
      "outputs": []
    },
    {
      "cell_type": "code",
      "metadata": {
        "colab": {
          "base_uri": "https://localhost:8080/",
          "height": 195
        },
        "id": "tklRYjs1kcOf",
        "outputId": "5bfa6a88-a244-4756-eb4f-bb96f29bad37"
      },
      "source": [
        "df_for_matrix = business_df[['business_id','Attributes_List','categories_edited']] #This is what our final DF for Count Vectorizer looks like\r\n",
        "df_for_matrix.head()"
      ],
      "execution_count": 13,
      "outputs": [
        {
          "output_type": "execute_result",
          "data": {
            "text/html": [
              "<div>\n",
              "<style scoped>\n",
              "    .dataframe tbody tr th:only-of-type {\n",
              "        vertical-align: middle;\n",
              "    }\n",
              "\n",
              "    .dataframe tbody tr th {\n",
              "        vertical-align: top;\n",
              "    }\n",
              "\n",
              "    .dataframe thead th {\n",
              "        text-align: right;\n",
              "    }\n",
              "</style>\n",
              "<table border=\"1\" class=\"dataframe\">\n",
              "  <thead>\n",
              "    <tr style=\"text-align: right;\">\n",
              "      <th></th>\n",
              "      <th>business_id</th>\n",
              "      <th>Attributes_List</th>\n",
              "      <th>categories_edited</th>\n",
              "    </tr>\n",
              "  </thead>\n",
              "  <tbody>\n",
              "    <tr>\n",
              "      <th>0</th>\n",
              "      <td>pQeaRpvuhoEqudo3uymHIQ</td>\n",
              "      <td>[RestaurantsAttire_u'casual', RestaurantsTakeO...</td>\n",
              "      <td>[Ethnic Food,  Food Trucks,  Specialty Food,  ...</td>\n",
              "    </tr>\n",
              "    <tr>\n",
              "      <th>1</th>\n",
              "      <td>M_guz7Dj7hX0evS672wIwA</td>\n",
              "      <td>[BikeParking_True, Caters_True, WheelchairAcce...</td>\n",
              "      <td>[Desserts,  Food,  Ice Cream &amp; Frozen Yogurt]</td>\n",
              "    </tr>\n",
              "    <tr>\n",
              "      <th>2</th>\n",
              "      <td>mKTq1T_IAplDpHUcMzOXkw</td>\n",
              "      <td>[BusinessAcceptsCreditCards_True]</td>\n",
              "      <td>[Hotels &amp; Travel,  Transportation,  Taxis,  Be...</td>\n",
              "    </tr>\n",
              "    <tr>\n",
              "      <th>3</th>\n",
              "      <td>eBEfgOPG7pvFhb2wcG9I7w</td>\n",
              "      <td>[RestaurantsTableService_False, RestaurantsDel...</td>\n",
              "      <td>[Restaurants,  Cheesesteaks,  Poutineries]</td>\n",
              "    </tr>\n",
              "    <tr>\n",
              "      <th>4</th>\n",
              "      <td>lu7vtrp_bE9PnxWfA8g4Pg</td>\n",
              "      <td>[GoodForKids_True, RestaurantsTakeOut_True, Al...</td>\n",
              "      <td>[Japanese,  Fast Food,  Food Court,  Restaurants]</td>\n",
              "    </tr>\n",
              "  </tbody>\n",
              "</table>\n",
              "</div>"
            ],
            "text/plain": [
              "              business_id  ...                                  categories_edited\n",
              "0  pQeaRpvuhoEqudo3uymHIQ  ...  [Ethnic Food,  Food Trucks,  Specialty Food,  ...\n",
              "1  M_guz7Dj7hX0evS672wIwA  ...      [Desserts,  Food,  Ice Cream & Frozen Yogurt]\n",
              "2  mKTq1T_IAplDpHUcMzOXkw  ...  [Hotels & Travel,  Transportation,  Taxis,  Be...\n",
              "3  eBEfgOPG7pvFhb2wcG9I7w  ...         [Restaurants,  Cheesesteaks,  Poutineries]\n",
              "4  lu7vtrp_bE9PnxWfA8g4Pg  ...  [Japanese,  Fast Food,  Food Court,  Restaurants]\n",
              "\n",
              "[5 rows x 3 columns]"
            ]
          },
          "metadata": {
            "tags": []
          },
          "execution_count": 13
        }
      ]
    },
    {
      "cell_type": "code",
      "metadata": {
        "id": "YaBustX2WA1c"
      },
      "source": [
        "# Function to convert all strings to lower case and strip names of spaces\r\n",
        "#Code from Data Camp. Cleaning the text by converting to lower case\r\n",
        "def clean_data(x):\r\n",
        "    if isinstance(x, list):\r\n",
        "        return [str.lower(i.replace(\" \", \"\")) for i in x]\r\n",
        "    else:\r\n",
        "        #Check if director exists. If not, return empty string\r\n",
        "        if isinstance(x, str):\r\n",
        "            return str.lower(x.replace(\" \", \"\"))\r\n",
        "        else:\r\n",
        "            return ''"
      ],
      "execution_count": 14,
      "outputs": []
    },
    {
      "cell_type": "code",
      "metadata": {
        "colab": {
          "base_uri": "https://localhost:8080/"
        },
        "id": "teabmfTxlegz",
        "outputId": "dfcd906c-fa10-4c44-9ec8-23231a07dc95"
      },
      "source": [
        "features = ['business_id', 'Attributes_List', 'categories_edited']\r\n",
        "\r\n",
        "for feature in features:\r\n",
        "    df_for_matrix[feature] = df_for_matrix[feature].apply(clean_data)"
      ],
      "execution_count": 15,
      "outputs": [
        {
          "output_type": "stream",
          "text": [
            "/usr/local/lib/python3.7/dist-packages/ipykernel_launcher.py:4: SettingWithCopyWarning: \n",
            "A value is trying to be set on a copy of a slice from a DataFrame.\n",
            "Try using .loc[row_indexer,col_indexer] = value instead\n",
            "\n",
            "See the caveats in the documentation: https://pandas.pydata.org/pandas-docs/stable/user_guide/indexing.html#returning-a-view-versus-a-copy\n",
            "  after removing the cwd from sys.path.\n"
          ],
          "name": "stderr"
        }
      ]
    },
    {
      "cell_type": "code",
      "metadata": {
        "id": "YHZddxeDlthe"
      },
      "source": [
        "def create_soup(x):\r\n",
        "    return(' '.join(x['Attributes_List']) + ' ' + ' '.join(x['categories_edited']) + ' ' + x['business_id'])"
      ],
      "execution_count": 16,
      "outputs": []
    },
    {
      "cell_type": "code",
      "metadata": {
        "colab": {
          "base_uri": "https://localhost:8080/"
        },
        "id": "2lvudfoPl_Bl",
        "outputId": "2ccbb997-7065-4027-88ca-f7fd82116064"
      },
      "source": [
        "df_for_matrix['soup'] = df_for_matrix.apply(create_soup, axis=1) #Joining values so it looks like next cell"
      ],
      "execution_count": 17,
      "outputs": [
        {
          "output_type": "stream",
          "text": [
            "/usr/local/lib/python3.7/dist-packages/ipykernel_launcher.py:1: SettingWithCopyWarning: \n",
            "A value is trying to be set on a copy of a slice from a DataFrame.\n",
            "Try using .loc[row_indexer,col_indexer] = value instead\n",
            "\n",
            "See the caveats in the documentation: https://pandas.pydata.org/pandas-docs/stable/user_guide/indexing.html#returning-a-view-versus-a-copy\n",
            "  \"\"\"Entry point for launching an IPython kernel.\n"
          ],
          "name": "stderr"
        }
      ]
    },
    {
      "cell_type": "code",
      "metadata": {
        "colab": {
          "base_uri": "https://localhost:8080/"
        },
        "id": "_28PvbtPmK-M",
        "outputId": "4fd4593c-7ab0-4bef-beaa-1accd7abbcdb"
      },
      "source": [
        "df_for_matrix[['soup']].head(2).values"
      ],
      "execution_count": 18,
      "outputs": [
        {
          "output_type": "execute_result",
          "data": {
            "text/plain": [
              "array([[\"restaurantsattire_u'casual' restaurantstakeout_true businessacceptscreditcards_true noiselevel_u'quiet' goodforkids_false restaurantsreservations_false restaurantsgoodforgroups_false businessparking_none restaurantspricerange2_1 hastv_true alcohol_'none' bikeparking_false restaurantsdelivery_true byappointmentonly_false outdoorseating_false ethnicfood foodtrucks specialtyfood importedfood argentine food restaurants empanadas pqearpvuhoequdo3uymhiq\"],\n",
              "       [\"bikeparking_true caters_true wheelchairaccessible_true restaurantspricerange2_1 wifi_u'no' businessacceptscreditcards_true restaurantstakeout_true desserts food icecream&frozenyogurt m_guz7dj7hx0evs672wiwa\"]],\n",
              "      dtype=object)"
            ]
          },
          "metadata": {
            "tags": []
          },
          "execution_count": 18
        }
      ]
    },
    {
      "cell_type": "code",
      "metadata": {
        "id": "Tvez40KBmr_7"
      },
      "source": [
        "count = CountVectorizer(stop_words='english')\r\n",
        "count_matrix = count.fit_transform(df_for_matrix['soup']) #Creating Count Vectorier matrix"
      ],
      "execution_count": 19,
      "outputs": []
    },
    {
      "cell_type": "code",
      "metadata": {
        "colab": {
          "base_uri": "https://localhost:8080/"
        },
        "id": "jzTSqai2nEbV",
        "outputId": "268434d1-9022-464f-cf85-3928b31e74a8"
      },
      "source": [
        "count_matrix.shape"
      ],
      "execution_count": 20,
      "outputs": [
        {
          "output_type": "execute_result",
          "data": {
            "text/plain": [
              "(56901, 72150)"
            ]
          },
          "metadata": {
            "tags": []
          },
          "execution_count": 20
        }
      ]
    },
    {
      "cell_type": "code",
      "metadata": {
        "id": "w6nd87MIpPVw"
      },
      "source": [
        "Stars = business_df[['review_count','stars']]"
      ],
      "execution_count": 21,
      "outputs": []
    },
    {
      "cell_type": "code",
      "metadata": {
        "id": "wky9axswumZe"
      },
      "source": [
        "# sns.set_style(\"whitegrid\")\r\n",
        "# sns.displot(data=Stars, x='review_count')\r\n",
        "# plt.yscale(\"log\")\r\n",
        "# plt.xscale(\"log\")"
      ],
      "execution_count": 22,
      "outputs": []
    },
    {
      "cell_type": "code",
      "metadata": {
        "colab": {
          "base_uri": "https://localhost:8080/"
        },
        "id": "thdOnO4xwqOe",
        "outputId": "c0b77636-522c-4d69-b520-12bef4d24897"
      },
      "source": [
        "C = Stars['stars'].mean() #This cell is Normalizing the Stars values based on the number of reviews they got. Will explain further on call. This is the same technique that is used in IMDB for their top 250 list\r\n",
        "m = 50\r\n",
        "# Function that computes the weighted rating of each movie\r\n",
        "def weighted_rating(x, m=m, C=C):\r\n",
        "    v = x['review_count']\r\n",
        "    R = x['stars']\r\n",
        "    # Calculation based on the IMDB formula\r\n",
        "    return (v/(v+m) * R) + (m/(m+v) * C)\r\n",
        "\r\n",
        "Stars['score'] = Stars.apply(weighted_rating, axis=1)"
      ],
      "execution_count": 23,
      "outputs": [
        {
          "output_type": "stream",
          "text": [
            "/usr/local/lib/python3.7/dist-packages/ipykernel_launcher.py:10: SettingWithCopyWarning: \n",
            "A value is trying to be set on a copy of a slice from a DataFrame.\n",
            "Try using .loc[row_indexer,col_indexer] = value instead\n",
            "\n",
            "See the caveats in the documentation: https://pandas.pydata.org/pandas-docs/stable/user_guide/indexing.html#returning-a-view-versus-a-copy\n",
            "  # Remove the CWD from sys.path while we load stuff.\n"
          ],
          "name": "stderr"
        }
      ]
    },
    {
      "cell_type": "code",
      "metadata": {
        "colab": {
          "base_uri": "https://localhost:8080/"
        },
        "id": "GNfjcq0CyVRo",
        "outputId": "1ffad705-fb38-4537-fa70-2fd7df6b9c2a"
      },
      "source": [
        "count_matrix = hstack([count_matrix,np.array(Stars['score'])[:,None]]) #I'm trying to add the Score column to the sparse matrix but not able to add it. Have to figure out why\r\n",
        "count_matrix.shape"
      ],
      "execution_count": 24,
      "outputs": [
        {
          "output_type": "execute_result",
          "data": {
            "text/plain": [
              "(56901, 72151)"
            ]
          },
          "metadata": {
            "tags": []
          },
          "execution_count": 24
        }
      ]
    },
    {
      "cell_type": "code",
      "metadata": {
        "id": "FrsPo6qas-ps"
      },
      "source": [
        "normalized_df = count_matrix.astype(np.float32)"
      ],
      "execution_count": 25,
      "outputs": []
    },
    {
      "cell_type": "code",
      "metadata": {
        "id": "o7O6TZminG8a"
      },
      "source": [
        "# cosine_sim2 = cosine_similarity(normalized_df) #Kernel crashes when trying to run this cell"
      ],
      "execution_count": 26,
      "outputs": []
    },
    {
      "cell_type": "code",
      "metadata": {
        "id": "qgt5Sbgrx2yS"
      },
      "source": [
        "def cosine_similarity_n_space(m1, m2, batch_size=10):\r\n",
        "    ret = np.ndarray((m1.shape[0], m2.shape[0]))\r\n",
        "    for row_i in range(0, int(m1.shape[0] / batch_size) + 1):\r\n",
        "        start = row_i * batch_size\r\n",
        "        end = min([(row_i + 1) * batch_size, m1.shape[0]])\r\n",
        "        if end <= start:\r\n",
        "            break # cause I'm too lazy to elegantly handle edge cases\r\n",
        "        rows = m1[start: end]\r\n",
        "        sim = cosine_similarity(rows, m2) # rows is O(1) size\r\n",
        "        ret[start: end] = sim\r\n",
        "        del sim\r\n",
        "    return ret"
      ],
      "execution_count": 27,
      "outputs": []
    },
    {
      "cell_type": "code",
      "metadata": {
        "id": "rj_v-iuhyBIJ"
      },
      "source": [
        "cosine_sim2 = cosine_similarity_n_space(normalized_df.tocsr(), normalized_df.tocsr())"
      ],
      "execution_count": null,
      "outputs": []
    },
    {
      "cell_type": "code",
      "metadata": {
        "id": "8XP93vqVrT90"
      },
      "source": [
        "indices = pd.Series(df_for_matrix.index, index=df_for_matrix['business_id']).drop_duplicates()\r\n",
        "def get_recommendations(title, cosine_sim=cosine_sim):\r\n",
        "    # Get the index of the movie that matches the title\r\n",
        "    idx = indices[title]\r\n",
        "\r\n",
        "    # Get the pairwsie similarity scores of all movies with that movie\r\n",
        "    sim_scores = list(enumerate(cosine_sim[idx]))\r\n",
        "\r\n",
        "    # Sort the movies based on the similarity scores\r\n",
        "    sim_scores = sorted(sim_scores, key=lambda x: x[1], reverse=True)\r\n",
        "\r\n",
        "    # Get the scores of the 10 most similar movies\r\n",
        "    sim_scores = sim_scores[1:11]\r\n",
        "\r\n",
        "    # Get the movie indices\r\n",
        "    restaurant_indices = [i[0] for i in sim_scores]\r\n",
        "\r\n",
        "    # Return the top 10 most similar movies\r\n",
        "    return df_for_matrix['title'].iloc[restaurant_indices]"
      ],
      "execution_count": null,
      "outputs": []
    },
    {
      "cell_type": "code",
      "metadata": {
        "id": "ubqrSMYDvjCO"
      },
      "source": [
        "get_recommendations('Business ID', cosine_sim2)"
      ],
      "execution_count": null,
      "outputs": []
    },
    {
      "cell_type": "code",
      "metadata": {
        "id": "YF8V8EIyysyo"
      },
      "source": [
        ""
      ],
      "execution_count": null,
      "outputs": []
    }
  ]
}
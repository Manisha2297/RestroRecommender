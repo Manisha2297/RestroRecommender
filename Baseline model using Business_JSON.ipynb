{
  "nbformat": 4,
  "nbformat_minor": 0,
  "metadata": {
    "colab": {
      "name": "Untitled20.ipynb",
      "provenance": [],
      "mount_file_id": "1MHPXORYChHApZyk3xRXBau__XnlVZUDj",
      "authorship_tag": "ABX9TyMSB3X2b3NvKNRqUJ8e5QwY",
      "include_colab_link": true
    },
    "kernelspec": {
      "name": "python3",
      "display_name": "Python 3"
    }
  },
  "cells": [
    {
      "cell_type": "markdown",
      "metadata": {
        "id": "view-in-github",
        "colab_type": "text"
      },
      "source": [
        "<a href=\"https://colab.research.google.com/github/Manisha2297/RestroRecommender/blob/main/Baseline%20model%20using%20Business_JSON.ipynb\" target=\"_parent\"><img src=\"https://colab.research.google.com/assets/colab-badge.svg\" alt=\"Open In Colab\"/></a>"
      ]
    },
    {
      "cell_type": "code",
      "metadata": {
        "id": "2hksS9EGvhz2"
      },
      "source": [
        "\r\n",
        "%matplotlib inline \r\n",
        "#this line above prepares IPython notebook for working with matplotlib\r\n",
        "\r\n",
        "\r\n",
        "import numpy as np # imports a fast numerical programming library\r\n",
        "import scipy as sp #imports stats functions, amongst other things\r\n",
        "import matplotlib as mpl # this actually imports matplotlib\r\n",
        "import matplotlib.cm as cm #allows us easy access to colormaps\r\n",
        "import matplotlib.pyplot as plt #sets up plotting under plt\r\n",
        "import pandas as pd #lets us handle data as dataframes\r\n",
        "import seaborn as sns\r\n",
        "from scipy import stats \r\n",
        "from datetime import datetime\r\n",
        "\r\n",
        "from sklearn.model_selection import train_test_split\r\n"
      ],
      "execution_count": 2,
      "outputs": []
    },
    {
      "cell_type": "code",
      "metadata": {
        "colab": {
          "base_uri": "https://localhost:8080/"
        },
        "id": "Y7yo-E9mv-3l",
        "outputId": "7d2cc60c-cd73-40b7-9493-eb6e19c79e8e"
      },
      "source": [
        "business_df = pd.read_pickle('/content/drive/MyDrive/YelpDataset/PickleFiles/restuarant_df')\r\n",
        "business_df.shape"
      ],
      "execution_count": 3,
      "outputs": [
        {
          "output_type": "execute_result",
          "data": {
            "text/plain": [
              "(56901, 14)"
            ]
          },
          "metadata": {
            "tags": []
          },
          "execution_count": 3
        }
      ]
    },
    {
      "cell_type": "code",
      "metadata": {
        "id": "dwdZqG9WwtLi"
      },
      "source": [
        "business_df = business_df.astype({'latitude':'float','longitude':'float','review_count':'int64','stars':'float'})"
      ],
      "execution_count": 4,
      "outputs": []
    },
    {
      "cell_type": "code",
      "metadata": {
        "colab": {
          "base_uri": "https://localhost:8080/"
        },
        "id": "c4SZL5GJIvVW",
        "outputId": "b2851c63-f794-4ea6-b726-81558540c957"
      },
      "source": [
        "business_df.dtypes"
      ],
      "execution_count": 5,
      "outputs": [
        {
          "output_type": "execute_result",
          "data": {
            "text/plain": [
              "address          object\n",
              "attributes       object\n",
              "business_id      object\n",
              "categories       object\n",
              "city             object\n",
              "hours            object\n",
              "is_open          object\n",
              "latitude        float64\n",
              "longitude       float64\n",
              "name             object\n",
              "postal_code      object\n",
              "review_count      int64\n",
              "stars           float64\n",
              "state            object\n",
              "dtype: object"
            ]
          },
          "metadata": {
            "tags": []
          },
          "execution_count": 5
        }
      ]
    },
    {
      "cell_type": "code",
      "metadata": {
        "id": "QC1tcQjaN27y"
      },
      "source": [
        "from ast import literal_eval\r\n",
        "business_df['attributes'] = business_df['attributes'].fillna(\"{'None':'None'}\") #Removing None values\r\n",
        "business_df['attributes_edited'] = business_df['attributes'].apply(lambda x: literal_eval(x)) #Transforming the stringified dictionary to dictionary\r\n",
        "\r\n",
        "business_df['categories_edited'] = business_df['categories'].apply(lambda x: x.split(',')) #Transforming the stringified list to list"
      ],
      "execution_count": 6,
      "outputs": []
    },
    {
      "cell_type": "code",
      "metadata": {
        "colab": {
          "base_uri": "https://localhost:8080/"
        },
        "id": "VWUIoX2sJ-ov",
        "outputId": "a47ea83d-e467-418b-98b3-cbcb72fcf0e6"
      },
      "source": [
        "print(business_df['state'].value_counts().index) #NVM this cell. Not used anywhere\r\n",
        "aa = []\r\n",
        "for i in business_df['state'].value_counts().index:\r\n",
        "  aa.append(business_df[business_df['state']==i]['city'].nunique())\r\n",
        "print(aa)  "
      ],
      "execution_count": 7,
      "outputs": [
        {
          "output_type": "stream",
          "text": [
            "Index(['ON', 'AZ', 'NV', 'QC', 'OH', 'NC', 'PA', 'AB', 'WI', 'IL', 'SC'], dtype='object')\n",
            "[86, 53, 25, 204, 164, 41, 169, 15, 29, 21, 13]\n"
          ],
          "name": "stdout"
        }
      ]
    },
    {
      "cell_type": "code",
      "metadata": {
        "colab": {
          "base_uri": "https://localhost:8080/"
        },
        "id": "SrjNH85ifkEv",
        "outputId": "6bd57707-dd4b-41f3-875a-3e39298017dd"
      },
      "source": [
        "#Will explain cell 8-13 on call\r\n",
        "attribute_keys = []\r\n",
        "# business_df['attributes_edited'].apply(lambda x: keys.append(x.keys()))\r\n",
        "for i in business_df['attributes_edited']:\r\n",
        "  attribute_keys.append(list(i.keys()))\r\n",
        "\r\n",
        "attribute_keys = [item for sublist in attribute_keys for item in sublist]\r\n",
        "print(len(attribute_keys))\r\n",
        "\r\n",
        "unique_keys = list(set(attribute_keys))\r\n",
        "print('Number of unique attributes in dataset:',len(unique_keys))"
      ],
      "execution_count": 8,
      "outputs": [
        {
          "output_type": "stream",
          "text": [
            "747696\n",
            "Number of unique attributes in dataset: 40\n"
          ],
          "name": "stdout"
        }
      ]
    },
    {
      "cell_type": "code",
      "metadata": {
        "id": "JjF7Xy_BSh0d"
      },
      "source": [
        "# for i in business_df['attributes_edited'][0]:\r\n",
        "#   print(i+'_'+business_df['attributes_edited'][0][i])"
      ],
      "execution_count": 9,
      "outputs": []
    },
    {
      "cell_type": "code",
      "metadata": {
        "id": "vYHtJjbUXcKj"
      },
      "source": [
        "attribute_combo = []\r\n",
        "for i in business_df['attributes_edited']:\r\n",
        "  # print(list(i.keys()))\r\n",
        "  for j in list(i.keys()):\r\n",
        "    attribute_combo.append(j+'_'+i[j])"
      ],
      "execution_count": 10,
      "outputs": []
    },
    {
      "cell_type": "code",
      "metadata": {
        "colab": {
          "base_uri": "https://localhost:8080/"
        },
        "id": "Nj5cf6sXWvUk",
        "outputId": "c5f044da-3c29-4a2b-b691-43c68068810e"
      },
      "source": [
        "Attributes_Without_Dicts = []\r\n",
        "for i in list(set(attribute_combo)):\r\n",
        "  if i.split('_')[1][0] == '{':\r\n",
        "    continue\r\n",
        "  else:\r\n",
        "    Attributes_Without_Dicts.append(i)\r\n",
        "Attributes_Without_Dicts[:10]"
      ],
      "execution_count": 11,
      "outputs": [
        {
          "output_type": "execute_result",
          "data": {
            "text/plain": [
              "[\"Alcohol_u'beer_and_wine'\",\n",
              " \"BYOBCorkage_u'no'\",\n",
              " 'AcceptsInsurance_True',\n",
              " \"AgesAllowed_u'19plus'\",\n",
              " 'AcceptsInsurance_False',\n",
              " 'RestaurantsReservations_True',\n",
              " 'BikeParking_True',\n",
              " \"WiFi_u'free'\",\n",
              " \"Smoking_'outdoor'\",\n",
              " 'DriveThru_None']"
            ]
          },
          "metadata": {
            "tags": []
          },
          "execution_count": 11
        }
      ]
    },
    {
      "cell_type": "code",
      "metadata": {
        "id": "dUcDUqDyclqM"
      },
      "source": [
        "def Attributes_Func(row):\r\n",
        "  xx = []\r\n",
        "  for i in row.keys():\r\n",
        "      xx.append(i+'_'+row[i])\r\n",
        "  \r\n",
        "  final_list = []\r\n",
        "  for i in xx:\r\n",
        "    if i.split('_')[1][0] == '{':\r\n",
        "      continue\r\n",
        "    else:\r\n",
        "      final_list.append(i) \r\n",
        "  return(final_list)"
      ],
      "execution_count": 12,
      "outputs": []
    },
    {
      "cell_type": "code",
      "metadata": {
        "id": "4XWffc3pfh-g"
      },
      "source": [
        "business_df['Attributes_List'] = business_df['attributes_edited'].apply(lambda x: Attributes_Func(x))"
      ],
      "execution_count": 13,
      "outputs": []
    },
    {
      "cell_type": "code",
      "metadata": {
        "colab": {
          "base_uri": "https://localhost:8080/",
          "height": 195
        },
        "id": "tklRYjs1kcOf",
        "outputId": "88780757-6de6-4bcb-8b65-6b8254192dca"
      },
      "source": [
        "df_for_matrix = business_df[['business_id','Attributes_List','categories_edited']] #This is what our final DF for Count Vectorizer looks like\r\n",
        "df_for_matrix.head()"
      ],
      "execution_count": 14,
      "outputs": [
        {
          "output_type": "execute_result",
          "data": {
            "text/html": [
              "<div>\n",
              "<style scoped>\n",
              "    .dataframe tbody tr th:only-of-type {\n",
              "        vertical-align: middle;\n",
              "    }\n",
              "\n",
              "    .dataframe tbody tr th {\n",
              "        vertical-align: top;\n",
              "    }\n",
              "\n",
              "    .dataframe thead th {\n",
              "        text-align: right;\n",
              "    }\n",
              "</style>\n",
              "<table border=\"1\" class=\"dataframe\">\n",
              "  <thead>\n",
              "    <tr style=\"text-align: right;\">\n",
              "      <th></th>\n",
              "      <th>business_id</th>\n",
              "      <th>Attributes_List</th>\n",
              "      <th>categories_edited</th>\n",
              "    </tr>\n",
              "  </thead>\n",
              "  <tbody>\n",
              "    <tr>\n",
              "      <th>0</th>\n",
              "      <td>pQeaRpvuhoEqudo3uymHIQ</td>\n",
              "      <td>[RestaurantsAttire_u'casual', RestaurantsTakeO...</td>\n",
              "      <td>[Ethnic Food,  Food Trucks,  Specialty Food,  ...</td>\n",
              "    </tr>\n",
              "    <tr>\n",
              "      <th>1</th>\n",
              "      <td>M_guz7Dj7hX0evS672wIwA</td>\n",
              "      <td>[BikeParking_True, Caters_True, WheelchairAcce...</td>\n",
              "      <td>[Desserts,  Food,  Ice Cream &amp; Frozen Yogurt]</td>\n",
              "    </tr>\n",
              "    <tr>\n",
              "      <th>2</th>\n",
              "      <td>mKTq1T_IAplDpHUcMzOXkw</td>\n",
              "      <td>[BusinessAcceptsCreditCards_True]</td>\n",
              "      <td>[Hotels &amp; Travel,  Transportation,  Taxis,  Be...</td>\n",
              "    </tr>\n",
              "    <tr>\n",
              "      <th>3</th>\n",
              "      <td>eBEfgOPG7pvFhb2wcG9I7w</td>\n",
              "      <td>[RestaurantsTableService_False, RestaurantsDel...</td>\n",
              "      <td>[Restaurants,  Cheesesteaks,  Poutineries]</td>\n",
              "    </tr>\n",
              "    <tr>\n",
              "      <th>4</th>\n",
              "      <td>lu7vtrp_bE9PnxWfA8g4Pg</td>\n",
              "      <td>[GoodForKids_True, RestaurantsTakeOut_True, Al...</td>\n",
              "      <td>[Japanese,  Fast Food,  Food Court,  Restaurants]</td>\n",
              "    </tr>\n",
              "  </tbody>\n",
              "</table>\n",
              "</div>"
            ],
            "text/plain": [
              "              business_id  ...                                  categories_edited\n",
              "0  pQeaRpvuhoEqudo3uymHIQ  ...  [Ethnic Food,  Food Trucks,  Specialty Food,  ...\n",
              "1  M_guz7Dj7hX0evS672wIwA  ...      [Desserts,  Food,  Ice Cream & Frozen Yogurt]\n",
              "2  mKTq1T_IAplDpHUcMzOXkw  ...  [Hotels & Travel,  Transportation,  Taxis,  Be...\n",
              "3  eBEfgOPG7pvFhb2wcG9I7w  ...         [Restaurants,  Cheesesteaks,  Poutineries]\n",
              "4  lu7vtrp_bE9PnxWfA8g4Pg  ...  [Japanese,  Fast Food,  Food Court,  Restaurants]\n",
              "\n",
              "[5 rows x 3 columns]"
            ]
          },
          "metadata": {
            "tags": []
          },
          "execution_count": 14
        }
      ]
    },
    {
      "cell_type": "code",
      "metadata": {
        "id": "YaBustX2WA1c"
      },
      "source": [
        "# Function to convert all strings to lower case and strip names of spaces\r\n",
        "#Code from Data Camp. Cleaning the text by converting to lower case\r\n",
        "def clean_data(x):\r\n",
        "    if isinstance(x, list):\r\n",
        "        return [str.lower(i.replace(\" \", \"\")) for i in x]\r\n",
        "    else:\r\n",
        "        #Check if director exists. If not, return empty string\r\n",
        "        if isinstance(x, str):\r\n",
        "            return str.lower(x.replace(\" \", \"\"))\r\n",
        "        else:\r\n",
        "            return ''"
      ],
      "execution_count": 15,
      "outputs": []
    },
    {
      "cell_type": "code",
      "metadata": {
        "colab": {
          "base_uri": "https://localhost:8080/"
        },
        "id": "teabmfTxlegz",
        "outputId": "887de9c6-936c-4fb9-9a3b-69a071460d20"
      },
      "source": [
        "features = ['business_id', 'Attributes_List', 'categories_edited']\r\n",
        "\r\n",
        "for feature in features:\r\n",
        "    df_for_matrix[feature] = df_for_matrix[feature].apply(clean_data)"
      ],
      "execution_count": 16,
      "outputs": [
        {
          "output_type": "stream",
          "text": [
            "/usr/local/lib/python3.7/dist-packages/ipykernel_launcher.py:4: SettingWithCopyWarning: \n",
            "A value is trying to be set on a copy of a slice from a DataFrame.\n",
            "Try using .loc[row_indexer,col_indexer] = value instead\n",
            "\n",
            "See the caveats in the documentation: https://pandas.pydata.org/pandas-docs/stable/user_guide/indexing.html#returning-a-view-versus-a-copy\n",
            "  after removing the cwd from sys.path.\n"
          ],
          "name": "stderr"
        }
      ]
    },
    {
      "cell_type": "code",
      "metadata": {
        "id": "YHZddxeDlthe"
      },
      "source": [
        "def create_soup(x):\r\n",
        "    return(' '.join(x['Attributes_List']) + ' ' + ' '.join(x['categories_edited']) + ' ' + x['business_id'])"
      ],
      "execution_count": 17,
      "outputs": []
    },
    {
      "cell_type": "code",
      "metadata": {
        "colab": {
          "base_uri": "https://localhost:8080/"
        },
        "id": "2lvudfoPl_Bl",
        "outputId": "e593db2a-a93e-412c-91bd-d505c0f10642"
      },
      "source": [
        "df_for_matrix['soup'] = df_for_matrix.apply(create_soup, axis=1) #Joining values so it looks like next cell"
      ],
      "execution_count": 18,
      "outputs": [
        {
          "output_type": "stream",
          "text": [
            "/usr/local/lib/python3.7/dist-packages/ipykernel_launcher.py:1: SettingWithCopyWarning: \n",
            "A value is trying to be set on a copy of a slice from a DataFrame.\n",
            "Try using .loc[row_indexer,col_indexer] = value instead\n",
            "\n",
            "See the caveats in the documentation: https://pandas.pydata.org/pandas-docs/stable/user_guide/indexing.html#returning-a-view-versus-a-copy\n",
            "  \"\"\"Entry point for launching an IPython kernel.\n"
          ],
          "name": "stderr"
        }
      ]
    },
    {
      "cell_type": "code",
      "metadata": {
        "colab": {
          "base_uri": "https://localhost:8080/"
        },
        "id": "_28PvbtPmK-M",
        "outputId": "1e7e07cf-1b22-41db-83f8-553b0e0ccf3a"
      },
      "source": [
        "df_for_matrix[['soup']].head(2).values"
      ],
      "execution_count": 19,
      "outputs": [
        {
          "output_type": "execute_result",
          "data": {
            "text/plain": [
              "array([[\"restaurantsattire_u'casual' restaurantstakeout_true businessacceptscreditcards_true noiselevel_u'quiet' goodforkids_false restaurantsreservations_false restaurantsgoodforgroups_false businessparking_none restaurantspricerange2_1 hastv_true alcohol_'none' bikeparking_false restaurantsdelivery_true byappointmentonly_false outdoorseating_false ethnicfood foodtrucks specialtyfood importedfood argentine food restaurants empanadas pqearpvuhoequdo3uymhiq\"],\n",
              "       [\"bikeparking_true caters_true wheelchairaccessible_true restaurantspricerange2_1 wifi_u'no' businessacceptscreditcards_true restaurantstakeout_true desserts food icecream&frozenyogurt m_guz7dj7hx0evs672wiwa\"]],\n",
              "      dtype=object)"
            ]
          },
          "metadata": {
            "tags": []
          },
          "execution_count": 19
        }
      ]
    },
    {
      "cell_type": "code",
      "metadata": {
        "id": "Tvez40KBmr_7"
      },
      "source": [
        "from sklearn.feature_extraction.text import CountVectorizer\r\n",
        "count = CountVectorizer(stop_words='english')\r\n",
        "count_matrix = count.fit_transform(df_for_matrix['soup']) #Creating Count Vectorier matrix"
      ],
      "execution_count": 20,
      "outputs": []
    },
    {
      "cell_type": "code",
      "metadata": {
        "colab": {
          "base_uri": "https://localhost:8080/"
        },
        "id": "jzTSqai2nEbV",
        "outputId": "a2f22e35-4a8d-4fa7-d806-a236a9e002e8"
      },
      "source": [
        "count_matrix.shape"
      ],
      "execution_count": 21,
      "outputs": [
        {
          "output_type": "execute_result",
          "data": {
            "text/plain": [
              "(56901, 72150)"
            ]
          },
          "metadata": {
            "tags": []
          },
          "execution_count": 21
        }
      ]
    },
    {
      "cell_type": "code",
      "metadata": {
        "id": "w6nd87MIpPVw"
      },
      "source": [
        "Stars = business_df[['review_count','stars']]"
      ],
      "execution_count": 44,
      "outputs": []
    },
    {
      "cell_type": "code",
      "metadata": {
        "colab": {
          "base_uri": "https://localhost:8080/",
          "height": 373
        },
        "id": "wky9axswumZe",
        "outputId": "8a6561e3-5554-4ff0-fbf6-965a62f51503"
      },
      "source": [
        "sns.set_style(\"whitegrid\")\r\n",
        "sns.displot(data=Stars, x='review_count')\r\n",
        "plt.yscale(\"log\")\r\n",
        "plt.xscale(\"log\")"
      ],
      "execution_count": 45,
      "outputs": [
        {
          "output_type": "display_data",
          "data": {
            "image/png": "[encoded data removed]",
            "text/plain": [
              "<Figure size 360x360 with 1 Axes>"
            ]
          },
          "metadata": {
            "tags": []
          }
        }
      ]
    },
    {
      "cell_type": "code",
      "metadata": {
        "colab": {
          "base_uri": "https://localhost:8080/"
        },
        "id": "thdOnO4xwqOe",
        "outputId": "c9b59ac5-ce6b-4e74-ea68-4dab1557bcc0"
      },
      "source": [
        "C = Stars['stars'].mean() #This cell is Normalizing the Stars values based on the number of reviews they got. Will explain further on call. This is the same technique that is used in IMDB for their top 250 list\r\n",
        "m = 50\r\n",
        "# Function that computes the weighted rating of each movie\r\n",
        "def weighted_rating(x, m=m, C=C):\r\n",
        "    v = x['review_count']\r\n",
        "    R = x['stars']\r\n",
        "    # Calculation based on the IMDB formula\r\n",
        "    return (v/(v+m) * R) + (m/(m+v) * C)\r\n",
        "\r\n",
        "Stars['score'] = Stars.apply(weighted_rating, axis=1)"
      ],
      "execution_count": 56,
      "outputs": [
        {
          "output_type": "stream",
          "text": [
            "/usr/local/lib/python3.7/dist-packages/ipykernel_launcher.py:10: SettingWithCopyWarning: \n",
            "A value is trying to be set on a copy of a slice from a DataFrame.\n",
            "Try using .loc[row_indexer,col_indexer] = value instead\n",
            "\n",
            "See the caveats in the documentation: https://pandas.pydata.org/pandas-docs/stable/user_guide/indexing.html#returning-a-view-versus-a-copy\n",
            "  # Remove the CWD from sys.path while we load stuff.\n"
          ],
          "name": "stderr"
        }
      ]
    },
    {
      "cell_type": "code",
      "metadata": {
        "colab": {
          "base_uri": "https://localhost:8080/",
          "height": 354
        },
        "id": "GNfjcq0CyVRo",
        "outputId": "e6021ee5-8c65-4436-fba0-59536789780a"
      },
      "source": [
        "from scipy.sparse import hstack\r\n",
        "count_matrix = hstack((count_matrix,np.array(Stars['score'])[:,None])) #I'm trying to add the Score column to the sparse matrix but not able to add it. Have to figure out why\r\n",
        "count_matrix.shape"
      ],
      "execution_count": 72,
      "outputs": [
        {
          "output_type": "error",
          "ename": "ValueError",
          "evalue": "ignored",
          "traceback": [
            "\u001b[0;31m---------------------------------------------------------------------------\u001b[0m",
            "\u001b[0;31mValueError\u001b[0m                                Traceback (most recent call last)",
            "\u001b[0;32m<ipython-input-72-e78adce87489>\u001b[0m in \u001b[0;36m<module>\u001b[0;34m()\u001b[0m\n\u001b[1;32m      1\u001b[0m \u001b[0;32mfrom\u001b[0m \u001b[0mscipy\u001b[0m\u001b[0;34m.\u001b[0m\u001b[0msparse\u001b[0m \u001b[0;32mimport\u001b[0m \u001b[0mhstack\u001b[0m\u001b[0;34m\u001b[0m\u001b[0;34m\u001b[0m\u001b[0m\n\u001b[1;32m      2\u001b[0m \u001b[0;31m#count_matrix = hstack((count_matrix,np.array(Stars['score'])[:,None]))\u001b[0m\u001b[0;34m\u001b[0m\u001b[0;34m\u001b[0m\u001b[0;34m\u001b[0m\u001b[0m\n\u001b[0;32m----> 3\u001b[0;31m \u001b[0mcount_matrix\u001b[0m \u001b[0;34m=\u001b[0m \u001b[0mhstack\u001b[0m\u001b[0;34m(\u001b[0m\u001b[0;34m[\u001b[0m\u001b[0mcount_matrix\u001b[0m\u001b[0;34m,\u001b[0m\u001b[0mStars\u001b[0m\u001b[0;34m[\u001b[0m\u001b[0;34m'score'\u001b[0m\u001b[0;34m]\u001b[0m\u001b[0;34m]\u001b[0m\u001b[0;34m)\u001b[0m\u001b[0;34m\u001b[0m\u001b[0;34m\u001b[0m\u001b[0m\n\u001b[0m\u001b[1;32m      4\u001b[0m \u001b[0mcount_matrix\u001b[0m\u001b[0;34m.\u001b[0m\u001b[0mshape\u001b[0m\u001b[0;34m\u001b[0m\u001b[0;34m\u001b[0m\u001b[0m\n",
            "\u001b[0;32m/usr/local/lib/python3.7/dist-packages/scipy/sparse/construct.py\u001b[0m in \u001b[0;36mhstack\u001b[0;34m(blocks, format, dtype)\u001b[0m\n\u001b[1;32m    463\u001b[0m \u001b[0;34m\u001b[0m\u001b[0m\n\u001b[1;32m    464\u001b[0m     \"\"\"\n\u001b[0;32m--> 465\u001b[0;31m     \u001b[0;32mreturn\u001b[0m \u001b[0mbmat\u001b[0m\u001b[0;34m(\u001b[0m\u001b[0;34m[\u001b[0m\u001b[0mblocks\u001b[0m\u001b[0;34m]\u001b[0m\u001b[0;34m,\u001b[0m \u001b[0mformat\u001b[0m\u001b[0;34m=\u001b[0m\u001b[0mformat\u001b[0m\u001b[0;34m,\u001b[0m \u001b[0mdtype\u001b[0m\u001b[0;34m=\u001b[0m\u001b[0mdtype\u001b[0m\u001b[0;34m)\u001b[0m\u001b[0;34m\u001b[0m\u001b[0;34m\u001b[0m\u001b[0m\n\u001b[0m\u001b[1;32m    466\u001b[0m \u001b[0;34m\u001b[0m\u001b[0m\n\u001b[1;32m    467\u001b[0m \u001b[0;34m\u001b[0m\u001b[0m\n",
            "\u001b[0;32m/usr/local/lib/python3.7/dist-packages/scipy/sparse/construct.py\u001b[0m in \u001b[0;36mbmat\u001b[0;34m(blocks, format, dtype)\u001b[0m\n\u001b[1;32m    584\u001b[0m                                                     \u001b[0mexp\u001b[0m\u001b[0;34m=\u001b[0m\u001b[0mbrow_lengths\u001b[0m\u001b[0;34m[\u001b[0m\u001b[0mi\u001b[0m\u001b[0;34m]\u001b[0m\u001b[0;34m,\u001b[0m\u001b[0;34m\u001b[0m\u001b[0;34m\u001b[0m\u001b[0m\n\u001b[1;32m    585\u001b[0m                                                     got=A.shape[0]))\n\u001b[0;32m--> 586\u001b[0;31m                     \u001b[0;32mraise\u001b[0m \u001b[0mValueError\u001b[0m\u001b[0;34m(\u001b[0m\u001b[0mmsg\u001b[0m\u001b[0;34m)\u001b[0m\u001b[0;34m\u001b[0m\u001b[0;34m\u001b[0m\u001b[0m\n\u001b[0m\u001b[1;32m    587\u001b[0m \u001b[0;34m\u001b[0m\u001b[0m\n\u001b[1;32m    588\u001b[0m                 \u001b[0;32mif\u001b[0m \u001b[0mbcol_lengths\u001b[0m\u001b[0;34m[\u001b[0m\u001b[0mj\u001b[0m\u001b[0;34m]\u001b[0m \u001b[0;34m==\u001b[0m \u001b[0;36m0\u001b[0m\u001b[0;34m:\u001b[0m\u001b[0;34m\u001b[0m\u001b[0;34m\u001b[0m\u001b[0m\n",
            "\u001b[0;31mValueError\u001b[0m: blocks[0,:] has incompatible row dimensions. Got blocks[0,1].shape[0] == 1, expected 4."
          ]
        }
      ]
    },
    {
      "cell_type": "code",
      "metadata": {
        "id": "o7O6TZminG8a"
      },
      "source": [
        "from sklearn.metrics.pairwise import cosine_similarity\r\n",
        "\r\n",
        "cosine_sim2 = cosine_similarity(count_matrix, count_matrix) #Kernel crashes when trying to run this cell"
      ],
      "execution_count": null,
      "outputs": []
    }
  ]
}
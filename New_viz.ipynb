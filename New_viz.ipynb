{
  "nbformat": 4,
  "nbformat_minor": 0,
  "metadata": {
    "colab": {
      "name": "New_viz.ipynb",
      "provenance": [],
      "authorship_tag": "ABX9TyMFreZ4r4sGMDcwj5PuCIY7",
      "include_colab_link": true
    },
    "kernelspec": {
      "name": "python3",
      "display_name": "Python 3"
    }
  },
  "cells": [
    {
      "cell_type": "markdown",
      "metadata": {
        "id": "view-in-github",
        "colab_type": "text"
      },
      "source": [
        "<a href=\"https://colab.research.google.com/github/Manisha2297/RestroRecommender/blob/main/New_viz.ipynb\" target=\"_parent\"><img src=\"https://colab.research.google.com/assets/colab-badge.svg\" alt=\"Open In Colab\"/></a>"
      ]
    },
    {
      "cell_type": "code",
      "metadata": {
        "id": "YxZp7WGB7WWi"
      },
      "source": [
        "import pandas as pd\n",
        "from matplotlib import pyplot as plt"
      ],
      "execution_count": 1,
      "outputs": []
    },
    {
      "cell_type": "code",
      "metadata": {
        "colab": {
          "base_uri": "https://localhost:8080/"
        },
        "id": "kKbwQfsL8e2y",
        "outputId": "9a356b7b-3022-482d-aff5-786fa1d9a81f"
      },
      "source": [
        "#mount your own drive to avoid downloading the data multiple time \n",
        "\n",
        "from google.colab import drive\n",
        "drive.mount('/content/gdrive')"
      ],
      "execution_count": 2,
      "outputs": [
        {
          "output_type": "stream",
          "text": [
            "Mounted at /content/gdrive\n"
          ],
          "name": "stdout"
        }
      ]
    },
    {
      "cell_type": "code",
      "metadata": {
        "id": "bKyTzOIA8hEJ"
      },
      "source": [
        "df_business = pd.read_csv('/content/gdrive/MyDrive/YelpDataset/CsvFiles/yelp_academic_dataset_business.csv')"
      ],
      "execution_count": 3,
      "outputs": []
    },
    {
      "cell_type": "code",
      "metadata": {
        "colab": {
          "base_uri": "https://localhost:8080/",
          "height": 306
        },
        "id": "QvaJhG8j8rXz",
        "outputId": "292c5dc2-935d-4d46-95a6-f9df6ca8feea"
      },
      "source": [
        "df_business.head(2)"
      ],
      "execution_count": 4,
      "outputs": [
        {
          "output_type": "execute_result",
          "data": {
            "text/html": [
              "<div>\n",
              "<style scoped>\n",
              "    .dataframe tbody tr th:only-of-type {\n",
              "        vertical-align: middle;\n",
              "    }\n",
              "\n",
              "    .dataframe tbody tr th {\n",
              "        vertical-align: top;\n",
              "    }\n",
              "\n",
              "    .dataframe thead th {\n",
              "        text-align: right;\n",
              "    }\n",
              "</style>\n",
              "<table border=\"1\" class=\"dataframe\">\n",
              "  <thead>\n",
              "    <tr style=\"text-align: right;\">\n",
              "      <th></th>\n",
              "      <th>Unnamed: 0</th>\n",
              "      <th>address</th>\n",
              "      <th>attributes</th>\n",
              "      <th>business_id</th>\n",
              "      <th>categories</th>\n",
              "      <th>city</th>\n",
              "      <th>hours</th>\n",
              "      <th>is_open</th>\n",
              "      <th>latitude</th>\n",
              "      <th>longitude</th>\n",
              "      <th>name</th>\n",
              "      <th>postal_code</th>\n",
              "      <th>review_count</th>\n",
              "      <th>stars</th>\n",
              "      <th>state</th>\n",
              "    </tr>\n",
              "  </thead>\n",
              "  <tbody>\n",
              "    <tr>\n",
              "      <th>0</th>\n",
              "      <td>0</td>\n",
              "      <td>10913 Bailey Rd</td>\n",
              "      <td>{'BusinessAcceptsCreditCards': 'True', 'BikePa...</td>\n",
              "      <td>f9NumwFMBDn751xgFiRbNA</td>\n",
              "      <td>Active Life, Gun/Rifle Ranges, Guns &amp; Ammo, Sh...</td>\n",
              "      <td>Cornelius</td>\n",
              "      <td>{'Monday': '10:0-18:0', 'Tuesday': '11:0-20:0'...</td>\n",
              "      <td>1</td>\n",
              "      <td>35.462724</td>\n",
              "      <td>-80.852612</td>\n",
              "      <td>The Range At Lake Norman</td>\n",
              "      <td>28031</td>\n",
              "      <td>36</td>\n",
              "      <td>3.5</td>\n",
              "      <td>NC</td>\n",
              "    </tr>\n",
              "    <tr>\n",
              "      <th>1</th>\n",
              "      <td>1</td>\n",
              "      <td>8880 E Via Linda, Ste 107</td>\n",
              "      <td>{'GoodForKids': 'True', 'ByAppointmentOnly': '...</td>\n",
              "      <td>Yzvjg0SayhoZgCljUJRF9Q</td>\n",
              "      <td>Health &amp; Medical, Fitness &amp; Instruction, Yoga,...</td>\n",
              "      <td>Scottsdale</td>\n",
              "      <td>NaN</td>\n",
              "      <td>1</td>\n",
              "      <td>33.569404</td>\n",
              "      <td>-111.890264</td>\n",
              "      <td>Carlos Santo, NMD</td>\n",
              "      <td>85258</td>\n",
              "      <td>4</td>\n",
              "      <td>5.0</td>\n",
              "      <td>AZ</td>\n",
              "    </tr>\n",
              "  </tbody>\n",
              "</table>\n",
              "</div>"
            ],
            "text/plain": [
              "   Unnamed: 0                    address  ... stars state\n",
              "0           0            10913 Bailey Rd  ...   3.5    NC\n",
              "1           1  8880 E Via Linda, Ste 107  ...   5.0    AZ\n",
              "\n",
              "[2 rows x 15 columns]"
            ]
          },
          "metadata": {
            "tags": []
          },
          "execution_count": 4
        }
      ]
    },
    {
      "cell_type": "code",
      "metadata": {
        "id": "vUIzrm8U81Fn"
      },
      "source": [
        "df_business.drop('Unnamed: 0',axis=1,inplace = True)\n",
        "df_business.categories = df_business.categories.fillna('')"
      ],
      "execution_count": null,
      "outputs": []
    },
    {
      "cell_type": "code",
      "metadata": {
        "id": "LWJrhRPs9FJz"
      },
      "source": [
        ""
      ],
      "execution_count": null,
      "outputs": []
    },
    {
      "cell_type": "code",
      "metadata": {
        "id": "CDprrh5Z86OV"
      },
      "source": [
        "df_open = df_business[df_business.is_open ==1]\n",
        "\n",
        "\n",
        "Categories = {}\n",
        "\n",
        "for x in df_open.categories:\n",
        "   \n",
        "   all_categories = x.split(',')\n",
        "   for cat in all_categories:\n",
        "     if cat not in Categories:\n",
        "       Categories[cat]=1\n",
        "     else:\n",
        "       Categories[cat] +=1\n",
        "\n",
        "All_categories = list(Categories.keys())    \n",
        "Cat_list = [[x, Categories[x]] for x in All_categories]\n",
        "\n",
        "# print(sorted(Cat_list, key = lambda x: x[1], reverse = True))\n",
        "\n",
        "Cat_list = sorted(Cat_list, key = lambda x: x[1], reverse = True)   \n",
        "\n",
        "top_50 = Cat_list[:50]\n",
        "\n",
        "plt.figure(figsize= (20,10))\n",
        "plt.bar(range(len(top_50)), [x[1] for x in top_50],align = 'center',color ='bkmcgr' )\n",
        "plt.xticks(range(len(top_50)), [x[0] for x in top_50], rotation = 'vertical')\n",
        "plt.show();"
      ],
      "execution_count": null,
      "outputs": []
    }
  ]
}
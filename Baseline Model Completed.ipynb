{
  "nbformat": 4,
  "nbformat_minor": 0,
  "metadata": {
    "colab": {
      "name": "Untitled20.ipynb",
      "provenance": [],
      "mount_file_id": "1MHPXORYChHApZyk3xRXBau__XnlVZUDj",
      "authorship_tag": "ABX9TyPWmeCPIy6sY9IZSQsqtva5",
      "include_colab_link": true
    },
    "kernelspec": {
      "name": "python3",
      "display_name": "Python 3"
    }
  },
  "cells": [
    {
      "cell_type": "markdown",
      "metadata": {
        "id": "view-in-github",
        "colab_type": "text"
      },
      "source": [
        "<a href=\"https://colab.research.google.com/github/Manisha2297/RestroRecommender/blob/main/Baseline%20Model%20Completed.ipynb\" target=\"_parent\"><img src=\"https://colab.research.google.com/assets/colab-badge.svg\" alt=\"Open In Colab\"/></a>"
      ]
    },
    {
      "cell_type": "markdown",
      "metadata": {
        "id": "7tFuVGCv1B4U"
      },
      "source": [
        "# Baseline Model Based on Cosine Similarity Between Restaurant Characteristics"
      ]
    },
    {
      "cell_type": "code",
      "metadata": {
        "id": "2hksS9EGvhz2"
      },
      "source": [
        "%matplotlib inline \r\n",
        "#this line above prepares IPython notebook for working with matplotlib\r\n",
        "\r\n",
        "\r\n",
        "import numpy as np # imports a fast numerical programming library\r\n",
        "import scipy as sp #imports stats functions, amongst other things\r\n",
        "import matplotlib as mpl # this actually imports matplotlib\r\n",
        "import matplotlib.cm as cm #allows us easy access to colormaps\r\n",
        "import matplotlib.pyplot as plt #sets up plotting under plt\r\n",
        "import pandas as pd #lets us handle data as dataframes\r\n",
        "import seaborn as sns\r\n",
        "from scipy import stats \r\n",
        "from datetime import datetime\r\n",
        "\r\n",
        "from sklearn.model_selection import train_test_split\r\n",
        "from sklearn.metrics.pairwise import cosine_similarity\r\n",
        "from scipy.sparse import hstack\r\n",
        "from sklearn.feature_extraction.text import CountVectorizer\r\n",
        "from ast import literal_eval\r\n",
        "\r\n",
        "from math import sin, cos, sqrt, atan2, radians"
      ],
      "execution_count": 1,
      "outputs": []
    },
    {
      "cell_type": "markdown",
      "metadata": {
        "id": "jL3sSwfn1gcL"
      },
      "source": [
        "## Data Preparation"
      ]
    },
    {
      "cell_type": "code",
      "metadata": {
        "colab": {
          "base_uri": "https://localhost:8080/"
        },
        "id": "Y7yo-E9mv-3l",
        "outputId": "f7a66494-4e41-4bd4-cea2-68e56d1518ed"
      },
      "source": [
        "business_df = pd.read_pickle('/content/drive/MyDrive/YelpDataset/PickleFiles/restuarant_df')\r\n",
        "business_df.shape"
      ],
      "execution_count": 2,
      "outputs": [
        {
          "output_type": "execute_result",
          "data": {
            "text/plain": [
              "(56901, 14)"
            ]
          },
          "metadata": {
            "tags": []
          },
          "execution_count": 2
        }
      ]
    },
    {
      "cell_type": "code",
      "metadata": {
        "id": "dwdZqG9WwtLi"
      },
      "source": [
        "business_df = business_df.astype({'latitude':'float','longitude':'float','review_count':'int64','stars':'float'})"
      ],
      "execution_count": 3,
      "outputs": []
    },
    {
      "cell_type": "code",
      "metadata": {
        "colab": {
          "base_uri": "https://localhost:8080/"
        },
        "id": "c4SZL5GJIvVW",
        "outputId": "0b585441-1324-49ae-e714-c2ad754ed243"
      },
      "source": [
        "business_df.dtypes"
      ],
      "execution_count": 4,
      "outputs": [
        {
          "output_type": "execute_result",
          "data": {
            "text/plain": [
              "address          object\n",
              "attributes       object\n",
              "business_id      object\n",
              "categories       object\n",
              "city             object\n",
              "hours            object\n",
              "is_open          object\n",
              "latitude        float64\n",
              "longitude       float64\n",
              "name             object\n",
              "postal_code      object\n",
              "review_count      int64\n",
              "stars           float64\n",
              "state            object\n",
              "dtype: object"
            ]
          },
          "metadata": {
            "tags": []
          },
          "execution_count": 4
        }
      ]
    },
    {
      "cell_type": "markdown",
      "metadata": {
        "id": "oU2QM_Zw1-9z"
      },
      "source": [
        "*We are building a similarity matrix based on the columns Categories, Attributes, Stars and Review Count. The DataFrame in its current form has both the Caetegories and Attributes column in string formats, and we have to convert them to lists and dictionaries respectively.*\r\n",
        "\r\n",
        "*We create additional columns with the modified versions of the Categories and Attributes*"
      ]
    },
    {
      "cell_type": "code",
      "metadata": {
        "id": "QC1tcQjaN27y"
      },
      "source": [
        "business_df['attributes'] = business_df['attributes'].fillna(\"{'None':'None'}\") #Removing None values\r\n",
        "business_df['attributes_edited'] = business_df['attributes'].apply(lambda x: literal_eval(x)) #Transforming the stringified dictionary to dictionary\r\n",
        "\r\n",
        "business_df['categories_edited'] = business_df['categories'].apply(lambda x: x.split(',')) #Transforming the stringified list to list"
      ],
      "execution_count": 5,
      "outputs": []
    },
    {
      "cell_type": "markdown",
      "metadata": {
        "id": "ErtgVW8P3Dug"
      },
      "source": [
        "*The edited Attributes column still has dictionaries, and we transform the column to display the attributes in the format Attribute_Attribute value*"
      ]
    },
    {
      "cell_type": "code",
      "metadata": {
        "colab": {
          "base_uri": "https://localhost:8080/"
        },
        "id": "SrjNH85ifkEv",
        "outputId": "6effa088-53cc-4714-80d3-aa2ad3cd7976"
      },
      "source": [
        "attribute_keys = []\r\n",
        "for i in business_df['attributes_edited']: #We get the dictionary keys to find out how many unique attributes are there in the data\r\n",
        "  attribute_keys.append(list(i.keys()))\r\n",
        "\r\n",
        "attribute_keys = [item for sublist in attribute_keys for item in sublist]\r\n",
        "\r\n",
        "unique_keys = list(set(attribute_keys))\r\n",
        "print('Number of unique attributes in dataset:',len(unique_keys))"
      ],
      "execution_count": 102,
      "outputs": [
        {
          "output_type": "stream",
          "text": [
            "Number of unique attributes in dataset: 40\n"
          ],
          "name": "stdout"
        }
      ]
    },
    {
      "cell_type": "code",
      "metadata": {
        "id": "dUcDUqDyclqM"
      },
      "source": [
        "def Attributes_Func(row): #We write this function to separate out the keys(Attributes) and their values\r\n",
        "  xx = []\r\n",
        "  for i in row.keys():\r\n",
        "      xx.append(i+'_'+row[i])\r\n",
        "  \r\n",
        "  final_list = []\r\n",
        "  for i in xx:\r\n",
        "    if i.split('_')[1][0] == '{':\r\n",
        "      continue\r\n",
        "    else:\r\n",
        "      final_list.append(i) \r\n",
        "  return(final_list)"
      ],
      "execution_count": 11,
      "outputs": []
    },
    {
      "cell_type": "code",
      "metadata": {
        "id": "4XWffc3pfh-g"
      },
      "source": [
        "business_df['Attributes_List'] = business_df['attributes_edited'].apply(lambda x: Attributes_Func(x))"
      ],
      "execution_count": 12,
      "outputs": []
    },
    {
      "cell_type": "markdown",
      "metadata": {
        "id": "lLVIbYUUtR65"
      },
      "source": [
        "# Building a Cosine Similarity Matrix"
      ]
    },
    {
      "cell_type": "markdown",
      "metadata": {
        "id": "vXG-uZOy4myT"
      },
      "source": [
        "*We separate out the required columns for the Cosine Similarity calculations*"
      ]
    },
    {
      "cell_type": "code",
      "metadata": {
        "colab": {
          "base_uri": "https://localhost:8080/",
          "height": 195
        },
        "id": "tklRYjs1kcOf",
        "outputId": "6f217740-bc80-43ff-ef72-c2e73087b541"
      },
      "source": [
        "df_for_matrix = business_df[['business_id','Attributes_List','categories_edited']] #This is what our final DF for Count Vectorizer looks like\r\n",
        "df_for_matrix.head()"
      ],
      "execution_count": 104,
      "outputs": [
        {
          "output_type": "execute_result",
          "data": {
            "text/html": [
              "<div>\n",
              "<style scoped>\n",
              "    .dataframe tbody tr th:only-of-type {\n",
              "        vertical-align: middle;\n",
              "    }\n",
              "\n",
              "    .dataframe tbody tr th {\n",
              "        vertical-align: top;\n",
              "    }\n",
              "\n",
              "    .dataframe thead th {\n",
              "        text-align: right;\n",
              "    }\n",
              "</style>\n",
              "<table border=\"1\" class=\"dataframe\">\n",
              "  <thead>\n",
              "    <tr style=\"text-align: right;\">\n",
              "      <th></th>\n",
              "      <th>business_id</th>\n",
              "      <th>Attributes_List</th>\n",
              "      <th>categories_edited</th>\n",
              "    </tr>\n",
              "  </thead>\n",
              "  <tbody>\n",
              "    <tr>\n",
              "      <th>0</th>\n",
              "      <td>pQeaRpvuhoEqudo3uymHIQ</td>\n",
              "      <td>[RestaurantsAttire_u'casual', RestaurantsTakeO...</td>\n",
              "      <td>[Ethnic Food,  Food Trucks,  Specialty Food,  ...</td>\n",
              "    </tr>\n",
              "    <tr>\n",
              "      <th>1</th>\n",
              "      <td>M_guz7Dj7hX0evS672wIwA</td>\n",
              "      <td>[BikeParking_True, Caters_True, WheelchairAcce...</td>\n",
              "      <td>[Desserts,  Food,  Ice Cream &amp; Frozen Yogurt]</td>\n",
              "    </tr>\n",
              "    <tr>\n",
              "      <th>2</th>\n",
              "      <td>mKTq1T_IAplDpHUcMzOXkw</td>\n",
              "      <td>[BusinessAcceptsCreditCards_True]</td>\n",
              "      <td>[Hotels &amp; Travel,  Transportation,  Taxis,  Be...</td>\n",
              "    </tr>\n",
              "    <tr>\n",
              "      <th>3</th>\n",
              "      <td>eBEfgOPG7pvFhb2wcG9I7w</td>\n",
              "      <td>[RestaurantsTableService_False, RestaurantsDel...</td>\n",
              "      <td>[Restaurants,  Cheesesteaks,  Poutineries]</td>\n",
              "    </tr>\n",
              "    <tr>\n",
              "      <th>4</th>\n",
              "      <td>lu7vtrp_bE9PnxWfA8g4Pg</td>\n",
              "      <td>[GoodForKids_True, RestaurantsTakeOut_True, Al...</td>\n",
              "      <td>[Japanese,  Fast Food,  Food Court,  Restaurants]</td>\n",
              "    </tr>\n",
              "  </tbody>\n",
              "</table>\n",
              "</div>"
            ],
            "text/plain": [
              "              business_id  ...                                  categories_edited\n",
              "0  pQeaRpvuhoEqudo3uymHIQ  ...  [Ethnic Food,  Food Trucks,  Specialty Food,  ...\n",
              "1  M_guz7Dj7hX0evS672wIwA  ...      [Desserts,  Food,  Ice Cream & Frozen Yogurt]\n",
              "2  mKTq1T_IAplDpHUcMzOXkw  ...  [Hotels & Travel,  Transportation,  Taxis,  Be...\n",
              "3  eBEfgOPG7pvFhb2wcG9I7w  ...         [Restaurants,  Cheesesteaks,  Poutineries]\n",
              "4  lu7vtrp_bE9PnxWfA8g4Pg  ...  [Japanese,  Fast Food,  Food Court,  Restaurants]\n",
              "\n",
              "[5 rows x 3 columns]"
            ]
          },
          "metadata": {
            "tags": []
          },
          "execution_count": 104
        }
      ]
    },
    {
      "cell_type": "code",
      "metadata": {
        "id": "F9xzYlY_haBR"
      },
      "source": [
        "# df_for_matrix.to_pickle('/content/drive/MyDrive/YelpDataset/PickleFiles/Attributes_and_Characteristics')"
      ],
      "execution_count": 15,
      "outputs": []
    },
    {
      "cell_type": "markdown",
      "metadata": {
        "id": "QXfjbj2v5B0L"
      },
      "source": [
        "*We clean the DataFrame so all entries in it are lower case, and we make transform each row corresponding to information about a restaurant to a string with each Category / Attribute_Attribute value separated out by spaces. This is done to be able to pass the rows into the CountVectorizer function*"
      ]
    },
    {
      "cell_type": "code",
      "metadata": {
        "id": "YaBustX2WA1c"
      },
      "source": [
        "# Function to convert all strings to lower case and strip names of spaces\r\n",
        "#Code from Data Camp. Cleaning the text by converting to lower case\r\n",
        "def clean_data(x):\r\n",
        "    if isinstance(x, list):\r\n",
        "        return [str.lower(i.replace(\" \", \"\")) for i in x]\r\n",
        "    else:\r\n",
        "        #Check if director exists. If not, return empty string\r\n",
        "        if isinstance(x, str):\r\n",
        "            return str.lower(x.replace(\" \", \"\"))\r\n",
        "        else:\r\n",
        "            return ''"
      ],
      "execution_count": 16,
      "outputs": []
    },
    {
      "cell_type": "code",
      "metadata": {
        "colab": {
          "base_uri": "https://localhost:8080/"
        },
        "id": "teabmfTxlegz",
        "outputId": "12e61d61-a91f-4e0a-f809-8e2ec62f10b1"
      },
      "source": [
        "features = ['business_id', 'Attributes_List', 'categories_edited']\r\n",
        "\r\n",
        "for feature in features:\r\n",
        "    df_for_matrix[feature] = df_for_matrix[feature].apply(clean_data)"
      ],
      "execution_count": 17,
      "outputs": [
        {
          "output_type": "stream",
          "text": [
            "/usr/local/lib/python3.7/dist-packages/ipykernel_launcher.py:4: SettingWithCopyWarning: \n",
            "A value is trying to be set on a copy of a slice from a DataFrame.\n",
            "Try using .loc[row_indexer,col_indexer] = value instead\n",
            "\n",
            "See the caveats in the documentation: https://pandas.pydata.org/pandas-docs/stable/user_guide/indexing.html#returning-a-view-versus-a-copy\n",
            "  after removing the cwd from sys.path.\n"
          ],
          "name": "stderr"
        }
      ]
    },
    {
      "cell_type": "code",
      "metadata": {
        "id": "YHZddxeDlthe"
      },
      "source": [
        "def create_soup(x): #We write this function to write the data as categories and attributes separated by spaces\r\n",
        "    return(' '.join(x['Attributes_List']) + ' ' + ' '.join(x['categories_edited']) + ' ' + x['business_id'])"
      ],
      "execution_count": 18,
      "outputs": []
    },
    {
      "cell_type": "code",
      "metadata": {
        "colab": {
          "base_uri": "https://localhost:8080/"
        },
        "id": "2lvudfoPl_Bl",
        "outputId": "f26f6d07-7b8b-47fd-9e55-fe3baa28ab4a"
      },
      "source": [
        "df_for_matrix['soup'] = df_for_matrix.apply(create_soup, axis=1) #Joining values so it looks like next cell"
      ],
      "execution_count": 19,
      "outputs": [
        {
          "output_type": "stream",
          "text": [
            "/usr/local/lib/python3.7/dist-packages/ipykernel_launcher.py:1: SettingWithCopyWarning: \n",
            "A value is trying to be set on a copy of a slice from a DataFrame.\n",
            "Try using .loc[row_indexer,col_indexer] = value instead\n",
            "\n",
            "See the caveats in the documentation: https://pandas.pydata.org/pandas-docs/stable/user_guide/indexing.html#returning-a-view-versus-a-copy\n",
            "  \"\"\"Entry point for launching an IPython kernel.\n"
          ],
          "name": "stderr"
        }
      ]
    },
    {
      "cell_type": "code",
      "metadata": {
        "colab": {
          "base_uri": "https://localhost:8080/"
        },
        "id": "_28PvbtPmK-M",
        "outputId": "bad25856-8692-420b-f1db-867c9d5364b5"
      },
      "source": [
        "df_for_matrix[['soup']].head(2).values #This is how our final data looks before transformation"
      ],
      "execution_count": 20,
      "outputs": [
        {
          "output_type": "execute_result",
          "data": {
            "text/plain": [
              "array([[\"restaurantsattire_u'casual' restaurantstakeout_true businessacceptscreditcards_true noiselevel_u'quiet' goodforkids_false restaurantsreservations_false restaurantsgoodforgroups_false businessparking_none restaurantspricerange2_1 hastv_true alcohol_'none' bikeparking_false restaurantsdelivery_true byappointmentonly_false outdoorseating_false ethnicfood foodtrucks specialtyfood importedfood argentine food restaurants empanadas pqearpvuhoequdo3uymhiq\"],\n",
              "       [\"bikeparking_true caters_true wheelchairaccessible_true restaurantspricerange2_1 wifi_u'no' businessacceptscreditcards_true restaurantstakeout_true desserts food icecream&frozenyogurt m_guz7dj7hx0evs672wiwa\"]],\n",
              "      dtype=object)"
            ]
          },
          "metadata": {
            "tags": []
          },
          "execution_count": 20
        }
      ]
    },
    {
      "cell_type": "code",
      "metadata": {
        "id": "Tvez40KBmr_7"
      },
      "source": [
        "count = CountVectorizer(stop_words='english')\r\n",
        "count_matrix = count.fit_transform(df_for_matrix['soup']) #Creating Count Vectorizer matrix"
      ],
      "execution_count": 21,
      "outputs": []
    },
    {
      "cell_type": "code",
      "metadata": {
        "colab": {
          "base_uri": "https://localhost:8080/"
        },
        "id": "jzTSqai2nEbV",
        "outputId": "c3b16a37-3cee-4137-99a7-85ec7bf9a582"
      },
      "source": [
        "count_matrix.shape"
      ],
      "execution_count": 22,
      "outputs": [
        {
          "output_type": "execute_result",
          "data": {
            "text/plain": [
              "(56901, 72150)"
            ]
          },
          "metadata": {
            "tags": []
          },
          "execution_count": 22
        }
      ]
    },
    {
      "cell_type": "markdown",
      "metadata": {
        "id": "w8Vgg1lP5yYz"
      },
      "source": [
        "*This count_matrix has transformed the text fields into a sparse matrix with 56901 rows -- corresponding to the number of restaurants in our data -- and 72150 columns -- corresponding to unique charateristics of each row--*\r\n",
        "\r\n",
        "*We still need to incorporate user ratings of the restaurants, which we do below*"
      ]
    },
    {
      "cell_type": "code",
      "metadata": {
        "id": "w6nd87MIpPVw"
      },
      "source": [
        "Stars = business_df[['review_count','stars']]"
      ],
      "execution_count": 23,
      "outputs": []
    },
    {
      "cell_type": "code",
      "metadata": {
        "id": "wky9axswumZe"
      },
      "source": [
        "# sns.set_style(\"whitegrid\")\r\n",
        "# sns.displot(data=Stars, x='review_count')\r\n",
        "# plt.yscale(\"log\")\r\n",
        "# plt.xscale(\"log\")"
      ],
      "execution_count": 24,
      "outputs": []
    },
    {
      "cell_type": "markdown",
      "metadata": {
        "id": "zbY72Qyj6em2"
      },
      "source": [
        "*The technique we use for normalizing user ratings based on number of reviews is cooperated from the IMDB rating system. This is how it works:*\r\n",
        "![IMDB.PNG](data:image/png;base64,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)\r\n"
      ]
    },
    {
      "cell_type": "code",
      "metadata": {
        "colab": {
          "base_uri": "https://localhost:8080/"
        },
        "id": "thdOnO4xwqOe",
        "outputId": "e2a8234d-acef-45d7-a96d-5d65c1ea7d61"
      },
      "source": [
        "C = Stars['stars'].mean()\r\n",
        "m = 50\r\n",
        "# Function that computes the weighted rating of each restaurant\r\n",
        "def weighted_rating(x, m=m, C=C):\r\n",
        "    v = x['review_count']\r\n",
        "    R = x['stars']\r\n",
        "    # Calculation based on the IMDB formula\r\n",
        "    return (v/(v+m) * R) + (m/(m+v) * C)\r\n",
        "\r\n",
        "Stars['score'] = Stars.apply(weighted_rating, axis=1)"
      ],
      "execution_count": 25,
      "outputs": [
        {
          "output_type": "stream",
          "text": [
            "/usr/local/lib/python3.7/dist-packages/ipykernel_launcher.py:10: SettingWithCopyWarning: \n",
            "A value is trying to be set on a copy of a slice from a DataFrame.\n",
            "Try using .loc[row_indexer,col_indexer] = value instead\n",
            "\n",
            "See the caveats in the documentation: https://pandas.pydata.org/pandas-docs/stable/user_guide/indexing.html#returning-a-view-versus-a-copy\n",
            "  # Remove the CWD from sys.path while we load stuff.\n"
          ],
          "name": "stderr"
        }
      ]
    },
    {
      "cell_type": "markdown",
      "metadata": {
        "id": "Ey67M2o470re"
      },
      "source": [
        "*We append this weighted rating column to the CountVectorizer matrix*\r\n",
        "\r\n",
        "\r\n",
        "\r\n",
        "\r\n"
      ]
    },
    {
      "cell_type": "code",
      "metadata": {
        "colab": {
          "base_uri": "https://localhost:8080/"
        },
        "id": "GNfjcq0CyVRo",
        "outputId": "2cc78732-3028-49de-abfe-0176e5564880"
      },
      "source": [
        "count_matrix = hstack([count_matrix,np.array(Stars['score'])[:,None]]) #We add the weighted rating column to the vectorizer matrix\r\n",
        "count_matrix.shape"
      ],
      "execution_count": 26,
      "outputs": [
        {
          "output_type": "execute_result",
          "data": {
            "text/plain": [
              "(56901, 72151)"
            ]
          },
          "metadata": {
            "tags": []
          },
          "execution_count": 26
        }
      ]
    },
    {
      "cell_type": "code",
      "metadata": {
        "id": "qgt5Sbgrx2yS"
      },
      "source": [
        "# def cosine_similarity_n_space(m1, m2, batch_size=10):\r\n",
        "#     ret = np.ndarray((m1.shape[0], m2.shape[0]))\r\n",
        "#     for row_i in range(0, int(m1.shape[0] / batch_size) + 1):\r\n",
        "#         start = row_i * batch_size\r\n",
        "#         end = min([(row_i + 1) * batch_size, m1.shape[0]])\r\n",
        "#         if end <= start:\r\n",
        "#             break # cause I'm too lazy to elegantly handle edge cases\r\n",
        "#         rows = m1[start: end]\r\n",
        "#         sim = cosine_similarity(rows, m2) # rows is O(1) size\r\n",
        "#         ret[start: end] = sim\r\n",
        "#         del sim\r\n",
        "#     return ret"
      ],
      "execution_count": 29,
      "outputs": []
    },
    {
      "cell_type": "code",
      "metadata": {
        "id": "rj_v-iuhyBIJ"
      },
      "source": [
        "# cosine_sim2 = cosine_similarity_n_space(count_matrix, count_matrix)"
      ],
      "execution_count": 30,
      "outputs": []
    },
    {
      "cell_type": "code",
      "metadata": {
        "id": "8XP93vqVrT90"
      },
      "source": [
        "indices = pd.Series(df_for_matrix.index, index=df_for_matrix['business_id']).drop_duplicates()\r\n",
        "\r\n",
        "def get_recommendations(title, cosine_sim=cosine_sim): #Function to extract restaurant recommendations from Cosine Similarity matrix\r\n",
        "    # Get the index of the restaurant that matches the title\r\n",
        "    idx = indices[title]\r\n",
        "\r\n",
        "    # Get the pairwsie similarity scores of all restaurants with that restaurant\r\n",
        "    sim_scores = list(enumerate(cosine_sim[idx]))\r\n",
        "\r\n",
        "    # Sort the movies based on the similarity scores\r\n",
        "    sim_scores = sorted(sim_scores, key=lambda x: x[1], reverse=True)\r\n",
        "\r\n",
        "    # Get the scores of the 20 most similar restaurants\r\n",
        "    sim_scores = sim_scores[1:21]\r\n",
        "\r\n",
        "    # Get the restaurant indices\r\n",
        "    restaurant_indices = [i[0] for i in sim_scores]\r\n",
        "\r\n",
        "    # Return the top 10 most similar restaurants\r\n",
        "    return df_for_matrix['business_id'].iloc[restaurant_indices]"
      ],
      "execution_count": null,
      "outputs": []
    },
    {
      "cell_type": "markdown",
      "metadata": {
        "id": "zhS5Jh61thAg"
      },
      "source": [
        "# Modifying the Cosine Similarity Matrix into a usable form"
      ]
    },
    {
      "cell_type": "markdown",
      "metadata": {
        "id": "nDSr8z5M9CDe"
      },
      "source": [
        "*The recommendation matrix that we have has all 56901 restaurants as row indices and their 20 most similar restaurants in the columns*\r\n",
        "\r\n",
        "*We further consider the top 10 restaurants based on how close the restaurants are*"
      ]
    },
    {
      "cell_type": "code",
      "metadata": {
        "id": "WcD-ssHb6WIx"
      },
      "source": [
        "# !pip install pickle5\r\n",
        "import pickle5 as pickle\r\n",
        "# recommendations_df = pd.read_pickle('/content/drive/MyDrive/YelpDataset/PickleFiles/top20_bid_df')\r\n",
        "with open('/content/drive/MyDrive/YelpDataset/PickleFiles/top20_bid_df', \"rb\") as fh:\r\n",
        "  recommendations_df = pickle.load(fh)"
      ],
      "execution_count": 105,
      "outputs": []
    },
    {
      "cell_type": "code",
      "metadata": {
        "id": "o1CwKCDc7eKj"
      },
      "source": [
        "business_df_new = business_df.copy()\r\n",
        "business_df_new['business_id'] = business_df_new['business_id'].apply(lambda x: x.lower())"
      ],
      "execution_count": null,
      "outputs": []
    },
    {
      "cell_type": "markdown",
      "metadata": {
        "id": "eimbxDKa_F8c"
      },
      "source": [
        "*We determine distance between 2 restaurants using their Latitudes and Longitudes based on the formula below and use that to recommend restaurants geographically closer to the target restaurant*\r\n"
      ]
    },
    {
      "cell_type": "code",
      "metadata": {
        "colab": {
          "base_uri": "https://localhost:8080/"
        },
        "id": "Eg0Hrf4PHfOV",
        "outputId": "ad53dcf9-8d16-41da-f3fa-808d1854f482"
      },
      "source": [
        "def distance_func(lat1,lon1,lat2,lon2): #Function to find distance between 2 coordinates\r\n",
        "  R = 6373.0\r\n",
        "\r\n",
        "  lat1 = radians(lat1)\r\n",
        "  lon1 = radians(lon1)\r\n",
        "  lat2 = radians(lat2)\r\n",
        "  lon2 = radians(lon2)\r\n",
        "\r\n",
        "  dlon = lon2 - lon1\r\n",
        "  dlat = lat2 - lat1\r\n",
        "\r\n",
        "  a = sin(dlat / 2)**2 + cos(lat1) * cos(lat2) * sin(dlon / 2)**2\r\n",
        "  c = 2 * atan2(sqrt(a), sqrt(1 - a))\r\n",
        "\r\n",
        "  distance = R * c\r\n",
        "  return distance\r\n",
        "\r\n",
        "distance_func(40.110446,-88.233073,43.105310,-89.510142)"
      ],
      "execution_count": 80,
      "outputs": [
        {
          "output_type": "execute_result",
          "data": {
            "text/plain": [
              "349.627721049018"
            ]
          },
          "metadata": {
            "tags": []
          },
          "execution_count": 80
        }
      ]
    },
    {
      "cell_type": "code",
      "metadata": {
        "id": "IPZjiCwmicr-"
      },
      "source": [
        "def sort_list(ind): #This function calculates distance between a restaurant and all it's similars\r\n",
        "  distance = {}\r\n",
        "  for bid in (recommendations_df.index[recommendations_df.index == ind]):\r\n",
        "    sim_rest_dist = {}\r\n",
        "    lat1 = business_df_new[business_df_new['business_id'] == bid]['latitude']\r\n",
        "    lon1 = business_df_new[business_df_new['business_id'] == bid]['longitude']\r\n",
        "    for sim_bid in recommendations_df.loc[bid]:\r\n",
        "      lat2 = business_df_new[business_df_new['business_id'] == sim_bid]['latitude']\r\n",
        "      lon2 = business_df_new[business_df_new['business_id'] == sim_bid]['longitude']\r\n",
        "      dist = distance_func(lat1,lon1,lat2,lon2)\r\n",
        "      sim_rest_dist[sim_bid] = dist\r\n",
        "    distance[bid] = sim_rest_dist\r\n",
        "    return distance\r\n",
        "\r\n"
      ],
      "execution_count": 145,
      "outputs": []
    },
    {
      "cell_type": "code",
      "metadata": {
        "id": "7cntlvwgTho2"
      },
      "source": [
        "counts = business_df['name'].value_counts()\r\n",
        "chains = counts.index[counts > 1]\r\n",
        "Recommendations_Final = pd.DataFrame()\r\n",
        "for i in recommendations_df.index: #Building a DataFrame for Top 10 recommendations for any given restaurant\r\n",
        "  df = pd.DataFrame(sort_list(i)).sort_values(by = i)\r\n",
        "  df = df.reset_index()\r\n",
        "  df['index'] = df['index'].apply(lambda x: (business_df_new[business_df_new['business_id'] == x]['name'].iloc[0]+' - '+business_df_new[business_df_new['business_id'] == x]['city'].iloc[0]) if business_df_new[business_df_new['business_id'] == x]['name'].iloc[0] in chains else business_df_new[business_df_new['business_id'] == x]['name'].iloc[0])\r\n",
        "  cols = df.columns\r\n",
        "  df = df.drop([i],axis=1)\r\n",
        "  if business_df_new[business_df_new['business_id'] == i]['name'].iloc[0] in chains:\r\n",
        "    df.columns = [(business_df_new[business_df_new['business_id'] == i]['name'].iloc[0]+' - '+business_df_new[business_df_new['business_id'] == i]['city'].iloc[0])]\r\n",
        "  else:\r\n",
        "    df.columns = [business_df_new[business_df_new['business_id'] == i]['name'].iloc[0]]\r\n",
        "  df = df.iloc[:10]\r\n",
        "  Recommendations_Final[df.columns[0]] = df[df.columns[0]]"
      ],
      "execution_count": null,
      "outputs": []
    },
    {
      "cell_type": "code",
      "metadata": {
        "id": "NkuZ8pdFKbW0"
      },
      "source": [
        "Recommendations_Final.to_pickle('/content/drive/MyDrive/YelpDataset/PickleFiles/Recommendations_Final')"
      ],
      "execution_count": null,
      "outputs": []
    }
  ]
}
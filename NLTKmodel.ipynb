{
  "nbformat": 4,
  "nbformat_minor": 0,
  "metadata": {
    "colab": {
      "name": "NLTKmodel.ipynb",
      "provenance": [],
      "collapsed_sections": [],
      "include_colab_link": true
    },
    "kernelspec": {
      "name": "python3",
      "display_name": "Python 3"
    }
  },
  "cells": [
    {
      "cell_type": "markdown",
      "metadata": {
        "id": "view-in-github",
        "colab_type": "text"
      },
      "source": [
        "<a href=\"https://colab.research.google.com/github/Manisha2297/RestroRecommender/blob/main/NLTKmodel.ipynb\" target=\"_parent\"><img src=\"https://colab.research.google.com/assets/colab-badge.svg\" alt=\"Open In Colab\"/></a>"
      ]
    },
    {
      "cell_type": "code",
      "metadata": {
        "id": "ZLTsTywz2sK3"
      },
      "source": [
        "import numpy as np\n",
        "import pandas as pd\n",
        "import matplotlib.pyplot as plt\n",
        "import seaborn as sns\n",
        "from sklearn.model_selection import train_test_split\n",
        "from sklearn.feature_extraction.text import TfidfVectorizer\n",
        "import nltk\n",
        "from nltk.corpus import stopwords \n",
        "from nltk.tokenize import WordPunctTokenizer\n",
        "import string"
      ],
      "execution_count": 5,
      "outputs": []
    },
    {
      "cell_type": "code",
      "metadata": {
        "colab": {
          "base_uri": "https://localhost:8080/"
        },
        "id": "mF-BEeU97B__",
        "outputId": "a04a722f-6215-442e-9bba-57002c8cb0f3"
      },
      "source": [
        "nltk.download(\"stopwords\")"
      ],
      "execution_count": 6,
      "outputs": [
        {
          "output_type": "stream",
          "text": [
            "[nltk_data] Downloading package stopwords to /root/nltk_data...\n",
            "[nltk_data]   Package stopwords is already up-to-date!\n"
          ],
          "name": "stdout"
        },
        {
          "output_type": "execute_result",
          "data": {
            "text/plain": [
              "True"
            ]
          },
          "metadata": {
            "tags": []
          },
          "execution_count": 6
        }
      ]
    },
    {
      "cell_type": "code",
      "metadata": {
        "colab": {
          "base_uri": "https://localhost:8080/"
        },
        "id": "3dH0PlIn25k2",
        "outputId": "52665c33-7f29-4af0-8a00-f8cb1661d9be"
      },
      "source": [
        "#mount your own drive to avoid downloading the data multiple time \n",
        "\n",
        "from google.colab import drive\n",
        "drive.mount('/content/gdrive')"
      ],
      "execution_count": 7,
      "outputs": [
        {
          "output_type": "stream",
          "text": [
            "Drive already mounted at /content/gdrive; to attempt to forcibly remount, call drive.mount(\"/content/gdrive\", force_remount=True).\n"
          ],
          "name": "stdout"
        }
      ]
    },
    {
      "cell_type": "code",
      "metadata": {
        "id": "JJ32Vfqw3naj",
        "outputId": "60633384-8284-441b-fd22-9e817f42e76c",
        "colab": {
          "base_uri": "https://localhost:8080/"
        }
      },
      "source": [
        "df_review = pd.read_csv('/content/gdrive/MyDrive/YelpDataset/CsvFiles/yelp_academic_dataset_review.csv')\n",
        "df_review.drop('Unnamed: 0', axis=1, inplace=True)"
      ],
      "execution_count": 8,
      "outputs": [
        {
          "output_type": "stream",
          "text": [
            "/usr/local/lib/python3.7/dist-packages/IPython/core/interactiveshell.py:2718: DtypeWarning: Columns (0,2) have mixed types.Specify dtype option on import or set low_memory=False.\n",
            "  interactivity=interactivity, compiler=compiler, result=result)\n"
          ],
          "name": "stderr"
        }
      ]
    },
    {
      "cell_type": "code",
      "metadata": {
        "id": "zGNq2Umi4YgE",
        "outputId": "3e256ca6-3994-47c9-ed8f-84a4a5fe4ca8",
        "colab": {
          "base_uri": "https://localhost:8080/",
          "height": 340
        }
      },
      "source": [
        "df_review.head()"
      ],
      "execution_count": 9,
      "outputs": [
        {
          "output_type": "execute_result",
          "data": {
            "text/html": [
              "<div>\n",
              "<style scoped>\n",
              "    .dataframe tbody tr th:only-of-type {\n",
              "        vertical-align: middle;\n",
              "    }\n",
              "\n",
              "    .dataframe tbody tr th {\n",
              "        vertical-align: top;\n",
              "    }\n",
              "\n",
              "    .dataframe thead th {\n",
              "        text-align: right;\n",
              "    }\n",
              "</style>\n",
              "<table border=\"1\" class=\"dataframe\">\n",
              "  <thead>\n",
              "    <tr style=\"text-align: right;\">\n",
              "      <th></th>\n",
              "      <th>business_id</th>\n",
              "      <th>cool</th>\n",
              "      <th>date</th>\n",
              "      <th>funny</th>\n",
              "      <th>review_id</th>\n",
              "      <th>stars</th>\n",
              "      <th>text</th>\n",
              "      <th>useful</th>\n",
              "      <th>user_id</th>\n",
              "    </tr>\n",
              "  </thead>\n",
              "  <tbody>\n",
              "    <tr>\n",
              "      <th>0</th>\n",
              "      <td>-MhfebM0QIsKt87iDN-FNw</td>\n",
              "      <td>0</td>\n",
              "      <td>2015-04-15 05:21:16</td>\n",
              "      <td>0.0</td>\n",
              "      <td>xQY8N_XvtGbearJ5X4QryQ</td>\n",
              "      <td>2.0</td>\n",
              "      <td>As someone who has worked with many museums, I...</td>\n",
              "      <td>5.0</td>\n",
              "      <td>OwjRMXRC0KyPrIlcjaXeFQ</td>\n",
              "    </tr>\n",
              "    <tr>\n",
              "      <th>1</th>\n",
              "      <td>lbrU8StCq3yDfr-QMnGrmQ</td>\n",
              "      <td>0</td>\n",
              "      <td>2013-12-07 03:16:52</td>\n",
              "      <td>1.0</td>\n",
              "      <td>UmFMZ8PyXZTY2QcwzsfQYA</td>\n",
              "      <td>1.0</td>\n",
              "      <td>I am actually horrified this place is still in...</td>\n",
              "      <td>1.0</td>\n",
              "      <td>nIJD_7ZXHq-FX8byPMOkMQ</td>\n",
              "    </tr>\n",
              "    <tr>\n",
              "      <th>2</th>\n",
              "      <td>HQl28KMwrEKHqhFrrDqVNQ</td>\n",
              "      <td>0</td>\n",
              "      <td>2015-12-05 03:18:11</td>\n",
              "      <td>0.0</td>\n",
              "      <td>LG2ZaYiOgpr2DK_90pYjNw</td>\n",
              "      <td>5.0</td>\n",
              "      <td>I love Deagan's. I do. I really do. The atmosp...</td>\n",
              "      <td>1.0</td>\n",
              "      <td>V34qejxNsCbcgD8C0HVk-Q</td>\n",
              "    </tr>\n",
              "    <tr>\n",
              "      <th>3</th>\n",
              "      <td>5JxlZaqCnk1MnbgRirs40Q</td>\n",
              "      <td>0</td>\n",
              "      <td>2011-05-27 05:30:52</td>\n",
              "      <td>0.0</td>\n",
              "      <td>i6g_oA9Yf9Y31qt0wibXpw</td>\n",
              "      <td>1.0</td>\n",
              "      <td>Dismal, lukewarm, defrosted-tasting \"TexMex\" g...</td>\n",
              "      <td>0.0</td>\n",
              "      <td>ofKDkJKXSKZXu5xJNGiiBQ</td>\n",
              "    </tr>\n",
              "    <tr>\n",
              "      <th>4</th>\n",
              "      <td>IS4cv902ykd8wj1TR0N3-A</td>\n",
              "      <td>0</td>\n",
              "      <td>2017-01-14 21:56:57</td>\n",
              "      <td>0.0</td>\n",
              "      <td>6TdNDKywdbjoTkizeMce8A</td>\n",
              "      <td>4.0</td>\n",
              "      <td>Oh happy day, finally have a Canes near my cas...</td>\n",
              "      <td>0.0</td>\n",
              "      <td>UgMW8bLE0QMJDCkQ1Ax5Mg</td>\n",
              "    </tr>\n",
              "  </tbody>\n",
              "</table>\n",
              "</div>"
            ],
            "text/plain": [
              "              business_id cool  ... useful                 user_id\n",
              "0  -MhfebM0QIsKt87iDN-FNw    0  ...    5.0  OwjRMXRC0KyPrIlcjaXeFQ\n",
              "1  lbrU8StCq3yDfr-QMnGrmQ    0  ...    1.0  nIJD_7ZXHq-FX8byPMOkMQ\n",
              "2  HQl28KMwrEKHqhFrrDqVNQ    0  ...    1.0  V34qejxNsCbcgD8C0HVk-Q\n",
              "3  5JxlZaqCnk1MnbgRirs40Q    0  ...    0.0  ofKDkJKXSKZXu5xJNGiiBQ\n",
              "4  IS4cv902ykd8wj1TR0N3-A    0  ...    0.0  UgMW8bLE0QMJDCkQ1Ax5Mg\n",
              "\n",
              "[5 rows x 9 columns]"
            ]
          },
          "metadata": {
            "tags": []
          },
          "execution_count": 9
        }
      ]
    },
    {
      "cell_type": "code",
      "metadata": {
        "id": "uy5XZcSG5hDo"
      },
      "source": [
        "#Select only stars and text\n",
        "yelp_data = df_review[['business_id', 'user_id', 'stars', 'text']]"
      ],
      "execution_count": 10,
      "outputs": []
    },
    {
      "cell_type": "code",
      "metadata": {
        "id": "3t7a9LC76F1d"
      },
      "source": [
        "stop = []\n",
        "for word in stopwords.words('english'):\n",
        "    s = [char for char in word if char not in string.punctuation]\n",
        "    stop.append(''.join(s))"
      ],
      "execution_count": 11,
      "outputs": []
    },
    {
      "cell_type": "code",
      "metadata": {
        "id": "a3Iqz6yMJYNt",
        "outputId": "4fbe7514-4291-4a4e-cd4b-f51bb7210211",
        "colab": {
          "base_uri": "https://localhost:8080/"
        }
      },
      "source": [
        "yelp_data['text'].fillna(\"\", inplace=True)"
      ],
      "execution_count": 12,
      "outputs": [
        {
          "output_type": "stream",
          "text": [
            "/usr/local/lib/python3.7/dist-packages/pandas/core/series.py:4536: SettingWithCopyWarning: \n",
            "A value is trying to be set on a copy of a slice from a DataFrame\n",
            "\n",
            "See the caveats in the documentation: https://pandas.pydata.org/pandas-docs/stable/user_guide/indexing.html#returning-a-view-versus-a-copy\n",
            "  downcast=downcast,\n"
          ],
          "name": "stderr"
        }
      ]
    },
    {
      "cell_type": "code",
      "metadata": {
        "id": "xufxF22-8MlS"
      },
      "source": [
        "def text_process(text):\n",
        "    \"\"\"\n",
        "    Takes in a string of text, then performs the following:\n",
        "    1. Remove all punctuation\n",
        "    2. Remove all stopwords\n",
        "    3. Returns a list of the cleaned text\n",
        "    \"\"\"\n",
        "    # Check characters to see if they have any punctuation\n",
        "    nopunc = [char for char in text if char not in string.punctuation]\n",
        "    # Join the characters again to form the string.\n",
        "    nopunc = ''.join(nopunc)\n",
        "    \n",
        "    # Now just remove any stopwords\n",
        "    return \" \".join([word for word in nopunc.split() if word.lower() not in stop])"
      ],
      "execution_count": 13,
      "outputs": []
    },
    {
      "cell_type": "code",
      "metadata": {
        "id": "A41-IHO1bH_u"
      },
      "source": [
        "processed_text_df = pd.DataFrame()\r\n"
      ],
      "execution_count": 14,
      "outputs": []
    },
    {
      "cell_type": "code",
      "metadata": {
        "id": "5zQqdpgiXjV4"
      },
      "source": [
        "size = 0\r\n",
        "for i in range(0, 1000000, 10000):\r\n",
        "  processed_text_df = pd.concat([processed_text_df, yelp_data['text'][0:i].apply(text_process)])\r\n",
        "  size+=10000\r\n",
        "\r\n",
        "  if len(processed_text_df) >= size:\r\n",
        "    processed_text_df.to_pickle('/content/gdrive/MyDrive/YelpDataset/processed_text_df')\r\n",
        "    del processed_text_df\r\n",
        "    processed_text_df = pd.read_pickle('/content/gdrive/MyDrive/YelpDataset/processed_text_df')\r\n",
        "  \r\n",
        "  else:\r\n",
        "    print(size)\r\n",
        "    break\r\n"
      ],
      "execution_count": 15,
      "outputs": []
    },
    {
      "cell_type": "code",
      "metadata": {
        "id": "jml6dfedch71",
        "outputId": "c0c20e5d-6b08-4dbb-f184-dcb38702ff2e",
        "colab": {
          "base_uri": "https://localhost:8080/",
          "height": 417
        }
      },
      "source": [
        "processed_text_df"
      ],
      "execution_count": 16,
      "outputs": [
        {
          "output_type": "execute_result",
          "data": {
            "text/html": [
              "<div>\n",
              "<style scoped>\n",
              "    .dataframe tbody tr th:only-of-type {\n",
              "        vertical-align: middle;\n",
              "    }\n",
              "\n",
              "    .dataframe tbody tr th {\n",
              "        vertical-align: top;\n",
              "    }\n",
              "\n",
              "    .dataframe thead th {\n",
              "        text-align: right;\n",
              "    }\n",
              "</style>\n",
              "<table border=\"1\" class=\"dataframe\">\n",
              "  <thead>\n",
              "    <tr style=\"text-align: right;\">\n",
              "      <th></th>\n",
              "      <th>0</th>\n",
              "    </tr>\n",
              "  </thead>\n",
              "  <tbody>\n",
              "    <tr>\n",
              "      <th>0</th>\n",
              "      <td>someone worked many museums eager visit galler...</td>\n",
              "    </tr>\n",
              "    <tr>\n",
              "      <th>1</th>\n",
              "      <td>actually horrified place still business 3 year...</td>\n",
              "    </tr>\n",
              "    <tr>\n",
              "      <th>2</th>\n",
              "      <td>love Deagans really atmosphere cozy festive sh...</td>\n",
              "    </tr>\n",
              "    <tr>\n",
              "      <th>3</th>\n",
              "      <td>Dismal lukewarm defrostedtasting TexMex glop M...</td>\n",
              "    </tr>\n",
              "    <tr>\n",
              "      <th>4</th>\n",
              "      <td>Oh happy day finally Canes near casa Yes other...</td>\n",
              "    </tr>\n",
              "    <tr>\n",
              "      <th>...</th>\n",
              "      <td>...</td>\n",
              "    </tr>\n",
              "    <tr>\n",
              "      <th>9995</th>\n",
              "      <td>came get pedicure Worst experience ever pedicu...</td>\n",
              "    </tr>\n",
              "    <tr>\n",
              "      <th>9996</th>\n",
              "      <td>Excellent service excellent food ate breakfast...</td>\n",
              "    </tr>\n",
              "    <tr>\n",
              "      <th>9997</th>\n",
              "      <td>line one best massages ever received searching...</td>\n",
              "    </tr>\n",
              "    <tr>\n",
              "      <th>9998</th>\n",
              "      <td>Virginia vet 6 years incredible love comes car...</td>\n",
              "    </tr>\n",
              "    <tr>\n",
              "      <th>9999</th>\n",
              "      <td>599 lunch special proves awesome first samplin...</td>\n",
              "    </tr>\n",
              "  </tbody>\n",
              "</table>\n",
              "<p>10000 rows × 1 columns</p>\n",
              "</div>"
            ],
            "text/plain": [
              "                                                      0\n",
              "0     someone worked many museums eager visit galler...\n",
              "1     actually horrified place still business 3 year...\n",
              "2     love Deagans really atmosphere cozy festive sh...\n",
              "3     Dismal lukewarm defrostedtasting TexMex glop M...\n",
              "4     Oh happy day finally Canes near casa Yes other...\n",
              "...                                                 ...\n",
              "9995  came get pedicure Worst experience ever pedicu...\n",
              "9996  Excellent service excellent food ate breakfast...\n",
              "9997  line one best massages ever received searching...\n",
              "9998  Virginia vet 6 years incredible love comes car...\n",
              "9999  599 lunch special proves awesome first samplin...\n",
              "\n",
              "[10000 rows x 1 columns]"
            ]
          },
          "metadata": {
            "tags": []
          },
          "execution_count": 16
        }
      ]
    },
    {
      "cell_type": "code",
      "metadata": {
        "id": "QI1CgE5K8sm2"
      },
      "source": [
        "#yelp_data['text'] = yelp_data['text'].apply(text_process)"
      ],
      "execution_count": null,
      "outputs": []
    },
    {
      "cell_type": "code",
      "metadata": {
        "id": "88AFtRfd80MK"
      },
      "source": [
        "userid_df = yelp_data[['user_id','text']]\n",
        "business_df = yelp_data[['business_id', 'text']]"
      ],
      "execution_count": null,
      "outputs": []
    },
    {
      "cell_type": "code",
      "metadata": {
        "id": "3qW3Li-J9vrI"
      },
      "source": [
        "yelp_data['text']"
      ],
      "execution_count": null,
      "outputs": []
    },
    {
      "cell_type": "code",
      "metadata": {
        "id": "0iniRaIV-bd9"
      },
      "source": [
        "#userid vectorizer\n",
        "userid_vectorizer = TfidfVectorizer(tokenizer = WordPunctTokenizer().tokenize, max_features=5000)\n",
        "userid_vectors = userid_vectorizer.fit_transform(userid_df['text'])"
      ],
      "execution_count": null,
      "outputs": []
    },
    {
      "cell_type": "code",
      "metadata": {
        "id": "QWol-GAT_Tuq"
      },
      "source": [
        "#Business id vectorizer\n",
        "businessid_vectorizer = TfidfVectorizer(tokenizer = WordPunctTokenizer().tokenize, max_features=5000)\n",
        "businessid_vectors = businessid_vectorizer.fit_transform(business_df['text'])"
      ],
      "execution_count": null,
      "outputs": []
    },
    {
      "cell_type": "code",
      "metadata": {
        "id": "jmNzT195DC2v"
      },
      "source": [
        "userid_rating_matrix = pd.pivot_table(yelp_data, values='stars', index=['user_id'], columns=['business_id'])"
      ],
      "execution_count": null,
      "outputs": []
    },
    {
      "cell_type": "code",
      "metadata": {
        "id": "v6-JFntSMdC-"
      },
      "source": [
        "def matrix_factorization(R, P, Q, steps=25, gamma=0.001,lamda=0.02):\n",
        "    for step in range(steps):\n",
        "        for i in R.index:\n",
        "            for j in R.columns:\n",
        "                if R.loc[i,j]>0:\n",
        "                    eij=R.loc[i,j]-np.dot(P.loc[i],Q.loc[j])\n",
        "                    P.loc[i]=P.loc[i]+gamma*(eij*Q.loc[j]-lamda*P.loc[i])\n",
        "                    Q.loc[j]=Q.loc[j]+gamma*(eij*P.loc[i]-lamda*Q.loc[j])\n",
        "        e=0\n",
        "        for i in R.index:\n",
        "            for j in R.columns:\n",
        "                if R.loc[i,j]>0:\n",
        "                    e= e + pow(R.loc[i,j]-np.dot(P.loc[i],Q.loc[j]),2)+lamda*(pow(np.linalg.norm(P.loc[i]),2)+pow(np.linalg.norm(Q.loc[j]),2))\n",
        "        if e<0.001:\n",
        "            break\n",
        "        \n",
        "    return P,Q\n"
      ],
      "execution_count": null,
      "outputs": []
    },
    {
      "cell_type": "code",
      "metadata": {
        "id": "6CC3mM4kM2Yj"
      },
      "source": [
        "P, Q = matrix_factorization(userid_rating_matrix, P, Q, steps=25, gamma=0.001,lamda=0.02)"
      ],
      "execution_count": null,
      "outputs": []
    },
    {
      "cell_type": "code",
      "metadata": {
        "id": "muB7DGrjWHRU"
      },
      "source": [
        ""
      ],
      "execution_count": null,
      "outputs": []
    },
    {
      "cell_type": "code",
      "metadata": {
        "id": "kdu7wrTpN7f6"
      },
      "source": [
        "P = pd.DataFrame(userid_vectors.toarray(), index=userid_df.index, columns=userid_vectorizer.get_feature_names())\n",
        "Q = pd.DataFrame(businessid_vectors.toarray(), index=business_df.index, columns=businessid_vectorizer.get_feature_names())"
      ],
      "execution_count": null,
      "outputs": []
    },
    {
      "cell_type": "code",
      "metadata": {
        "id": "L699Xr1NSueR"
      },
      "source": [
        "yelp_data.to_pickle('/content/gdrive/MyDrive/Yelp Dataset/yelp_review_df')\n",
        "del yelp_data"
      ],
      "execution_count": null,
      "outputs": []
    },
    {
      "cell_type": "code",
      "metadata": {
        "id": "xZyvsm0ITdmq"
      },
      "source": [
        "#Loading in the dataframe\n",
        "yelp_data = pd.read_pickle('/content/gdrive/MyDrive/Yelp Dataset/yelp_review_df')\n",
        "yelp_data.head()"
      ],
      "execution_count": null,
      "outputs": []
    }
  ]
}
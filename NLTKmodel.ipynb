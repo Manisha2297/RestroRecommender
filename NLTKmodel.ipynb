{
  "nbformat": 4,
  "nbformat_minor": 0,
  "metadata": {
    "colab": {
      "name": "NLTKmodel.ipynb",
      "provenance": [],
      "collapsed_sections": [],
      "include_colab_link": true
    },
    "kernelspec": {
      "name": "python3",
      "display_name": "Python 3"
    }
  },
  "cells": [
    {
      "cell_type": "markdown",
      "metadata": {
        "id": "view-in-github",
        "colab_type": "text"
      },
      "source": [
        "<a href=\"https://colab.research.google.com/github/Manisha2297/RestroRecommender/blob/main/NLTKmodel.ipynb\" target=\"_parent\"><img src=\"https://colab.research.google.com/assets/colab-badge.svg\" alt=\"Open In Colab\"/></a>"
      ]
    },
    {
      "cell_type": "code",
      "metadata": {
        "id": "ZLTsTywz2sK3"
      },
      "source": [
        "import numpy as np\n",
        "import pandas as pd\n",
        "import matplotlib.pyplot as plt\n",
        "import seaborn as sns\n",
        "from sklearn.model_selection import train_test_split\n",
        "from sklearn.feature_extraction.text import TfidfVectorizer\n",
        "import nltk\n",
        "from nltk.corpus import stopwords \n",
        "from nltk.tokenize import WordPunctTokenizer\n",
        "import string\n",
        "from scipy import sparse"
      ],
      "execution_count": 1,
      "outputs": []
    },
    {
      "cell_type": "code",
      "metadata": {
        "colab": {
          "base_uri": "https://localhost:8080/"
        },
        "id": "mF-BEeU97B__",
        "outputId": "1e769c78-ee08-4539-b172-3b873175a3a8"
      },
      "source": [
        "nltk.download(\"stopwords\")"
      ],
      "execution_count": 2,
      "outputs": [
        {
          "output_type": "stream",
          "text": [
            "[nltk_data] Downloading package stopwords to /root/nltk_data...\n",
            "[nltk_data]   Package stopwords is already up-to-date!\n"
          ],
          "name": "stdout"
        },
        {
          "output_type": "execute_result",
          "data": {
            "text/plain": [
              "True"
            ]
          },
          "metadata": {
            "tags": []
          },
          "execution_count": 2
        }
      ]
    },
    {
      "cell_type": "code",
      "metadata": {
        "colab": {
          "base_uri": "https://localhost:8080/"
        },
        "id": "3dH0PlIn25k2",
        "outputId": "6e14abca-4da3-4436-ae9a-69faf72a6679"
      },
      "source": [
        "#mount your own drive to avoid downloading the data multiple time \n",
        "\n",
        "from google.colab import drive\n",
        "drive.mount('/content/gdrive')"
      ],
      "execution_count": 3,
      "outputs": [
        {
          "output_type": "stream",
          "text": [
            "Drive already mounted at /content/gdrive; to attempt to forcibly remount, call drive.mount(\"/content/gdrive\", force_remount=True).\n"
          ],
          "name": "stdout"
        }
      ]
    },
    {
      "cell_type": "code",
      "metadata": {
        "id": "OVNmYt1wRsFH"
      },
      "source": [
        "df_review = pd.read_csv('/content/gdrive/MyDrive/YelpDataset/CsvFiles/review_filtered.csv')\n",
        "df_review.drop('Unnamed: 0', axis=1, inplace=True)"
      ],
      "execution_count": 20,
      "outputs": []
    },
    {
      "cell_type": "code",
      "metadata": {
        "id": "JJ32Vfqw3naj"
      },
      "source": [
        "# df_review = pd.read_csv('/content/gdrive/MyDrive/YelpDataset/CsvFiles/yelp_academic_dataset_review.csv')\n",
        "# df_review.drop('Unnamed: 0', axis=1, inplace=True)"
      ],
      "execution_count": null,
      "outputs": []
    },
    {
      "cell_type": "code",
      "metadata": {
        "id": "LAa9d70Ao1N3"
      },
      "source": [
        "restaurant_df = pd.read_pickle('/content/gdrive/MyDrive/YelpDataset/PickleFiles/restuarant_df')"
      ],
      "execution_count": 21,
      "outputs": []
    },
    {
      "cell_type": "code",
      "metadata": {
        "id": "qfO0GrCfQeLX",
        "colab": {
          "base_uri": "https://localhost:8080/",
          "height": 581
        },
        "outputId": "dfe605a6-5f95-4892-ddf1-4351817ce008"
      },
      "source": [
        "restaurant_df.head()"
      ],
      "execution_count": 6,
      "outputs": [
        {
          "output_type": "execute_result",
          "data": {
            "text/html": [
              "<div>\n",
              "<style scoped>\n",
              "    .dataframe tbody tr th:only-of-type {\n",
              "        vertical-align: middle;\n",
              "    }\n",
              "\n",
              "    .dataframe tbody tr th {\n",
              "        vertical-align: top;\n",
              "    }\n",
              "\n",
              "    .dataframe thead th {\n",
              "        text-align: right;\n",
              "    }\n",
              "</style>\n",
              "<table border=\"1\" class=\"dataframe\">\n",
              "  <thead>\n",
              "    <tr style=\"text-align: right;\">\n",
              "      <th></th>\n",
              "      <th>address</th>\n",
              "      <th>attributes</th>\n",
              "      <th>business_id</th>\n",
              "      <th>categories</th>\n",
              "      <th>city</th>\n",
              "      <th>hours</th>\n",
              "      <th>is_open</th>\n",
              "      <th>latitude</th>\n",
              "      <th>longitude</th>\n",
              "      <th>name</th>\n",
              "      <th>postal_code</th>\n",
              "      <th>review_count</th>\n",
              "      <th>stars</th>\n",
              "      <th>state</th>\n",
              "    </tr>\n",
              "  </thead>\n",
              "  <tbody>\n",
              "    <tr>\n",
              "      <th>0</th>\n",
              "      <td>404 E Green St</td>\n",
              "      <td>{'RestaurantsAttire': \"u'casual'\", 'Restaurant...</td>\n",
              "      <td>pQeaRpvuhoEqudo3uymHIQ</td>\n",
              "      <td>Ethnic Food, Food Trucks, Specialty Food, Impo...</td>\n",
              "      <td>Champaign</td>\n",
              "      <td>{'Monday': '11:30-14:30', 'Tuesday': '11:30-14...</td>\n",
              "      <td>1</td>\n",
              "      <td>40.1104</td>\n",
              "      <td>-88.2331</td>\n",
              "      <td>The Empanadas House</td>\n",
              "      <td>61820</td>\n",
              "      <td>5</td>\n",
              "      <td>4.5</td>\n",
              "      <td>IL</td>\n",
              "    </tr>\n",
              "    <tr>\n",
              "      <th>1</th>\n",
              "      <td>2831 Parmenter St</td>\n",
              "      <td>{'BikeParking': 'True', 'Caters': 'True', 'Whe...</td>\n",
              "      <td>M_guz7Dj7hX0evS672wIwA</td>\n",
              "      <td>Desserts, Food, Ice Cream &amp; Frozen Yogurt</td>\n",
              "      <td>Middleton</td>\n",
              "      <td>{'Monday': '0:0-0:0', 'Tuesday': '11:0-21:0', ...</td>\n",
              "      <td>1</td>\n",
              "      <td>43.1053</td>\n",
              "      <td>-89.5101</td>\n",
              "      <td>Chocolate Shoppe Ice Cream</td>\n",
              "      <td>53562</td>\n",
              "      <td>6</td>\n",
              "      <td>3.5</td>\n",
              "      <td>WI</td>\n",
              "    </tr>\n",
              "    <tr>\n",
              "      <th>2</th>\n",
              "      <td>NaN</td>\n",
              "      <td>{'BusinessAcceptsCreditCards': 'True'}</td>\n",
              "      <td>mKTq1T_IAplDpHUcMzOXkw</td>\n",
              "      <td>Hotels &amp; Travel, Transportation, Taxis, Beer, ...</td>\n",
              "      <td>Gastonia</td>\n",
              "      <td>{'Monday': '0:0-0:0', 'Tuesday': '9:0-0:0', 'W...</td>\n",
              "      <td>1</td>\n",
              "      <td>35.2528</td>\n",
              "      <td>-81.1527</td>\n",
              "      <td>Tipsy Ryde</td>\n",
              "      <td>28054</td>\n",
              "      <td>3</td>\n",
              "      <td>3.5</td>\n",
              "      <td>NC</td>\n",
              "    </tr>\n",
              "    <tr>\n",
              "      <th>3</th>\n",
              "      <td>15480 Bayview Avenue, unit D0110</td>\n",
              "      <td>{'RestaurantsTableService': 'False', 'Restaura...</td>\n",
              "      <td>eBEfgOPG7pvFhb2wcG9I7w</td>\n",
              "      <td>Restaurants, Cheesesteaks, Poutineries</td>\n",
              "      <td>Aurora</td>\n",
              "      <td>{'Monday': '11:0-22:0', 'Tuesday': '11:0-22:0'...</td>\n",
              "      <td>1</td>\n",
              "      <td>44.011</td>\n",
              "      <td>-79.4487</td>\n",
              "      <td>Philthy Phillys</td>\n",
              "      <td>L4G 7J1</td>\n",
              "      <td>4</td>\n",
              "      <td>4.5</td>\n",
              "      <td>ON</td>\n",
              "    </tr>\n",
              "    <tr>\n",
              "      <th>4</th>\n",
              "      <td>300 John Street</td>\n",
              "      <td>{'GoodForKids': 'True', 'RestaurantsTakeOut': ...</td>\n",
              "      <td>lu7vtrp_bE9PnxWfA8g4Pg</td>\n",
              "      <td>Japanese, Fast Food, Food Court, Restaurants</td>\n",
              "      <td>Thornhill</td>\n",
              "      <td>NaN</td>\n",
              "      <td>1</td>\n",
              "      <td>43.8205</td>\n",
              "      <td>-79.3985</td>\n",
              "      <td>Banzai Sushi</td>\n",
              "      <td>L3T 5W4</td>\n",
              "      <td>7</td>\n",
              "      <td>4.5</td>\n",
              "      <td>ON</td>\n",
              "    </tr>\n",
              "  </tbody>\n",
              "</table>\n",
              "</div>"
            ],
            "text/plain": [
              "                            address  ... state\n",
              "0                    404 E Green St  ...    IL\n",
              "1                 2831 Parmenter St  ...    WI\n",
              "2                               NaN  ...    NC\n",
              "3  15480 Bayview Avenue, unit D0110  ...    ON\n",
              "4                   300 John Street  ...    ON\n",
              "\n",
              "[5 rows x 14 columns]"
            ]
          },
          "metadata": {
            "tags": []
          },
          "execution_count": 6
        }
      ]
    },
    {
      "cell_type": "code",
      "metadata": {
        "id": "wvqOZSvIO1wu"
      },
      "source": [
        "# NC\n",
        "business_id_list = list(restaurant_df[restaurant_df['state']=='NC']['business_id'].values)"
      ],
      "execution_count": 22,
      "outputs": []
    },
    {
      "cell_type": "code",
      "metadata": {
        "id": "Y6XiVeXnPMyx"
      },
      "source": [
        "# df_review_filtered = df_review[df_review['business_id'].isin(business_id_list)]"
      ],
      "execution_count": null,
      "outputs": []
    },
    {
      "cell_type": "code",
      "metadata": {
        "id": "_apmJ7nuPznV"
      },
      "source": [
        "# pd.DataFrame(df_review_filtered.user_id.unique(), columns=['user_id']).to_pickle('/content/gdrive/MyDrive/YelpDataset/PickleFiles/unique_users_df')"
      ],
      "execution_count": null,
      "outputs": []
    },
    {
      "cell_type": "code",
      "metadata": {
        "id": "W5f6R6tNQRoj"
      },
      "source": [
        "# df_review_filtered.to_csv('/content/gdrive/MyDrive/YelpDataset/CsvFiles/review_filtered_ON.csv')"
      ],
      "execution_count": null,
      "outputs": []
    },
    {
      "cell_type": "code",
      "metadata": {
        "id": "MOau3A9tPy0f",
        "colab": {
          "base_uri": "https://localhost:8080/",
          "height": 289
        },
        "outputId": "2e6031bf-2f54-4478-a5b2-38e3b845b7c2"
      },
      "source": [
        "df_review.head()"
      ],
      "execution_count": 9,
      "outputs": [
        {
          "output_type": "execute_result",
          "data": {
            "text/html": [
              "<div>\n",
              "<style scoped>\n",
              "    .dataframe tbody tr th:only-of-type {\n",
              "        vertical-align: middle;\n",
              "    }\n",
              "\n",
              "    .dataframe tbody tr th {\n",
              "        vertical-align: top;\n",
              "    }\n",
              "\n",
              "    .dataframe thead th {\n",
              "        text-align: right;\n",
              "    }\n",
              "</style>\n",
              "<table border=\"1\" class=\"dataframe\">\n",
              "  <thead>\n",
              "    <tr style=\"text-align: right;\">\n",
              "      <th></th>\n",
              "      <th>business_id</th>\n",
              "      <th>cool</th>\n",
              "      <th>date</th>\n",
              "      <th>funny</th>\n",
              "      <th>review_id</th>\n",
              "      <th>stars</th>\n",
              "      <th>text</th>\n",
              "      <th>useful</th>\n",
              "      <th>user_id</th>\n",
              "    </tr>\n",
              "  </thead>\n",
              "  <tbody>\n",
              "    <tr>\n",
              "      <th>0</th>\n",
              "      <td>HQl28KMwrEKHqhFrrDqVNQ</td>\n",
              "      <td>0</td>\n",
              "      <td>2015-12-05 03:18:11</td>\n",
              "      <td>0.0</td>\n",
              "      <td>LG2ZaYiOgpr2DK_90pYjNw</td>\n",
              "      <td>5.0</td>\n",
              "      <td>I love Deagan's. I do. I really do. The atmosp...</td>\n",
              "      <td>1.0</td>\n",
              "      <td>V34qejxNsCbcgD8C0HVk-Q</td>\n",
              "    </tr>\n",
              "    <tr>\n",
              "      <th>1</th>\n",
              "      <td>IS4cv902ykd8wj1TR0N3-A</td>\n",
              "      <td>0</td>\n",
              "      <td>2017-01-14 21:56:57</td>\n",
              "      <td>0.0</td>\n",
              "      <td>6TdNDKywdbjoTkizeMce8A</td>\n",
              "      <td>4.0</td>\n",
              "      <td>Oh happy day, finally have a Canes near my cas...</td>\n",
              "      <td>0.0</td>\n",
              "      <td>UgMW8bLE0QMJDCkQ1Ax5Mg</td>\n",
              "    </tr>\n",
              "    <tr>\n",
              "      <th>2</th>\n",
              "      <td>nlxHRv1zXGT0c0K51q3jDg</td>\n",
              "      <td>0</td>\n",
              "      <td>2013-05-07 07:25:25</td>\n",
              "      <td>0.0</td>\n",
              "      <td>L2O_INwlrRuoX05KSjc4eg</td>\n",
              "      <td>5.0</td>\n",
              "      <td>This is definitely my favorite fast food sub s...</td>\n",
              "      <td>2.0</td>\n",
              "      <td>5vD2kmE25YBrbayKhykNxQ</td>\n",
              "    </tr>\n",
              "    <tr>\n",
              "      <th>3</th>\n",
              "      <td>Pthe4qk5xh4n-ef-9bvMSg</td>\n",
              "      <td>0</td>\n",
              "      <td>2015-11-05 23:11:05</td>\n",
              "      <td>0.0</td>\n",
              "      <td>ZayJ1zWyWgY9S_TRLT_y9Q</td>\n",
              "      <td>5.0</td>\n",
              "      <td>Really good place with simple decor, amazing f...</td>\n",
              "      <td>1.0</td>\n",
              "      <td>aq_ZxGHiri48TUXJlpRkCQ</td>\n",
              "    </tr>\n",
              "    <tr>\n",
              "      <th>4</th>\n",
              "      <td>e_BiI4ej1CW1F0EyVLr-FQ</td>\n",
              "      <td>0</td>\n",
              "      <td>2015-02-16 06:48:47</td>\n",
              "      <td>0.0</td>\n",
              "      <td>JA-xnyHytKiOIHl_ztnK9Q</td>\n",
              "      <td>5.0</td>\n",
              "      <td>Most delicious authentic Italian I've had in t...</td>\n",
              "      <td>0.0</td>\n",
              "      <td>P6apihD4ASf1vpPxHODxAQ</td>\n",
              "    </tr>\n",
              "  </tbody>\n",
              "</table>\n",
              "</div>"
            ],
            "text/plain": [
              "              business_id  cool  ... useful                 user_id\n",
              "0  HQl28KMwrEKHqhFrrDqVNQ     0  ...    1.0  V34qejxNsCbcgD8C0HVk-Q\n",
              "1  IS4cv902ykd8wj1TR0N3-A     0  ...    0.0  UgMW8bLE0QMJDCkQ1Ax5Mg\n",
              "2  nlxHRv1zXGT0c0K51q3jDg     0  ...    2.0  5vD2kmE25YBrbayKhykNxQ\n",
              "3  Pthe4qk5xh4n-ef-9bvMSg     0  ...    1.0  aq_ZxGHiri48TUXJlpRkCQ\n",
              "4  e_BiI4ej1CW1F0EyVLr-FQ     0  ...    0.0  P6apihD4ASf1vpPxHODxAQ\n",
              "\n",
              "[5 rows x 9 columns]"
            ]
          },
          "metadata": {
            "tags": []
          },
          "execution_count": 9
        }
      ]
    },
    {
      "cell_type": "code",
      "metadata": {
        "id": "uy5XZcSG5hDo"
      },
      "source": [
        "#Select only stars and text\n",
        "yelp_data = df_review[['business_id', 'user_id', 'stars', 'text']]"
      ],
      "execution_count": 23,
      "outputs": []
    },
    {
      "cell_type": "code",
      "metadata": {
        "id": "3t7a9LC76F1d"
      },
      "source": [
        "stop = []\n",
        "for word in stopwords.words('english'):\n",
        "    s = [char for char in word if char not in string.punctuation]\n",
        "    stop.append(''.join(s))"
      ],
      "execution_count": 24,
      "outputs": []
    },
    {
      "cell_type": "code",
      "metadata": {
        "id": "a3Iqz6yMJYNt",
        "colab": {
          "base_uri": "https://localhost:8080/"
        },
        "outputId": "7d95cfe8-c639-4500-c165-2410c69624b7"
      },
      "source": [
        "yelp_data['text'].fillna(\"\", inplace=True)"
      ],
      "execution_count": 25,
      "outputs": [
        {
          "output_type": "stream",
          "text": [
            "/usr/local/lib/python3.7/dist-packages/pandas/core/series.py:4536: SettingWithCopyWarning: \n",
            "A value is trying to be set on a copy of a slice from a DataFrame\n",
            "\n",
            "See the caveats in the documentation: https://pandas.pydata.org/pandas-docs/stable/user_guide/indexing.html#returning-a-view-versus-a-copy\n",
            "  downcast=downcast,\n"
          ],
          "name": "stderr"
        }
      ]
    },
    {
      "cell_type": "code",
      "metadata": {
        "id": "xufxF22-8MlS"
      },
      "source": [
        "def text_process(text):\n",
        "    \"\"\"\n",
        "    Takes in a string of text, then performs the following:\n",
        "    1. Remove all punctuation\n",
        "    2. Remove all stopwords\n",
        "    3. Returns a list of the cleaned text\n",
        "    \"\"\"\n",
        "    # Check characters to see if they have any punctuation\n",
        "    nopunc = [char for char in text if char not in string.punctuation]\n",
        "    # Join the characters again to form the string.\n",
        "    nopunc = ''.join(nopunc)\n",
        "    \n",
        "    # Now just remove any stopwords\n",
        "    return \" \".join([word for word in nopunc.split() if word.lower() not in stop])"
      ],
      "execution_count": 26,
      "outputs": []
    },
    {
      "cell_type": "code",
      "metadata": {
        "id": "5zQqdpgiXjV4"
      },
      "source": [
        "# size = 0\r\n",
        "# processed_text_df = pd.DataFrame()\r\n",
        "# for i in range(2000000, len(yelp_data), 10000):\r\n",
        "#   processed_text_df = pd.concat([processed_text_df, yelp_data['text'][i:i+10000].apply(text_process)])\r\n",
        "#   size+=10000\r\n",
        "\r\n",
        "#   if len(processed_text_df) >= size:\r\n",
        "#     if len(processed_text_df)%100000==0:\r\n",
        "#       print(len(processed_text_df))\r\n",
        "#     processed_text_df.to_pickle('/content/gdrive/MyDrive/YelpDataset/PickleFiles/processed_text_df_2')\r\n",
        "#     del processed_text_df\r\n",
        "#     processed_text_df = pd.read_pickle('/content/gdrive/MyDrive/YelpDataset/PickleFiles/processed_text_df_2')\r\n",
        "  \r\n",
        "#   else:\r\n",
        "#     print(size)\r\n",
        "#     break\r\n"
      ],
      "execution_count": null,
      "outputs": []
    },
    {
      "cell_type": "code",
      "metadata": {
        "colab": {
          "base_uri": "https://localhost:8080/"
        },
        "id": "d5cNDFfx_x4N",
        "outputId": "2591549d-ef12-49ac-ad9a-9a2569aec5bf"
      },
      "source": [
        "len(yelp_data)"
      ],
      "execution_count": null,
      "outputs": [
        {
          "output_type": "execute_result",
          "data": {
            "text/plain": [
              "4607291"
            ]
          },
          "metadata": {
            "tags": []
          },
          "execution_count": 11
        }
      ]
    },
    {
      "cell_type": "code",
      "metadata": {
        "id": "jml6dfedch71"
      },
      "source": [
        "# processed_text_df_1 = pd.read_pickle('/content/gdrive/MyDrive/YelpDataset/PickleFiles/processed_text_df_1')"
      ],
      "execution_count": null,
      "outputs": []
    },
    {
      "cell_type": "code",
      "metadata": {
        "id": "05kJHxzdAHVy"
      },
      "source": [
        "# processed_text_df_final = pd.concat([processed_text_df_1, processed_text_df])"
      ],
      "execution_count": null,
      "outputs": []
    },
    {
      "cell_type": "code",
      "metadata": {
        "id": "sVJUbtywAcoE"
      },
      "source": [
        "# processed_text_df_final.to_pickle('/content/gdrive/MyDrive/YelpDataset/PickleFiles/processed_text_df')"
      ],
      "execution_count": null,
      "outputs": []
    },
    {
      "cell_type": "code",
      "metadata": {
        "id": "3NuXO_RHEVmz"
      },
      "source": [
        "processed_text_df_final = pd.read_pickle('/content/gdrive/MyDrive/YelpDataset/PickleFiles/processed_text_df')"
      ],
      "execution_count": 27,
      "outputs": []
    },
    {
      "cell_type": "code",
      "metadata": {
        "id": "3qW3Li-J9vrI",
        "colab": {
          "base_uri": "https://localhost:8080/"
        },
        "outputId": "b12e5d7d-4a36-4388-f5bf-3dd408c57640"
      },
      "source": [
        "yelp_data['text'] = processed_text_df_final"
      ],
      "execution_count": 28,
      "outputs": [
        {
          "output_type": "stream",
          "text": [
            "/usr/local/lib/python3.7/dist-packages/ipykernel_launcher.py:1: SettingWithCopyWarning: \n",
            "A value is trying to be set on a copy of a slice from a DataFrame.\n",
            "Try using .loc[row_indexer,col_indexer] = value instead\n",
            "\n",
            "See the caveats in the documentation: https://pandas.pydata.org/pandas-docs/stable/user_guide/indexing.html#returning-a-view-versus-a-copy\n",
            "  \"\"\"Entry point for launching an IPython kernel.\n"
          ],
          "name": "stderr"
        }
      ]
    },
    {
      "cell_type": "code",
      "metadata": {
        "id": "KFpfxbilZUKL"
      },
      "source": [
        "yelp_data = yelp_data[yelp_data['business_id'].isin(business_id_list)]"
      ],
      "execution_count": 29,
      "outputs": []
    },
    {
      "cell_type": "code",
      "metadata": {
        "colab": {
          "base_uri": "https://localhost:8080/"
        },
        "id": "Z2MfxWrabGBP",
        "outputId": "6d0521cc-4470-4c5c-e506-2c130c2c7de1"
      },
      "source": [
        "yelp_data.shape"
      ],
      "execution_count": 30,
      "outputs": [
        {
          "output_type": "execute_result",
          "data": {
            "text/plain": [
              "(316884, 4)"
            ]
          },
          "metadata": {
            "tags": []
          },
          "execution_count": 30
        }
      ]
    },
    {
      "cell_type": "code",
      "metadata": {
        "id": "GeUQPHh5Zhx4"
      },
      "source": [
        "yelp_data.to_pickle('/content/gdrive/MyDrive/YelpDataset/PickleFiles/yelp_data_df_NC')"
      ],
      "execution_count": 31,
      "outputs": []
    },
    {
      "cell_type": "code",
      "metadata": {
        "id": "VeYKbRZDA21I"
      },
      "source": [
        "# del processed_text_df_1\n",
        "del df_review"
      ],
      "execution_count": null,
      "outputs": []
    },
    {
      "cell_type": "code",
      "metadata": {
        "id": "dS5wYEr_bkbx"
      },
      "source": [
        "yelp_data = pd.read_pickle('/content/gdrive/MyDrive/YelpDataset/PickleFiles/yelp_data_df_NC')"
      ],
      "execution_count": 4,
      "outputs": []
    },
    {
      "cell_type": "code",
      "metadata": {
        "id": "88AFtRfd80MK"
      },
      "source": [
        "userid_df = yelp_data[['user_id','text']]\n",
        "business_df = yelp_data[['business_id', 'text']]"
      ],
      "execution_count": 23,
      "outputs": []
    },
    {
      "cell_type": "code",
      "metadata": {
        "id": "TbByEE8Bf8iy",
        "outputId": "8b4f4a04-da8d-4078-b425-f480c5f5af74",
        "colab": {
          "base_uri": "https://localhost:8080/",
          "height": 204
        }
      },
      "source": [
        "userid_df.head()"
      ],
      "execution_count": 24,
      "outputs": [
        {
          "output_type": "execute_result",
          "data": {
            "text/html": [
              "<div>\n",
              "<style scoped>\n",
              "    .dataframe tbody tr th:only-of-type {\n",
              "        vertical-align: middle;\n",
              "    }\n",
              "\n",
              "    .dataframe tbody tr th {\n",
              "        vertical-align: top;\n",
              "    }\n",
              "\n",
              "    .dataframe thead th {\n",
              "        text-align: right;\n",
              "    }\n",
              "</style>\n",
              "<table border=\"1\" class=\"dataframe\">\n",
              "  <thead>\n",
              "    <tr style=\"text-align: right;\">\n",
              "      <th></th>\n",
              "      <th>user_id</th>\n",
              "      <th>text</th>\n",
              "    </tr>\n",
              "  </thead>\n",
              "  <tbody>\n",
              "    <tr>\n",
              "      <th>16</th>\n",
              "      <td>XivuRnPq3D-K5cPiBTztIA</td>\n",
              "      <td>good want several times hoping experience alwa...</td>\n",
              "    </tr>\n",
              "    <tr>\n",
              "      <th>41</th>\n",
              "      <td>iAQFEArbXp1WUrseOFTLMA</td>\n",
              "      <td>GREAT SERVICE food amazing reasonably priced O...</td>\n",
              "    </tr>\n",
              "    <tr>\n",
              "      <th>47</th>\n",
              "      <td>oAFF_A02Ws0mwH-lkbzyMQ</td>\n",
              "      <td>Pros Fun atmosphere great people watching mech...</td>\n",
              "    </tr>\n",
              "    <tr>\n",
              "      <th>56</th>\n",
              "      <td>AVxQMKJsNvyNPbCJsinvYA</td>\n",
              "      <td>Fast friendly always make sure order correct e...</td>\n",
              "    </tr>\n",
              "    <tr>\n",
              "      <th>61</th>\n",
              "      <td>XBRgHoPjOi4GgcYFCvYElQ</td>\n",
              "      <td>3 stars food service awful Appetizers ordered ...</td>\n",
              "    </tr>\n",
              "  </tbody>\n",
              "</table>\n",
              "</div>"
            ],
            "text/plain": [
              "                   user_id                                               text\n",
              "16  XivuRnPq3D-K5cPiBTztIA  good want several times hoping experience alwa...\n",
              "41  iAQFEArbXp1WUrseOFTLMA  GREAT SERVICE food amazing reasonably priced O...\n",
              "47  oAFF_A02Ws0mwH-lkbzyMQ  Pros Fun atmosphere great people watching mech...\n",
              "56  AVxQMKJsNvyNPbCJsinvYA  Fast friendly always make sure order correct e...\n",
              "61  XBRgHoPjOi4GgcYFCvYElQ  3 stars food service awful Appetizers ordered ..."
            ]
          },
          "metadata": {
            "tags": []
          },
          "execution_count": 24
        }
      ]
    },
    {
      "cell_type": "code",
      "metadata": {
        "id": "Yxy4JdqHf_e_",
        "outputId": "8eb32d95-7ce1-4d41-8458-4fb054b8bc51",
        "colab": {
          "base_uri": "https://localhost:8080/"
        }
      },
      "source": [
        "userid_df[userid_df['user_id']=='XBRgHoPjOi4GgcYFCvYElQ']['text']"
      ],
      "execution_count": 28,
      "outputs": [
        {
          "output_type": "execute_result",
          "data": {
            "text/plain": [
              "61         3 stars food service awful Appetizers ordered ...\n",
              "53089      know married right person wake 15 minutes Coca...\n",
              "90854      Surprise eating thought stopping pick sweets I...\n",
              "551356     like frosting Jack Frost Donuts best donuts hi...\n",
              "1044302    place highly overrated First impressions decen...\n",
              "1926222    order burger get burger mind mind got small bu...\n",
              "3755762    really pretty inside service food okay portion...\n",
              "4293787    Meh Came last night say service 5 stars Wait t...\n",
              "Name: text, dtype: object"
            ]
          },
          "metadata": {
            "tags": []
          },
          "execution_count": 28
        }
      ]
    },
    {
      "cell_type": "markdown",
      "metadata": {
        "id": "yf959rD8gIbC"
      },
      "source": [
        "**Join the text with for each user_id and business_id**"
      ]
    },
    {
      "cell_type": "code",
      "metadata": {
        "id": "bDOeLYWbgGkh"
      },
      "source": [
        "userid_df = userid_df.groupby('user_id').agg({'text': ' '.join})\n",
        "business_df = business_df.groupby('business_id').agg({'text': ' '.join})"
      ],
      "execution_count": 29,
      "outputs": []
    },
    {
      "cell_type": "code",
      "metadata": {
        "id": "uBfQLU5FgqQI",
        "outputId": "3a600ec4-9c74-48ce-d7d0-959f3af54bd1",
        "colab": {
          "base_uri": "https://localhost:8080/",
          "height": 154
        }
      },
      "source": [
        "userid_df.loc['XBRgHoPjOi4GgcYFCvYElQ']['text']"
      ],
      "execution_count": 30,
      "outputs": [
        {
          "output_type": "execute_result",
          "data": {
            "application/vnd.google.colaboratory.intrinsic+json": {
              "type": "string"
            },
            "text/plain": [
              "'3 stars food service awful Appetizers ordered food brought wondering food Saw multiple tables served sat around waiting check back know married right person wake 15 minutes Coca opens get time belabor point many others brought except say going weekend get open Otherwise guarantee wait bias going bring comfortably seated stage call gotten early able pick spot order sage sausage entrees One get something savory like Bacon Avocado Omelet bring friend right one something sweet like Pumpkin Pancakes happen go fall Sharing caring make sure everyone gets ample opportunity sample spectrum goodness Get requisite coffee freshlyjuiced juice sit back bask sunlight dining rooms spacious feel go walk cause going stuffed need work Surprise eating thought stopping pick sweets Im glad finally check place bookmarks Bikaner exactly close live pretty safe say worth trip Pindi Chana delicious Afghani Pulao even though really dislike dried fruits food Minus one star server kept forgetting drinks Nice guy forgetful paying food took forever get till picking sweets took someone five minutes show counter people restaurant worry service would busy night Vegetarians wary chicken listed among vegetarian dishes completely worried friend Vishnu considers vegetarian even though eats fish chicken lamb Lots ethnic restaurants assume say eat meat mean eat beef andor pork servers careful though afraid ask questions assured get delicious like frosting Jack Frost Donuts best donuts history world Theres much frosting covers nose take bite Really excellent rich thick bursting flavor love donuts candy bits like MM ones Oh donuts great wish one east side Parmaish location kind schlep place highly overrated First impressions decent wait staff pleasant attentive restaurant looked nice seated discovered alcohol served Really Ok looked prices high sizzler plate Mine 30 plates arrived 15 minutes ordering disappointment veal well done even though asked medium chewiest meat Ive ever flavour sub par Indian flavour Perhaps Indian restaurant classified one Anyway curious reviewers wrong wanted give place try Next time trust Yelp review rating coming back order burger get burger mind mind got small burger 8 big one burger fries lunch still little hungry afterwards ordered burger fries dinner surely would still hungry afterwards burger ok stated small side fries nothing special kind expensive 4 1 side fries seems bit pricey service good obviously trained lot thing really stands cant add anything burger mean nothing burger matter much stuff come onion lettuce tomato pickles see get even though rule wanted extra onion Raw onion pickled stuff came burger Much satisfaction server nice enough give good job server went Michael Simon restaurant expected amazing Well Average really pretty inside service food okay portions tiny anything special expensive suppose pay kinda fancy inside still ordered bento box barely teriyaki chicken came ONE gyoza ONE egg roll friends ordered sushi get food least 15 minutes kind took one dish bill long wait overall greatest dining experience friends said sushi okay theyve better Meh Came last night say service 5 stars Wait took forever sat us next fire wall way hot staff reaccomdated seating made get 5 stars book waiter helpful really knew menu Reason lower ranking really high hopes place ate entire burger hungry ketchup home made fan spicy almost like cocktail sauce good fries Fries overly seasoned preferred regular ones truffle onion rings bomb burger good dry like cheese stinky like goat prefer red robin place'"
            ]
          },
          "metadata": {
            "tags": []
          },
          "execution_count": 30
        }
      ]
    },
    {
      "cell_type": "markdown",
      "metadata": {
        "id": "90C9pO2ChfdP"
      },
      "source": [
        "**Creating Tfidf vectors for userid_df and businessid_df with 5000 Features**"
      ]
    },
    {
      "cell_type": "code",
      "metadata": {
        "id": "0iniRaIV-bd9"
      },
      "source": [
        "# userid vectorizer\n",
        "userid_vectorizer = TfidfVectorizer(tokenizer = WordPunctTokenizer().tokenize, max_features=5000)\n",
        "userid_vectors = userid_vectorizer.fit_transform(userid_df['text'])"
      ],
      "execution_count": 33,
      "outputs": []
    },
    {
      "cell_type": "code",
      "metadata": {
        "id": "Rll_WyoMWAlc"
      },
      "source": [
        "sparse.save_npz(\"/content/gdrive/MyDrive/YelpDataset/PickleFiles/userid_vectors_NC.npz\", userid_vectors)"
      ],
      "execution_count": 34,
      "outputs": []
    },
    {
      "cell_type": "code",
      "metadata": {
        "id": "bOBEK9CiaIrn"
      },
      "source": [
        "userid_vectors = sparse.load_npz(\"/content/gdrive/MyDrive/YelpDataset/PickleFiles/userid_vectors_NC.npz\")"
      ],
      "execution_count": 31,
      "outputs": []
    },
    {
      "cell_type": "code",
      "metadata": {
        "id": "QWol-GAT_Tuq"
      },
      "source": [
        "#Business id vectorizer\n",
        "businessid_vectorizer = TfidfVectorizer(tokenizer = WordPunctTokenizer().tokenize, max_features=5000)\n",
        "businessid_vectors = businessid_vectorizer.fit_transform(business_df['text'])"
      ],
      "execution_count": 35,
      "outputs": []
    },
    {
      "cell_type": "code",
      "metadata": {
        "id": "KYgp3D7tTXEo"
      },
      "source": [
        "sparse.save_npz(\"/content/gdrive/MyDrive/YelpDataset/PickleFiles/businessid_vectors_NC.npz\", businessid_vectors)"
      ],
      "execution_count": 36,
      "outputs": []
    },
    {
      "cell_type": "code",
      "metadata": {
        "id": "rxO0r5Aia5ye"
      },
      "source": [
        "businessid_vectors = sparse.load_npz(\"/content/gdrive/MyDrive/YelpDataset/PickleFiles/businessid_vectors_NC.npz\")"
      ],
      "execution_count": 32,
      "outputs": []
    },
    {
      "cell_type": "code",
      "metadata": {
        "colab": {
          "base_uri": "https://localhost:8080/"
        },
        "id": "awr4_m7MkGqV",
        "outputId": "6691a00b-4985-4771-e696-3910895900e6"
      },
      "source": [
        "from tqdm import tqdm\n",
        "\n",
        "chunk_size = 50000\n",
        "chunks = [x for x in range(0, yelp_data.shape[0], chunk_size)]\n",
        "\n",
        "for i in range(0, len(chunks) - 1):\n",
        "    print(chunks[i], chunks[i + 1] - 1)"
      ],
      "execution_count": 39,
      "outputs": [
        {
          "output_type": "stream",
          "text": [
            "0 49999\n",
            "50000 99999\n",
            "100000 149999\n",
            "150000 199999\n",
            "200000 249999\n",
            "250000 299999\n"
          ],
          "name": "stdout"
        }
      ]
    },
    {
      "cell_type": "code",
      "metadata": {
        "id": "-KNDGDE1kSE-"
      },
      "source": [
        "userid_rating_matrix = pd.DataFrame()\n",
        "user_col = 'user_id'\n",
        "item_col = 'business_id'\n",
        "rating_col = 'stars'\n",
        "\n",
        "for i in tqdm(range(0, len(chunks) - 1)):\n",
        "    chunk_df = yelp_data.iloc[ chunks[i]:chunks[i + 1] - 1]\n",
        "    interactions = (\n",
        "    chunk_df.groupby([user_col, item_col])[rating_col]\n",
        "    .sum()\n",
        "    .unstack()\n",
        "    .reset_index()\n",
        "    .fillna(0)\n",
        "    .set_index(user_col)\n",
        "    )\n",
        "    print (interactions.shape)\n",
        "    userid_rating_matrix = userid_rating_matrix.append(interactions, sort=False) "
      ],
      "execution_count": null,
      "outputs": []
    },
    {
      "cell_type": "code",
      "metadata": {
        "id": "bYi63BJnVbNe",
        "outputId": "889f93bd-2421-477b-d8a7-db27ef0166c1",
        "colab": {
          "base_uri": "https://localhost:8080/",
          "height": 204
        }
      },
      "source": [
        "yelp_data.head()"
      ],
      "execution_count": 8,
      "outputs": [
        {
          "output_type": "execute_result",
          "data": {
            "text/html": [
              "<div>\n",
              "<style scoped>\n",
              "    .dataframe tbody tr th:only-of-type {\n",
              "        vertical-align: middle;\n",
              "    }\n",
              "\n",
              "    .dataframe tbody tr th {\n",
              "        vertical-align: top;\n",
              "    }\n",
              "\n",
              "    .dataframe thead th {\n",
              "        text-align: right;\n",
              "    }\n",
              "</style>\n",
              "<table border=\"1\" class=\"dataframe\">\n",
              "  <thead>\n",
              "    <tr style=\"text-align: right;\">\n",
              "      <th></th>\n",
              "      <th>business_id</th>\n",
              "      <th>user_id</th>\n",
              "      <th>stars</th>\n",
              "      <th>text</th>\n",
              "    </tr>\n",
              "  </thead>\n",
              "  <tbody>\n",
              "    <tr>\n",
              "      <th>16</th>\n",
              "      <td>oyjkEn5fAqcGNsBbqc8LTw</td>\n",
              "      <td>XivuRnPq3D-K5cPiBTztIA</td>\n",
              "      <td>1.0</td>\n",
              "      <td>good want several times hoping experience alwa...</td>\n",
              "    </tr>\n",
              "    <tr>\n",
              "      <th>41</th>\n",
              "      <td>gfhWUixZ4MmEAC1DtTsodA</td>\n",
              "      <td>iAQFEArbXp1WUrseOFTLMA</td>\n",
              "      <td>5.0</td>\n",
              "      <td>GREAT SERVICE food amazing reasonably priced O...</td>\n",
              "    </tr>\n",
              "    <tr>\n",
              "      <th>47</th>\n",
              "      <td>l_kefVF1frmC0xRW2YkvUA</td>\n",
              "      <td>oAFF_A02Ws0mwH-lkbzyMQ</td>\n",
              "      <td>2.0</td>\n",
              "      <td>Pros Fun atmosphere great people watching mech...</td>\n",
              "    </tr>\n",
              "    <tr>\n",
              "      <th>56</th>\n",
              "      <td>srHBs-NlG0upDlambkURbA</td>\n",
              "      <td>AVxQMKJsNvyNPbCJsinvYA</td>\n",
              "      <td>5.0</td>\n",
              "      <td>Fast friendly always make sure order correct e...</td>\n",
              "    </tr>\n",
              "    <tr>\n",
              "      <th>61</th>\n",
              "      <td>osSwv6CJy5hDKQdOKeyTow</td>\n",
              "      <td>XBRgHoPjOi4GgcYFCvYElQ</td>\n",
              "      <td>2.0</td>\n",
              "      <td>3 stars food service awful Appetizers ordered ...</td>\n",
              "    </tr>\n",
              "  </tbody>\n",
              "</table>\n",
              "</div>"
            ],
            "text/plain": [
              "               business_id  ...                                               text\n",
              "16  oyjkEn5fAqcGNsBbqc8LTw  ...  good want several times hoping experience alwa...\n",
              "41  gfhWUixZ4MmEAC1DtTsodA  ...  GREAT SERVICE food amazing reasonably priced O...\n",
              "47  l_kefVF1frmC0xRW2YkvUA  ...  Pros Fun atmosphere great people watching mech...\n",
              "56  srHBs-NlG0upDlambkURbA  ...  Fast friendly always make sure order correct e...\n",
              "61  osSwv6CJy5hDKQdOKeyTow  ...  3 stars food service awful Appetizers ordered ...\n",
              "\n",
              "[5 rows x 4 columns]"
            ]
          },
          "metadata": {
            "tags": []
          },
          "execution_count": 8
        }
      ]
    },
    {
      "cell_type": "code",
      "metadata": {
        "id": "F9HND8Nycrku",
        "outputId": "a91fd1ad-0df7-4fba-a98b-4c135002ce59",
        "colab": {
          "base_uri": "https://localhost:8080/",
          "height": 419
        }
      },
      "source": [
        "yelp_data.sort_values(by=['user_id','business_id'])"
      ],
      "execution_count": 11,
      "outputs": [
        {
          "output_type": "execute_result",
          "data": {
            "text/html": [
              "<div>\n",
              "<style scoped>\n",
              "    .dataframe tbody tr th:only-of-type {\n",
              "        vertical-align: middle;\n",
              "    }\n",
              "\n",
              "    .dataframe tbody tr th {\n",
              "        vertical-align: top;\n",
              "    }\n",
              "\n",
              "    .dataframe thead th {\n",
              "        text-align: right;\n",
              "    }\n",
              "</style>\n",
              "<table border=\"1\" class=\"dataframe\">\n",
              "  <thead>\n",
              "    <tr style=\"text-align: right;\">\n",
              "      <th></th>\n",
              "      <th>business_id</th>\n",
              "      <th>user_id</th>\n",
              "      <th>stars</th>\n",
              "      <th>text</th>\n",
              "    </tr>\n",
              "  </thead>\n",
              "  <tbody>\n",
              "    <tr>\n",
              "      <th>407517</th>\n",
              "      <td>k-drEjxKmfqllwfY90STfA</td>\n",
              "      <td>--1yLzzEz00g2ajbHn3OHQ</td>\n",
              "      <td>5.0</td>\n",
              "      <td>last restaurant modern visited prior leaving L...</td>\n",
              "    </tr>\n",
              "    <tr>\n",
              "      <th>2519540</th>\n",
              "      <td>ADgacmZ-qXrSOhMfU6bmTA</td>\n",
              "      <td>--3WaS23LcIXtxyFULJHTA</td>\n",
              "      <td>3.0</td>\n",
              "      <td>Server awesome Food fast delish Beer cold ask</td>\n",
              "    </tr>\n",
              "    <tr>\n",
              "      <th>248467</th>\n",
              "      <td>M0pkmBUi_CI0qrzN7ee80Q</td>\n",
              "      <td>--3WaS23LcIXtxyFULJHTA</td>\n",
              "      <td>5.0</td>\n",
              "      <td>little ago honey waitress Aimee super attentiv...</td>\n",
              "    </tr>\n",
              "    <tr>\n",
              "      <th>4146939</th>\n",
              "      <td>zaLFPpm-t89qSDOaFVgwDQ</td>\n",
              "      <td>--3WaS23LcIXtxyFULJHTA</td>\n",
              "      <td>4.0</td>\n",
              "      <td>best breakfast Hendersonpossibly Vegas Fresh i...</td>\n",
              "    </tr>\n",
              "    <tr>\n",
              "      <th>3848792</th>\n",
              "      <td>aE-02jgBVhV56x0kbfvSIA</td>\n",
              "      <td>--5-MQZPsn2CJkyMFQkOgQ</td>\n",
              "      <td>5.0</td>\n",
              "      <td>Im one chain restaurants Monday weeknight 10pm...</td>\n",
              "    </tr>\n",
              "    <tr>\n",
              "      <th>...</th>\n",
              "      <td>...</td>\n",
              "      <td>...</td>\n",
              "      <td>...</td>\n",
              "      <td>...</td>\n",
              "    </tr>\n",
              "    <tr>\n",
              "      <th>3668802</th>\n",
              "      <td>wO9TPd-8UoY7vmSsqgf9qA</td>\n",
              "      <td>zzw0Z6-_VDp9ShIRSKIsQw</td>\n",
              "      <td>4.0</td>\n",
              "      <td>Hands best fine dining Italian Charlotte proba...</td>\n",
              "    </tr>\n",
              "    <tr>\n",
              "      <th>2148004</th>\n",
              "      <td>y14TQfHRL5Gkk-CorcR6bg</td>\n",
              "      <td>zzw0Z6-_VDp9ShIRSKIsQw</td>\n",
              "      <td>5.0</td>\n",
              "      <td>favorite place get bahn mi Great ingredient gr...</td>\n",
              "    </tr>\n",
              "    <tr>\n",
              "      <th>2681662</th>\n",
              "      <td>zHrvBbRMSV9SFqZC6qa20Q</td>\n",
              "      <td>zzw0Z6-_VDp9ShIRSKIsQw</td>\n",
              "      <td>2.0</td>\n",
              "      <td>barbecue sandwich amazing Blacks favorite rest...</td>\n",
              "    </tr>\n",
              "    <tr>\n",
              "      <th>4255443</th>\n",
              "      <td>tMKblwX0CeCDZbCz6ruyPg</td>\n",
              "      <td>zzwYhKPhnZQPushMyzgtDg</td>\n",
              "      <td>2.0</td>\n",
              "      <td>goto casual dinner love menu selection Ive cam...</td>\n",
              "    </tr>\n",
              "    <tr>\n",
              "      <th>878121</th>\n",
              "      <td>Z_mJYg3vi8cPZHa1J4BALw</td>\n",
              "      <td>zzz-M4QvkEpUWWPL9RTzLA</td>\n",
              "      <td>2.0</td>\n",
              "      <td>Awesome atmosphere Try different things Come h...</td>\n",
              "    </tr>\n",
              "  </tbody>\n",
              "</table>\n",
              "<p>316884 rows × 4 columns</p>\n",
              "</div>"
            ],
            "text/plain": [
              "                    business_id  ...                                               text\n",
              "407517   k-drEjxKmfqllwfY90STfA  ...  last restaurant modern visited prior leaving L...\n",
              "2519540  ADgacmZ-qXrSOhMfU6bmTA  ...      Server awesome Food fast delish Beer cold ask\n",
              "248467   M0pkmBUi_CI0qrzN7ee80Q  ...  little ago honey waitress Aimee super attentiv...\n",
              "4146939  zaLFPpm-t89qSDOaFVgwDQ  ...  best breakfast Hendersonpossibly Vegas Fresh i...\n",
              "3848792  aE-02jgBVhV56x0kbfvSIA  ...  Im one chain restaurants Monday weeknight 10pm...\n",
              "...                         ...  ...                                                ...\n",
              "3668802  wO9TPd-8UoY7vmSsqgf9qA  ...  Hands best fine dining Italian Charlotte proba...\n",
              "2148004  y14TQfHRL5Gkk-CorcR6bg  ...  favorite place get bahn mi Great ingredient gr...\n",
              "2681662  zHrvBbRMSV9SFqZC6qa20Q  ...  barbecue sandwich amazing Blacks favorite rest...\n",
              "4255443  tMKblwX0CeCDZbCz6ruyPg  ...  goto casual dinner love menu selection Ive cam...\n",
              "878121   Z_mJYg3vi8cPZHa1J4BALw  ...  Awesome atmosphere Try different things Come h...\n",
              "\n",
              "[316884 rows x 4 columns]"
            ]
          },
          "metadata": {
            "tags": []
          },
          "execution_count": 11
        }
      ]
    },
    {
      "cell_type": "code",
      "metadata": {
        "id": "L-LiKTbrV0Ap",
        "outputId": "f6d70370-a109-49e7-d7de-e4ffb47c3339",
        "colab": {
          "base_uri": "https://localhost:8080/",
          "height": 49
        }
      },
      "source": [
        "yelp_data[((yelp_data['business_id']==\"-5XuRAfrjEiMN77J4gMQZQ\") & (yelp_data['user_id']==\"--1yLzzEz00g2ajbHn3OHQ\"))]"
      ],
      "execution_count": 9,
      "outputs": [
        {
          "output_type": "execute_result",
          "data": {
            "text/html": [
              "<div>\n",
              "<style scoped>\n",
              "    .dataframe tbody tr th:only-of-type {\n",
              "        vertical-align: middle;\n",
              "    }\n",
              "\n",
              "    .dataframe tbody tr th {\n",
              "        vertical-align: top;\n",
              "    }\n",
              "\n",
              "    .dataframe thead th {\n",
              "        text-align: right;\n",
              "    }\n",
              "</style>\n",
              "<table border=\"1\" class=\"dataframe\">\n",
              "  <thead>\n",
              "    <tr style=\"text-align: right;\">\n",
              "      <th></th>\n",
              "      <th>business_id</th>\n",
              "      <th>user_id</th>\n",
              "      <th>stars</th>\n",
              "      <th>text</th>\n",
              "    </tr>\n",
              "  </thead>\n",
              "  <tbody>\n",
              "  </tbody>\n",
              "</table>\n",
              "</div>"
            ],
            "text/plain": [
              "Empty DataFrame\n",
              "Columns: [business_id, user_id, stars, text]\n",
              "Index: []"
            ]
          },
          "metadata": {
            "tags": []
          },
          "execution_count": 9
        }
      ]
    },
    {
      "cell_type": "code",
      "metadata": {
        "id": "jmNzT195DC2v"
      },
      "source": [
        "userid_rating_matrix = pd.pivot_table(yelp_data, values='stars', index=['user_id'], columns=['business_id'])"
      ],
      "execution_count": 5,
      "outputs": []
    },
    {
      "cell_type": "code",
      "metadata": {
        "colab": {
          "base_uri": "https://localhost:8080/"
        },
        "id": "9nq8NJj0ciTC",
        "outputId": "db10d335-d172-443a-cf02-021d96a0292a"
      },
      "source": [
        "userid_rating_matrix.T[~userid_rating_matrix.T['fDdaVDFZ6LJVh1-JbrM7DQ'].isna()]['fDdaVDFZ6LJVh1-JbrM7DQ']"
      ],
      "execution_count": 14,
      "outputs": [
        {
          "output_type": "execute_result",
          "data": {
            "text/plain": [
              "business_id\n",
              "-0QtTRrAMn6DKLZNef3Ojg    1.0\n",
              "Name: fDdaVDFZ6LJVh1-JbrM7DQ, dtype: float64"
            ]
          },
          "metadata": {
            "tags": []
          },
          "execution_count": 14
        }
      ]
    },
    {
      "cell_type": "code",
      "metadata": {
        "id": "1e-IMpAsUWVv"
      },
      "source": [
        "userid_rating_matrix.to_pickle('/content/gdrive/MyDrive/YelpDataset/PickleFiles/userid_rating_matrix_NC')"
      ],
      "execution_count": 6,
      "outputs": []
    },
    {
      "cell_type": "code",
      "metadata": {
        "id": "lsq_ffBHULiM",
        "outputId": "d6c020a6-6278-49a1-c296-aef5c07d91f0",
        "colab": {
          "base_uri": "https://localhost:8080/",
          "height": 335
        }
      },
      "source": [
        "userid_rating_matrix.tail()"
      ],
      "execution_count": 13,
      "outputs": [
        {
          "output_type": "execute_result",
          "data": {
            "text/html": [
              "<div>\n",
              "<style scoped>\n",
              "    .dataframe tbody tr th:only-of-type {\n",
              "        vertical-align: middle;\n",
              "    }\n",
              "\n",
              "    .dataframe tbody tr th {\n",
              "        vertical-align: top;\n",
              "    }\n",
              "\n",
              "    .dataframe thead th {\n",
              "        text-align: right;\n",
              "    }\n",
              "</style>\n",
              "<table border=\"1\" class=\"dataframe\">\n",
              "  <thead>\n",
              "    <tr style=\"text-align: right;\">\n",
              "      <th>business_id</th>\n",
              "      <th>--7zmmkVg-IMGaXbuVd0SQ</th>\n",
              "      <th>--KCl2FvVQpvjzmZSPyviA</th>\n",
              "      <th>--cZ6Hhc9F7VkKXxHMVZSQ</th>\n",
              "      <th>-0QtTRrAMn6DKLZNef3Ojg</th>\n",
              "      <th>-2pQf1ceDZyE2ReCNbj-3A</th>\n",
              "      <th>-33_OPx1aKM22qxioPgJ_Q</th>\n",
              "      <th>-3PHn7uGXNaOytVl1JnovQ</th>\n",
              "      <th>-5L8zOxibac-vBrsYtxXbQ</th>\n",
              "      <th>-5XuRAfrjEiMN77J4gMQZQ</th>\n",
              "      <th>-8Oaw94x2pYJCVP8ZtuTTw</th>\n",
              "      <th>-8fOqUWFX_1qiKggIt5LnA</th>\n",
              "      <th>-8iwcXhLnyqbLgvcrJGgaw</th>\n",
              "      <th>-Bb3kfdHIX1qm2RvtHnOTQ</th>\n",
              "      <th>-BplplCOayCupKnRVZcclw</th>\n",
              "      <th>-FpKsMctW7nmFEDeHe4-ag</th>\n",
              "      <th>-GWI_4FktOD7fwHW1DgZCA</th>\n",
              "      <th>-HIwk8B2mWzGS84vuM8ybA</th>\n",
              "      <th>-I27yVw2x_-31_OOMSH02w</th>\n",
              "      <th>-JkxHGA3nBASzwYdBDAiow</th>\n",
              "      <th>-KqwcJ10CUzl-hEwgwGhUA</th>\n",
              "      <th>-L9TeQN_JgLBvqf9wmsBVQ</th>\n",
              "      <th>-LAiusd8GnWFR8atxbT-Vw</th>\n",
              "      <th>-LGIVl0HBoiafmqaNCdTow</th>\n",
              "      <th>-NkvJ2uwK_29GmjeOrY0LQ</th>\n",
              "      <th>-NpRmzPCs3jO-iW9gGkXtA</th>\n",
              "      <th>-OXGCSOIcKgla8yXoHaSwA</th>\n",
              "      <th>-PDte5c2UV23_s9TID-4Kw</th>\n",
              "      <th>-PO8-_JzzUw-vgpyqIq3sQ</th>\n",
              "      <th>-PYiTrmibO-XxqpRRF4EoA</th>\n",
              "      <th>-Pd-IBDWWwRNWzBBFTb7iQ</th>\n",
              "      <th>-QC71Wuh0TyJI0RAZ3d0Iw</th>\n",
              "      <th>-RP7Sw9lqHySxzzRFaeYiQ</th>\n",
              "      <th>-RTEVGUP2wnKB3PV-_fueg</th>\n",
              "      <th>-Rr4TuM1tWhagDcLTp_qUQ</th>\n",
              "      <th>-T0M3exc6tC6sw5LjtVdDQ</th>\n",
              "      <th>-TAQY5daovkW45iYGVfbyA</th>\n",
              "      <th>-U0liwRSHGYBEMYVj8kFmQ</th>\n",
              "      <th>-UNnYuoXnup4k-S1SC0SzA</th>\n",
              "      <th>-UV2tt3gy57-5a29paA_4w</th>\n",
              "      <th>-UxAJfViirpbkbth6_RKTw</th>\n",
              "      <th>...</th>\n",
              "      <th>zOMiDo5iGn5dTrckP4F_Ig</th>\n",
              "      <th>zPUjrM223oSulvRRhpkAmQ</th>\n",
              "      <th>zPfSGU3hzNPNV8twXBiayA</th>\n",
              "      <th>zQydbmG0HmZnrbu6SGiDcw</th>\n",
              "      <th>zRr45TrTgq8XAKwvjM0W_Q</th>\n",
              "      <th>zUHIDqm_UKdnSygmWKtyRg</th>\n",
              "      <th>zW2SAaWtoDNM_JTkIW8Jtg</th>\n",
              "      <th>zX--4nk6LshQ3D79HPACxw</th>\n",
              "      <th>zXEMRlEubK4iJeuYndgIFw</th>\n",
              "      <th>zXsB61ZYYsTCaKYOTYr1Tg</th>\n",
              "      <th>zYDAMT8UjETKRSYGXsbL3A</th>\n",
              "      <th>z_rVJjsUZ8yKvSvPLrGkzA</th>\n",
              "      <th>za1ocYYyi5uKdQ0Q3M3BQQ</th>\n",
              "      <th>zaLFPpm-t89qSDOaFVgwDQ</th>\n",
              "      <th>zb6RpofFD-rmpXqHVdXZbQ</th>\n",
              "      <th>zbN-2RROOpOfaYJh8lnV3Q</th>\n",
              "      <th>zbbQdTc22S9ROibEimKHAw</th>\n",
              "      <th>zcfmbmOEX83YL04f9_Y0BA</th>\n",
              "      <th>zdoiA0CuVX_90K3ccYCdIQ</th>\n",
              "      <th>zdvAsIl9D5ECa2M0u9cQrg</th>\n",
              "      <th>zenqYOv9U2pXb-dwzETIXg</th>\n",
              "      <th>zfPRTgGR9U8T6Rdnos_mAQ</th>\n",
              "      <th>zgtgMlvFk5Ilrs1yj78tdA</th>\n",
              "      <th>ziNGerrnVTaVHQ5kVngfZA</th>\n",
              "      <th>zibinklC3wVDRMhMOsDsoA</th>\n",
              "      <th>zki75FDORLkeFQvf2vmF8w</th>\n",
              "      <th>zlX5HIwcZUIssEgIwYaXLA</th>\n",
              "      <th>zllWgXyzGWhTG00FK0IUtw</th>\n",
              "      <th>zpGCFAt_MydbQN4EsXee6w</th>\n",
              "      <th>zpVxylLC8jnHY1xK1sWpjA</th>\n",
              "      <th>zr7grc6VLxwuo3iXLAs1oA</th>\n",
              "      <th>zr8Ojsm-yNhvfTzBzcKU9w</th>\n",
              "      <th>zrEmWr6ue5yfxnKr4E2_jg</th>\n",
              "      <th>zrxIW7w0zs5JueXIwQaaEQ</th>\n",
              "      <th>zsR57scngUPI5W686GmSGA</th>\n",
              "      <th>zsu7d3Oed4k8ABUChSp-1g</th>\n",
              "      <th>zwxBTPOR020qUXjzPTWBFw</th>\n",
              "      <th>zy-XZ2z_KmnISE1Gl99w1Q</th>\n",
              "      <th>zy1B_cz5Urt7dSjfR5TPvw</th>\n",
              "      <th>zzmIMvqiBJ_-wVKg_OnGpw</th>\n",
              "    </tr>\n",
              "    <tr>\n",
              "      <th>user_id</th>\n",
              "      <th></th>\n",
              "      <th></th>\n",
              "      <th></th>\n",
              "      <th></th>\n",
              "      <th></th>\n",
              "      <th></th>\n",
              "      <th></th>\n",
              "      <th></th>\n",
              "      <th></th>\n",
              "      <th></th>\n",
              "      <th></th>\n",
              "      <th></th>\n",
              "      <th></th>\n",
              "      <th></th>\n",
              "      <th></th>\n",
              "      <th></th>\n",
              "      <th></th>\n",
              "      <th></th>\n",
              "      <th></th>\n",
              "      <th></th>\n",
              "      <th></th>\n",
              "      <th></th>\n",
              "      <th></th>\n",
              "      <th></th>\n",
              "      <th></th>\n",
              "      <th></th>\n",
              "      <th></th>\n",
              "      <th></th>\n",
              "      <th></th>\n",
              "      <th></th>\n",
              "      <th></th>\n",
              "      <th></th>\n",
              "      <th></th>\n",
              "      <th></th>\n",
              "      <th></th>\n",
              "      <th></th>\n",
              "      <th></th>\n",
              "      <th></th>\n",
              "      <th></th>\n",
              "      <th></th>\n",
              "      <th></th>\n",
              "      <th></th>\n",
              "      <th></th>\n",
              "      <th></th>\n",
              "      <th></th>\n",
              "      <th></th>\n",
              "      <th></th>\n",
              "      <th></th>\n",
              "      <th></th>\n",
              "      <th></th>\n",
              "      <th></th>\n",
              "      <th></th>\n",
              "      <th></th>\n",
              "      <th></th>\n",
              "      <th></th>\n",
              "      <th></th>\n",
              "      <th></th>\n",
              "      <th></th>\n",
              "      <th></th>\n",
              "      <th></th>\n",
              "      <th></th>\n",
              "      <th></th>\n",
              "      <th></th>\n",
              "      <th></th>\n",
              "      <th></th>\n",
              "      <th></th>\n",
              "      <th></th>\n",
              "      <th></th>\n",
              "      <th></th>\n",
              "      <th></th>\n",
              "      <th></th>\n",
              "      <th></th>\n",
              "      <th></th>\n",
              "      <th></th>\n",
              "      <th></th>\n",
              "      <th></th>\n",
              "      <th></th>\n",
              "      <th></th>\n",
              "      <th></th>\n",
              "      <th></th>\n",
              "      <th></th>\n",
              "    </tr>\n",
              "  </thead>\n",
              "  <tbody>\n",
              "    <tr>\n",
              "      <th>zzstF6X4o3TaWEq0bfEcDA</th>\n",
              "      <td>NaN</td>\n",
              "      <td>NaN</td>\n",
              "      <td>NaN</td>\n",
              "      <td>NaN</td>\n",
              "      <td>NaN</td>\n",
              "      <td>NaN</td>\n",
              "      <td>NaN</td>\n",
              "      <td>NaN</td>\n",
              "      <td>NaN</td>\n",
              "      <td>NaN</td>\n",
              "      <td>NaN</td>\n",
              "      <td>NaN</td>\n",
              "      <td>NaN</td>\n",
              "      <td>NaN</td>\n",
              "      <td>NaN</td>\n",
              "      <td>NaN</td>\n",
              "      <td>NaN</td>\n",
              "      <td>NaN</td>\n",
              "      <td>NaN</td>\n",
              "      <td>NaN</td>\n",
              "      <td>NaN</td>\n",
              "      <td>NaN</td>\n",
              "      <td>NaN</td>\n",
              "      <td>NaN</td>\n",
              "      <td>NaN</td>\n",
              "      <td>NaN</td>\n",
              "      <td>NaN</td>\n",
              "      <td>NaN</td>\n",
              "      <td>NaN</td>\n",
              "      <td>NaN</td>\n",
              "      <td>NaN</td>\n",
              "      <td>NaN</td>\n",
              "      <td>NaN</td>\n",
              "      <td>NaN</td>\n",
              "      <td>NaN</td>\n",
              "      <td>NaN</td>\n",
              "      <td>NaN</td>\n",
              "      <td>NaN</td>\n",
              "      <td>NaN</td>\n",
              "      <td>NaN</td>\n",
              "      <td>...</td>\n",
              "      <td>NaN</td>\n",
              "      <td>NaN</td>\n",
              "      <td>NaN</td>\n",
              "      <td>NaN</td>\n",
              "      <td>NaN</td>\n",
              "      <td>NaN</td>\n",
              "      <td>NaN</td>\n",
              "      <td>NaN</td>\n",
              "      <td>NaN</td>\n",
              "      <td>NaN</td>\n",
              "      <td>NaN</td>\n",
              "      <td>NaN</td>\n",
              "      <td>NaN</td>\n",
              "      <td>NaN</td>\n",
              "      <td>NaN</td>\n",
              "      <td>NaN</td>\n",
              "      <td>NaN</td>\n",
              "      <td>NaN</td>\n",
              "      <td>NaN</td>\n",
              "      <td>NaN</td>\n",
              "      <td>NaN</td>\n",
              "      <td>NaN</td>\n",
              "      <td>NaN</td>\n",
              "      <td>NaN</td>\n",
              "      <td>NaN</td>\n",
              "      <td>NaN</td>\n",
              "      <td>NaN</td>\n",
              "      <td>NaN</td>\n",
              "      <td>NaN</td>\n",
              "      <td>NaN</td>\n",
              "      <td>NaN</td>\n",
              "      <td>NaN</td>\n",
              "      <td>NaN</td>\n",
              "      <td>NaN</td>\n",
              "      <td>NaN</td>\n",
              "      <td>NaN</td>\n",
              "      <td>NaN</td>\n",
              "      <td>NaN</td>\n",
              "      <td>NaN</td>\n",
              "      <td>NaN</td>\n",
              "    </tr>\n",
              "    <tr>\n",
              "      <th>zzvm_VD3HjU6RMx8zq7g1g</th>\n",
              "      <td>NaN</td>\n",
              "      <td>NaN</td>\n",
              "      <td>NaN</td>\n",
              "      <td>NaN</td>\n",
              "      <td>NaN</td>\n",
              "      <td>NaN</td>\n",
              "      <td>NaN</td>\n",
              "      <td>NaN</td>\n",
              "      <td>NaN</td>\n",
              "      <td>NaN</td>\n",
              "      <td>NaN</td>\n",
              "      <td>NaN</td>\n",
              "      <td>NaN</td>\n",
              "      <td>NaN</td>\n",
              "      <td>NaN</td>\n",
              "      <td>NaN</td>\n",
              "      <td>NaN</td>\n",
              "      <td>NaN</td>\n",
              "      <td>NaN</td>\n",
              "      <td>NaN</td>\n",
              "      <td>NaN</td>\n",
              "      <td>NaN</td>\n",
              "      <td>NaN</td>\n",
              "      <td>NaN</td>\n",
              "      <td>NaN</td>\n",
              "      <td>NaN</td>\n",
              "      <td>NaN</td>\n",
              "      <td>NaN</td>\n",
              "      <td>NaN</td>\n",
              "      <td>NaN</td>\n",
              "      <td>NaN</td>\n",
              "      <td>NaN</td>\n",
              "      <td>NaN</td>\n",
              "      <td>NaN</td>\n",
              "      <td>NaN</td>\n",
              "      <td>NaN</td>\n",
              "      <td>NaN</td>\n",
              "      <td>NaN</td>\n",
              "      <td>NaN</td>\n",
              "      <td>NaN</td>\n",
              "      <td>...</td>\n",
              "      <td>NaN</td>\n",
              "      <td>NaN</td>\n",
              "      <td>NaN</td>\n",
              "      <td>NaN</td>\n",
              "      <td>NaN</td>\n",
              "      <td>NaN</td>\n",
              "      <td>NaN</td>\n",
              "      <td>NaN</td>\n",
              "      <td>NaN</td>\n",
              "      <td>NaN</td>\n",
              "      <td>NaN</td>\n",
              "      <td>NaN</td>\n",
              "      <td>NaN</td>\n",
              "      <td>NaN</td>\n",
              "      <td>NaN</td>\n",
              "      <td>NaN</td>\n",
              "      <td>NaN</td>\n",
              "      <td>NaN</td>\n",
              "      <td>NaN</td>\n",
              "      <td>NaN</td>\n",
              "      <td>NaN</td>\n",
              "      <td>NaN</td>\n",
              "      <td>NaN</td>\n",
              "      <td>NaN</td>\n",
              "      <td>NaN</td>\n",
              "      <td>NaN</td>\n",
              "      <td>NaN</td>\n",
              "      <td>NaN</td>\n",
              "      <td>NaN</td>\n",
              "      <td>NaN</td>\n",
              "      <td>NaN</td>\n",
              "      <td>NaN</td>\n",
              "      <td>NaN</td>\n",
              "      <td>NaN</td>\n",
              "      <td>NaN</td>\n",
              "      <td>NaN</td>\n",
              "      <td>NaN</td>\n",
              "      <td>NaN</td>\n",
              "      <td>NaN</td>\n",
              "      <td>NaN</td>\n",
              "    </tr>\n",
              "    <tr>\n",
              "      <th>zzw0Z6-_VDp9ShIRSKIsQw</th>\n",
              "      <td>NaN</td>\n",
              "      <td>NaN</td>\n",
              "      <td>NaN</td>\n",
              "      <td>NaN</td>\n",
              "      <td>NaN</td>\n",
              "      <td>NaN</td>\n",
              "      <td>NaN</td>\n",
              "      <td>NaN</td>\n",
              "      <td>NaN</td>\n",
              "      <td>NaN</td>\n",
              "      <td>NaN</td>\n",
              "      <td>NaN</td>\n",
              "      <td>NaN</td>\n",
              "      <td>NaN</td>\n",
              "      <td>NaN</td>\n",
              "      <td>NaN</td>\n",
              "      <td>NaN</td>\n",
              "      <td>NaN</td>\n",
              "      <td>NaN</td>\n",
              "      <td>NaN</td>\n",
              "      <td>NaN</td>\n",
              "      <td>NaN</td>\n",
              "      <td>NaN</td>\n",
              "      <td>NaN</td>\n",
              "      <td>NaN</td>\n",
              "      <td>NaN</td>\n",
              "      <td>NaN</td>\n",
              "      <td>NaN</td>\n",
              "      <td>NaN</td>\n",
              "      <td>NaN</td>\n",
              "      <td>NaN</td>\n",
              "      <td>NaN</td>\n",
              "      <td>NaN</td>\n",
              "      <td>NaN</td>\n",
              "      <td>NaN</td>\n",
              "      <td>NaN</td>\n",
              "      <td>NaN</td>\n",
              "      <td>NaN</td>\n",
              "      <td>NaN</td>\n",
              "      <td>NaN</td>\n",
              "      <td>...</td>\n",
              "      <td>NaN</td>\n",
              "      <td>NaN</td>\n",
              "      <td>NaN</td>\n",
              "      <td>NaN</td>\n",
              "      <td>NaN</td>\n",
              "      <td>NaN</td>\n",
              "      <td>NaN</td>\n",
              "      <td>NaN</td>\n",
              "      <td>NaN</td>\n",
              "      <td>NaN</td>\n",
              "      <td>NaN</td>\n",
              "      <td>NaN</td>\n",
              "      <td>NaN</td>\n",
              "      <td>NaN</td>\n",
              "      <td>NaN</td>\n",
              "      <td>NaN</td>\n",
              "      <td>NaN</td>\n",
              "      <td>NaN</td>\n",
              "      <td>NaN</td>\n",
              "      <td>NaN</td>\n",
              "      <td>NaN</td>\n",
              "      <td>NaN</td>\n",
              "      <td>NaN</td>\n",
              "      <td>NaN</td>\n",
              "      <td>NaN</td>\n",
              "      <td>NaN</td>\n",
              "      <td>NaN</td>\n",
              "      <td>NaN</td>\n",
              "      <td>NaN</td>\n",
              "      <td>NaN</td>\n",
              "      <td>NaN</td>\n",
              "      <td>NaN</td>\n",
              "      <td>NaN</td>\n",
              "      <td>NaN</td>\n",
              "      <td>NaN</td>\n",
              "      <td>NaN</td>\n",
              "      <td>NaN</td>\n",
              "      <td>NaN</td>\n",
              "      <td>NaN</td>\n",
              "      <td>NaN</td>\n",
              "    </tr>\n",
              "    <tr>\n",
              "      <th>zzwYhKPhnZQPushMyzgtDg</th>\n",
              "      <td>NaN</td>\n",
              "      <td>NaN</td>\n",
              "      <td>NaN</td>\n",
              "      <td>NaN</td>\n",
              "      <td>NaN</td>\n",
              "      <td>NaN</td>\n",
              "      <td>NaN</td>\n",
              "      <td>NaN</td>\n",
              "      <td>NaN</td>\n",
              "      <td>NaN</td>\n",
              "      <td>NaN</td>\n",
              "      <td>NaN</td>\n",
              "      <td>NaN</td>\n",
              "      <td>NaN</td>\n",
              "      <td>NaN</td>\n",
              "      <td>NaN</td>\n",
              "      <td>NaN</td>\n",
              "      <td>NaN</td>\n",
              "      <td>NaN</td>\n",
              "      <td>NaN</td>\n",
              "      <td>NaN</td>\n",
              "      <td>NaN</td>\n",
              "      <td>NaN</td>\n",
              "      <td>NaN</td>\n",
              "      <td>NaN</td>\n",
              "      <td>NaN</td>\n",
              "      <td>NaN</td>\n",
              "      <td>NaN</td>\n",
              "      <td>NaN</td>\n",
              "      <td>NaN</td>\n",
              "      <td>NaN</td>\n",
              "      <td>NaN</td>\n",
              "      <td>NaN</td>\n",
              "      <td>NaN</td>\n",
              "      <td>NaN</td>\n",
              "      <td>NaN</td>\n",
              "      <td>NaN</td>\n",
              "      <td>NaN</td>\n",
              "      <td>NaN</td>\n",
              "      <td>NaN</td>\n",
              "      <td>...</td>\n",
              "      <td>NaN</td>\n",
              "      <td>NaN</td>\n",
              "      <td>NaN</td>\n",
              "      <td>NaN</td>\n",
              "      <td>NaN</td>\n",
              "      <td>NaN</td>\n",
              "      <td>NaN</td>\n",
              "      <td>NaN</td>\n",
              "      <td>NaN</td>\n",
              "      <td>NaN</td>\n",
              "      <td>NaN</td>\n",
              "      <td>NaN</td>\n",
              "      <td>NaN</td>\n",
              "      <td>NaN</td>\n",
              "      <td>NaN</td>\n",
              "      <td>NaN</td>\n",
              "      <td>NaN</td>\n",
              "      <td>NaN</td>\n",
              "      <td>NaN</td>\n",
              "      <td>NaN</td>\n",
              "      <td>NaN</td>\n",
              "      <td>NaN</td>\n",
              "      <td>NaN</td>\n",
              "      <td>NaN</td>\n",
              "      <td>NaN</td>\n",
              "      <td>NaN</td>\n",
              "      <td>NaN</td>\n",
              "      <td>NaN</td>\n",
              "      <td>NaN</td>\n",
              "      <td>NaN</td>\n",
              "      <td>NaN</td>\n",
              "      <td>NaN</td>\n",
              "      <td>NaN</td>\n",
              "      <td>NaN</td>\n",
              "      <td>NaN</td>\n",
              "      <td>NaN</td>\n",
              "      <td>NaN</td>\n",
              "      <td>NaN</td>\n",
              "      <td>NaN</td>\n",
              "      <td>NaN</td>\n",
              "    </tr>\n",
              "    <tr>\n",
              "      <th>zzz-M4QvkEpUWWPL9RTzLA</th>\n",
              "      <td>NaN</td>\n",
              "      <td>NaN</td>\n",
              "      <td>NaN</td>\n",
              "      <td>NaN</td>\n",
              "      <td>NaN</td>\n",
              "      <td>NaN</td>\n",
              "      <td>NaN</td>\n",
              "      <td>NaN</td>\n",
              "      <td>NaN</td>\n",
              "      <td>NaN</td>\n",
              "      <td>NaN</td>\n",
              "      <td>NaN</td>\n",
              "      <td>NaN</td>\n",
              "      <td>NaN</td>\n",
              "      <td>NaN</td>\n",
              "      <td>NaN</td>\n",
              "      <td>NaN</td>\n",
              "      <td>NaN</td>\n",
              "      <td>NaN</td>\n",
              "      <td>NaN</td>\n",
              "      <td>NaN</td>\n",
              "      <td>NaN</td>\n",
              "      <td>NaN</td>\n",
              "      <td>NaN</td>\n",
              "      <td>NaN</td>\n",
              "      <td>NaN</td>\n",
              "      <td>NaN</td>\n",
              "      <td>NaN</td>\n",
              "      <td>NaN</td>\n",
              "      <td>NaN</td>\n",
              "      <td>NaN</td>\n",
              "      <td>NaN</td>\n",
              "      <td>NaN</td>\n",
              "      <td>NaN</td>\n",
              "      <td>NaN</td>\n",
              "      <td>NaN</td>\n",
              "      <td>NaN</td>\n",
              "      <td>NaN</td>\n",
              "      <td>NaN</td>\n",
              "      <td>NaN</td>\n",
              "      <td>...</td>\n",
              "      <td>NaN</td>\n",
              "      <td>NaN</td>\n",
              "      <td>NaN</td>\n",
              "      <td>NaN</td>\n",
              "      <td>NaN</td>\n",
              "      <td>NaN</td>\n",
              "      <td>NaN</td>\n",
              "      <td>NaN</td>\n",
              "      <td>NaN</td>\n",
              "      <td>NaN</td>\n",
              "      <td>NaN</td>\n",
              "      <td>NaN</td>\n",
              "      <td>NaN</td>\n",
              "      <td>NaN</td>\n",
              "      <td>NaN</td>\n",
              "      <td>NaN</td>\n",
              "      <td>NaN</td>\n",
              "      <td>NaN</td>\n",
              "      <td>NaN</td>\n",
              "      <td>NaN</td>\n",
              "      <td>NaN</td>\n",
              "      <td>NaN</td>\n",
              "      <td>NaN</td>\n",
              "      <td>NaN</td>\n",
              "      <td>NaN</td>\n",
              "      <td>NaN</td>\n",
              "      <td>NaN</td>\n",
              "      <td>NaN</td>\n",
              "      <td>NaN</td>\n",
              "      <td>NaN</td>\n",
              "      <td>NaN</td>\n",
              "      <td>NaN</td>\n",
              "      <td>NaN</td>\n",
              "      <td>NaN</td>\n",
              "      <td>NaN</td>\n",
              "      <td>NaN</td>\n",
              "      <td>NaN</td>\n",
              "      <td>NaN</td>\n",
              "      <td>NaN</td>\n",
              "      <td>NaN</td>\n",
              "    </tr>\n",
              "  </tbody>\n",
              "</table>\n",
              "<p>5 rows × 4386 columns</p>\n",
              "</div>"
            ],
            "text/plain": [
              "business_id             --7zmmkVg-IMGaXbuVd0SQ  ...  zzmIMvqiBJ_-wVKg_OnGpw\n",
              "user_id                                         ...                        \n",
              "zzstF6X4o3TaWEq0bfEcDA                     NaN  ...                     NaN\n",
              "zzvm_VD3HjU6RMx8zq7g1g                     NaN  ...                     NaN\n",
              "zzw0Z6-_VDp9ShIRSKIsQw                     NaN  ...                     NaN\n",
              "zzwYhKPhnZQPushMyzgtDg                     NaN  ...                     NaN\n",
              "zzz-M4QvkEpUWWPL9RTzLA                     NaN  ...                     NaN\n",
              "\n",
              "[5 rows x 4386 columns]"
            ]
          },
          "metadata": {
            "tags": []
          },
          "execution_count": 13
        }
      ]
    },
    {
      "cell_type": "code",
      "metadata": {
        "id": "v6-JFntSMdC-"
      },
      "source": [
        "def matrix_factorization(R, P, Q, steps=25, gamma=0.001,lamda=0.02):\n",
        "    for step in range(steps):\n",
        "        for i in R.index:\n",
        "            for j in R.columns:\n",
        "                if R.loc[i,j]>0:\n",
        "                    eij=R.loc[i,j]-np.dot(P.loc[i],Q.loc[j])\n",
        "                    P.loc[i]=P.loc[i]+gamma*(eij*Q.loc[j]-lamda*P.loc[i])\n",
        "                    Q.loc[j]=Q.loc[j]+gamma*(eij*P.loc[i]-lamda*Q.loc[j])\n",
        "        e=0\n",
        "        for i in R.index:\n",
        "            for j in R.columns:\n",
        "                if R.loc[i,j]>0:\n",
        "                    e= e + pow(R.loc[i,j]-np.dot(P.loc[i],Q.loc[j]),2)+lamda*(pow(np.linalg.norm(P.loc[i]),2)+pow(np.linalg.norm(Q.loc[j]),2))\n",
        "        if e<0.001:\n",
        "            break\n",
        "        \n",
        "    return P,Q\n"
      ],
      "execution_count": null,
      "outputs": []
    },
    {
      "cell_type": "code",
      "metadata": {
        "id": "6CC3mM4kM2Yj"
      },
      "source": [
        "P, Q = matrix_factorization(userid_rating_matrix, P, Q, steps=25, gamma=0.001,lamda=0.02)"
      ],
      "execution_count": null,
      "outputs": []
    },
    {
      "cell_type": "code",
      "metadata": {
        "id": "kdu7wrTpN7f6"
      },
      "source": [
        "P = pd.DataFrame(userid_vectors.toarray(), index=userid_df.index, columns=userid_vectorizer.get_feature_names())\n",
        "Q = pd.DataFrame(businessid_vectors.toarray(), index=business_df.index, columns=businessid_vectorizer.get_feature_names())"
      ],
      "execution_count": null,
      "outputs": []
    },
    {
      "cell_type": "code",
      "metadata": {
        "id": "ySzg4cnIfPFt"
      },
      "source": [
        ""
      ],
      "execution_count": null,
      "outputs": []
    }
  ]
}
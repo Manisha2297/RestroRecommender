{
  "nbformat": 4,
  "nbformat_minor": 0,
  "metadata": {
    "colab": {
      "name": "NLTKmodel.ipynb",
      "provenance": [],
      "collapsed_sections": [],
      "include_colab_link": true
    },
    "kernelspec": {
      "name": "python3",
      "display_name": "Python 3"
    }
  },
  "cells": [
    {
      "cell_type": "markdown",
      "metadata": {
        "id": "view-in-github",
        "colab_type": "text"
      },
      "source": [
        "<a href=\"https://colab.research.google.com/github/Manisha2297/RestroRecommender/blob/main/NLTKmodel.ipynb\" target=\"_parent\"><img src=\"https://colab.research.google.com/assets/colab-badge.svg\" alt=\"Open In Colab\"/></a>"
      ]
    },
    {
      "cell_type": "code",
      "metadata": {
        "id": "ZLTsTywz2sK3"
      },
      "source": [
        "import numpy as np\n",
        "import pandas as pd\n",
        "import matplotlib.pyplot as plt\n",
        "import seaborn as sns\n",
        "from sklearn.model_selection import train_test_split\n",
        "from sklearn.feature_extraction.text import TfidfVectorizer\n",
        "import nltk\n",
        "from nltk.corpus import stopwords \n",
        "from nltk.tokenize import WordPunctTokenizer\n",
        "import string\n",
        "from scipy import sparse"
      ],
      "execution_count": 1,
      "outputs": []
    },
    {
      "cell_type": "code",
      "metadata": {
        "colab": {
          "base_uri": "https://localhost:8080/"
        },
        "id": "mF-BEeU97B__",
        "outputId": "d0bfb60f-f1db-4d36-ea44-4a247c27e88b"
      },
      "source": [
        "nltk.download(\"stopwords\")"
      ],
      "execution_count": 2,
      "outputs": [
        {
          "output_type": "stream",
          "text": [
            "[nltk_data] Downloading package stopwords to /root/nltk_data...\n",
            "[nltk_data]   Package stopwords is already up-to-date!\n"
          ],
          "name": "stdout"
        },
        {
          "output_type": "execute_result",
          "data": {
            "text/plain": [
              "True"
            ]
          },
          "metadata": {
            "tags": []
          },
          "execution_count": 2
        }
      ]
    },
    {
      "cell_type": "code",
      "metadata": {
        "colab": {
          "base_uri": "https://localhost:8080/"
        },
        "id": "3dH0PlIn25k2",
        "outputId": "042e6b28-61c6-482d-c00b-1a366676e633"
      },
      "source": [
        "#mount your own drive to avoid downloading the data multiple time \n",
        "\n",
        "from google.colab import drive\n",
        "drive.mount('/content/gdrive')"
      ],
      "execution_count": 3,
      "outputs": [
        {
          "output_type": "stream",
          "text": [
            "Drive already mounted at /content/gdrive; to attempt to forcibly remount, call drive.mount(\"/content/gdrive\", force_remount=True).\n"
          ],
          "name": "stdout"
        }
      ]
    },
    {
      "cell_type": "code",
      "metadata": {
        "id": "OVNmYt1wRsFH"
      },
      "source": [
        "df_review = pd.read_csv('/content/gdrive/MyDrive/YelpDataset/CsvFiles/review_filtered.csv')\n",
        "df_review.drop('Unnamed: 0', axis=1, inplace=True)"
      ],
      "execution_count": 4,
      "outputs": []
    },
    {
      "cell_type": "code",
      "metadata": {
        "id": "JJ32Vfqw3naj"
      },
      "source": [
        "# df_review = pd.read_csv('/content/gdrive/MyDrive/YelpDataset/CsvFiles/yelp_academic_dataset_review.csv')\n",
        "# df_review.drop('Unnamed: 0', axis=1, inplace=True)"
      ],
      "execution_count": null,
      "outputs": []
    },
    {
      "cell_type": "code",
      "metadata": {
        "id": "LAa9d70Ao1N3"
      },
      "source": [
        "restaurant_df = pd.read_pickle('/content/gdrive/MyDrive/YelpDataset/PickleFiles/restuarant_df')"
      ],
      "execution_count": 5,
      "outputs": []
    },
    {
      "cell_type": "code",
      "metadata": {
        "id": "qfO0GrCfQeLX",
        "colab": {
          "base_uri": "https://localhost:8080/",
          "height": 581
        },
        "outputId": "414bfa7f-6627-49b7-8298-3afb61c28e94"
      },
      "source": [
        "restaurant_df.head()"
      ],
      "execution_count": 7,
      "outputs": [
        {
          "output_type": "execute_result",
          "data": {
            "text/html": [
              "<div>\n",
              "<style scoped>\n",
              "    .dataframe tbody tr th:only-of-type {\n",
              "        vertical-align: middle;\n",
              "    }\n",
              "\n",
              "    .dataframe tbody tr th {\n",
              "        vertical-align: top;\n",
              "    }\n",
              "\n",
              "    .dataframe thead th {\n",
              "        text-align: right;\n",
              "    }\n",
              "</style>\n",
              "<table border=\"1\" class=\"dataframe\">\n",
              "  <thead>\n",
              "    <tr style=\"text-align: right;\">\n",
              "      <th></th>\n",
              "      <th>address</th>\n",
              "      <th>attributes</th>\n",
              "      <th>business_id</th>\n",
              "      <th>categories</th>\n",
              "      <th>city</th>\n",
              "      <th>hours</th>\n",
              "      <th>is_open</th>\n",
              "      <th>latitude</th>\n",
              "      <th>longitude</th>\n",
              "      <th>name</th>\n",
              "      <th>postal_code</th>\n",
              "      <th>review_count</th>\n",
              "      <th>stars</th>\n",
              "      <th>state</th>\n",
              "    </tr>\n",
              "  </thead>\n",
              "  <tbody>\n",
              "    <tr>\n",
              "      <th>0</th>\n",
              "      <td>404 E Green St</td>\n",
              "      <td>{'RestaurantsAttire': \"u'casual'\", 'Restaurant...</td>\n",
              "      <td>pQeaRpvuhoEqudo3uymHIQ</td>\n",
              "      <td>Ethnic Food, Food Trucks, Specialty Food, Impo...</td>\n",
              "      <td>Champaign</td>\n",
              "      <td>{'Monday': '11:30-14:30', 'Tuesday': '11:30-14...</td>\n",
              "      <td>1</td>\n",
              "      <td>40.1104</td>\n",
              "      <td>-88.2331</td>\n",
              "      <td>The Empanadas House</td>\n",
              "      <td>61820</td>\n",
              "      <td>5</td>\n",
              "      <td>4.5</td>\n",
              "      <td>IL</td>\n",
              "    </tr>\n",
              "    <tr>\n",
              "      <th>1</th>\n",
              "      <td>2831 Parmenter St</td>\n",
              "      <td>{'BikeParking': 'True', 'Caters': 'True', 'Whe...</td>\n",
              "      <td>M_guz7Dj7hX0evS672wIwA</td>\n",
              "      <td>Desserts, Food, Ice Cream &amp; Frozen Yogurt</td>\n",
              "      <td>Middleton</td>\n",
              "      <td>{'Monday': '0:0-0:0', 'Tuesday': '11:0-21:0', ...</td>\n",
              "      <td>1</td>\n",
              "      <td>43.1053</td>\n",
              "      <td>-89.5101</td>\n",
              "      <td>Chocolate Shoppe Ice Cream</td>\n",
              "      <td>53562</td>\n",
              "      <td>6</td>\n",
              "      <td>3.5</td>\n",
              "      <td>WI</td>\n",
              "    </tr>\n",
              "    <tr>\n",
              "      <th>2</th>\n",
              "      <td>NaN</td>\n",
              "      <td>{'BusinessAcceptsCreditCards': 'True'}</td>\n",
              "      <td>mKTq1T_IAplDpHUcMzOXkw</td>\n",
              "      <td>Hotels &amp; Travel, Transportation, Taxis, Beer, ...</td>\n",
              "      <td>Gastonia</td>\n",
              "      <td>{'Monday': '0:0-0:0', 'Tuesday': '9:0-0:0', 'W...</td>\n",
              "      <td>1</td>\n",
              "      <td>35.2528</td>\n",
              "      <td>-81.1527</td>\n",
              "      <td>Tipsy Ryde</td>\n",
              "      <td>28054</td>\n",
              "      <td>3</td>\n",
              "      <td>3.5</td>\n",
              "      <td>NC</td>\n",
              "    </tr>\n",
              "    <tr>\n",
              "      <th>3</th>\n",
              "      <td>15480 Bayview Avenue, unit D0110</td>\n",
              "      <td>{'RestaurantsTableService': 'False', 'Restaura...</td>\n",
              "      <td>eBEfgOPG7pvFhb2wcG9I7w</td>\n",
              "      <td>Restaurants, Cheesesteaks, Poutineries</td>\n",
              "      <td>Aurora</td>\n",
              "      <td>{'Monday': '11:0-22:0', 'Tuesday': '11:0-22:0'...</td>\n",
              "      <td>1</td>\n",
              "      <td>44.011</td>\n",
              "      <td>-79.4487</td>\n",
              "      <td>Philthy Phillys</td>\n",
              "      <td>L4G 7J1</td>\n",
              "      <td>4</td>\n",
              "      <td>4.5</td>\n",
              "      <td>ON</td>\n",
              "    </tr>\n",
              "    <tr>\n",
              "      <th>4</th>\n",
              "      <td>300 John Street</td>\n",
              "      <td>{'GoodForKids': 'True', 'RestaurantsTakeOut': ...</td>\n",
              "      <td>lu7vtrp_bE9PnxWfA8g4Pg</td>\n",
              "      <td>Japanese, Fast Food, Food Court, Restaurants</td>\n",
              "      <td>Thornhill</td>\n",
              "      <td>NaN</td>\n",
              "      <td>1</td>\n",
              "      <td>43.8205</td>\n",
              "      <td>-79.3985</td>\n",
              "      <td>Banzai Sushi</td>\n",
              "      <td>L3T 5W4</td>\n",
              "      <td>7</td>\n",
              "      <td>4.5</td>\n",
              "      <td>ON</td>\n",
              "    </tr>\n",
              "  </tbody>\n",
              "</table>\n",
              "</div>"
            ],
            "text/plain": [
              "                            address  ... state\n",
              "0                    404 E Green St  ...    IL\n",
              "1                 2831 Parmenter St  ...    WI\n",
              "2                               NaN  ...    NC\n",
              "3  15480 Bayview Avenue, unit D0110  ...    ON\n",
              "4                   300 John Street  ...    ON\n",
              "\n",
              "[5 rows x 14 columns]"
            ]
          },
          "metadata": {
            "tags": []
          },
          "execution_count": 7
        }
      ]
    },
    {
      "cell_type": "code",
      "metadata": {
        "id": "wvqOZSvIO1wu"
      },
      "source": [
        "# NC\n",
        "business_id_list = list(restaurant_df[restaurant_df['state']=='NV']['business_id'].values)"
      ],
      "execution_count": 6,
      "outputs": []
    },
    {
      "cell_type": "code",
      "metadata": {
        "id": "Y6XiVeXnPMyx"
      },
      "source": [
        "# df_review_filtered = df_review[df_review['business_id'].isin(business_id_list)]"
      ],
      "execution_count": null,
      "outputs": []
    },
    {
      "cell_type": "code",
      "metadata": {
        "id": "_apmJ7nuPznV"
      },
      "source": [
        "# pd.DataFrame(df_review_filtered.user_id.unique(), columns=['user_id']).to_pickle('/content/gdrive/MyDrive/YelpDataset/PickleFiles/unique_users_df')"
      ],
      "execution_count": null,
      "outputs": []
    },
    {
      "cell_type": "code",
      "metadata": {
        "id": "W5f6R6tNQRoj"
      },
      "source": [
        "# df_review_filtered.to_csv('/content/gdrive/MyDrive/YelpDataset/CsvFiles/review_filtered_ON.csv')"
      ],
      "execution_count": null,
      "outputs": []
    },
    {
      "cell_type": "code",
      "metadata": {
        "id": "MOau3A9tPy0f",
        "colab": {
          "base_uri": "https://localhost:8080/",
          "height": 289
        },
        "outputId": "2e6031bf-2f54-4478-a5b2-38e3b845b7c2"
      },
      "source": [
        "df_review.head()"
      ],
      "execution_count": 9,
      "outputs": [
        {
          "output_type": "execute_result",
          "data": {
            "text/html": [
              "<div>\n",
              "<style scoped>\n",
              "    .dataframe tbody tr th:only-of-type {\n",
              "        vertical-align: middle;\n",
              "    }\n",
              "\n",
              "    .dataframe tbody tr th {\n",
              "        vertical-align: top;\n",
              "    }\n",
              "\n",
              "    .dataframe thead th {\n",
              "        text-align: right;\n",
              "    }\n",
              "</style>\n",
              "<table border=\"1\" class=\"dataframe\">\n",
              "  <thead>\n",
              "    <tr style=\"text-align: right;\">\n",
              "      <th></th>\n",
              "      <th>business_id</th>\n",
              "      <th>cool</th>\n",
              "      <th>date</th>\n",
              "      <th>funny</th>\n",
              "      <th>review_id</th>\n",
              "      <th>stars</th>\n",
              "      <th>text</th>\n",
              "      <th>useful</th>\n",
              "      <th>user_id</th>\n",
              "    </tr>\n",
              "  </thead>\n",
              "  <tbody>\n",
              "    <tr>\n",
              "      <th>0</th>\n",
              "      <td>HQl28KMwrEKHqhFrrDqVNQ</td>\n",
              "      <td>0</td>\n",
              "      <td>2015-12-05 03:18:11</td>\n",
              "      <td>0.0</td>\n",
              "      <td>LG2ZaYiOgpr2DK_90pYjNw</td>\n",
              "      <td>5.0</td>\n",
              "      <td>I love Deagan's. I do. I really do. The atmosp...</td>\n",
              "      <td>1.0</td>\n",
              "      <td>V34qejxNsCbcgD8C0HVk-Q</td>\n",
              "    </tr>\n",
              "    <tr>\n",
              "      <th>1</th>\n",
              "      <td>IS4cv902ykd8wj1TR0N3-A</td>\n",
              "      <td>0</td>\n",
              "      <td>2017-01-14 21:56:57</td>\n",
              "      <td>0.0</td>\n",
              "      <td>6TdNDKywdbjoTkizeMce8A</td>\n",
              "      <td>4.0</td>\n",
              "      <td>Oh happy day, finally have a Canes near my cas...</td>\n",
              "      <td>0.0</td>\n",
              "      <td>UgMW8bLE0QMJDCkQ1Ax5Mg</td>\n",
              "    </tr>\n",
              "    <tr>\n",
              "      <th>2</th>\n",
              "      <td>nlxHRv1zXGT0c0K51q3jDg</td>\n",
              "      <td>0</td>\n",
              "      <td>2013-05-07 07:25:25</td>\n",
              "      <td>0.0</td>\n",
              "      <td>L2O_INwlrRuoX05KSjc4eg</td>\n",
              "      <td>5.0</td>\n",
              "      <td>This is definitely my favorite fast food sub s...</td>\n",
              "      <td>2.0</td>\n",
              "      <td>5vD2kmE25YBrbayKhykNxQ</td>\n",
              "    </tr>\n",
              "    <tr>\n",
              "      <th>3</th>\n",
              "      <td>Pthe4qk5xh4n-ef-9bvMSg</td>\n",
              "      <td>0</td>\n",
              "      <td>2015-11-05 23:11:05</td>\n",
              "      <td>0.0</td>\n",
              "      <td>ZayJ1zWyWgY9S_TRLT_y9Q</td>\n",
              "      <td>5.0</td>\n",
              "      <td>Really good place with simple decor, amazing f...</td>\n",
              "      <td>1.0</td>\n",
              "      <td>aq_ZxGHiri48TUXJlpRkCQ</td>\n",
              "    </tr>\n",
              "    <tr>\n",
              "      <th>4</th>\n",
              "      <td>e_BiI4ej1CW1F0EyVLr-FQ</td>\n",
              "      <td>0</td>\n",
              "      <td>2015-02-16 06:48:47</td>\n",
              "      <td>0.0</td>\n",
              "      <td>JA-xnyHytKiOIHl_ztnK9Q</td>\n",
              "      <td>5.0</td>\n",
              "      <td>Most delicious authentic Italian I've had in t...</td>\n",
              "      <td>0.0</td>\n",
              "      <td>P6apihD4ASf1vpPxHODxAQ</td>\n",
              "    </tr>\n",
              "  </tbody>\n",
              "</table>\n",
              "</div>"
            ],
            "text/plain": [
              "              business_id  cool  ... useful                 user_id\n",
              "0  HQl28KMwrEKHqhFrrDqVNQ     0  ...    1.0  V34qejxNsCbcgD8C0HVk-Q\n",
              "1  IS4cv902ykd8wj1TR0N3-A     0  ...    0.0  UgMW8bLE0QMJDCkQ1Ax5Mg\n",
              "2  nlxHRv1zXGT0c0K51q3jDg     0  ...    2.0  5vD2kmE25YBrbayKhykNxQ\n",
              "3  Pthe4qk5xh4n-ef-9bvMSg     0  ...    1.0  aq_ZxGHiri48TUXJlpRkCQ\n",
              "4  e_BiI4ej1CW1F0EyVLr-FQ     0  ...    0.0  P6apihD4ASf1vpPxHODxAQ\n",
              "\n",
              "[5 rows x 9 columns]"
            ]
          },
          "metadata": {
            "tags": []
          },
          "execution_count": 9
        }
      ]
    },
    {
      "cell_type": "code",
      "metadata": {
        "id": "uy5XZcSG5hDo"
      },
      "source": [
        "#Select only stars and text\n",
        "yelp_data = df_review[['business_id', 'user_id', 'stars', 'text']]"
      ],
      "execution_count": 7,
      "outputs": []
    },
    {
      "cell_type": "code",
      "metadata": {
        "id": "3t7a9LC76F1d"
      },
      "source": [
        "stop = []\n",
        "for word in stopwords.words('english'):\n",
        "    s = [char for char in word if char not in string.punctuation]\n",
        "    stop.append(''.join(s))"
      ],
      "execution_count": 8,
      "outputs": []
    },
    {
      "cell_type": "code",
      "metadata": {
        "id": "a3Iqz6yMJYNt",
        "colab": {
          "base_uri": "https://localhost:8080/"
        },
        "outputId": "ddd496b3-d7b6-4154-d17a-71b52b0641d7"
      },
      "source": [
        "yelp_data['text'].fillna(\"\", inplace=True)"
      ],
      "execution_count": 9,
      "outputs": [
        {
          "output_type": "stream",
          "text": [
            "/usr/local/lib/python3.7/dist-packages/pandas/core/series.py:4536: SettingWithCopyWarning: \n",
            "A value is trying to be set on a copy of a slice from a DataFrame\n",
            "\n",
            "See the caveats in the documentation: https://pandas.pydata.org/pandas-docs/stable/user_guide/indexing.html#returning-a-view-versus-a-copy\n",
            "  downcast=downcast,\n"
          ],
          "name": "stderr"
        }
      ]
    },
    {
      "cell_type": "code",
      "metadata": {
        "id": "xufxF22-8MlS"
      },
      "source": [
        "def text_process(text):\n",
        "    \"\"\"\n",
        "    Takes in a string of text, then performs the following:\n",
        "    1. Remove all punctuation\n",
        "    2. Remove all stopwords\n",
        "    3. Returns a list of the cleaned text\n",
        "    \"\"\"\n",
        "    # Check characters to see if they have any punctuation\n",
        "    nopunc = [char for char in text if char not in string.punctuation]\n",
        "    # Join the characters again to form the string.\n",
        "    nopunc = ''.join(nopunc)\n",
        "    \n",
        "    # Now just remove any stopwords\n",
        "    return \" \".join([word for word in nopunc.split() if word.lower() not in stop])"
      ],
      "execution_count": null,
      "outputs": []
    },
    {
      "cell_type": "code",
      "metadata": {
        "id": "5zQqdpgiXjV4"
      },
      "source": [
        "# size = 0\r\n",
        "# processed_text_df = pd.DataFrame()\r\n",
        "# for i in range(2000000, len(yelp_data), 10000):\r\n",
        "#   processed_text_df = pd.concat([processed_text_df, yelp_data['text'][i:i+10000].apply(text_process)])\r\n",
        "#   size+=10000\r\n",
        "\r\n",
        "#   if len(processed_text_df) >= size:\r\n",
        "#     if len(processed_text_df)%100000==0:\r\n",
        "#       print(len(processed_text_df))\r\n",
        "#     processed_text_df.to_pickle('/content/gdrive/MyDrive/YelpDataset/PickleFiles/processed_text_df_2')\r\n",
        "#     del processed_text_df\r\n",
        "#     processed_text_df = pd.read_pickle('/content/gdrive/MyDrive/YelpDataset/PickleFiles/processed_text_df_2')\r\n",
        "  \r\n",
        "#   else:\r\n",
        "#     print(size)\r\n",
        "#     break\r\n"
      ],
      "execution_count": null,
      "outputs": []
    },
    {
      "cell_type": "code",
      "metadata": {
        "colab": {
          "base_uri": "https://localhost:8080/"
        },
        "id": "d5cNDFfx_x4N",
        "outputId": "2591549d-ef12-49ac-ad9a-9a2569aec5bf"
      },
      "source": [
        "len(yelp_data)"
      ],
      "execution_count": null,
      "outputs": [
        {
          "output_type": "execute_result",
          "data": {
            "text/plain": [
              "4607291"
            ]
          },
          "metadata": {
            "tags": []
          },
          "execution_count": 11
        }
      ]
    },
    {
      "cell_type": "code",
      "metadata": {
        "id": "jml6dfedch71"
      },
      "source": [
        "# processed_text_df_1 = pd.read_pickle('/content/gdrive/MyDrive/YelpDataset/PickleFiles/processed_text_df_1')"
      ],
      "execution_count": null,
      "outputs": []
    },
    {
      "cell_type": "code",
      "metadata": {
        "id": "05kJHxzdAHVy"
      },
      "source": [
        "# processed_text_df_final = pd.concat([processed_text_df_1, processed_text_df])"
      ],
      "execution_count": null,
      "outputs": []
    },
    {
      "cell_type": "code",
      "metadata": {
        "id": "sVJUbtywAcoE"
      },
      "source": [
        "# processed_text_df_final.to_pickle('/content/gdrive/MyDrive/YelpDataset/PickleFiles/processed_text_df')"
      ],
      "execution_count": null,
      "outputs": []
    },
    {
      "cell_type": "code",
      "metadata": {
        "id": "3NuXO_RHEVmz"
      },
      "source": [
        "processed_text_df_final = pd.read_pickle('/content/gdrive/MyDrive/YelpDataset/PickleFiles/processed_text_df')"
      ],
      "execution_count": 10,
      "outputs": []
    },
    {
      "cell_type": "code",
      "metadata": {
        "id": "3qW3Li-J9vrI",
        "colab": {
          "base_uri": "https://localhost:8080/"
        },
        "outputId": "9f3cb9a2-86b2-4051-8674-0944d48a28de"
      },
      "source": [
        "yelp_data['text'] = processed_text_df_final"
      ],
      "execution_count": 11,
      "outputs": [
        {
          "output_type": "stream",
          "text": [
            "/usr/local/lib/python3.7/dist-packages/ipykernel_launcher.py:1: SettingWithCopyWarning: \n",
            "A value is trying to be set on a copy of a slice from a DataFrame.\n",
            "Try using .loc[row_indexer,col_indexer] = value instead\n",
            "\n",
            "See the caveats in the documentation: https://pandas.pydata.org/pandas-docs/stable/user_guide/indexing.html#returning-a-view-versus-a-copy\n",
            "  \"\"\"Entry point for launching an IPython kernel.\n"
          ],
          "name": "stderr"
        }
      ]
    },
    {
      "cell_type": "code",
      "metadata": {
        "id": "KFpfxbilZUKL"
      },
      "source": [
        "yelp_data = yelp_data[yelp_data['business_id'].isin(business_id_list)]"
      ],
      "execution_count": 12,
      "outputs": []
    },
    {
      "cell_type": "code",
      "metadata": {
        "colab": {
          "base_uri": "https://localhost:8080/"
        },
        "id": "Z2MfxWrabGBP",
        "outputId": "b0cd7d9f-5b4e-4f15-a4b7-fc2922fb02de"
      },
      "source": [
        "yelp_data.shape"
      ],
      "execution_count": 13,
      "outputs": [
        {
          "output_type": "execute_result",
          "data": {
            "text/plain": [
              "(1518966, 4)"
            ]
          },
          "metadata": {
            "tags": []
          },
          "execution_count": 13
        }
      ]
    },
    {
      "cell_type": "code",
      "metadata": {
        "id": "GeUQPHh5Zhx4"
      },
      "source": [
        "yelp_data.to_pickle('/content/gdrive/MyDrive/YelpDataset/PickleFiles/yelp_data_df_NV')"
      ],
      "execution_count": 14,
      "outputs": []
    },
    {
      "cell_type": "code",
      "metadata": {
        "id": "VeYKbRZDA21I"
      },
      "source": [
        "# del processed_text_df_1\n",
        "del df_review"
      ],
      "execution_count": null,
      "outputs": []
    },
    {
      "cell_type": "code",
      "metadata": {
        "id": "dS5wYEr_bkbx"
      },
      "source": [
        "yelp_data = pd.read_pickle('/content/gdrive/MyDrive/YelpDataset/PickleFiles/yelp_data_df_NV')"
      ],
      "execution_count": 4,
      "outputs": []
    },
    {
      "cell_type": "code",
      "metadata": {
        "id": "88AFtRfd80MK"
      },
      "source": [
        "userid_df = yelp_data[['user_id','text']]\n",
        "business_df = yelp_data[['business_id', 'text']]"
      ],
      "execution_count": 15,
      "outputs": []
    },
    {
      "cell_type": "code",
      "metadata": {
        "id": "0iniRaIV-bd9"
      },
      "source": [
        "#userid vectorizer\n",
        "userid_vectorizer = TfidfVectorizer(tokenizer = WordPunctTokenizer().tokenize, max_features=5000)\n",
        "userid_vectors = userid_vectorizer.fit_transform(userid_df['text'])"
      ],
      "execution_count": 16,
      "outputs": []
    },
    {
      "cell_type": "code",
      "metadata": {
        "id": "Rll_WyoMWAlc"
      },
      "source": [
        "sparse.save_npz(\"/content/gdrive/MyDrive/YelpDataset/PickleFiles/userid_vectors_NV.npz\", userid_vectors)"
      ],
      "execution_count": 17,
      "outputs": []
    },
    {
      "cell_type": "code",
      "metadata": {
        "id": "bOBEK9CiaIrn"
      },
      "source": [
        "userid_vectors = sparse.load_npz(\"/content/gdrive/MyDrive/YelpDataset/PickleFiles/userid_vectors.npz\")"
      ],
      "execution_count": 6,
      "outputs": []
    },
    {
      "cell_type": "code",
      "metadata": {
        "id": "QWol-GAT_Tuq"
      },
      "source": [
        "#Business id vectorizer\n",
        "businessid_vectorizer = TfidfVectorizer(tokenizer = WordPunctTokenizer().tokenize, max_features=5000)\n",
        "businessid_vectors = businessid_vectorizer.fit_transform(business_df['text'])"
      ],
      "execution_count": 18,
      "outputs": []
    },
    {
      "cell_type": "code",
      "metadata": {
        "id": "QnqZ0Qy1XIOX"
      },
      "source": [
        "sparse.save_npz(\"/content/gdrive/MyDrive/YelpDataset/PickleFiles/businessid_vectors_NV.npz\", businessid_vectors)"
      ],
      "execution_count": 19,
      "outputs": []
    },
    {
      "cell_type": "code",
      "metadata": {
        "id": "rxO0r5Aia5ye"
      },
      "source": [
        "businessid_vectors = sparse.load_npz(\"/content/gdrive/MyDrive/YelpDataset/PickleFiles/businessid_vectors.npz\")"
      ],
      "execution_count": 7,
      "outputs": []
    },
    {
      "cell_type": "code",
      "metadata": {
        "colab": {
          "base_uri": "https://localhost:8080/"
        },
        "id": "awr4_m7MkGqV",
        "outputId": "fb30c822-5a33-42b1-d4eb-d1d3a42575bf"
      },
      "source": [
        "from tqdm import tqdm\n",
        "\n",
        "chunk_size = 50000\n",
        "chunks = [x for x in range(0, yelp_data.shape[0], chunk_size)]\n",
        "\n",
        "for i in range(0, len(chunks) - 1):\n",
        "    print(chunks[i], chunks[i + 1] - 1)"
      ],
      "execution_count": 5,
      "outputs": [
        {
          "output_type": "stream",
          "text": [
            "0 49999\n",
            "50000 99999\n",
            "100000 149999\n",
            "150000 199999\n",
            "200000 249999\n",
            "250000 299999\n",
            "300000 349999\n",
            "350000 399999\n",
            "400000 449999\n",
            "450000 499999\n",
            "500000 549999\n"
          ],
          "name": "stdout"
        }
      ]
    },
    {
      "cell_type": "code",
      "metadata": {
        "colab": {
          "base_uri": "https://localhost:8080/"
        },
        "id": "-KNDGDE1kSE-",
        "outputId": "6a1af5fa-dff0-43f0-d570-dab4e5eccfe9"
      },
      "source": [
        "userid_rating_matrix = pd.DataFrame()\n",
        "user_col = 'user_id'\n",
        "item_col = 'business_id'\n",
        "rating_col = 'stars'\n",
        "\n",
        "for i in tqdm(range(0, len(chunks) - 1)):\n",
        "    chunk_df = yelp_data.iloc[ chunks[i]:chunks[i + 1] - 1]\n",
        "    interactions = (\n",
        "    chunk_df.groupby([user_col, item_col])[rating_col]\n",
        "    .sum()\n",
        "    .unstack()\n",
        "    .reset_index()\n",
        "    .fillna(0)\n",
        "    .set_index(user_col)\n",
        "    )\n",
        "    print (interactions.shape)\n",
        "    userid_rating_matrix = userid_rating_matrix.append(interactions, sort=False) "
      ],
      "execution_count": null,
      "outputs": [
        {
          "output_type": "stream",
          "text": [
            "  9%|▉         | 1/11 [00:01<00:11,  1.11s/it]"
          ],
          "name": "stderr"
        },
        {
          "output_type": "stream",
          "text": [
            "(26390, 1355)\n",
            "(26537, 1742)\n"
          ],
          "name": "stdout"
        },
        {
          "output_type": "stream",
          "text": [
            "\r 18%|█▊        | 2/11 [00:03<00:13,  1.49s/it]"
          ],
          "name": "stderr"
        },
        {
          "output_type": "stream",
          "text": [
            "(26642, 2441)\n"
          ],
          "name": "stdout"
        },
        {
          "output_type": "stream",
          "text": [
            "\r 27%|██▋       | 3/11 [00:07<00:17,  2.22s/it]"
          ],
          "name": "stderr"
        },
        {
          "output_type": "stream",
          "text": [
            "(26497, 2602)\n"
          ],
          "name": "stdout"
        },
        {
          "output_type": "stream",
          "text": [
            "\r 36%|███▋      | 4/11 [00:13<00:23,  3.39s/it]"
          ],
          "name": "stderr"
        },
        {
          "output_type": "stream",
          "text": [
            "(26968, 2516)\n"
          ],
          "name": "stdout"
        }
      ]
    },
    {
      "cell_type": "code",
      "metadata": {
        "id": "jmNzT195DC2v",
        "colab": {
          "base_uri": "https://localhost:8080/",
          "height": 307
        },
        "outputId": "92840248-caac-488d-8ea3-d391d82bf107"
      },
      "source": [
        "userid_rating_matrix = pd.pivot_table(yelp_data, values='stars', index=['user_id'], columns=['business_id'])"
      ],
      "execution_count": 20,
      "outputs": [
        {
          "output_type": "error",
          "ename": "ValueError",
          "evalue": "ignored",
          "traceback": [
            "\u001b[0;31m---------------------------------------------------------------------------\u001b[0m",
            "\u001b[0;31mValueError\u001b[0m                                Traceback (most recent call last)",
            "\u001b[0;32m<ipython-input-20-5061f393f864>\u001b[0m in \u001b[0;36m<module>\u001b[0;34m()\u001b[0m\n\u001b[0;32m----> 1\u001b[0;31m \u001b[0muserid_rating_matrix\u001b[0m \u001b[0;34m=\u001b[0m \u001b[0mpd\u001b[0m\u001b[0;34m.\u001b[0m\u001b[0mpivot_table\u001b[0m\u001b[0;34m(\u001b[0m\u001b[0myelp_data\u001b[0m\u001b[0;34m,\u001b[0m \u001b[0mvalues\u001b[0m\u001b[0;34m=\u001b[0m\u001b[0;34m'stars'\u001b[0m\u001b[0;34m,\u001b[0m \u001b[0mindex\u001b[0m\u001b[0;34m=\u001b[0m\u001b[0;34m[\u001b[0m\u001b[0;34m'user_id'\u001b[0m\u001b[0;34m]\u001b[0m\u001b[0;34m,\u001b[0m \u001b[0mcolumns\u001b[0m\u001b[0;34m=\u001b[0m\u001b[0;34m[\u001b[0m\u001b[0;34m'business_id'\u001b[0m\u001b[0;34m]\u001b[0m\u001b[0;34m)\u001b[0m\u001b[0;34m\u001b[0m\u001b[0;34m\u001b[0m\u001b[0m\n\u001b[0m",
            "\u001b[0;32m/usr/local/lib/python3.7/dist-packages/pandas/core/reshape/pivot.py\u001b[0m in \u001b[0;36mpivot_table\u001b[0;34m(data, values, index, columns, aggfunc, fill_value, margins, dropna, margins_name, observed)\u001b[0m\n\u001b[1;32m    143\u001b[0m             \u001b[0;32melse\u001b[0m\u001b[0;34m:\u001b[0m\u001b[0;34m\u001b[0m\u001b[0;34m\u001b[0m\u001b[0m\n\u001b[1;32m    144\u001b[0m                 \u001b[0mto_unstack\u001b[0m\u001b[0;34m.\u001b[0m\u001b[0mappend\u001b[0m\u001b[0;34m(\u001b[0m\u001b[0mname\u001b[0m\u001b[0;34m)\u001b[0m\u001b[0;34m\u001b[0m\u001b[0;34m\u001b[0m\u001b[0m\n\u001b[0;32m--> 145\u001b[0;31m         \u001b[0mtable\u001b[0m \u001b[0;34m=\u001b[0m \u001b[0magged\u001b[0m\u001b[0;34m.\u001b[0m\u001b[0munstack\u001b[0m\u001b[0;34m(\u001b[0m\u001b[0mto_unstack\u001b[0m\u001b[0;34m)\u001b[0m\u001b[0;34m\u001b[0m\u001b[0;34m\u001b[0m\u001b[0m\n\u001b[0m\u001b[1;32m    146\u001b[0m \u001b[0;34m\u001b[0m\u001b[0m\n\u001b[1;32m    147\u001b[0m     \u001b[0;32mif\u001b[0m \u001b[0;32mnot\u001b[0m \u001b[0mdropna\u001b[0m\u001b[0;34m:\u001b[0m\u001b[0;34m\u001b[0m\u001b[0;34m\u001b[0m\u001b[0m\n",
            "\u001b[0;32m/usr/local/lib/python3.7/dist-packages/pandas/core/frame.py\u001b[0m in \u001b[0;36munstack\u001b[0;34m(self, level, fill_value)\u001b[0m\n\u001b[1;32m   7144\u001b[0m         \u001b[0;32mfrom\u001b[0m \u001b[0mpandas\u001b[0m\u001b[0;34m.\u001b[0m\u001b[0mcore\u001b[0m\u001b[0;34m.\u001b[0m\u001b[0mreshape\u001b[0m\u001b[0;34m.\u001b[0m\u001b[0mreshape\u001b[0m \u001b[0;32mimport\u001b[0m \u001b[0munstack\u001b[0m\u001b[0;34m\u001b[0m\u001b[0;34m\u001b[0m\u001b[0m\n\u001b[1;32m   7145\u001b[0m \u001b[0;34m\u001b[0m\u001b[0m\n\u001b[0;32m-> 7146\u001b[0;31m         \u001b[0;32mreturn\u001b[0m \u001b[0munstack\u001b[0m\u001b[0;34m(\u001b[0m\u001b[0mself\u001b[0m\u001b[0;34m,\u001b[0m \u001b[0mlevel\u001b[0m\u001b[0;34m,\u001b[0m \u001b[0mfill_value\u001b[0m\u001b[0;34m)\u001b[0m\u001b[0;34m\u001b[0m\u001b[0;34m\u001b[0m\u001b[0m\n\u001b[0m\u001b[1;32m   7147\u001b[0m \u001b[0;34m\u001b[0m\u001b[0m\n\u001b[1;32m   7148\u001b[0m     @Appender(\n",
            "\u001b[0;32m/usr/local/lib/python3.7/dist-packages/pandas/core/reshape/reshape.py\u001b[0m in \u001b[0;36munstack\u001b[0;34m(obj, level, fill_value)\u001b[0m\n\u001b[1;32m    416\u001b[0m     \u001b[0;32mif\u001b[0m \u001b[0misinstance\u001b[0m\u001b[0;34m(\u001b[0m\u001b[0mobj\u001b[0m\u001b[0;34m,\u001b[0m \u001b[0mDataFrame\u001b[0m\u001b[0;34m)\u001b[0m\u001b[0;34m:\u001b[0m\u001b[0;34m\u001b[0m\u001b[0;34m\u001b[0m\u001b[0m\n\u001b[1;32m    417\u001b[0m         \u001b[0;32mif\u001b[0m \u001b[0misinstance\u001b[0m\u001b[0;34m(\u001b[0m\u001b[0mobj\u001b[0m\u001b[0;34m.\u001b[0m\u001b[0mindex\u001b[0m\u001b[0;34m,\u001b[0m \u001b[0mMultiIndex\u001b[0m\u001b[0;34m)\u001b[0m\u001b[0;34m:\u001b[0m\u001b[0;34m\u001b[0m\u001b[0;34m\u001b[0m\u001b[0m\n\u001b[0;32m--> 418\u001b[0;31m             \u001b[0;32mreturn\u001b[0m \u001b[0m_unstack_frame\u001b[0m\u001b[0;34m(\u001b[0m\u001b[0mobj\u001b[0m\u001b[0;34m,\u001b[0m \u001b[0mlevel\u001b[0m\u001b[0;34m,\u001b[0m \u001b[0mfill_value\u001b[0m\u001b[0;34m=\u001b[0m\u001b[0mfill_value\u001b[0m\u001b[0;34m)\u001b[0m\u001b[0;34m\u001b[0m\u001b[0;34m\u001b[0m\u001b[0m\n\u001b[0m\u001b[1;32m    419\u001b[0m         \u001b[0;32melse\u001b[0m\u001b[0;34m:\u001b[0m\u001b[0;34m\u001b[0m\u001b[0;34m\u001b[0m\u001b[0m\n\u001b[1;32m    420\u001b[0m             \u001b[0;32mreturn\u001b[0m \u001b[0mobj\u001b[0m\u001b[0;34m.\u001b[0m\u001b[0mT\u001b[0m\u001b[0;34m.\u001b[0m\u001b[0mstack\u001b[0m\u001b[0;34m(\u001b[0m\u001b[0mdropna\u001b[0m\u001b[0;34m=\u001b[0m\u001b[0;32mFalse\u001b[0m\u001b[0;34m)\u001b[0m\u001b[0;34m\u001b[0m\u001b[0;34m\u001b[0m\u001b[0m\n",
            "\u001b[0;32m/usr/local/lib/python3.7/dist-packages/pandas/core/reshape/reshape.py\u001b[0m in \u001b[0;36m_unstack_frame\u001b[0;34m(obj, level, fill_value)\u001b[0m\n\u001b[1;32m    437\u001b[0m     \u001b[0;32melse\u001b[0m\u001b[0;34m:\u001b[0m\u001b[0;34m\u001b[0m\u001b[0;34m\u001b[0m\u001b[0m\n\u001b[1;32m    438\u001b[0m         return _Unstacker(\n\u001b[0;32m--> 439\u001b[0;31m             \u001b[0mobj\u001b[0m\u001b[0;34m.\u001b[0m\u001b[0mindex\u001b[0m\u001b[0;34m,\u001b[0m \u001b[0mlevel\u001b[0m\u001b[0;34m=\u001b[0m\u001b[0mlevel\u001b[0m\u001b[0;34m,\u001b[0m \u001b[0mconstructor\u001b[0m\u001b[0;34m=\u001b[0m\u001b[0mobj\u001b[0m\u001b[0;34m.\u001b[0m\u001b[0m_constructor\u001b[0m\u001b[0;34m,\u001b[0m\u001b[0;34m\u001b[0m\u001b[0;34m\u001b[0m\u001b[0m\n\u001b[0m\u001b[1;32m    440\u001b[0m         ).get_result(obj._values, value_columns=obj.columns, fill_value=fill_value)\n\u001b[1;32m    441\u001b[0m \u001b[0;34m\u001b[0m\u001b[0m\n",
            "\u001b[0;32m/usr/local/lib/python3.7/dist-packages/pandas/core/reshape/reshape.py\u001b[0m in \u001b[0;36m__init__\u001b[0;34m(self, index, level, constructor)\u001b[0m\n\u001b[1;32m    116\u001b[0m \u001b[0;34m\u001b[0m\u001b[0m\n\u001b[1;32m    117\u001b[0m         \u001b[0;32mif\u001b[0m \u001b[0mnum_rows\u001b[0m \u001b[0;34m>\u001b[0m \u001b[0;36m0\u001b[0m \u001b[0;32mand\u001b[0m \u001b[0mnum_columns\u001b[0m \u001b[0;34m>\u001b[0m \u001b[0;36m0\u001b[0m \u001b[0;32mand\u001b[0m \u001b[0mnum_cells\u001b[0m \u001b[0;34m<=\u001b[0m \u001b[0;36m0\u001b[0m\u001b[0;34m:\u001b[0m\u001b[0;34m\u001b[0m\u001b[0;34m\u001b[0m\u001b[0m\n\u001b[0;32m--> 118\u001b[0;31m             \u001b[0;32mraise\u001b[0m \u001b[0mValueError\u001b[0m\u001b[0;34m(\u001b[0m\u001b[0;34m\"Unstacked DataFrame is too big, causing int32 overflow\"\u001b[0m\u001b[0;34m)\u001b[0m\u001b[0;34m\u001b[0m\u001b[0;34m\u001b[0m\u001b[0m\n\u001b[0m\u001b[1;32m    119\u001b[0m \u001b[0;34m\u001b[0m\u001b[0m\n\u001b[1;32m    120\u001b[0m         \u001b[0mself\u001b[0m\u001b[0;34m.\u001b[0m\u001b[0m_make_selectors\u001b[0m\u001b[0;34m(\u001b[0m\u001b[0;34m)\u001b[0m\u001b[0;34m\u001b[0m\u001b[0;34m\u001b[0m\u001b[0m\n",
            "\u001b[0;31mValueError\u001b[0m: Unstacked DataFrame is too big, causing int32 overflow"
          ]
        }
      ]
    },
    {
      "cell_type": "code",
      "metadata": {
        "id": "v6-JFntSMdC-"
      },
      "source": [
        "def matrix_factorization(R, P, Q, steps=25, gamma=0.001,lamda=0.02):\n",
        "    for step in range(steps):\n",
        "        for i in R.index:\n",
        "            for j in R.columns:\n",
        "                if R.loc[i,j]>0:\n",
        "                    eij=R.loc[i,j]-np.dot(P.loc[i],Q.loc[j])\n",
        "                    P.loc[i]=P.loc[i]+gamma*(eij*Q.loc[j]-lamda*P.loc[i])\n",
        "                    Q.loc[j]=Q.loc[j]+gamma*(eij*P.loc[i]-lamda*Q.loc[j])\n",
        "        e=0\n",
        "        for i in R.index:\n",
        "            for j in R.columns:\n",
        "                if R.loc[i,j]>0:\n",
        "                    e= e + pow(R.loc[i,j]-np.dot(P.loc[i],Q.loc[j]),2)+lamda*(pow(np.linalg.norm(P.loc[i]),2)+pow(np.linalg.norm(Q.loc[j]),2))\n",
        "        if e<0.001:\n",
        "            break\n",
        "        \n",
        "    return P,Q\n"
      ],
      "execution_count": null,
      "outputs": []
    },
    {
      "cell_type": "code",
      "metadata": {
        "id": "6CC3mM4kM2Yj"
      },
      "source": [
        "P, Q = matrix_factorization(userid_rating_matrix, P, Q, steps=25, gamma=0.001,lamda=0.02)"
      ],
      "execution_count": null,
      "outputs": []
    },
    {
      "cell_type": "code",
      "metadata": {
        "id": "kdu7wrTpN7f6"
      },
      "source": [
        "P = pd.DataFrame(userid_vectors.toarray(), index=userid_df.index, columns=userid_vectorizer.get_feature_names())\n",
        "Q = pd.DataFrame(businessid_vectors.toarray(), index=business_df.index, columns=businessid_vectorizer.get_feature_names())"
      ],
      "execution_count": null,
      "outputs": []
    },
    {
      "cell_type": "code",
      "metadata": {
        "id": "ySzg4cnIfPFt"
      },
      "source": [
        ""
      ],
      "execution_count": null,
      "outputs": []
    }
  ]
}